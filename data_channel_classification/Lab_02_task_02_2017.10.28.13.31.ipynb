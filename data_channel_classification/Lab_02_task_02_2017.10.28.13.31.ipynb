{
 "cells": [
  {
   "cell_type": "markdown",
   "metadata": {},
   "source": [
    "  \n",
    "##"
   ]
  },
  {
   "cell_type": "markdown",
   "metadata": {},
   "source": [
    "## --- This needs more work  \n",
    "### --> copy data prep 01 & 02 from mini-lab ... hopefully there is enough there  \n",
    "### --> Model&Eval 01 just addresses Task 1 for now ... need to complete this and also add Task 2 business discussion  \n",
    "\n",
    "\n",
    "### __Data Prep 01__  \n",
    "\n",
    "Define and prepare your class variables.  \n",
    "\n",
    "### __Data Prep 02__  \n",
    "\n",
    "Describe the final dataset that is used for classification / regression.  \n",
    "\n",
    "### __Modeling and Evaluation 01__   \n",
    "\n",
    "Choose and explain the evaluation metrics that we will use. Why are the measures appropriate for analyzing the results of this model ? Give a detailed explanation backing up any assertions.\n",
    "\n",
    "We intend to mine this data to understand what parameters can influence an article to be shared on social media more than others.  The goal in _Task 1_ is to predict the number of shares in social networks (popularity).  \n",
    "\n",
    "The business use of this data set / data mining project is ultimately to establish relationships that enable to predict how many social media shares an article published on _www.mashable.com_ is likley to generate - with the idea that a more socially shared article has higher business value - increasing traffic to the site, and consequently, potential for higher earnings revenue associated to the increased web traffic. The user of this model is both the publishers for _mashable.com_ for article selection, and also for authors, attempting to create content that has higher value on sites like _mashable.com_.  \n",
    "\n",
    "Measures for a successful outcome from a predictive model for this study will be based on overall accuracy metrics (e.g., confusion matrix), as well as AUC type metrics. A baseline (non-predictive, random) scoring will establish a baseline for these metrics, and then the predictive model can be assessed against a random model for measurement of improvement, i.e., value of the model.  \n",
    "\n",
    "For this business case, we consider 2 risks :  \n",
    " - 1 - there is an article that has high potential for high popularity and our model classifies this incorrectly as not popular  \n",
    " - 2 - there are articles that are not likely to be popular, and our model incorrectly classifies the article as high potential for high popularity  \n",
    "  \n",
    "  In the first case, our model is missing opportunity to identify a highly valuable asset, whereas in the second case our model highly values that which has no value. For our business case, the distinction between popular and not_popular was established at the median value for number of shares of each article. In this case, then, there are, by this measure, an equal number of popular and not_popular articles. "
   ]
  },
  {
   "cell_type": "markdown",
   "metadata": {},
   "source": [
    "***  "
   ]
  },
  {
   "cell_type": "markdown",
   "metadata": {},
   "source": [
    "## Classification Model Development - Overview  \n",
    "\n",
    " 1 - set aside 20% of data set for final sacred test set  \n",
    " 2 - split remaining 80% into train / test for grid search  \n",
    " 3 - run grid search on each classification type  \n",
    " \n",
    "     3.a.- search on range of model parameters and w/ cv = 3  \n",
    "     \n",
    " 4 - identify best accuracy / best parameters from grid search  \n",
    " \n",
    "     4.a - run each classifier model w/ best params for later 10-fold CV verification  \n",
    "     4.b - verify results are consistent with grid search model results  \n",
    "     \n",
    " 5 - run full 10-fold CV with the best parameters for each classifier  \n",
    " \n",
    "    5.a - verify results are consistent with prior grid search results  \n",
    "    5.b - evalute the 10-fold CV on model metrics  \n",
    " 6 - identify best overall model from the 4 classifiers after 10-fold CV  \n",
    " 7 - run best overall model on original 20% sacred data set  \n",
    " \n",
    "     7.a - report results from this test set run as expected model capability  \n",
    "     \n",
    " 8 - identify feature importance from each of the 4 classifier models (best model each)    \n",
    " \n",
    "     8.a - consider if feature scaling is beneficial for interpretation  \n",
    "     \n",
    " 9 - identify strengths / weakness of model prediction capability (e.g., some classes well predicted or not)  \n",
    " \n",
    " \n",
    " <img src = '../proj_02/model_development_method.png'>\n",
    " \n",
    " "
   ]
  },
  {
   "cell_type": "markdown",
   "metadata": {},
   "source": [
    "#### Import required packages  "
   ]
  },
  {
   "cell_type": "code",
   "execution_count": null,
   "metadata": {
    "collapsed": true
   },
   "outputs": [],
   "source": [
    "import pandas as pd\n",
    "import numpy as np\n",
    "import matplotlib.pyplot as plt\n",
    "%matplotlib inline\n",
    "import warnings\n",
    "warnings.simplefilter('ignore',DeprecationWarning)\n",
    "import seaborn as sns\n",
    "import time\n",
    "#import hdbscan\n",
    "\n",
    "from sklearn.model_selection import ShuffleSplit\n",
    "from sklearn.preprocessing import StandardScaler\n",
    "\n",
    "#from sklearn.datasets import make_blobs\n",
    "\n",
    "from sklearn.ensemble import RandomForestClassifier\n",
    "from sklearn.calibration import CalibratedClassifierCV\n",
    "from sklearn.svm import SVC\n",
    "from sklearn.linear_model import LogisticRegression\n",
    "\n",
    "from sklearn import metrics\n",
    "from sklearn import metrics as mt\n",
    "from sklearn.metrics import log_loss\n",
    "from sklearn.metrics import accuracy_score as acc\n",
    "from sklearn.metrics import confusion_matrix as conf\n",
    "from sklearn.metrics import f1_score, precision_score, recall_score, classification_report\n",
    "from sklearn.metrics import accuracy_score\n",
    "from sklearn.metrics import precision_recall_fscore_support as score\n",
    "\n",
    "from tabulate import tabulate\n",
    "\n",
    "from IPython.core.interactiveshell import InteractiveShell\n",
    "InteractiveShell.ast_node_interactivity = \"all\""
   ]
  },
  {
   "cell_type": "markdown",
   "metadata": {},
   "source": [
    "#### Read in dataset from .csv file  "
   ]
  },
  {
   "cell_type": "code",
   "execution_count": 35,
   "metadata": {
    "collapsed": true
   },
   "outputs": [],
   "source": [
    "data_dir = '../data/'\n",
    "data_file = 'OnlineNewsPopularity.csv'\n",
    "\n",
    "file_2_read = data_dir + data_file\n",
    "df = pd.read_csv(file_2_read)  "
   ]
  },
  {
   "cell_type": "code",
   "execution_count": 36,
   "metadata": {},
   "outputs": [
    {
     "data": {
      "text/plain": [
       "['url',\n",
       " 'timedelta',\n",
       " 'n_tokens_title',\n",
       " 'n_tokens_content',\n",
       " 'n_unique_tokens',\n",
       " 'n_non_stop_words',\n",
       " 'n_non_stop_unique_tokens',\n",
       " 'num_hrefs',\n",
       " 'num_self_hrefs',\n",
       " 'num_imgs',\n",
       " 'num_videos',\n",
       " 'average_token_length',\n",
       " 'num_keywords',\n",
       " 'data_channel_is_lifestyle',\n",
       " 'data_channel_is_entertainment',\n",
       " 'data_channel_is_bus',\n",
       " 'data_channel_is_socmed',\n",
       " 'data_channel_is_tech',\n",
       " 'data_channel_is_world',\n",
       " 'kw_min_min',\n",
       " 'kw_max_min',\n",
       " 'kw_avg_min',\n",
       " 'kw_min_max',\n",
       " 'kw_max_max',\n",
       " 'kw_avg_max',\n",
       " 'kw_min_avg',\n",
       " 'kw_max_avg',\n",
       " 'kw_avg_avg',\n",
       " 'self_reference_min_shares',\n",
       " 'self_reference_max_shares',\n",
       " 'self_reference_avg_sharess',\n",
       " 'weekday_is_monday',\n",
       " 'weekday_is_tuesday',\n",
       " 'weekday_is_wednesday',\n",
       " 'weekday_is_thursday',\n",
       " 'weekday_is_friday',\n",
       " 'weekday_is_saturday',\n",
       " 'weekday_is_sunday',\n",
       " 'is_weekend',\n",
       " 'LDA_00',\n",
       " 'LDA_01',\n",
       " 'LDA_02',\n",
       " 'LDA_03',\n",
       " 'LDA_04',\n",
       " 'global_subjectivity',\n",
       " 'global_sentiment_polarity',\n",
       " 'global_rate_positive_words',\n",
       " 'global_rate_negative_words',\n",
       " 'rate_positive_words',\n",
       " 'rate_negative_words',\n",
       " 'avg_positive_polarity',\n",
       " 'min_positive_polarity',\n",
       " 'max_positive_polarity',\n",
       " 'avg_negative_polarity',\n",
       " 'min_negative_polarity',\n",
       " 'max_negative_polarity',\n",
       " 'title_subjectivity',\n",
       " 'title_sentiment_polarity',\n",
       " 'abs_title_subjectivity',\n",
       " 'abs_title_sentiment_polarity',\n",
       " 'shares']"
      ]
     },
     "execution_count": 36,
     "metadata": {},
     "output_type": "execute_result"
    }
   ],
   "source": [
    "df.columns = df.columns.str.strip()\n",
    "col_names = df.columns.values.tolist()\n",
    "\n",
    "col_names"
   ]
  },
  {
   "cell_type": "markdown",
   "metadata": {},
   "source": [
    "# Data Preparation Part 1\t\n",
    "10\t\n",
    "Define and prepare your class variables. Use proper variable representations (int, float, one-hot, etc.). Use pre-processing methods (as needed) for dimensionality reduction, scaling, etc. Remove variables that are not needed/useful for the analysis."
   ]
  },
  {
   "cell_type": "markdown",
   "metadata": {},
   "source": [
    "### Task 2 data set definition  \n",
    "\n",
    " - For Task 2 classification we will classify the articles according to which data channel they are most likely to belong. The business case for this is to support directing the article to the data_channel most appropriate for the article content.  \n",
    " - In order to support this classification task, we create a new dependent variable column __data_channel__  which combines all of the individual binary boolean columns of __data_channel_is_xxx__ to __data_channel__ column with appropriate value  \n",
    " - We create 2 sets of this dependent variable, __data_channel__ and __data_channel_n__ . The only difference between these 2 columns is that __data_channel__ contains the text values for data channel category while the __data_channel_n__ contains an integer classifier (1 --> 7) which we associate to the text description in alphabetic order.  We create 2 versions of the column to be able to use the text version, when feasible, and the integer version in the case that that is required for a particular classifier routine.  \n",
    " - There are approx 15% of the articles which contain no identified __data_channel__ in the original data set. We create a new category, _Others_, for the articles without assignation to one of the standard data channels.  "
   ]
  },
  {
   "cell_type": "code",
   "execution_count": 37,
   "metadata": {
    "collapsed": true
   },
   "outputs": [],
   "source": [
    "# ... -=-=-=-=-=-=-=-=-=-=-=-=-=-=-=-=-=-=-=-=-=-=-=-=-=-=-=-=-=-=-=-=-=-=-=-=-=\n",
    "# ... creating data_channel categorical variable\n",
    "# ... -=-=-=-=-=-=-=-=-=-=-=-=-=-=-=-=-=-=-=-=-=-=-=-=-=-=-=-=-=-=-=-=-=-=-=-=-=\n",
    "\n",
    "df['data_channel'] = 'Others'\n",
    "\n",
    "condition = df['data_channel_is_lifestyle'] == 1\n",
    "df.loc[condition, 'data_channel'] = 'Lifestyle'\n",
    "\n",
    "condition = df['data_channel_is_entertainment'] == 1\n",
    "df.loc[condition, 'data_channel'] = 'Entertainment'\n",
    "\n",
    "condition = df['data_channel_is_bus'] == 1\n",
    "df.loc[condition, 'data_channel'] = 'Business'\n",
    "\n",
    "condition = df['data_channel_is_socmed'] == 1\n",
    "df.loc[condition, 'data_channel'] = 'Social Media'\n",
    "\n",
    "condition = df['data_channel_is_tech'] == 1\n",
    "df.loc[condition, 'data_channel'] = 'Technology'\n",
    "\n",
    "condition = df['data_channel_is_world'] == 1\n",
    "df.loc[condition, 'data_channel'] = 'World'\n",
    "\n",
    "del df['data_channel_is_lifestyle']\n",
    "del df['data_channel_is_entertainment']\n",
    "del df['data_channel_is_bus']\n",
    "del df['data_channel_is_socmed']\n",
    "del df['data_channel_is_tech']\n",
    "del df['data_channel_is_world']\n"
   ]
  },
  {
   "cell_type": "code",
   "execution_count": 38,
   "metadata": {},
   "outputs": [
    {
     "data": {
      "text/plain": [
       "World            8427\n",
       "Technology       7346\n",
       "Entertainment    7057\n",
       "Business         6258\n",
       "Others           6134\n",
       "Social Media     2323\n",
       "Lifestyle        2099\n",
       "Name: data_channel, dtype: int64"
      ]
     },
     "execution_count": 38,
     "metadata": {},
     "output_type": "execute_result"
    }
   ],
   "source": [
    "df.data_channel.value_counts()"
   ]
  },
  {
   "cell_type": "code",
   "execution_count": 39,
   "metadata": {
    "collapsed": true
   },
   "outputs": [],
   "source": [
    "# ... -=-=-=-=-=-=-=-=-=-=-=-=-=-=-=-=-=-=-=-=-=-=-=-=-=-=-=-=-=-=-=-=-=-=-=-=-=\n",
    "# ... integer value of categorical values for multinomial NB classification\n",
    "# ... -=-=-=-=-=-=-=-=-=-=-=-=-=-=-=-=-=-=-=-=-=-=-=-=-=-=-=-=-=-=-=-=-=-=-=-=-=\n",
    "\n",
    "df['data_channel_n'] = 0\n",
    "\n",
    "condition = df['data_channel'] == 'Business'\n",
    "df.loc[condition, 'data_channel_n'] = 1\n",
    "\n",
    "condition = df['data_channel'] == 'Entertainment'\n",
    "df.loc[condition, 'data_channel_n'] = 2\n",
    "\n",
    "condition = df['data_channel'] == 'Lifestyle'\n",
    "df.loc[condition, 'data_channel_n'] = 3\n",
    "\n",
    "condition = df['data_channel'] == 'Others'\n",
    "df.loc[condition, 'data_channel_n'] = 4\n",
    "\n",
    "condition = df['data_channel'] == 'Social Media'\n",
    "df.loc[condition, 'data_channel_n'] = 5\n",
    "\n",
    "condition = df['data_channel'] == 'Technology'\n",
    "df.loc[condition, 'data_channel_n'] = 6\n",
    "\n",
    "condition = df['data_channel'] == 'World'\n",
    "df.loc[condition, 'data_channel_n'] = 7\n",
    "\n"
   ]
  },
  {
   "cell_type": "code",
   "execution_count": 40,
   "metadata": {},
   "outputs": [
    {
     "data": {
      "text/plain": [
       "7    8427\n",
       "6    7346\n",
       "2    7057\n",
       "1    6258\n",
       "4    6134\n",
       "5    2323\n",
       "3    2099\n",
       "Name: data_channel_n, dtype: int64"
      ]
     },
     "execution_count": 40,
     "metadata": {},
     "output_type": "execute_result"
    }
   ],
   "source": [
    "df.data_channel_n.value_counts()"
   ]
  },
  {
   "cell_type": "markdown",
   "metadata": {},
   "source": [
    "\n",
    "#### Delete __shares__ from the Task 2 data set  \n",
    "\n",
    "__shares__ is the Task 1 dependent variable\n",
    "\n",
    "we are excluding it from the Task 2 dataset as per the business model this value is not available during data_channel selection\n",
    "\n",
    "The business model being developed here is that an article is proposed for publication, a set of text processing routines will extract and develop the model features from the raw article. The next step is to deploy the __data_channel__ assignment (classification) model, which is then also a necessary ingredient for the final model, Task 1, which is to estimate the __popularity__ of the article and thus provide recommendation to publish or not to publish.\n",
    "\n",
    "Thus, for this Task 2 data set, we exclude the __shares__ data value.\n"
   ]
  },
  {
   "cell_type": "code",
   "execution_count": 41,
   "metadata": {
    "collapsed": true
   },
   "outputs": [],
   "source": [
    "# ... -=-=-=-=-=-=-=-=-=-=-=-=-=-=-=-=-=-=-=-=-=-=-=-=-=-=-=-=-=-=-=-=-=-=-=-=-=\n",
    "# ...  shares is task 1 dependent variable\n",
    "# ...  we are excluding it from this model as per business model this value is not available\n",
    "# ...  during data_channel prediction\n",
    "# ... -=-=-=-=-=-=-=-=-=-=-=-=-=-=-=-=-=-=-=-=-=-=-=-=-=-=-=-=-=-=-=-=-=-=-=-=-=\n",
    "\n",
    "del df['shares'] \n"
   ]
  },
  {
   "cell_type": "code",
   "execution_count": 42,
   "metadata": {
    "collapsed": true
   },
   "outputs": [],
   "source": [
    "del df['n_non_stop_words']\n",
    "del df['n_non_stop_unique_tokens']\n",
    "del df['n_unique_tokens']\n",
    "del df['url']"
   ]
  },
  {
   "cell_type": "code",
   "execution_count": 43,
   "metadata": {},
   "outputs": [
    {
     "data": {
      "text/html": [
       "<div>\n",
       "<style>\n",
       "    .dataframe thead tr:only-child th {\n",
       "        text-align: right;\n",
       "    }\n",
       "\n",
       "    .dataframe thead th {\n",
       "        text-align: left;\n",
       "    }\n",
       "\n",
       "    .dataframe tbody tr th {\n",
       "        vertical-align: top;\n",
       "    }\n",
       "</style>\n",
       "<table border=\"1\" class=\"dataframe\">\n",
       "  <thead>\n",
       "    <tr style=\"text-align: right;\">\n",
       "      <th></th>\n",
       "      <th>count</th>\n",
       "      <th>mean</th>\n",
       "      <th>std</th>\n",
       "      <th>min</th>\n",
       "      <th>25%</th>\n",
       "      <th>50%</th>\n",
       "      <th>75%</th>\n",
       "      <th>max</th>\n",
       "    </tr>\n",
       "  </thead>\n",
       "  <tbody>\n",
       "    <tr>\n",
       "      <th>timedelta</th>\n",
       "      <td>39644.0</td>\n",
       "      <td>354.530471</td>\n",
       "      <td>214.163767</td>\n",
       "      <td>8.00000</td>\n",
       "      <td>164.000000</td>\n",
       "      <td>339.000000</td>\n",
       "      <td>542.000000</td>\n",
       "      <td>731.000000</td>\n",
       "    </tr>\n",
       "    <tr>\n",
       "      <th>n_tokens_title</th>\n",
       "      <td>39644.0</td>\n",
       "      <td>10.398749</td>\n",
       "      <td>2.114037</td>\n",
       "      <td>2.00000</td>\n",
       "      <td>9.000000</td>\n",
       "      <td>10.000000</td>\n",
       "      <td>12.000000</td>\n",
       "      <td>23.000000</td>\n",
       "    </tr>\n",
       "    <tr>\n",
       "      <th>n_tokens_content</th>\n",
       "      <td>39644.0</td>\n",
       "      <td>546.514731</td>\n",
       "      <td>471.107508</td>\n",
       "      <td>0.00000</td>\n",
       "      <td>246.000000</td>\n",
       "      <td>409.000000</td>\n",
       "      <td>716.000000</td>\n",
       "      <td>8474.000000</td>\n",
       "    </tr>\n",
       "    <tr>\n",
       "      <th>num_hrefs</th>\n",
       "      <td>39644.0</td>\n",
       "      <td>10.883690</td>\n",
       "      <td>11.332017</td>\n",
       "      <td>0.00000</td>\n",
       "      <td>4.000000</td>\n",
       "      <td>8.000000</td>\n",
       "      <td>14.000000</td>\n",
       "      <td>304.000000</td>\n",
       "    </tr>\n",
       "    <tr>\n",
       "      <th>num_self_hrefs</th>\n",
       "      <td>39644.0</td>\n",
       "      <td>3.293638</td>\n",
       "      <td>3.855141</td>\n",
       "      <td>0.00000</td>\n",
       "      <td>1.000000</td>\n",
       "      <td>3.000000</td>\n",
       "      <td>4.000000</td>\n",
       "      <td>116.000000</td>\n",
       "    </tr>\n",
       "    <tr>\n",
       "      <th>num_imgs</th>\n",
       "      <td>39644.0</td>\n",
       "      <td>4.544143</td>\n",
       "      <td>8.309434</td>\n",
       "      <td>0.00000</td>\n",
       "      <td>1.000000</td>\n",
       "      <td>1.000000</td>\n",
       "      <td>4.000000</td>\n",
       "      <td>128.000000</td>\n",
       "    </tr>\n",
       "    <tr>\n",
       "      <th>num_videos</th>\n",
       "      <td>39644.0</td>\n",
       "      <td>1.249874</td>\n",
       "      <td>4.107855</td>\n",
       "      <td>0.00000</td>\n",
       "      <td>0.000000</td>\n",
       "      <td>0.000000</td>\n",
       "      <td>1.000000</td>\n",
       "      <td>91.000000</td>\n",
       "    </tr>\n",
       "    <tr>\n",
       "      <th>average_token_length</th>\n",
       "      <td>39644.0</td>\n",
       "      <td>4.548239</td>\n",
       "      <td>0.844406</td>\n",
       "      <td>0.00000</td>\n",
       "      <td>4.478404</td>\n",
       "      <td>4.664082</td>\n",
       "      <td>4.854839</td>\n",
       "      <td>8.041534</td>\n",
       "    </tr>\n",
       "    <tr>\n",
       "      <th>num_keywords</th>\n",
       "      <td>39644.0</td>\n",
       "      <td>7.223767</td>\n",
       "      <td>1.909130</td>\n",
       "      <td>1.00000</td>\n",
       "      <td>6.000000</td>\n",
       "      <td>7.000000</td>\n",
       "      <td>9.000000</td>\n",
       "      <td>10.000000</td>\n",
       "    </tr>\n",
       "    <tr>\n",
       "      <th>kw_min_min</th>\n",
       "      <td>39644.0</td>\n",
       "      <td>26.106801</td>\n",
       "      <td>69.633215</td>\n",
       "      <td>-1.00000</td>\n",
       "      <td>-1.000000</td>\n",
       "      <td>-1.000000</td>\n",
       "      <td>4.000000</td>\n",
       "      <td>377.000000</td>\n",
       "    </tr>\n",
       "    <tr>\n",
       "      <th>kw_max_min</th>\n",
       "      <td>39644.0</td>\n",
       "      <td>1153.951682</td>\n",
       "      <td>3857.990877</td>\n",
       "      <td>0.00000</td>\n",
       "      <td>445.000000</td>\n",
       "      <td>660.000000</td>\n",
       "      <td>1000.000000</td>\n",
       "      <td>298400.000000</td>\n",
       "    </tr>\n",
       "    <tr>\n",
       "      <th>kw_avg_min</th>\n",
       "      <td>39644.0</td>\n",
       "      <td>312.366967</td>\n",
       "      <td>620.783887</td>\n",
       "      <td>-1.00000</td>\n",
       "      <td>141.750000</td>\n",
       "      <td>235.500000</td>\n",
       "      <td>357.000000</td>\n",
       "      <td>42827.857143</td>\n",
       "    </tr>\n",
       "    <tr>\n",
       "      <th>kw_min_max</th>\n",
       "      <td>39644.0</td>\n",
       "      <td>13612.354102</td>\n",
       "      <td>57986.029357</td>\n",
       "      <td>0.00000</td>\n",
       "      <td>0.000000</td>\n",
       "      <td>1400.000000</td>\n",
       "      <td>7900.000000</td>\n",
       "      <td>843300.000000</td>\n",
       "    </tr>\n",
       "    <tr>\n",
       "      <th>kw_max_max</th>\n",
       "      <td>39644.0</td>\n",
       "      <td>752324.066694</td>\n",
       "      <td>214502.129573</td>\n",
       "      <td>0.00000</td>\n",
       "      <td>843300.000000</td>\n",
       "      <td>843300.000000</td>\n",
       "      <td>843300.000000</td>\n",
       "      <td>843300.000000</td>\n",
       "    </tr>\n",
       "    <tr>\n",
       "      <th>kw_avg_max</th>\n",
       "      <td>39644.0</td>\n",
       "      <td>259281.938083</td>\n",
       "      <td>135102.247285</td>\n",
       "      <td>0.00000</td>\n",
       "      <td>172846.875000</td>\n",
       "      <td>244572.222223</td>\n",
       "      <td>330980.000000</td>\n",
       "      <td>843300.000000</td>\n",
       "    </tr>\n",
       "    <tr>\n",
       "      <th>kw_min_avg</th>\n",
       "      <td>39644.0</td>\n",
       "      <td>1117.146610</td>\n",
       "      <td>1137.456951</td>\n",
       "      <td>-1.00000</td>\n",
       "      <td>0.000000</td>\n",
       "      <td>1023.635611</td>\n",
       "      <td>2056.781032</td>\n",
       "      <td>3613.039820</td>\n",
       "    </tr>\n",
       "    <tr>\n",
       "      <th>kw_max_avg</th>\n",
       "      <td>39644.0</td>\n",
       "      <td>5657.211151</td>\n",
       "      <td>6098.871957</td>\n",
       "      <td>0.00000</td>\n",
       "      <td>3562.101631</td>\n",
       "      <td>4355.688836</td>\n",
       "      <td>6019.953968</td>\n",
       "      <td>298400.000000</td>\n",
       "    </tr>\n",
       "    <tr>\n",
       "      <th>kw_avg_avg</th>\n",
       "      <td>39644.0</td>\n",
       "      <td>3135.858639</td>\n",
       "      <td>1318.150397</td>\n",
       "      <td>0.00000</td>\n",
       "      <td>2382.448566</td>\n",
       "      <td>2870.074878</td>\n",
       "      <td>3600.229564</td>\n",
       "      <td>43567.659946</td>\n",
       "    </tr>\n",
       "    <tr>\n",
       "      <th>self_reference_min_shares</th>\n",
       "      <td>39644.0</td>\n",
       "      <td>3998.755396</td>\n",
       "      <td>19738.670516</td>\n",
       "      <td>0.00000</td>\n",
       "      <td>639.000000</td>\n",
       "      <td>1200.000000</td>\n",
       "      <td>2600.000000</td>\n",
       "      <td>843300.000000</td>\n",
       "    </tr>\n",
       "    <tr>\n",
       "      <th>self_reference_max_shares</th>\n",
       "      <td>39644.0</td>\n",
       "      <td>10329.212662</td>\n",
       "      <td>41027.576613</td>\n",
       "      <td>0.00000</td>\n",
       "      <td>1100.000000</td>\n",
       "      <td>2800.000000</td>\n",
       "      <td>8000.000000</td>\n",
       "      <td>843300.000000</td>\n",
       "    </tr>\n",
       "    <tr>\n",
       "      <th>self_reference_avg_sharess</th>\n",
       "      <td>39644.0</td>\n",
       "      <td>6401.697580</td>\n",
       "      <td>24211.332231</td>\n",
       "      <td>0.00000</td>\n",
       "      <td>981.187500</td>\n",
       "      <td>2200.000000</td>\n",
       "      <td>5200.000000</td>\n",
       "      <td>843300.000000</td>\n",
       "    </tr>\n",
       "    <tr>\n",
       "      <th>weekday_is_monday</th>\n",
       "      <td>39644.0</td>\n",
       "      <td>0.168020</td>\n",
       "      <td>0.373889</td>\n",
       "      <td>0.00000</td>\n",
       "      <td>0.000000</td>\n",
       "      <td>0.000000</td>\n",
       "      <td>0.000000</td>\n",
       "      <td>1.000000</td>\n",
       "    </tr>\n",
       "    <tr>\n",
       "      <th>weekday_is_tuesday</th>\n",
       "      <td>39644.0</td>\n",
       "      <td>0.186409</td>\n",
       "      <td>0.389441</td>\n",
       "      <td>0.00000</td>\n",
       "      <td>0.000000</td>\n",
       "      <td>0.000000</td>\n",
       "      <td>0.000000</td>\n",
       "      <td>1.000000</td>\n",
       "    </tr>\n",
       "    <tr>\n",
       "      <th>weekday_is_wednesday</th>\n",
       "      <td>39644.0</td>\n",
       "      <td>0.187544</td>\n",
       "      <td>0.390353</td>\n",
       "      <td>0.00000</td>\n",
       "      <td>0.000000</td>\n",
       "      <td>0.000000</td>\n",
       "      <td>0.000000</td>\n",
       "      <td>1.000000</td>\n",
       "    </tr>\n",
       "    <tr>\n",
       "      <th>weekday_is_thursday</th>\n",
       "      <td>39644.0</td>\n",
       "      <td>0.183306</td>\n",
       "      <td>0.386922</td>\n",
       "      <td>0.00000</td>\n",
       "      <td>0.000000</td>\n",
       "      <td>0.000000</td>\n",
       "      <td>0.000000</td>\n",
       "      <td>1.000000</td>\n",
       "    </tr>\n",
       "    <tr>\n",
       "      <th>weekday_is_friday</th>\n",
       "      <td>39644.0</td>\n",
       "      <td>0.143805</td>\n",
       "      <td>0.350896</td>\n",
       "      <td>0.00000</td>\n",
       "      <td>0.000000</td>\n",
       "      <td>0.000000</td>\n",
       "      <td>0.000000</td>\n",
       "      <td>1.000000</td>\n",
       "    </tr>\n",
       "    <tr>\n",
       "      <th>weekday_is_saturday</th>\n",
       "      <td>39644.0</td>\n",
       "      <td>0.061876</td>\n",
       "      <td>0.240933</td>\n",
       "      <td>0.00000</td>\n",
       "      <td>0.000000</td>\n",
       "      <td>0.000000</td>\n",
       "      <td>0.000000</td>\n",
       "      <td>1.000000</td>\n",
       "    </tr>\n",
       "    <tr>\n",
       "      <th>weekday_is_sunday</th>\n",
       "      <td>39644.0</td>\n",
       "      <td>0.069039</td>\n",
       "      <td>0.253524</td>\n",
       "      <td>0.00000</td>\n",
       "      <td>0.000000</td>\n",
       "      <td>0.000000</td>\n",
       "      <td>0.000000</td>\n",
       "      <td>1.000000</td>\n",
       "    </tr>\n",
       "    <tr>\n",
       "      <th>is_weekend</th>\n",
       "      <td>39644.0</td>\n",
       "      <td>0.130915</td>\n",
       "      <td>0.337312</td>\n",
       "      <td>0.00000</td>\n",
       "      <td>0.000000</td>\n",
       "      <td>0.000000</td>\n",
       "      <td>0.000000</td>\n",
       "      <td>1.000000</td>\n",
       "    </tr>\n",
       "    <tr>\n",
       "      <th>LDA_00</th>\n",
       "      <td>39644.0</td>\n",
       "      <td>0.184599</td>\n",
       "      <td>0.262975</td>\n",
       "      <td>0.00000</td>\n",
       "      <td>0.025051</td>\n",
       "      <td>0.033387</td>\n",
       "      <td>0.240958</td>\n",
       "      <td>0.926994</td>\n",
       "    </tr>\n",
       "    <tr>\n",
       "      <th>LDA_01</th>\n",
       "      <td>39644.0</td>\n",
       "      <td>0.141256</td>\n",
       "      <td>0.219707</td>\n",
       "      <td>0.00000</td>\n",
       "      <td>0.025012</td>\n",
       "      <td>0.033345</td>\n",
       "      <td>0.150831</td>\n",
       "      <td>0.925947</td>\n",
       "    </tr>\n",
       "    <tr>\n",
       "      <th>LDA_02</th>\n",
       "      <td>39644.0</td>\n",
       "      <td>0.216321</td>\n",
       "      <td>0.282145</td>\n",
       "      <td>0.00000</td>\n",
       "      <td>0.028571</td>\n",
       "      <td>0.040004</td>\n",
       "      <td>0.334218</td>\n",
       "      <td>0.919999</td>\n",
       "    </tr>\n",
       "    <tr>\n",
       "      <th>LDA_03</th>\n",
       "      <td>39644.0</td>\n",
       "      <td>0.223770</td>\n",
       "      <td>0.295191</td>\n",
       "      <td>0.00000</td>\n",
       "      <td>0.028571</td>\n",
       "      <td>0.040001</td>\n",
       "      <td>0.375763</td>\n",
       "      <td>0.926534</td>\n",
       "    </tr>\n",
       "    <tr>\n",
       "      <th>LDA_04</th>\n",
       "      <td>39644.0</td>\n",
       "      <td>0.234029</td>\n",
       "      <td>0.289183</td>\n",
       "      <td>0.00000</td>\n",
       "      <td>0.028574</td>\n",
       "      <td>0.040727</td>\n",
       "      <td>0.399986</td>\n",
       "      <td>0.927191</td>\n",
       "    </tr>\n",
       "    <tr>\n",
       "      <th>global_subjectivity</th>\n",
       "      <td>39644.0</td>\n",
       "      <td>0.443370</td>\n",
       "      <td>0.116685</td>\n",
       "      <td>0.00000</td>\n",
       "      <td>0.396167</td>\n",
       "      <td>0.453457</td>\n",
       "      <td>0.508333</td>\n",
       "      <td>1.000000</td>\n",
       "    </tr>\n",
       "    <tr>\n",
       "      <th>global_sentiment_polarity</th>\n",
       "      <td>39644.0</td>\n",
       "      <td>0.119309</td>\n",
       "      <td>0.096931</td>\n",
       "      <td>-0.39375</td>\n",
       "      <td>0.057757</td>\n",
       "      <td>0.119117</td>\n",
       "      <td>0.177832</td>\n",
       "      <td>0.727841</td>\n",
       "    </tr>\n",
       "    <tr>\n",
       "      <th>global_rate_positive_words</th>\n",
       "      <td>39644.0</td>\n",
       "      <td>0.039625</td>\n",
       "      <td>0.017429</td>\n",
       "      <td>0.00000</td>\n",
       "      <td>0.028384</td>\n",
       "      <td>0.039023</td>\n",
       "      <td>0.050279</td>\n",
       "      <td>0.155488</td>\n",
       "    </tr>\n",
       "    <tr>\n",
       "      <th>global_rate_negative_words</th>\n",
       "      <td>39644.0</td>\n",
       "      <td>0.016612</td>\n",
       "      <td>0.010828</td>\n",
       "      <td>0.00000</td>\n",
       "      <td>0.009615</td>\n",
       "      <td>0.015337</td>\n",
       "      <td>0.021739</td>\n",
       "      <td>0.184932</td>\n",
       "    </tr>\n",
       "    <tr>\n",
       "      <th>rate_positive_words</th>\n",
       "      <td>39644.0</td>\n",
       "      <td>0.682150</td>\n",
       "      <td>0.190206</td>\n",
       "      <td>0.00000</td>\n",
       "      <td>0.600000</td>\n",
       "      <td>0.710526</td>\n",
       "      <td>0.800000</td>\n",
       "      <td>1.000000</td>\n",
       "    </tr>\n",
       "    <tr>\n",
       "      <th>rate_negative_words</th>\n",
       "      <td>39644.0</td>\n",
       "      <td>0.287934</td>\n",
       "      <td>0.156156</td>\n",
       "      <td>0.00000</td>\n",
       "      <td>0.185185</td>\n",
       "      <td>0.280000</td>\n",
       "      <td>0.384615</td>\n",
       "      <td>1.000000</td>\n",
       "    </tr>\n",
       "    <tr>\n",
       "      <th>avg_positive_polarity</th>\n",
       "      <td>39644.0</td>\n",
       "      <td>0.353825</td>\n",
       "      <td>0.104542</td>\n",
       "      <td>0.00000</td>\n",
       "      <td>0.306244</td>\n",
       "      <td>0.358755</td>\n",
       "      <td>0.411428</td>\n",
       "      <td>1.000000</td>\n",
       "    </tr>\n",
       "    <tr>\n",
       "      <th>min_positive_polarity</th>\n",
       "      <td>39644.0</td>\n",
       "      <td>0.095446</td>\n",
       "      <td>0.071315</td>\n",
       "      <td>0.00000</td>\n",
       "      <td>0.050000</td>\n",
       "      <td>0.100000</td>\n",
       "      <td>0.100000</td>\n",
       "      <td>1.000000</td>\n",
       "    </tr>\n",
       "    <tr>\n",
       "      <th>max_positive_polarity</th>\n",
       "      <td>39644.0</td>\n",
       "      <td>0.756728</td>\n",
       "      <td>0.247786</td>\n",
       "      <td>0.00000</td>\n",
       "      <td>0.600000</td>\n",
       "      <td>0.800000</td>\n",
       "      <td>1.000000</td>\n",
       "      <td>1.000000</td>\n",
       "    </tr>\n",
       "    <tr>\n",
       "      <th>avg_negative_polarity</th>\n",
       "      <td>39644.0</td>\n",
       "      <td>-0.259524</td>\n",
       "      <td>0.127726</td>\n",
       "      <td>-1.00000</td>\n",
       "      <td>-0.328383</td>\n",
       "      <td>-0.253333</td>\n",
       "      <td>-0.186905</td>\n",
       "      <td>0.000000</td>\n",
       "    </tr>\n",
       "    <tr>\n",
       "      <th>min_negative_polarity</th>\n",
       "      <td>39644.0</td>\n",
       "      <td>-0.521944</td>\n",
       "      <td>0.290290</td>\n",
       "      <td>-1.00000</td>\n",
       "      <td>-0.700000</td>\n",
       "      <td>-0.500000</td>\n",
       "      <td>-0.300000</td>\n",
       "      <td>0.000000</td>\n",
       "    </tr>\n",
       "    <tr>\n",
       "      <th>max_negative_polarity</th>\n",
       "      <td>39644.0</td>\n",
       "      <td>-0.107500</td>\n",
       "      <td>0.095373</td>\n",
       "      <td>-1.00000</td>\n",
       "      <td>-0.125000</td>\n",
       "      <td>-0.100000</td>\n",
       "      <td>-0.050000</td>\n",
       "      <td>0.000000</td>\n",
       "    </tr>\n",
       "    <tr>\n",
       "      <th>title_subjectivity</th>\n",
       "      <td>39644.0</td>\n",
       "      <td>0.282353</td>\n",
       "      <td>0.324247</td>\n",
       "      <td>0.00000</td>\n",
       "      <td>0.000000</td>\n",
       "      <td>0.150000</td>\n",
       "      <td>0.500000</td>\n",
       "      <td>1.000000</td>\n",
       "    </tr>\n",
       "    <tr>\n",
       "      <th>title_sentiment_polarity</th>\n",
       "      <td>39644.0</td>\n",
       "      <td>0.071425</td>\n",
       "      <td>0.265450</td>\n",
       "      <td>-1.00000</td>\n",
       "      <td>0.000000</td>\n",
       "      <td>0.000000</td>\n",
       "      <td>0.150000</td>\n",
       "      <td>1.000000</td>\n",
       "    </tr>\n",
       "    <tr>\n",
       "      <th>abs_title_subjectivity</th>\n",
       "      <td>39644.0</td>\n",
       "      <td>0.341843</td>\n",
       "      <td>0.188791</td>\n",
       "      <td>0.00000</td>\n",
       "      <td>0.166667</td>\n",
       "      <td>0.500000</td>\n",
       "      <td>0.500000</td>\n",
       "      <td>0.500000</td>\n",
       "    </tr>\n",
       "    <tr>\n",
       "      <th>abs_title_sentiment_polarity</th>\n",
       "      <td>39644.0</td>\n",
       "      <td>0.156064</td>\n",
       "      <td>0.226294</td>\n",
       "      <td>0.00000</td>\n",
       "      <td>0.000000</td>\n",
       "      <td>0.000000</td>\n",
       "      <td>0.250000</td>\n",
       "      <td>1.000000</td>\n",
       "    </tr>\n",
       "    <tr>\n",
       "      <th>data_channel_n</th>\n",
       "      <td>39644.0</td>\n",
       "      <td>4.184366</td>\n",
       "      <td>2.205607</td>\n",
       "      <td>1.00000</td>\n",
       "      <td>2.000000</td>\n",
       "      <td>4.000000</td>\n",
       "      <td>6.000000</td>\n",
       "      <td>7.000000</td>\n",
       "    </tr>\n",
       "  </tbody>\n",
       "</table>\n",
       "</div>"
      ],
      "text/plain": [
       "                                count           mean            std      min  \\\n",
       "timedelta                     39644.0     354.530471     214.163767  8.00000   \n",
       "n_tokens_title                39644.0      10.398749       2.114037  2.00000   \n",
       "n_tokens_content              39644.0     546.514731     471.107508  0.00000   \n",
       "num_hrefs                     39644.0      10.883690      11.332017  0.00000   \n",
       "num_self_hrefs                39644.0       3.293638       3.855141  0.00000   \n",
       "num_imgs                      39644.0       4.544143       8.309434  0.00000   \n",
       "num_videos                    39644.0       1.249874       4.107855  0.00000   \n",
       "average_token_length          39644.0       4.548239       0.844406  0.00000   \n",
       "num_keywords                  39644.0       7.223767       1.909130  1.00000   \n",
       "kw_min_min                    39644.0      26.106801      69.633215 -1.00000   \n",
       "kw_max_min                    39644.0    1153.951682    3857.990877  0.00000   \n",
       "kw_avg_min                    39644.0     312.366967     620.783887 -1.00000   \n",
       "kw_min_max                    39644.0   13612.354102   57986.029357  0.00000   \n",
       "kw_max_max                    39644.0  752324.066694  214502.129573  0.00000   \n",
       "kw_avg_max                    39644.0  259281.938083  135102.247285  0.00000   \n",
       "kw_min_avg                    39644.0    1117.146610    1137.456951 -1.00000   \n",
       "kw_max_avg                    39644.0    5657.211151    6098.871957  0.00000   \n",
       "kw_avg_avg                    39644.0    3135.858639    1318.150397  0.00000   \n",
       "self_reference_min_shares     39644.0    3998.755396   19738.670516  0.00000   \n",
       "self_reference_max_shares     39644.0   10329.212662   41027.576613  0.00000   \n",
       "self_reference_avg_sharess    39644.0    6401.697580   24211.332231  0.00000   \n",
       "weekday_is_monday             39644.0       0.168020       0.373889  0.00000   \n",
       "weekday_is_tuesday            39644.0       0.186409       0.389441  0.00000   \n",
       "weekday_is_wednesday          39644.0       0.187544       0.390353  0.00000   \n",
       "weekday_is_thursday           39644.0       0.183306       0.386922  0.00000   \n",
       "weekday_is_friday             39644.0       0.143805       0.350896  0.00000   \n",
       "weekday_is_saturday           39644.0       0.061876       0.240933  0.00000   \n",
       "weekday_is_sunday             39644.0       0.069039       0.253524  0.00000   \n",
       "is_weekend                    39644.0       0.130915       0.337312  0.00000   \n",
       "LDA_00                        39644.0       0.184599       0.262975  0.00000   \n",
       "LDA_01                        39644.0       0.141256       0.219707  0.00000   \n",
       "LDA_02                        39644.0       0.216321       0.282145  0.00000   \n",
       "LDA_03                        39644.0       0.223770       0.295191  0.00000   \n",
       "LDA_04                        39644.0       0.234029       0.289183  0.00000   \n",
       "global_subjectivity           39644.0       0.443370       0.116685  0.00000   \n",
       "global_sentiment_polarity     39644.0       0.119309       0.096931 -0.39375   \n",
       "global_rate_positive_words    39644.0       0.039625       0.017429  0.00000   \n",
       "global_rate_negative_words    39644.0       0.016612       0.010828  0.00000   \n",
       "rate_positive_words           39644.0       0.682150       0.190206  0.00000   \n",
       "rate_negative_words           39644.0       0.287934       0.156156  0.00000   \n",
       "avg_positive_polarity         39644.0       0.353825       0.104542  0.00000   \n",
       "min_positive_polarity         39644.0       0.095446       0.071315  0.00000   \n",
       "max_positive_polarity         39644.0       0.756728       0.247786  0.00000   \n",
       "avg_negative_polarity         39644.0      -0.259524       0.127726 -1.00000   \n",
       "min_negative_polarity         39644.0      -0.521944       0.290290 -1.00000   \n",
       "max_negative_polarity         39644.0      -0.107500       0.095373 -1.00000   \n",
       "title_subjectivity            39644.0       0.282353       0.324247  0.00000   \n",
       "title_sentiment_polarity      39644.0       0.071425       0.265450 -1.00000   \n",
       "abs_title_subjectivity        39644.0       0.341843       0.188791  0.00000   \n",
       "abs_title_sentiment_polarity  39644.0       0.156064       0.226294  0.00000   \n",
       "data_channel_n                39644.0       4.184366       2.205607  1.00000   \n",
       "\n",
       "                                        25%            50%            75%  \\\n",
       "timedelta                        164.000000     339.000000     542.000000   \n",
       "n_tokens_title                     9.000000      10.000000      12.000000   \n",
       "n_tokens_content                 246.000000     409.000000     716.000000   \n",
       "num_hrefs                          4.000000       8.000000      14.000000   \n",
       "num_self_hrefs                     1.000000       3.000000       4.000000   \n",
       "num_imgs                           1.000000       1.000000       4.000000   \n",
       "num_videos                         0.000000       0.000000       1.000000   \n",
       "average_token_length               4.478404       4.664082       4.854839   \n",
       "num_keywords                       6.000000       7.000000       9.000000   \n",
       "kw_min_min                        -1.000000      -1.000000       4.000000   \n",
       "kw_max_min                       445.000000     660.000000    1000.000000   \n",
       "kw_avg_min                       141.750000     235.500000     357.000000   \n",
       "kw_min_max                         0.000000    1400.000000    7900.000000   \n",
       "kw_max_max                    843300.000000  843300.000000  843300.000000   \n",
       "kw_avg_max                    172846.875000  244572.222223  330980.000000   \n",
       "kw_min_avg                         0.000000    1023.635611    2056.781032   \n",
       "kw_max_avg                      3562.101631    4355.688836    6019.953968   \n",
       "kw_avg_avg                      2382.448566    2870.074878    3600.229564   \n",
       "self_reference_min_shares        639.000000    1200.000000    2600.000000   \n",
       "self_reference_max_shares       1100.000000    2800.000000    8000.000000   \n",
       "self_reference_avg_sharess       981.187500    2200.000000    5200.000000   \n",
       "weekday_is_monday                  0.000000       0.000000       0.000000   \n",
       "weekday_is_tuesday                 0.000000       0.000000       0.000000   \n",
       "weekday_is_wednesday               0.000000       0.000000       0.000000   \n",
       "weekday_is_thursday                0.000000       0.000000       0.000000   \n",
       "weekday_is_friday                  0.000000       0.000000       0.000000   \n",
       "weekday_is_saturday                0.000000       0.000000       0.000000   \n",
       "weekday_is_sunday                  0.000000       0.000000       0.000000   \n",
       "is_weekend                         0.000000       0.000000       0.000000   \n",
       "LDA_00                             0.025051       0.033387       0.240958   \n",
       "LDA_01                             0.025012       0.033345       0.150831   \n",
       "LDA_02                             0.028571       0.040004       0.334218   \n",
       "LDA_03                             0.028571       0.040001       0.375763   \n",
       "LDA_04                             0.028574       0.040727       0.399986   \n",
       "global_subjectivity                0.396167       0.453457       0.508333   \n",
       "global_sentiment_polarity          0.057757       0.119117       0.177832   \n",
       "global_rate_positive_words         0.028384       0.039023       0.050279   \n",
       "global_rate_negative_words         0.009615       0.015337       0.021739   \n",
       "rate_positive_words                0.600000       0.710526       0.800000   \n",
       "rate_negative_words                0.185185       0.280000       0.384615   \n",
       "avg_positive_polarity              0.306244       0.358755       0.411428   \n",
       "min_positive_polarity              0.050000       0.100000       0.100000   \n",
       "max_positive_polarity              0.600000       0.800000       1.000000   \n",
       "avg_negative_polarity             -0.328383      -0.253333      -0.186905   \n",
       "min_negative_polarity             -0.700000      -0.500000      -0.300000   \n",
       "max_negative_polarity             -0.125000      -0.100000      -0.050000   \n",
       "title_subjectivity                 0.000000       0.150000       0.500000   \n",
       "title_sentiment_polarity           0.000000       0.000000       0.150000   \n",
       "abs_title_subjectivity             0.166667       0.500000       0.500000   \n",
       "abs_title_sentiment_polarity       0.000000       0.000000       0.250000   \n",
       "data_channel_n                     2.000000       4.000000       6.000000   \n",
       "\n",
       "                                        max  \n",
       "timedelta                        731.000000  \n",
       "n_tokens_title                    23.000000  \n",
       "n_tokens_content                8474.000000  \n",
       "num_hrefs                        304.000000  \n",
       "num_self_hrefs                   116.000000  \n",
       "num_imgs                         128.000000  \n",
       "num_videos                        91.000000  \n",
       "average_token_length               8.041534  \n",
       "num_keywords                      10.000000  \n",
       "kw_min_min                       377.000000  \n",
       "kw_max_min                    298400.000000  \n",
       "kw_avg_min                     42827.857143  \n",
       "kw_min_max                    843300.000000  \n",
       "kw_max_max                    843300.000000  \n",
       "kw_avg_max                    843300.000000  \n",
       "kw_min_avg                      3613.039820  \n",
       "kw_max_avg                    298400.000000  \n",
       "kw_avg_avg                     43567.659946  \n",
       "self_reference_min_shares     843300.000000  \n",
       "self_reference_max_shares     843300.000000  \n",
       "self_reference_avg_sharess    843300.000000  \n",
       "weekday_is_monday                  1.000000  \n",
       "weekday_is_tuesday                 1.000000  \n",
       "weekday_is_wednesday               1.000000  \n",
       "weekday_is_thursday                1.000000  \n",
       "weekday_is_friday                  1.000000  \n",
       "weekday_is_saturday                1.000000  \n",
       "weekday_is_sunday                  1.000000  \n",
       "is_weekend                         1.000000  \n",
       "LDA_00                             0.926994  \n",
       "LDA_01                             0.925947  \n",
       "LDA_02                             0.919999  \n",
       "LDA_03                             0.926534  \n",
       "LDA_04                             0.927191  \n",
       "global_subjectivity                1.000000  \n",
       "global_sentiment_polarity          0.727841  \n",
       "global_rate_positive_words         0.155488  \n",
       "global_rate_negative_words         0.184932  \n",
       "rate_positive_words                1.000000  \n",
       "rate_negative_words                1.000000  \n",
       "avg_positive_polarity              1.000000  \n",
       "min_positive_polarity              1.000000  \n",
       "max_positive_polarity              1.000000  \n",
       "avg_negative_polarity              0.000000  \n",
       "min_negative_polarity              0.000000  \n",
       "max_negative_polarity              0.000000  \n",
       "title_subjectivity                 1.000000  \n",
       "title_sentiment_polarity           1.000000  \n",
       "abs_title_subjectivity             0.500000  \n",
       "abs_title_sentiment_polarity       1.000000  \n",
       "data_channel_n                     7.000000  "
      ]
     },
     "execution_count": 43,
     "metadata": {},
     "output_type": "execute_result"
    }
   ],
   "source": [
    "df.describe().T"
   ]
  },
  {
   "cell_type": "markdown",
   "metadata": {},
   "source": [
    "#### Assign certain variables to type integer, as appropriate"
   ]
  },
  {
   "cell_type": "code",
   "execution_count": 44,
   "metadata": {
    "collapsed": true
   },
   "outputs": [],
   "source": [
    "# ... -=-=-=-=-=-=-=-=-=-=-=-=-=-=-=-=-=-=-=-=-=-=-=-=-=-=-=-=-=-=-=-=-=-=-=-=-=\n",
    "# ...  convert the data type to Integer\n",
    "# ... -=-=-=-=-=-=-=-=-=-=-=-=-=-=-=-=-=-=-=-=-=-=-=-=-=-=-=-=-=-=-=-=-=-=-=-=-=\n",
    "\n",
    "to_int = ['timedelta','n_tokens_title', 'n_tokens_content',\n",
    "    'num_hrefs','num_self_hrefs', 'num_imgs', 'num_videos', 'num_keywords',\n",
    "    'weekday_is_monday',\n",
    "    'weekday_is_tuesday',\n",
    "    'weekday_is_wednesday',\n",
    "    'weekday_is_thursday',\n",
    "    'weekday_is_friday',\n",
    "    'weekday_is_saturday',\n",
    "    'weekday_is_sunday',\n",
    "    'is_weekend',\n",
    "    'data_channel_n']\n",
    "    \n",
    "\n",
    "df[to_int] = df[to_int ].astype(np.int64)"
   ]
  },
  {
   "cell_type": "code",
   "execution_count": 45,
   "metadata": {},
   "outputs": [
    {
     "data": {
      "text/html": [
       "<div>\n",
       "<style>\n",
       "    .dataframe thead tr:only-child th {\n",
       "        text-align: right;\n",
       "    }\n",
       "\n",
       "    .dataframe thead th {\n",
       "        text-align: left;\n",
       "    }\n",
       "\n",
       "    .dataframe tbody tr th {\n",
       "        vertical-align: top;\n",
       "    }\n",
       "</style>\n",
       "<table border=\"1\" class=\"dataframe\">\n",
       "  <thead>\n",
       "    <tr style=\"text-align: right;\">\n",
       "      <th></th>\n",
       "      <th>timedelta</th>\n",
       "      <th>n_tokens_title</th>\n",
       "      <th>n_tokens_content</th>\n",
       "      <th>num_hrefs</th>\n",
       "      <th>num_self_hrefs</th>\n",
       "      <th>num_imgs</th>\n",
       "      <th>num_videos</th>\n",
       "      <th>average_token_length</th>\n",
       "      <th>num_keywords</th>\n",
       "      <th>kw_min_min</th>\n",
       "      <th>...</th>\n",
       "      <th>max_positive_polarity</th>\n",
       "      <th>avg_negative_polarity</th>\n",
       "      <th>min_negative_polarity</th>\n",
       "      <th>max_negative_polarity</th>\n",
       "      <th>title_subjectivity</th>\n",
       "      <th>title_sentiment_polarity</th>\n",
       "      <th>abs_title_subjectivity</th>\n",
       "      <th>abs_title_sentiment_polarity</th>\n",
       "      <th>data_channel</th>\n",
       "      <th>data_channel_n</th>\n",
       "    </tr>\n",
       "  </thead>\n",
       "  <tbody>\n",
       "  </tbody>\n",
       "</table>\n",
       "<p>0 rows × 52 columns</p>\n",
       "</div>"
      ],
      "text/plain": [
       "Empty DataFrame\n",
       "Columns: [timedelta, n_tokens_title, n_tokens_content, num_hrefs, num_self_hrefs, num_imgs, num_videos, average_token_length, num_keywords, kw_min_min, kw_max_min, kw_avg_min, kw_min_max, kw_max_max, kw_avg_max, kw_min_avg, kw_max_avg, kw_avg_avg, self_reference_min_shares, self_reference_max_shares, self_reference_avg_sharess, weekday_is_monday, weekday_is_tuesday, weekday_is_wednesday, weekday_is_thursday, weekday_is_friday, weekday_is_saturday, weekday_is_sunday, is_weekend, LDA_00, LDA_01, LDA_02, LDA_03, LDA_04, global_subjectivity, global_sentiment_polarity, global_rate_positive_words, global_rate_negative_words, rate_positive_words, rate_negative_words, avg_positive_polarity, min_positive_polarity, max_positive_polarity, avg_negative_polarity, min_negative_polarity, max_negative_polarity, title_subjectivity, title_sentiment_polarity, abs_title_subjectivity, abs_title_sentiment_polarity, data_channel, data_channel_n]\n",
       "Index: []\n",
       "\n",
       "[0 rows x 52 columns]"
      ]
     },
     "execution_count": 45,
     "metadata": {},
     "output_type": "execute_result"
    }
   ],
   "source": [
    "df[df.duplicated()]"
   ]
  },
  {
   "cell_type": "markdown",
   "metadata": {},
   "source": [
    "#### Impute kw_avg_max for 0-values and re-scale to standard normal scale\n",
    "\n",
    " - A small number of rows have 0 value for __kw_avg_max__, which is completely out of range for the remaining rows of this variable.    \n",
    " - We will impute these rows to median value of the column  \n",
    " \n",
    " - The magnitude of this column of data is markedly different than the range of values in the remaining columns in the data set. To bring this back in line, we will re-scale the values in this column to standard normal range"
   ]
  },
  {
   "cell_type": "code",
   "execution_count": 46,
   "metadata": {},
   "outputs": [
    {
     "data": {
      "text/plain": [
       "244572.22222250002"
      ]
     },
     "execution_count": 46,
     "metadata": {},
     "output_type": "execute_result"
    },
    {
     "data": {
      "text/plain": [
       "244575.00000025"
      ]
     },
     "execution_count": 46,
     "metadata": {},
     "output_type": "execute_result"
    }
   ],
   "source": [
    "\n",
    "# ... -=-=-=-=-=-=-=-=-=-=-=-=-=-=-=-=-=-=-=-=-=-=-=-=-=-=-=-=-=-=-=-=-=-=-=-=-=\n",
    "# ...  impute to median value for a few rows of kw_avg_max\n",
    "# ... -=-=-=-=-=-=-=-=-=-=-=-=-=-=-=-=-=-=-=-=-=-=-=-=-=-=-=-=-=-=-=-=-=-=-=-=-=\n",
    "\n",
    "df.kw_avg_max.median()\n",
    "\n",
    "condition = df['kw_avg_max'] == 0\n",
    "df.loc[condition, 'kw_avg_max'] = df.kw_avg_max.median()\n",
    "\n",
    "df.kw_avg_max.median()\n",
    "\n",
    "\n",
    "# ... -=-=-=-=-=-=-=-=-=-=-=-=-=-=-=-=-=-=-=-=-=-=-=-=-=-=-=-=-=-=-=-=-=-=-=-=-=\n",
    "# ...  scale to standard normal scale\n",
    "# ... -=-=-=-=-=-=-=-=-=-=-=-=-=-=-=-=-=-=-=-=-=-=-=-=-=-=-=-=-=-=-=-=-=-=-=-=-=\n",
    "\n",
    "#df.kw_avg_max.min()\n",
    "#df.kw_avg_max.max()\n",
    "#df.kw_avg_max.mean()\n",
    "#df.kw_avg_max.std()\n",
    "\n",
    "df.kw_avg_max = (df.kw_avg_max - df.kw_avg_max.mean()) / df.kw_avg_max.std()\n",
    "\n",
    "#df.kw_avg_max.min()\n",
    "#df.kw_avg_max.max()\n",
    "#df.kw_avg_max.mean()\n",
    "#df.kw_avg_max.std()\n"
   ]
  },
  {
   "cell_type": "markdown",
   "metadata": {},
   "source": [
    "#### Constant offset for variables with min value < 0  \n",
    "\n",
    " - This allows to consider these variables for ln() transform if highly right-skewed and also supports some classification models that only accept independent variables that are > 0  \n",
    " - Method here is to just add -1 * min_value of any column for which min_value < 0"
   ]
  },
  {
   "cell_type": "code",
   "execution_count": 47,
   "metadata": {
    "collapsed": true
   },
   "outputs": [],
   "source": [
    "# ... -=-=-=-=-=-=-=-=-=-=-=-=-=-=-=-=-=-=-=-=-=-=-=-=-=-=-=-=-=-=-=-=-=-=-=-=-=\n",
    "# ...  for all columns with negative values, add +1 to all values in the column\n",
    "# ...  - the only columns with negative values are polarity / sentiment measures\n",
    "# ...  - adding a constant to all values does not modify distributions\n",
    "# ... -=-=-=-=-=-=-=-=-=-=-=-=-=-=-=-=-=-=-=-=-=-=-=-=-=-=-=-=-=-=-=-=-=-=-=-=-=\n",
    "\n",
    "df_numeric = df.select_dtypes(['number'])\n",
    "numeric_col_names = df_numeric.columns.values.tolist()\n",
    "\n",
    "# ... store min value for each column\n",
    "\n",
    "df_mins = df.min()\n",
    "\n",
    "# ... -=-=-=-=-=-=-=-=-=-=-=-=-=-=-=-=-=-=-=-=-=-=-=-=-=-=-=-=-=-=-=-=-=-=-=-=-=\n",
    "# ...  loop on each column, test for min < 0, add constant as applicable\n",
    "# ... -=-=-=-=-=-=-=-=-=-=-=-=-=-=-=-=-=-=-=-=-=-=-=-=-=-=-=-=-=-=-=-=-=-=-=-=-=\n",
    "\n",
    "for column in numeric_col_names :\n",
    "    if df_mins[column] < 0 :\n",
    "        df[column] = df[column] - df_mins[column]\n",
    "        \n",
    "#        print('--> min_value < 0 adjusted : ', column, df_mins[column])"
   ]
  },
  {
   "cell_type": "markdown",
   "metadata": {},
   "source": [
    "#### Ln() transform for variables that are right skewed (skewness > 1)  \n",
    "\n",
    " - This facilitiates maintaining more normally distributed residuals for regression models  \n",
    " - Likely, this will not be needed for the classification task, at present, but also does not have negative effects for this current activity\n"
   ]
  },
  {
   "cell_type": "code",
   "execution_count": 48,
   "metadata": {},
   "outputs": [
    {
     "name": "stdout",
     "output_type": "stream",
     "text": [
      "n_tokens_content 2.94542193879 ln_n_tokens_content\n",
      "num_hrefs 4.0134948282 ln_num_hrefs\n",
      "num_self_hrefs 5.17275110576 ln_num_self_hrefs\n",
      "num_imgs 3.94659584465 ln_num_imgs\n",
      "num_videos 7.0195327863 ln_num_videos\n",
      "kw_min_min 2.37494728018 ln_kw_min_min\n",
      "kw_max_min 35.3284337312 ln_kw_max_min\n",
      "kw_avg_min 31.3061081027 ln_kw_avg_min\n",
      "kw_min_max 10.3863716348 ln_kw_min_max\n",
      "kw_max_avg 16.4116695554 ln_kw_max_avg\n",
      "kw_avg_avg 5.76017729162 ln_kw_avg_avg\n",
      "self_reference_min_shares 26.2643641603 ln_self_reference_min_shares\n",
      "self_reference_max_shares 13.8708490494 ln_self_reference_max_shares\n",
      "self_reference_avg_sharess 17.9140933777 ln_self_reference_avg_sharess\n",
      "weekday_is_monday 1.77590824423 ln_weekday_is_monday\n",
      "weekday_is_tuesday 1.61054706191 ln_weekday_is_tuesday\n",
      "weekday_is_wednesday 1.60097097689 ln_weekday_is_wednesday\n",
      "weekday_is_thursday 1.6370700483 ln_weekday_is_thursday\n",
      "weekday_is_friday 2.03030483518 ln_weekday_is_friday\n",
      "weekday_is_saturday 3.63708575997 ln_weekday_is_saturday\n",
      "weekday_is_sunday 3.3999273763 ln_weekday_is_sunday\n",
      "is_weekend 2.18850033431 ln_is_weekend\n",
      "LDA_00 1.5674632332 ln_LDA_00\n",
      "LDA_01 2.08672182342 ln_LDA_01\n",
      "LDA_02 1.31169490203 ln_LDA_02\n",
      "LDA_03 1.23871598638 ln_LDA_03\n",
      "LDA_04 1.17312947598 ln_LDA_04\n",
      "global_rate_negative_words 1.49191730919 ln_global_rate_negative_words\n",
      "min_positive_polarity 3.04046773746 ln_min_positive_polarity\n",
      "abs_title_sentiment_polarity 1.70419343991 ln_abs_title_sentiment_polarity\n",
      "['n_tokens_content', 'num_hrefs', 'num_self_hrefs', 'num_imgs', 'num_videos', 'kw_min_min', 'kw_max_min', 'kw_avg_min', 'kw_min_max', 'kw_max_avg', 'kw_avg_avg', 'self_reference_min_shares', 'self_reference_max_shares', 'self_reference_avg_sharess', 'weekday_is_monday', 'weekday_is_tuesday', 'weekday_is_wednesday', 'weekday_is_thursday', 'weekday_is_friday', 'weekday_is_saturday', 'weekday_is_sunday', 'is_weekend', 'LDA_00', 'LDA_01', 'LDA_02', 'LDA_03', 'LDA_04', 'global_rate_negative_words', 'min_positive_polarity', 'abs_title_sentiment_polarity']\n",
      "\n",
      "-----------------------------------\n",
      "\n",
      "Number of current columns in dataset : 69\n"
     ]
    }
   ],
   "source": [
    "# ... -=-=-=-=-=-=-=-=-=-=-=-=-=-=-=-=-=-=-=-=-=-=-=-=-=-=-=-=-=-=-=-=-=-=-=-=-=\n",
    "# ...  ln() transform right skewed distribution variables (skewness > 1)\n",
    "# ... -=-=-=-=-=-=-=-=-=-=-=-=-=-=-=-=-=-=-=-=-=-=-=-=-=-=-=-=-=-=-=-=-=-=-=-=-=\n",
    "\n",
    "df_numeric = df.select_dtypes(['number'])\n",
    "\n",
    "numeric_col_names = df_numeric.columns.values.tolist()\n",
    "\n",
    "# ... store min value for each column\n",
    "\n",
    "df_mins = df.min()\n",
    "\n",
    "# ... -=-=-=-=-=-=-=-=-=-=-=-=-=-=-=-=-=-=-=-=-=-=-=-=-=-=-=-=-=-=-=-=-=-=-=-=-=\n",
    "# ...  loop on each column, test for skewness, create new column if conditions met\n",
    "# ... -=-=-=-=-=-=-=-=-=-=-=-=-=-=-=-=-=-=-=-=-=-=-=-=-=-=-=-=-=-=-=-=-=-=-=-=-=\n",
    "\n",
    "columns_to_drop = []\n",
    "\n",
    "for column in numeric_col_names:\n",
    "    sk = df[column].skew()\n",
    "    \n",
    "    if(sk > 1):\n",
    "        new_col_name = 'ln_' + column\n",
    "        print (column, sk, new_col_name)\n",
    "        \n",
    "        if df_mins[column] > 0:\n",
    "            df[new_col_name] = np.log(df[column])\n",
    "            columns_to_drop.append(column)\n",
    "            \n",
    "        elif df_mins[column] == 0:\n",
    "            df_tmp = df[column] + 1\n",
    "            df[new_col_name] = np.log(df_tmp)\n",
    "            columns_to_drop.append(column)\n",
    "            \n",
    "        else:\n",
    "            print('--> Ln() transform not completed -- skew > 1, but min value < 0 :', column, '!!')\n",
    "            \n",
    "            \n",
    "# ... delete tmp data\n",
    "\n",
    "del df_tmp\n",
    "del df_mins\n",
    "del df_numeric\n",
    "\n",
    "# ... -=-=-=-=-=-=-=-=-=-=-=-=-=-=-=-=-=-=-=-=-=-=-=-=-=-=-=-=-=-=-=-=-=-=-=-=-=\n",
    "# ...  based on inspection, a few of these are just not valid ranges in ln() space\n",
    "# ...  -- just delete these few back out of the data set\n",
    "# ... -=-=-=-=-=-=-=-=-=-=-=-=-=-=-=-=-=-=-=-=-=-=-=-=-=-=-=-=-=-=-=-=-=-=-=-=-=\n",
    "\n",
    "print (columns_to_drop)\n",
    "\n",
    "del df['ln_LDA_00']\n",
    "del df['ln_LDA_01']\n",
    "del df['ln_LDA_02']\n",
    "del df['ln_LDA_03']\n",
    "del df['ln_LDA_04']\n",
    "columns_to_drop.remove('LDA_00')\n",
    "columns_to_drop.remove('LDA_01')\n",
    "columns_to_drop.remove('LDA_02')\n",
    "columns_to_drop.remove('LDA_03')\n",
    "columns_to_drop.remove('LDA_04')\n",
    "\n",
    "# ...  these are binary indicators ... so no need to ln-transform\n",
    "\n",
    "del df['ln_weekday_is_monday']\n",
    "del df['ln_weekday_is_tuesday']\n",
    "del df['ln_weekday_is_wednesday']\n",
    "del df['ln_weekday_is_thursday']\n",
    "del df['ln_weekday_is_friday']\n",
    "del df['ln_weekday_is_saturday']\n",
    "del df['ln_weekday_is_sunday']\n",
    "del df['ln_is_weekend']\n",
    "columns_to_drop.remove('is_weekend')\n",
    "columns_to_drop.remove('weekday_is_monday')\n",
    "columns_to_drop.remove('weekday_is_tuesday')\n",
    "columns_to_drop.remove('weekday_is_wednesday')\n",
    "columns_to_drop.remove('weekday_is_thursday')\n",
    "columns_to_drop.remove('weekday_is_friday')\n",
    "columns_to_drop.remove('weekday_is_saturday')\n",
    "columns_to_drop.remove('weekday_is_sunday')\n",
    "\n",
    "#columns_to_drop.remove('data_channel')\n",
    "\n",
    "print ('\\n-----------------------------------\\n')\n",
    "print ('Number of current columns in dataset :', len(df.columns))\n",
    "\n",
    "df.drop(columns_to_drop, axis = 1, inplace = True)\n",
    "\n",
    "#df.info()\n"
   ]
  },
  {
   "cell_type": "markdown",
   "metadata": {},
   "source": [
    "# Data Preparation Part 2"
   ]
  },
  {
   "cell_type": "markdown",
   "metadata": {},
   "source": [
    "#### Data Selection - Task 2 - data_channel classification\n",
    "\n",
    "- There are 60 columns in the original data set; we added a few additonal columns based on observed opportunities (e.g., _publication_date_, ...) as explained above. \n",
    "    \n",
    "- From this data set, we did a simple correlation matrix to look for variables that are highly correlated with each other that could be removed with little loss of information.\n",
    "\n",
    "- With that downselection, we proceeded with additional evaluation of these remaining variables.\n",
    "    \n",
    "- we recognize that there is likely significant additional opportunity for modeling improvements with many of the remaining variables, and will look to re-expand the data set to further consider that with future work.  "
   ]
  },
  {
   "cell_type": "code",
   "execution_count": 49,
   "metadata": {},
   "outputs": [
    {
     "name": "stdout",
     "output_type": "stream",
     "text": [
      "\n",
      "\n",
      "-=-=-=-=-=-=-=-=-=-=-=-=-=-=-=-=-=-=-=-=-=-=-=-=-=-=-=-=-\n",
      "Top Absolute Correlations\n",
      "\n",
      "ln_self_reference_max_shares  ln_self_reference_avg_sharess      0.994639\n",
      "ln_self_reference_min_shares  ln_self_reference_avg_sharess      0.971014\n",
      "ln_kw_max_min                 ln_kw_avg_min                      0.946087\n",
      "ln_self_reference_min_shares  ln_self_reference_max_shares       0.945943\n",
      "kw_min_avg                    ln_kw_min_max                      0.926784\n",
      "ln_kw_max_avg                 ln_kw_avg_avg                      0.899409\n",
      "timedelta                     ln_kw_min_min                      0.822783\n",
      "kw_max_max                    ln_kw_min_min                      0.820625\n",
      "rate_negative_words           ln_global_rate_negative_words      0.782517\n",
      "average_token_length          ln_n_tokens_content                0.768795\n",
      "avg_negative_polarity         min_negative_polarity              0.748896\n",
      "title_subjectivity            ln_abs_title_sentiment_polarity    0.741229\n",
      "global_sentiment_polarity     rate_positive_words                0.727827\n",
      "avg_positive_polarity         max_positive_polarity              0.703558\n",
      "weekday_is_sunday             is_weekend                         0.701648\n",
      "ln_num_self_hrefs             ln_self_reference_max_shares       0.675339\n",
      "weekday_is_saturday           is_weekend                         0.661707\n",
      "global_sentiment_polarity     rate_negative_words                0.650717\n",
      "max_positive_polarity         ln_n_tokens_content                0.643190\n",
      "timedelta                     kw_max_max                         0.637824\n",
      "ln_num_self_hrefs             ln_self_reference_avg_sharess      0.631820\n",
      "global_subjectivity           avg_positive_polarity              0.631749\n",
      "global_rate_positive_words    rate_positive_words                0.628626\n",
      "ln_n_tokens_content           ln_num_hrefs                       0.614357\n",
      "average_token_length          global_subjectivity                0.597629\n",
      "LDA_02                        data_channel_n                     0.587449\n",
      "avg_negative_polarity         max_negative_polarity              0.580108\n",
      "average_token_length          rate_positive_words                0.578894\n",
      "global_sentiment_polarity     global_rate_positive_words         0.570667\n",
      "kw_max_max                    kw_avg_max                         0.552729\n",
      "dtype: float64\n",
      "\n",
      "\n",
      "-=-=-=-=-=-=-=-=-=-=-=-=-=-=-=-=-=-=-=-=-=-=-=-=-=-=-=-=-\n",
      "Columns Recommended for removal based on correlation > 0.65\n",
      "-=-=-=-=-=-=-=-=-=-=-=-=-=-=-=-=-=-=-=-=-=-=-=-=-=-=-=-=-\n",
      "\n",
      "average_token_length\n",
      "avg_negative_polarity\n",
      "avg_positive_polarity\n",
      "global_sentiment_polarity\n",
      "kw_max_max\n",
      "kw_min_avg\n",
      "ln_kw_max_avg\n",
      "ln_kw_max_min\n",
      "ln_num_self_hrefs\n",
      "ln_self_reference_max_shares\n",
      "ln_self_reference_min_shares\n",
      "rate_negative_words\n",
      "timedelta\n",
      "title_subjectivity\n",
      "weekday_is_saturday\n",
      "weekday_is_sunday\n",
      "\n",
      "\n",
      "-=-=-=-=-=-=-=-=-=-=-=-=-=-=-=-=-=-=-=-=-=-=-=-=-=-=-=-=-\n",
      "\n",
      "\n",
      "Top Absolute Correlations (2nd Pass)\n",
      "\n",
      "max_positive_polarity       ln_n_tokens_content                0.643190\n",
      "global_rate_positive_words  rate_positive_words                0.628626\n",
      "ln_n_tokens_content         ln_num_hrefs                       0.614357\n",
      "LDA_02                      data_channel_n                     0.587449\n",
      "kw_avg_max                  ln_kw_min_min                      0.541538\n",
      "global_subjectivity         ln_n_tokens_content                0.530593\n",
      "                            max_positive_polarity              0.518773\n",
      "min_negative_polarity       ln_n_tokens_content                0.513149\n",
      "LDA_00                      data_channel_n                     0.490183\n",
      "global_subjectivity         rate_positive_words                0.487481\n",
      "rate_positive_words         ln_n_tokens_content                0.486249\n",
      "min_negative_polarity       ln_global_rate_negative_words      0.482138\n",
      "global_rate_positive_words  max_positive_polarity              0.473331\n",
      "global_subjectivity         global_rate_positive_words         0.467063\n",
      "abs_title_subjectivity      ln_abs_title_sentiment_polarity    0.454627\n",
      "rate_positive_words         max_positive_polarity              0.451048\n",
      "max_positive_polarity       ln_num_hrefs                       0.450754\n",
      "kw_avg_max                  ln_kw_avg_min                      0.419572\n",
      "title_sentiment_polarity    ln_abs_title_sentiment_polarity    0.406593\n",
      "rate_positive_words         ln_global_rate_negative_words      0.398124\n",
      "global_subjectivity         ln_num_hrefs                       0.387289\n",
      "kw_avg_max                  ln_kw_min_max                      0.369909\n",
      "max_positive_polarity       min_negative_polarity              0.360871\n",
      "LDA_03                      LDA_04                             0.357930\n",
      "min_negative_polarity       ln_num_hrefs                       0.354125\n",
      "kw_avg_max                  ln_kw_avg_avg                      0.351381\n",
      "global_subjectivity         min_negative_polarity              0.350070\n",
      "ln_num_hrefs                ln_num_imgs                        0.347361\n",
      "LDA_03                      ln_kw_avg_avg                      0.341938\n",
      "                            ln_num_videos                      0.338256\n",
      "dtype: float64\n"
     ]
    }
   ],
   "source": [
    "\n",
    "# ... -=-=-=-=-=-=-=-=-=-=-=-=-=-=-=-=-=-=-=-=-=-=-=-=-=-=-=-=-=-=-=-=-=-=-=-=-=\n",
    "# ... display highest correlation pairs from corr() matrix \n",
    "# ...\n",
    "# ... https://stackoverflow.com/questions/17778394/list-highest-correlation-pairs-from-a-large-correlation-matrix-in-pandas\n",
    "# ... -=-=-=-=-=-=-=-=-=-=-=-=-=-=-=-=-=-=-=-=-=-=-=-=-=-=-=-=-=-=-=-=-=-=-=-=-=\n",
    "\n",
    "df_numeric = df.select_dtypes(['number'])\n",
    "\n",
    "def get_redundant_pairs(df):\n",
    "    '''Get diagonal and lower triangular pairs of correlation matrix'''\n",
    "    pairs_to_drop = set()\n",
    "    cols = df.columns\n",
    "    for i in range(0, df.shape[1]):\n",
    "        for j in range(0, i+1):\n",
    "            pairs_to_drop.add((cols[i], cols[j]))\n",
    "    return pairs_to_drop\n",
    "\n",
    "def get_top_abs_correlations(df, n = 5):\n",
    "    au_corr = df.corr().abs().unstack()\n",
    "    labels_to_drop = get_redundant_pairs(df)\n",
    "    au_corr = au_corr.drop(labels = labels_to_drop).sort_values(ascending = False)\n",
    "    return au_corr[0:n]\n",
    "\n",
    "# ... -=-=-=-=-=-=-=-=-=-=-=-=-=-=-=-=-=-=-=-=-=-=-=-=-=-=-=-=-=-=-=-=-=-=-=-=-=\n",
    "# ... list out Top30 correlations\n",
    "# ... -=-=-=-=-=-=-=-=-=-=-=-=-=-=-=-=-=-=-=-=-=-=-=-=-=-=-=-=-=-=-=-=-=-=-=-=-=\n",
    "\n",
    "n_val = 30\n",
    "\n",
    "top_30_corr_list = get_top_abs_correlations(df_numeric, n_val)\n",
    "print(\"\\n\\n-=-=-=-=-=-=-=-=-=-=-=-=-=-=-=-=-=-=-=-=-=-=-=-=-=-=-=-=-\")\n",
    "print(\"Top Absolute Correlations\\n\")\n",
    "print(top_30_corr_list)\n",
    "\n",
    "\n",
    "icor = 0\n",
    "drop_column = list()\n",
    "while (top_30_corr_list[icor] > 0.65):\n",
    "    drop_column.append(top_30_corr_list[top_30_corr_list == top_30_corr_list[icor]].index[0][0])\n",
    "    icor += 1\n",
    "\n",
    "drop_column = list(set(drop_column))\n",
    "\n",
    "print(\"\\n\\n-=-=-=-=-=-=-=-=-=-=-=-=-=-=-=-=-=-=-=-=-=-=-=-=-=-=-=-=-\")\n",
    "print(\"Columns Recommended for removal based on correlation > 0.65\")\n",
    "print(\"-=-=-=-=-=-=-=-=-=-=-=-=-=-=-=-=-=-=-=-=-=-=-=-=-=-=-=-=-\\n\")\n",
    "\n",
    "print(\"\\n\".join(sorted(drop_column)))\n",
    "\n",
    "# ... -=-=-=-=-=-=-=-=-=-=-=-=-=-=-=-=-=-=-=-=-=-=-=-=-=-=-=-=-=-=-=-=-=-=-=-=-=\n",
    "# ... drop one of the high correlation columns (2nd of the pair)\n",
    "# ... -=-=-=-=-=-=-=-=-=-=-=-=-=-=-=-=-=-=-=-=-=-=-=-=-=-=-=-=-=-=-=-=-=-=-=-=-=\n",
    "\n",
    "df = df.drop(drop_column, axis = 1)\n",
    "\n",
    "# ... -=-=-=-=-=-=-=-=-=-=-=-=-=-=-=-=-=-=-=-=-=-=-=-=-=-=-=-=-=-=-=-=-=-=-=-=-=\n",
    "# ... show correlation test with remaining, to confirm\n",
    "# ... -=-=-=-=-=-=-=-=-=-=-=-=-=-=-=-=-=-=-=-=-=-=-=-=-=-=-=-=-=-=-=-=-=-=-=-=-=\n",
    "\n",
    "df_reduced_numeric = df.select_dtypes(['number'])\n",
    "\n",
    "top_30_corr_list = get_top_abs_correlations(df_reduced_numeric, n_val)\n",
    "\n",
    "print(\"\\n\\n-=-=-=-=-=-=-=-=-=-=-=-=-=-=-=-=-=-=-=-=-=-=-=-=-=-=-=-=-\")\n",
    "print(\"\\n\\nTop Absolute Correlations (2nd Pass)\\n\")\n",
    "print(top_30_corr_list)\n"
   ]
  },
  {
   "cell_type": "code",
   "execution_count": 50,
   "metadata": {},
   "outputs": [
    {
     "data": {
      "text/plain": [
       "<matplotlib.axes._subplots.AxesSubplot at 0x7f39203c5d68>"
      ]
     },
     "execution_count": 50,
     "metadata": {},
     "output_type": "execute_result"
    },
    {
     "data": {
      "image/png": "[encoded data removed]",
      "text/plain": [
       "<matplotlib.figure.Figure at 0x7f39216ec358>"
      ]
     },
     "metadata": {},
     "output_type": "display_data"
    }
   ],
   "source": [
    "sns.set(style=\"white\")\n",
    "\n",
    "# Compute the correlation matrix\n",
    "corr = df.corr()\n",
    "\n",
    "# Generate a mask for the upper triangle\n",
    "mask = np.zeros_like(corr, dtype=np.bool)\n",
    "mask[np.triu_indices_from(mask)] = True\n",
    "\n",
    "# Set up the matplotlib figure\n",
    "f, ax = plt.subplots(figsize=(15, 13))\n",
    "\n",
    "# Generate a custom diverging colormap\n",
    "cmap = sns.diverging_palette(220, 10, as_cmap=True)\n",
    "\n",
    "# Draw the heatmap with the mask and correct aspect ratio\n",
    "sns.heatmap(corr, mask=mask, cmap=cmap, vmax=.3, center=0,\n",
    "            square=True, linewidths=.5, cbar_kws={\"shrink\": .5})\n",
    "\n",
    "\n",
    "# from example found at https://www.kaggle.com/maheshdadhich/strength-of-visualization-python-visuals-tutorial/notebook"
   ]
  },
  {
   "cell_type": "markdown",
   "metadata": {},
   "source": [
    "#### Save cleaned / reduced data set to external .csv file  \n",
    "\n",
    " - This provides opportunity to just read in this .csv file and no need to repeat data cleaning / reduction process for each execution  \n",
    " "
   ]
  },
  {
   "cell_type": "code",
   "execution_count": 51,
   "metadata": {
    "collapsed": true
   },
   "outputs": [],
   "source": [
    "# ... -=-=-=-=-=-=-=-=-=-=-=-=-=-=-=-=-=-=-=-=-=-=-=-=-=-=-=-=-=-=-=-=-=-=-=-=-=\n",
    "# ... store in ../data/ directory\n",
    "# ... write as .csv file for future recall\n",
    "# ... -=-=-=-=-=-=-=-=-=-=-=-=-=-=-=-=-=-=-=-=-=-=-=-=-=-=-=-=-=-=-=-=-=-=-=-=-=\n",
    "\n",
    "data_dir = '../data/'\n",
    "data_file = 'mashable_clean_dataset_for_lab_02_task_02.csv'\n",
    "\n",
    "file_2_write = data_dir + data_file\n",
    "\n",
    "df.to_csv(file_2_write, index = False)\n"
   ]
  },
  {
   "cell_type": "markdown",
   "metadata": {},
   "source": [
    "# \tModeling and Evaluation 2"
   ]
  },
  {
   "cell_type": "markdown",
   "metadata": {},
   "source": [
    "### Training and test split"
   ]
  },
  {
   "cell_type": "code",
   "execution_count": 52,
   "metadata": {
    "collapsed": true
   },
   "outputs": [],
   "source": [
    "# ... -=-=-=-=-=-=-=-=-=-=-=-=-=-=-=-=-=-=-=-=-=-=-=-=-=-=-=-=-=-=-=-=-=-=-=-=-=\n",
    "# ...  copy data frame to classification working data frame\n",
    "# ... -=-=-=-=-=-=-=-=-=-=-=-=-=-=-=-=-=-=-=-=-=-=-=-=-=-=-=-=-=-=-=-=-=-=-=-=-=\n",
    "\n",
    "# ... data set with text categorical target values \n",
    "\n",
    "df_data_channel = df.copy()\n",
    "del df_data_channel['data_channel_n']\n",
    "\n",
    "# ... data set with integer categorical target values \n",
    "\n",
    "df_data_channel_n = df.copy()\n",
    "del df_data_channel_n['data_channel']\n",
    "\n",
    "# ... -=-=-=-=-=-=-=-=-=-=-=-=-=-=-=-=-=-=-=-=-=-=-=-=-=-=-=-=-=-=-=-=-=-=-=-=-=\n",
    "# ...  separate X and y matrices \n",
    "# ...\n",
    "# ...  convert to numpy matrices by calling 'values' on the pandas data frames\n",
    "# ...  they are now simple matrices for compatibility with scikit-learn\n",
    "# ... -=-=-=-=-=-=-=-=-=-=-=-=-=-=-=-=-=-=-=-=-=-=-=-=-=-=-=-=-=-=-=-=-=-=-=-=-=\n",
    "\n",
    "if 'data_channel' in df_data_channel:\n",
    "    y = df_data_channel['data_channel'].values         # set 'data_channel' as dependent\n",
    "    del df_data_channel['data_channel']                # remove from dataset\n",
    "    X = df_data_channel.values                         # use everything else for independent EVs\n",
    "\n",
    "if 'data_channel_n' in df_data_channel_n:\n",
    "    y_n = df_data_channel_n['data_channel_n'].values    # set 'data_channel' as dependent\n",
    "    del df_data_channel_n['data_channel_n']             # remove from dataset\n",
    "    X_n = df_data_channel_n.values                      # use everything else for independent EVs\n",
    "\n",
    "# ... -=-=-=-=-=-=-=-=-=-=-=-=-=-=-=-=-=-=-=-=-=-=-=-=-=-=-=-=-=-=-=-=-=-=-=-=-=\n",
    "# ...  setup master train and test , golden traina and test\n",
    "# ...  master sets - first 80% of original data set which will be base training for model building\n",
    "# ...  Golden sets - 20% of original will be used in the final best model for prediction\n",
    "# ...  split into training and test sets\n",
    "# ....  --> 10 folds\n",
    "# ...   --> 80% / 20% training / test\n",
    "# ... -=-=-=-=-=-=-=-=-=-=-=-=-=-=-=-=-=-=-=-=-=-=-=-=-=-=-=-=-=-=-=-=-=-=-=-=-=\n",
    "\n",
    "\n"
   ]
  },
  {
   "cell_type": "code",
   "execution_count": 53,
   "metadata": {},
   "outputs": [
    {
     "name": "stdout",
     "output_type": "stream",
     "text": [
      "ShuffleSplit(n_splits=1, random_state=None, test_size=0.2, train_size=None)\n",
      "(31715, 34)\n"
     ]
    }
   ],
   "source": [
    "# ... -=-=-=-=-=-=-=-=-=-=-=-=-=-=-=-=-=-=-=-=-=-=-=-=-=-=-=-=-=-=-=-=-=-=-=-=-=\n",
    "# ... Set-up golden test data set\n",
    "# ... This data-set will be used to evaluate the predictive capability of the final\n",
    "# ... model on a data set that was not included in any of the prior train/test sets\n",
    "# ... -=-=-=-=-=-=-=-=-=-=-=-=-=-=-=-=-=-=-=-=-=-=-=-=-=-=-=-=-=-=-=-=-=-=-=-=-=\n",
    "\n",
    "num_cv_iterations = 1\n",
    "cv_object = ShuffleSplit(n_splits = num_cv_iterations,\n",
    "                         test_size  = 0.2)\n",
    "                        \n",
    "print(cv_object)\n",
    "\n",
    "for train_indices, test_indices in cv_object.split(X, y):\n",
    "    master_X_train = X[train_indices]\n",
    "    master_y_train = y[train_indices]    \n",
    "    golden_X_test  = X[test_indices]\n",
    "    golden_y_test  = y[test_indices]\n",
    "    print(master_X_train.shape)\n",
    "\n",
    "for train_indices_n, test_indices_n in cv_object.split(X_n, y_n): \n",
    "    master_X_train_n = X_n[train_indices_n]\n",
    "    master_y_train_n = y_n[train_indices_n]    \n",
    "    golden_X_test_n  = X_n[test_indices_n]\n",
    "    golden_y_test_n  = y_n[test_indices_n]\n",
    "    \n",
    "    \n",
    "    "
   ]
  },
  {
   "cell_type": "code",
   "execution_count": 54,
   "metadata": {},
   "outputs": [
    {
     "name": "stdout",
     "output_type": "stream",
     "text": [
      "ShuffleSplit(n_splits=1, random_state=None, test_size=0.2, train_size=None)\n",
      "(25372, 34)\n"
     ]
    }
   ],
   "source": [
    "# ... -=-=-=-=-=-=-=-=-=-=-=-=-=-=-=-=-=-=-=-=-=-=-=-=-=-=-=-=-=-=-=-=-=-=-=-=-=\n",
    "# ... Set-up training set to be used on 'best' model from grid search results\n",
    "# ... This data-set will be used to verify 10-fold-CV-model has results consistent\n",
    "# ... with the model produced from grid search\n",
    "# ... -=-=-=-=-=-=-=-=-=-=-=-=-=-=-=-=-=-=-=-=-=-=-=-=-=-=-=-=-=-=-=-=-=-=-=-=-=\n",
    "\n",
    "num_cv_iterations = 1\n",
    "cv_object = ShuffleSplit(n_splits = num_cv_iterations,\n",
    "                         test_size  = 0.2)\n",
    "                        \n",
    "print(cv_object)\n",
    "\n",
    "for train_indices, test_indices in cv_object.split(master_X_train, master_y_train):\n",
    "    X_train = master_X_train[train_indices]\n",
    "    y_train = master_y_train[train_indices]    \n",
    "    X_test  = master_X_train[test_indices]\n",
    "    y_test  = master_y_train[test_indices]\n",
    "    print(X_train.shape)\n",
    "\n",
    "for train_indices_n, test_indices_n in cv_object.split(master_X_train_n, master_y_train_n): \n",
    "    X_train_n = master_X_train_n[train_indices_n]\n",
    "    y_train_n = master_y_train_n[train_indices_n]    \n",
    "    X_test_n  = master_X_train_n[test_indices_n]\n",
    "    y_test_n  = master_y_train_n[test_indices_n]\n"
   ]
  },
  {
   "cell_type": "code",
   "execution_count": 55,
   "metadata": {
    "collapsed": true
   },
   "outputs": [],
   "source": [
    "# set required variables for model comparison\n",
    "\n",
    "comparison_tbl = pd.DataFrame(columns = [\n",
    "    'Model Name',\n",
    "    'Accuracy',\n",
    "    'Precision',\n",
    "    'Recall',\n",
    "    'FScore',\n",
    "    'Processing Time'])\n",
    "\n",
    "i_index=[]\n",
    "i_index = 0\n",
    "\n",
    "# preparation for cross validation and model comparison, each classifier is appended once model is fit\n",
    "\n",
    "models = []"
   ]
  },
  {
   "cell_type": "markdown",
   "metadata": {},
   "source": [
    "# \tModeling and Evaluation 3\t\n",
    "\n",
    "For task 2 we have chosen the following 4 models:<br>\n",
    "a. Multinomial logistic regression with parament selection using Grid Search<br>\n",
    "b. Decision Tree with parament selection using Grid Search<br>\n",
    "c. Random Forest with parament selection using Grid Search<br>\n",
    "d. Naive Bayes<br>\n",
    "\n",
    "Each of these models will be evaluated on Accuracy, Precision, Recall, FScore and Execution time\n",
    "\n",
    "### a. Multinomial logistic regression\n",
    "For multinomial LR we have set standard attributes with:\n",
    "    class_weight = balanced<br>\n",
    "    multi_class = multinomial<br>\n",
    "<b>search params:</b><br>\n",
    "    tolerance parament tol<br>\n",
    "    Regularization parament C<br>\n",
    "    \n",
    "    \n",
    "#### _Grid selection for logistic regression_"
   ]
  },
  {
   "cell_type": "code",
   "execution_count": 56,
   "metadata": {
    "collapsed": true
   },
   "outputs": [],
   "source": [
    "from sklearn.grid_search import GridSearchCV\n",
    "\n",
    "lr_model = LogisticRegression(\n",
    "    class_weight = 'balanced',\n",
    "    multi_class = 'multinomial',\n",
    "    solver = 'lbfgs',\n",
    "    C = 10,\n",
    "    tol = 0.1)\n",
    "\n",
    "params = {\n",
    "    'C':[100, 1000], \n",
    "    'tol': [0.001, 0.0001]\n",
    "}\n",
    "\n",
    "# ... --> changed the scoring on Sat 28-Oct\n",
    "# ...     - from : log_loss\n",
    "# ...     - to : neg_log_loss\n",
    "# ...  (this avoids the deprecation warning)\n",
    "\n",
    "clf = GridSearchCV(\n",
    "    lr_model,\n",
    "    params,\n",
    "    scoring = 'neg_log_loss',\n",
    "    refit = 'True',\n",
    "    n_jobs = -1,\n",
    "    cv = 5)\n",
    "\n",
    "grid_search = clf.fit(master_X_train, master_y_train)\n",
    "\n",
    "best_accuracy = grid_search.best_score_\n",
    "best_parameters = grid_search.best_params_"
   ]
  },
  {
   "cell_type": "markdown",
   "metadata": {},
   "source": [
    "#### _Best parameter values for logistic regression_:"
   ]
  },
  {
   "cell_type": "code",
   "execution_count": 57,
   "metadata": {},
   "outputs": [
    {
     "data": {
      "text/plain": [
       "-0.7544798733585832"
      ]
     },
     "execution_count": 57,
     "metadata": {},
     "output_type": "execute_result"
    },
    {
     "data": {
      "text/plain": [
       "{'C': 1000, 'tol': 0.001}"
      ]
     },
     "execution_count": 57,
     "metadata": {},
     "output_type": "execute_result"
    }
   ],
   "source": [
    "best_accuracy\n",
    "best_parameters"
   ]
  },
  {
   "cell_type": "markdown",
   "metadata": {},
   "source": [
    "#### Create main logistic model using best paraments for further analysis and model comparisons"
   ]
  },
  {
   "cell_type": "code",
   "execution_count": 99,
   "metadata": {},
   "outputs": [
    {
     "data": {
      "text/plain": [
       "LogisticRegression(C=100, class_weight='balanced', dual=False,\n",
       "          fit_intercept=True, intercept_scaling=1, max_iter=100,\n",
       "          multi_class='multinomial', n_jobs=1, penalty='l2',\n",
       "          random_state=None, solver='lbfgs', tol=0.001, verbose=0,\n",
       "          warm_start=False)"
      ]
     },
     "execution_count": 99,
     "metadata": {},
     "output_type": "execute_result"
    },
    {
     "name": "stdout",
     "output_type": "stream",
     "text": [
      "accuracy 0.7172\n",
      "precision 0.7451\n",
      "recall 0.7172\n",
      "f1_score 0.7279\n",
      "confusion matrix\n",
      " [[ 778   17   44   10  133   37   18]\n",
      " [   8  824   26  188   42   11   42]\n",
      " [  22    7  160   15   29  101    8]\n",
      " [  16  131   20  779   19    2   11]\n",
      " [  69   17   45   33  155   11   43]\n",
      " [  28   17  263    6   23  775   49]\n",
      " [  15   35   38   28   50   67 1078]]\n",
      "process time 4.0397\n",
      "\n",
      "\n",
      "[[  7.10746826e-02   9.22976847e-02   1.57618140e+00   8.98852830e-02\n",
      "    1.60272663e-01   1.00972617e-02   2.11960492e-02  -3.16370518e-02\n",
      "   -2.98376210e-01   5.20478346e+00  -6.89074244e-01  -1.45573495e+00\n",
      "   -1.86838790e+00  -1.23980808e+00  -3.18486356e-01  -5.32043559e-03\n",
      "    2.28193824e-01  -1.05098296e-01   5.34611598e-01   3.04749509e-02\n",
      "    9.75984043e-04  -3.21656132e-02   2.67978038e-01  -1.85061098e-01\n",
      "   -3.98674788e-01  -5.32540364e-01   3.95524592e-01   5.26348034e-01\n",
      "    1.02197578e-02  -1.07521653e+00  -3.34672637e-02  -2.71039291e-02\n",
      "   -3.23798177e-02  -1.35325900e-01]\n",
      " [  1.84397439e-01  -1.05552926e-01  -7.30407189e-01   1.87440033e-01\n",
      "    1.33671866e-02   2.47644944e-02   2.60709078e-02  -3.34916152e-03\n",
      "   -1.32310878e-01  -2.00147304e+00   4.16056177e+00  -1.33665356e+00\n",
      "    1.83914985e+00  -2.55123715e+00  -1.99937726e-01  -3.68791002e-02\n",
      "   -4.34646049e-01   1.23099454e-01  -3.98883745e-01   1.00034019e-01\n",
      "   -1.73949403e-01  -8.41374320e-02   1.57626395e-01  -8.93597314e-02\n",
      "    3.12889146e-02   6.44213398e-01  -2.03797860e-01  -2.60671885e-01\n",
      "    2.49175168e-02   1.81306669e-01   2.26767965e-02   1.42603971e-02\n",
      "   -9.24585507e-02  -1.98779652e-02]\n",
      " [ -8.41184193e-02   4.76545477e-02  -1.10383721e+00  -8.44685078e-02\n",
      "   -2.74282260e-01   5.15023994e-02  -4.95039394e-02  -5.67335257e-03\n",
      "    1.73552482e-01   7.32979546e-02  -1.16875520e+00  -1.74749469e+00\n",
      "   -4.19511682e-01   3.07427277e+00   1.92767436e-01   1.27624470e-02\n",
      "   -1.18794120e-01   5.02047284e-01  -5.03652454e-01  -9.03352591e-02\n",
      "    2.53904573e-01  -1.48352182e-02  -1.85576139e-01   2.27175450e-01\n",
      "    9.91761725e-02  -1.41841215e-01  -2.35333281e-01  -3.49865044e-01\n",
      "   -1.95969814e-02   7.67608551e-01  -6.44686639e-02   7.29187271e-04\n",
      "    1.82702438e-02   1.71721178e-01]\n",
      " [ -6.71969002e-02   8.54129595e-02   1.23258332e+00  -3.21236027e-01\n",
      "   -5.32504669e-02  -1.00052604e-01  -1.81435674e-01   1.04656711e-01\n",
      "    1.83819875e-01  -1.81612964e+00   7.79811750e-01  -1.23214885e+00\n",
      "    3.70140652e+00  -1.79998334e+00   7.45992948e-01   4.73628801e-02\n",
      "    1.05272568e-01   6.21377427e-01  -8.40044038e-01  -6.31897117e-01\n",
      "   -3.54337160e-01  -3.06648069e-01  -9.48657962e-01   6.98137085e-01\n",
      "    2.52438864e-01   7.18246286e-02   5.09109945e-01   5.79550776e-01\n",
      "   -8.98793587e-03  -2.94706550e-01   7.86616782e-02   4.59530473e-02\n",
      "    3.76519347e-01   2.79854701e-01]\n",
      " [ -8.72765720e-02  -3.04853564e-01  -4.92430916e-01  -8.65681436e-02\n",
      "    7.95406109e-02   2.83855095e-03   6.40232809e-02  -1.24893145e-01\n",
      "    5.84055467e-02   2.20950424e+00  -1.07783439e+00   4.18587521e-01\n",
      "   -2.33882979e-01  -1.32173603e+00   4.48471314e-02   1.06537053e-01\n",
      "    6.39541168e-01  -8.69638537e-02   4.66763517e-02  -4.95265167e-02\n",
      "    1.03745937e-01   6.59730059e-02  -2.96290460e-03   1.05792534e-01\n",
      "    2.06220240e-02   2.46754199e-01  -6.41774357e-02  -4.85568143e-03\n",
      "   -3.78073342e-03   5.28510748e-01   3.00458253e-02  -1.36826040e-02\n",
      "   -3.76090741e-01  -5.88623253e-02]\n",
      " [ -5.81041970e-02   1.09612895e-01   1.68484803e-01   4.22709452e-02\n",
      "    7.75016414e-02  -1.34394836e-02  -1.85167702e-03  -7.69348760e-03\n",
      "    4.22583131e-02  -1.76405455e+00  -8.18152661e-01  -6.91815890e-01\n",
      "   -1.71992807e+00   5.13479667e+00   8.76987303e-02   1.51411239e-02\n",
      "    5.23699335e-01  -7.55622079e-02   1.07566519e+00   1.82104856e-01\n",
      "    2.65219408e-01  -2.44318585e-02   3.58588715e-01  -3.53572311e-01\n",
      "    1.91632928e-01  -1.62629634e-01  -1.62056289e-01   2.40480302e-02\n",
      "   -6.96944410e-03  -4.61423276e-01  -8.72713338e-03  -2.29852648e-02\n",
      "    1.05794282e-01  -1.35680554e-01]\n",
      " [  4.12239671e-02   7.54284033e-02  -6.50574214e-01   1.72676417e-01\n",
      "   -3.14937474e-03   2.42893807e-02   1.21501052e-01   6.85894880e-02\n",
      "   -2.73491288e-02  -1.90592841e+00  -1.18655703e+00   6.04526042e+00\n",
      "   -1.29884574e+00  -1.29630484e+00  -5.52882164e-01  -1.39603968e-01\n",
      "   -9.43266726e-01  -9.78899808e-01   8.56271028e-02   4.59145067e-01\n",
      "   -9.55593387e-02   3.96245185e-01   3.53003859e-01  -4.03111928e-01\n",
      "   -1.96484115e-01  -1.25781013e-01  -2.39269672e-01  -5.14554230e-01\n",
      "    4.19782020e-03   3.53920383e-01  -2.47212392e-02   2.82916616e-03\n",
      "    3.45236938e-04  -1.01829134e-01]]\n"
     ]
    }
   ],
   "source": [
    "tic = time.clock()\n",
    "\n",
    "# ... -=-=-=-=-=-=-=-=-=-=-=-=-=-=-=-=-=-=-=-=-=-=-=-=-=-=-=-=-=-=-=-=-=-=-=-=-=\n",
    "# ... basic multiclass Logistic Regression\n",
    "# ... - normalize features based on mean & stdev of each column\n",
    "# ... -=-=-=-=-=-=-=-=-=-=-=-=-=-=-=-=-=-=-=-=-=-=-=-=-=-=-=-=-=-=-=-=-=-=-=-=-=\n",
    "\n",
    "lr_model1 = LogisticRegression(\n",
    "    class_weight = 'balanced',\n",
    "    multi_class = 'multinomial',\n",
    "    solver = 'lbfgs',\n",
    "    C = 100,\n",
    "    tol = 0.001)\n",
    "\n",
    "lr_model1.fit(X_train, y_train)  # train object\n",
    "\n",
    "y_hat = lr_model1.predict(X_test) # get test set precitions\n",
    "\n",
    "toc =  time.clock()\n",
    "\n",
    "# calculate statistics\n",
    "\n",
    "accuracy = '{0:.4f}'.format(metrics.accuracy_score(y_test, y_hat))\n",
    "precision = '{0:.4f}'.format(metrics.precision_score(y_test, y_hat,average='weighted'))\n",
    "recall = '{0:.4f}'.format(metrics.recall_score(y_test, y_hat,average='weighted'))\n",
    "f1_score = '{0:.4f}'.format(metrics.f1_score(y_test, y_hat,average='weighted'))\n",
    "\n",
    "exetime = '{0:.4f}'.format(toc-tic)\n",
    "\n",
    "# print statistics\n",
    "\n",
    "print(\"accuracy\",accuracy )\n",
    "print(\"precision\",precision )\n",
    "print(\"recall\",recall )\n",
    "print(\"f1_score\",f1_score )\n",
    "print(\"confusion matrix\\n\", conf(y_test, y_hat))\n",
    "print('process time',exetime)\n",
    "print(\"\\n\")\n",
    "\n",
    "lr_model1_confusion_matrix = conf(y_test, y_hat)\n",
    "\n",
    "# save statistics for model comparison\n",
    "\n",
    "raw_data = {\n",
    "    'Model Name' : 'Logistic Regression',\n",
    "    'Accuracy' : accuracy,\n",
    "    'Precision' : precision,\n",
    "    'Recall' : recall,\n",
    "    'FScore' : f1_score,\n",
    "    'Processing Time' : exetime\n",
    "}\n",
    "\n",
    "df_tbl = pd.DataFrame(raw_data,\n",
    "    columns = ['Model Name', 'Accuracy', 'Precision', 'Recall', 'FScore', 'Processing Time'],\n",
    "    index = [i_index + 1])\n",
    "\n",
    "comparison_tbl = comparison_tbl.append(df_tbl)\n",
    "\n",
    "#append model classifier for cross-validation\n",
    "\n",
    "models.append(('Logistic Regression', lr_model1))\n",
    "\n",
    "print(lr_model1.coef_)\n"
   ]
  },
  {
   "cell_type": "code",
   "execution_count": null,
   "metadata": {
    "collapsed": true
   },
   "outputs": [],
   "source": []
  },
  {
   "cell_type": "code",
   "execution_count": 108,
   "metadata": {},
   "outputs": [
    {
     "data": {
      "text/plain": [
       "<matplotlib.image.AxesImage at 0x7f391af3fb00>"
      ]
     },
     "execution_count": 108,
     "metadata": {},
     "output_type": "execute_result"
    },
    {
     "data": {
      "image/png": "[encoded data removed]",
      "text/plain": [
       "<matplotlib.figure.Figure at 0x7f3921717438>"
      ]
     },
     "metadata": {},
     "output_type": "display_data"
    }
   ],
   "source": [
    "lr_model1_confusion_matrix = conf(y_test, y_hat)\n",
    "\n",
    "cm_normalized = lr_model1_confusion_matrix.astype('float') / lr_model1_confusion_matrix.sum(axis=1)[:, np.newaxis]\n",
    "\n",
    "plt.imshow(cm_normalized, cmap = plt.get_cmap('Blues'), aspect = 'auto')\n",
    "plt.grid(False)"
   ]
  },
  {
   "cell_type": "code",
   "execution_count": 106,
   "metadata": {},
   "outputs": [
    {
     "name": "stdout",
     "output_type": "stream",
     "text": [
      "<zip object at 0x7f391b3984c8>\n",
      "n_tokens_title has weight of [ 0.07107468  0.18439744 -0.08411842 -0.0671969  -0.08727657 -0.0581042\n",
      "  0.04122397]\n",
      "num_keywords has weight of [ 0.09229768 -0.10555293  0.04765455  0.08541296 -0.30485356  0.1096129\n",
      "  0.0754284 ]\n",
      "kw_avg_max has weight of [ 1.5761814  -0.73040719 -1.10383721  1.23258332 -0.49243092  0.1684848\n",
      " -0.65057421]\n",
      "weekday_is_monday has weight of [ 0.08988528  0.18744003 -0.08446851 -0.32123603 -0.08656814  0.04227095\n",
      "  0.17267642]\n",
      "weekday_is_tuesday has weight of [ 0.16027266  0.01336719 -0.27428226 -0.05325047  0.07954061  0.07750164\n",
      " -0.00314937]\n",
      "weekday_is_wednesday has weight of [ 0.01009726  0.02476449  0.0515024  -0.1000526   0.00283855 -0.01343948\n",
      "  0.02428938]\n",
      "weekday_is_thursday has weight of [ 0.02119605  0.02607091 -0.04950394 -0.18143567  0.06402328 -0.00185168\n",
      "  0.12150105]\n",
      "weekday_is_friday has weight of [-0.03163705 -0.00334916 -0.00567335  0.10465671 -0.12489315 -0.00769349\n",
      "  0.06858949]\n",
      "is_weekend has weight of [-0.29837621 -0.13231088  0.17355248  0.18381987  0.05840555  0.04225831\n",
      " -0.02734913]\n",
      "LDA_00 has weight of [ 5.20478346 -2.00147304  0.07329795 -1.81612964  2.20950424 -1.76405455\n",
      " -1.90592841]\n",
      "LDA_01 has weight of [-0.68907424  4.16056177 -1.1687552   0.77981175 -1.07783439 -0.81815266\n",
      " -1.18655703]\n",
      "LDA_02 has weight of [-1.45573495 -1.33665356 -1.74749469 -1.23214885  0.41858752 -0.69181589\n",
      "  6.04526042]\n",
      "LDA_03 has weight of [-1.8683879   1.83914985 -0.41951168  3.70140652 -0.23388298 -1.71992807\n",
      " -1.29884574]\n",
      "LDA_04 has weight of [-1.23980808 -2.55123715  3.07427277 -1.79998334 -1.32173603  5.13479667\n",
      " -1.29630484]\n",
      "global_subjectivity has weight of [-0.31848636 -0.19993773  0.19276744  0.74599295  0.04484713  0.08769873\n",
      " -0.55288216]\n",
      "global_rate_positive_words has weight of [-0.00532044 -0.0368791   0.01276245  0.04736288  0.10653705  0.01514112\n",
      " -0.13960397]\n",
      "rate_positive_words has weight of [ 0.22819382 -0.43464605 -0.11879412  0.10527257  0.63954117  0.52369933\n",
      " -0.94326673]\n",
      "max_positive_polarity has weight of [-0.1050983   0.12309945  0.50204728  0.62137743 -0.08696385 -0.07556221\n",
      " -0.97889981]\n",
      "min_negative_polarity has weight of [ 0.5346116  -0.39888375 -0.50365245 -0.84004404  0.04667635  1.07566519\n",
      "  0.0856271 ]\n",
      "max_negative_polarity has weight of [ 0.03047495  0.10003402 -0.09033526 -0.63189712 -0.04952652  0.18210486\n",
      "  0.45914507]\n",
      "title_sentiment_polarity has weight of [ 0.00097598 -0.1739494   0.25390457 -0.35433716  0.10374594  0.26521941\n",
      " -0.09555934]\n",
      "abs_title_subjectivity has weight of [-0.03216561 -0.08413743 -0.01483522 -0.30664807  0.06597301 -0.02443186\n",
      "  0.39624519]\n",
      "ln_n_tokens_content has weight of [ 0.26797804  0.15762639 -0.18557614 -0.94865796 -0.0029629   0.35858872\n",
      "  0.35300386]\n",
      "ln_num_hrefs has weight of [-0.1850611  -0.08935973  0.22717545  0.69813709  0.10579253 -0.35357231\n",
      " -0.40311193]\n",
      "ln_num_imgs has weight of [-0.39867479  0.03128891  0.09917617  0.25243886  0.02062202  0.19163293\n",
      " -0.19648412]\n",
      "ln_num_videos has weight of [-0.53254036  0.6442134  -0.14184122  0.07182463  0.2467542  -0.16262963\n",
      " -0.12578101]\n",
      "ln_kw_min_min has weight of [ 0.39552459 -0.20379786 -0.23533328  0.50910994 -0.06417744 -0.16205629\n",
      " -0.23926967]\n",
      "ln_kw_avg_min has weight of [ 0.52634803 -0.26067188 -0.34986504  0.57955078 -0.00485568  0.02404803\n",
      " -0.51455423]\n",
      "ln_kw_min_max has weight of [ 0.01021976  0.02491752 -0.01959698 -0.00898794 -0.00378073 -0.00696944\n",
      "  0.00419782]\n",
      "ln_kw_avg_avg has weight of [-1.07521653  0.18130667  0.76760855 -0.29470655  0.52851075 -0.46142328\n",
      "  0.35392038]\n",
      "ln_self_reference_avg_sharess has weight of [-0.03346726  0.0226768  -0.06446866  0.07866168  0.03004583 -0.00872713\n",
      " -0.02472124]\n",
      "ln_global_rate_negative_words has weight of [-0.02710393  0.0142604   0.00072919  0.04595305 -0.0136826  -0.02298526\n",
      "  0.00282917]\n",
      "ln_min_positive_polarity has weight of [ -3.23798177e-02  -9.24585507e-02   1.82702438e-02   3.76519347e-01\n",
      "  -3.76090741e-01   1.05794282e-01   3.45236938e-04]\n",
      "ln_abs_title_sentiment_polarity has weight of [-0.1353259  -0.01987797  0.17172118  0.2798547  -0.05886233 -0.13568055\n",
      " -0.10182913]\n"
     ]
    }
   ],
   "source": [
    "# Interpret weights\n",
    "\n",
    "zip_vars_LR = zip(lr_model1.coef_.T, df_data_channel.columns.values.tolist()) # combine attributes\n",
    "\n",
    "print(zip_vars_LR)\n",
    "\n",
    "#zip_vars_LR = sorted(zip_vars_LR)\n",
    "\n",
    "for importance, name in zip_vars_LR:\n",
    "    \n",
    "    print(name, 'has weight of', importance) # now print them out"
   ]
  },
  {
   "cell_type": "markdown",
   "metadata": {},
   "source": [
    "### b. Decision Tree Classifier using Grid Search\n",
    "#### _Grid search parameter set-up_"
   ]
  },
  {
   "cell_type": "code",
   "execution_count": 59,
   "metadata": {
    "collapsed": true
   },
   "outputs": [],
   "source": [
    "# Applying Grid Search to find the best model and the best parameters\n",
    "\n",
    "from sklearn.tree import DecisionTreeClassifier\n",
    "from sklearn.model_selection import GridSearchCV\n",
    "\n",
    "DTclassifier = DecisionTreeClassifier(criterion = 'entropy', random_state = 0)\n",
    "\n",
    "parameters = [\n",
    "      {\n",
    "        'criterion': ['gini'], \n",
    "        'max_depth': [None], \n",
    "        'min_samples_split': [2, 100, 1000], \n",
    "        'min_samples_leaf': [1, 10, 100],\n",
    "        'max_features': [None], 'max_leaf_nodes': [None]\n",
    "      },\n",
    "      {\n",
    "          'criterion': ['entropy'], \n",
    "          'max_depth': [None, 5, 10], \n",
    "          'min_samples_split': [2, 100, 1000],\n",
    "          'min_samples_leaf': [1, 10, 100], \n",
    "          'max_leaf_nodes': [None]\n",
    "      }\n",
    "     ]\n",
    "\n",
    "grid_search = GridSearchCV(estimator = DTclassifier,\n",
    "                           param_grid = parameters,\n",
    "                           scoring = 'accuracy',\n",
    "                           cv = 5,\n",
    "                           n_jobs = -1)\n",
    "\n",
    "grid_search = grid_search.fit(master_X_train, master_y_train)\n",
    "\n",
    "best_accuracy = grid_search.best_score_\n",
    "best_parameters = grid_search.best_params_\n",
    "\n",
    "best_criterion = best_parameters['criterion']\n",
    "best_max_depth = best_parameters['max_depth']\n",
    "best_min_samples_split = best_parameters['min_samples_split']\n",
    "best_min_samples_leaf = best_parameters['min_samples_leaf']\n",
    "best_max_features = best_parameters['max_features']\n",
    "\n",
    "\n"
   ]
  },
  {
   "cell_type": "markdown",
   "metadata": {},
   "source": [
    "#### _Best parameters for Decision Tree_"
   ]
  },
  {
   "cell_type": "code",
   "execution_count": 60,
   "metadata": {},
   "outputs": [
    {
     "data": {
      "text/plain": [
       "0.76178464448998895"
      ]
     },
     "execution_count": 60,
     "metadata": {},
     "output_type": "execute_result"
    },
    {
     "data": {
      "text/plain": [
       "{'criterion': 'gini',\n",
       " 'max_depth': None,\n",
       " 'max_features': None,\n",
       " 'max_leaf_nodes': None,\n",
       " 'min_samples_leaf': 10,\n",
       " 'min_samples_split': 100}"
      ]
     },
     "execution_count": 60,
     "metadata": {},
     "output_type": "execute_result"
    }
   ],
   "source": [
    "best_accuracy\n",
    "best_parameters"
   ]
  },
  {
   "cell_type": "markdown",
   "metadata": {},
   "source": [
    "#### _use best parameters to create best Decision Tree model for further analysis and model comparison_"
   ]
  },
  {
   "cell_type": "code",
   "execution_count": 61,
   "metadata": {},
   "outputs": [
    {
     "data": {
      "text/plain": [
       "DecisionTreeClassifier(class_weight=None, criterion='gini', max_depth=None,\n",
       "            max_features=None, max_leaf_nodes=None,\n",
       "            min_impurity_decrease=0.0, min_impurity_split=None,\n",
       "            min_samples_leaf=10, min_samples_split=100,\n",
       "            min_weight_fraction_leaf=0.0, presort=False, random_state=None,\n",
       "            splitter='best')"
      ]
     },
     "execution_count": 61,
     "metadata": {},
     "output_type": "execute_result"
    },
    {
     "name": "stdout",
     "output_type": "stream",
     "text": [
      "accuracy 0.7634\n",
      "precision 0.7478\n",
      "recall 0.7634\n",
      "f1_score 0.7515\n",
      "confusion matrix\n",
      " [[ 880   24   10   11   41   42   29]\n",
      " [  17  889    3  164   14   21   33]\n",
      " [  32   12   80   26   22  160   10]\n",
      " [  16  110   13  814    5    6   14]\n",
      " [  99   35   22   30  102   27   58]\n",
      " [  42   28   53   12    6  950   70]\n",
      " [  21   42    2   23   24   72 1127]]\n",
      "process time 0.7710\n",
      "\n",
      "\n"
     ]
    }
   ],
   "source": [
    "from sklearn.tree import DecisionTreeClassifier\n",
    "from sklearn.metrics import confusion_matrix,classification_report\n",
    "\n",
    "tic = time.clock()\n",
    "\n",
    "# train and fit\n",
    "\n",
    "DTclassifier = DecisionTreeClassifier(\n",
    "    criterion = best_criterion,\n",
    "    max_depth = best_max_depth,\n",
    "    min_samples_split = best_min_samples_split,\n",
    "    min_samples_leaf = best_min_samples_leaf,\n",
    "    max_features = best_max_features)\n",
    "\n",
    "DTclassifier.fit(X_train, y_train)\n",
    "y_predDT = DTclassifier.predict(X_test)\n",
    "\n",
    "# calculate statistics\n",
    "\n",
    "accuracy = '{0:.4f}'.format(metrics.accuracy_score(y_test, y_predDT))\n",
    "precision = '{0:.4f}'.format(metrics.precision_score(y_test, y_predDT,average='weighted'))\n",
    "recall = '{0:.4f}'.format(metrics.recall_score(y_test, y_predDT,average='weighted'))\n",
    "f1_score = '{0:.4f}'.format(metrics.f1_score(y_test, y_predDT,average='weighted'))\n",
    "toc =  time.clock()\n",
    "exetime = '{0:.4f}'.format(toc-tic)\n",
    "\n",
    "# print statistics\n",
    "print(\"accuracy\",accuracy )\n",
    "print(\"precision\",precision )\n",
    "print(\"recall\",recall )\n",
    "print(\"f1_score\",f1_score )\n",
    "print(\"confusion matrix\\n\", confusion_matrix(y_test, y_predDT))\n",
    "print('process time',exetime)\n",
    "print(\"\\n\")\n",
    "\n",
    "# save statistics for model comparison\n",
    "\n",
    "raw_data = {\n",
    "    'Model Name':'Decision Tree Classifier',\n",
    "    'Accuracy':accuracy,\n",
    "    'Precision':precision,\n",
    "    'Recall':recall,\n",
    "    'FScore':f1_score,\n",
    "    'Processing Time': exetime\n",
    "}\n",
    "\n",
    "df_tbl = pd.DataFrame(raw_data,\n",
    "        columns = ['Model Name','Accuracy','Precision','Recall','FScore','Processing Time'],\n",
    "        index = [i_index + 1])\n",
    "\n",
    "comparison_tbl = comparison_tbl.append(df_tbl)\n",
    "\n",
    "#append model classifier for cross-validation\n",
    "\n",
    "models.append(('Decision Tree Classifier', DTclassifier))\n"
   ]
  },
  {
   "cell_type": "code",
   "execution_count": 114,
   "metadata": {},
   "outputs": [
    {
     "data": {
      "text/plain": [
       "<matplotlib.image.AxesImage at 0x7f392174d438>"
      ]
     },
     "execution_count": 114,
     "metadata": {},
     "output_type": "execute_result"
    },
    {
     "data": {
      "image/png": "[encoded data removed]",
      "text/plain": [
       "<matplotlib.figure.Figure at 0x7f3921741438>"
      ]
     },
     "metadata": {},
     "output_type": "display_data"
    }
   ],
   "source": [
    "DT_confusion_matrix = confusion_matrix(y_test, y_hat)\n",
    "\n",
    "cm_normalized = DT_confusion_matrix.astype('float') / DT_confusion_matrix.sum(axis=1)[:, np.newaxis]\n",
    "\n",
    "plt.imshow(cm_normalized, cmap = plt.get_cmap('PuRd'), aspect = 'auto')\n",
    "plt.grid(False)"
   ]
  },
  {
   "cell_type": "markdown",
   "metadata": {},
   "source": [
    "### c. Random Forest Classifier\n",
    "\n",
    "#### _Grid Search parameter set-up for Random Forest classifier_"
   ]
  },
  {
   "cell_type": "code",
   "execution_count": 64,
   "metadata": {
    "collapsed": true
   },
   "outputs": [],
   "source": [
    "RFclf = RandomForestClassifier(\n",
    "    criterion = 'entropy',\n",
    "    max_features= 'sqrt',\n",
    "    max_depth = 5,\n",
    "    n_estimators = 10,\n",
    "    n_jobs = -1)\n",
    "\n",
    "#RFclf.fit(master_X_train, master_y_train)\n",
    "\n",
    "param_grid =[\n",
    "    { \n",
    "    'criterion': ['gini'],\n",
    "    'n_estimators': [100, 500],\n",
    "    'max_features': ['auto', 'sqrt', 'log2'],\n",
    "    'max_depth': [10, 20, 50]\n",
    "},\n",
    " { \n",
    "    'criterion': ['entropy'],\n",
    "    'n_estimators': [100, 500],\n",
    "    'max_features': ['auto', 'sqrt', 'log2'],\n",
    "    'max_depth': [10, 20, 50]\n",
    "}\n",
    "]\n",
    "\n",
    "RF_grid_search = GridSearchCV(\n",
    "    estimator = RFclf,\n",
    "    param_grid = param_grid,\n",
    "    cv = 2)\n",
    "\n",
    "grid_search = RF_grid_search.fit(master_X_train, master_y_train)\n",
    "\n",
    "best_accuracy = grid_search.best_score_\n",
    "best_parameters = grid_search.best_params_\n",
    "\n",
    "best_criterion = best_parameters['criterion']\n",
    "best_max_depth = best_parameters['max_depth']\n",
    "best_max_features = best_parameters['max_features']\n",
    "best_n_estimators = best_parameters['n_estimators']\n"
   ]
  },
  {
   "cell_type": "markdown",
   "metadata": {},
   "source": [
    "#### _best parameters for Random Forest Classifier_"
   ]
  },
  {
   "cell_type": "code",
   "execution_count": 66,
   "metadata": {},
   "outputs": [
    {
     "data": {
      "text/plain": [
       "0.80230174996058645"
      ]
     },
     "execution_count": 66,
     "metadata": {},
     "output_type": "execute_result"
    },
    {
     "data": {
      "text/plain": [
       "{'criterion': 'entropy',\n",
       " 'max_depth': 50,\n",
       " 'max_features': 'auto',\n",
       " 'n_estimators': 500}"
      ]
     },
     "execution_count": 66,
     "metadata": {},
     "output_type": "execute_result"
    }
   ],
   "source": [
    "best_accuracy\n",
    "best_parameters"
   ]
  },
  {
   "cell_type": "markdown",
   "metadata": {},
   "source": [
    "#### _using best parameters for main model for further analysis and model comparison_"
   ]
  },
  {
   "cell_type": "code",
   "execution_count": 67,
   "metadata": {},
   "outputs": [
    {
     "data": {
      "text/plain": [
       "RandomForestClassifier(bootstrap=True, class_weight=None, criterion='entropy',\n",
       "            max_depth=100, max_features='sqrt', max_leaf_nodes=None,\n",
       "            min_impurity_decrease=0.0, min_impurity_split=None,\n",
       "            min_samples_leaf=1, min_samples_split=2,\n",
       "            min_weight_fraction_leaf=0.0, n_estimators=700, n_jobs=-1,\n",
       "            oob_score=False, random_state=None, verbose=0,\n",
       "            warm_start=False)"
      ]
     },
     "execution_count": 67,
     "metadata": {},
     "output_type": "execute_result"
    },
    {
     "name": "stdout",
     "output_type": "stream",
     "text": [
      "accuracy 0.8061\n",
      "precision 0.8021\n",
      "recall 0.8061\n",
      "f1_score 0.7858\n",
      "confusion matrix\n",
      " [[ 935   14    0   10    8   38   32]\n",
      " [  19  939    0  128    3   27   25]\n",
      " [  40    9   38   25   12  208   10]\n",
      " [  13   48    5  891    0    3   18]\n",
      " [  92   32    5   27  126   38   53]\n",
      " [  40   19    8    9    8 1030   47]\n",
      " [  25   37    1   23    5   66 1154]]\n",
      "process time 222.4900\n",
      "\n",
      "\n"
     ]
    }
   ],
   "source": [
    "from sklearn.ensemble import RandomForestClassifier\n",
    "\n",
    "tic = time.clock()\n",
    "\n",
    "# train and test \n",
    "\n",
    "RFclf = RandomForestClassifier(\n",
    "    criterion = best_criterion,\n",
    "    max_depth = best_max_depth,\n",
    "    max_features = best_max_features,\n",
    "    n_estimators = best_n_estimators,\n",
    "    n_jobs = -1)\n",
    "\n",
    "RFclf.fit(X_train, y_train)\n",
    "y_predRF = RFclf.predict(X_test)\n",
    "\n",
    "# calculate statistics\n",
    "\n",
    "accuracy = '{0:.4f}'.format(metrics.accuracy_score(y_test, y_predRF))\n",
    "precision = '{0:.4f}'.format(metrics.precision_score(y_test, y_predRF, average ='weighted'))\n",
    "recall = '{0:.4f}'.format(metrics.recall_score(y_test, y_predRF, average = 'weighted'))\n",
    "f1_score = '{0:.4f}'.format(metrics.f1_score(y_test, y_predRF, average = 'weighted'))\n",
    "toc =  time.clock()\n",
    "exetime = '{0:.4f}'.format(toc-tic)\n",
    "\n",
    "# print statistics\n",
    "print(\"accuracy\",accuracy )\n",
    "print(\"precision\",precision )\n",
    "print(\"recall\",recall )\n",
    "print(\"f1_score\",f1_score )\n",
    "print(\"confusion matrix\\n\", confusion_matrix(y_test, y_predRF))\n",
    "print('process time',exetime)\n",
    "print(\"\\n\")\n",
    "\n",
    "\n",
    "# save statistics for model comparison\n",
    "\n",
    "raw_data = {\n",
    "    'Model Name':'Random Forest Classifier',\n",
    "    'Accuracy':accuracy,\n",
    "    'Precision':precision,\n",
    "    'Recall':recall,\n",
    "    'FScore':f1_score,\n",
    "    'Processing Time': exetime\n",
    "}\n",
    "\n",
    "df_tbl = pd.DataFrame(raw_data,\n",
    "        columns = ['Model Name','Accuracy','Precision','Recall','FScore','Processing Time'],\n",
    "        index = [i_index + 1])\n",
    "\n",
    "comparison_tbl = comparison_tbl.append(df_tbl)\n",
    "\n",
    "#append model classifier for cross-validation\n",
    "\n",
    "models.append(('Random Forest Classifier', RFclf))\n"
   ]
  },
  {
   "cell_type": "code",
   "execution_count": 68,
   "metadata": {},
   "outputs": [
    {
     "name": "stdout",
     "output_type": "stream",
     "text": [
      "RandomForestClassifier(bootstrap=True, class_weight=None, criterion='entropy',\n",
      "            max_depth=100, max_features='sqrt', max_leaf_nodes=None,\n",
      "            min_impurity_decrease=0.0, min_impurity_split=None,\n",
      "            min_samples_leaf=1, min_samples_split=2,\n",
      "            min_weight_fraction_leaf=0.0, n_estimators=700, n_jobs=-1,\n",
      "            oob_score=False, random_state=None, verbose=0,\n",
      "            warm_start=False)\n"
     ]
    },
    {
     "data": {
      "text/plain": [
       "<Container object of 34 artists>"
      ]
     },
     "execution_count": 68,
     "metadata": {},
     "output_type": "execute_result"
    },
    {
     "data": {
      "image/png": "[encoded data removed]",
      "text/plain": [
       "<matplotlib.figure.Figure at 0x7f3921725668>"
      ]
     },
     "metadata": {},
     "output_type": "display_data"
    }
   ],
   "source": [
    "print (RFclf)\n",
    "plt.barh(range(len(RFclf.feature_importances_)), RFclf.feature_importances_)\n",
    "plt.show()"
   ]
  },
  {
   "cell_type": "markdown",
   "metadata": {},
   "source": [
    "###  d. Naive Bayes  \n",
    "\n",
    " - Evaluate both Mulinomial and Gaussian  \n",
    " - Gaussian has only default parameters, so will run grid search only on Multinomial  \n",
    " \n"
   ]
  },
  {
   "cell_type": "code",
   "execution_count": 70,
   "metadata": {},
   "outputs": [
    {
     "data": {
      "text/plain": [
       "0.64105312943402171"
      ]
     },
     "execution_count": 70,
     "metadata": {},
     "output_type": "execute_result"
    },
    {
     "data": {
      "text/plain": [
       "{'alpha': 0.1}"
      ]
     },
     "execution_count": 70,
     "metadata": {},
     "output_type": "execute_result"
    }
   ],
   "source": [
    "from sklearn.naive_bayes import MultinomialNB\n",
    "\n",
    "MNBclf = MultinomialNB(\n",
    "    alpha = 0.01,\n",
    "    class_prior = None,\n",
    "    fit_prior = True)\n",
    "\n",
    "params = {\n",
    "    'alpha':[0.1, 0.5, 1.0]\n",
    "}\n",
    "\n",
    "MNB_grid_search = GridSearchCV(\n",
    "    MNBclf,\n",
    "    params,\n",
    "    cv = 5)\n",
    "\n",
    "grid_search = MNB_grid_search.fit(master_X_train, master_y_train)\n",
    "\n",
    "best_accuracy = grid_search.best_score_\n",
    "best_parameters = grid_search.best_params_\n",
    "\n",
    "best_accuracy\n",
    "best_parameters\n",
    "\n",
    "best_alpha = best_parameters['alpha']"
   ]
  },
  {
   "cell_type": "code",
   "execution_count": 76,
   "metadata": {},
   "outputs": [
    {
     "data": {
      "text/plain": [
       "MultinomialNB(alpha=0.1, class_prior=None, fit_prior=True)"
      ]
     },
     "execution_count": 76,
     "metadata": {},
     "output_type": "execute_result"
    },
    {
     "name": "stdout",
     "output_type": "stream",
     "text": [
      "accuracy 0.6372\n",
      "precision 0.6081\n",
      "recall 0.6372\n",
      "f1_score 0.6172\n",
      "confusion matrix\n",
      " [[ 724   32   51   22   33   91   84]\n",
      " [  21  674   34  223   10   95   84]\n",
      " [  42    9   30   28    2  189   42]\n",
      " [  21  205   27  657    9   29   30]\n",
      " [ 112   51   21   44   19   53   73]\n",
      " [  69   25   27   23    2  868  147]\n",
      " [  23   31   25   21   24  117 1070]]\n",
      "process time 0.3293\n",
      "\n",
      "\n"
     ]
    }
   ],
   "source": [
    "tic = time.clock()\n",
    "\n",
    "# train and test \n",
    "\n",
    "MNBclf = MultinomialNB(\n",
    "    alpha = best_alpha,\n",
    "    class_prior = None,\n",
    "    fit_prior = True)\n",
    "\n",
    "MNBclf.fit(X_train, y_train)\n",
    "y_predMNB = MNBclf.predict(X_test)\n",
    "\n",
    "# calculate statistics\n",
    "\n",
    "accuracy = '{0:.4f}'.format(metrics.accuracy_score(y_test, y_predMNB))\n",
    "precision = '{0:.4f}'.format(metrics.precision_score(y_test, y_predMNB, average ='weighted'))\n",
    "recall = '{0:.4f}'.format(metrics.recall_score(y_test, y_predMNB, average = 'weighted'))\n",
    "f1_score = '{0:.4f}'.format(metrics.f1_score(y_test, y_predMNB, average = 'weighted'))\n",
    "toc =  time.clock()\n",
    "exetime = '{0:.4f}'.format(toc-tic)\n",
    "\n",
    "# print statistics\n",
    "print(\"accuracy\",accuracy )\n",
    "print(\"precision\",precision )\n",
    "print(\"recall\",recall )\n",
    "print(\"f1_score\",f1_score )\n",
    "print(\"confusion matrix\\n\", confusion_matrix(y_test, y_predMNB))\n",
    "print('process time',exetime)\n",
    "print(\"\\n\")\n",
    "\n",
    "\n",
    "# save statistics for model comparison\n",
    "\n",
    "raw_data = {\n",
    "    'Model Name':'Multinomial Naïve Bayes',\n",
    "    'Accuracy':accuracy,\n",
    "    'Precision':precision,\n",
    "    'Recall':recall,\n",
    "    'FScore':f1_score,\n",
    "    'Processing Time': exetime\n",
    "}\n",
    "\n",
    "df_tbl = pd.DataFrame(raw_data,\n",
    "        columns = ['Model Name','Accuracy','Precision','Recall','FScore','Processing Time'],\n",
    "        index = [i_index + 1])\n",
    "\n",
    "comparison_tbl = comparison_tbl.append(df_tbl)\n",
    "\n",
    "#append model classifier for cross-validation\n",
    "\n",
    "models.append(('Multinomial Naïve Bayes', MNBclf))\n"
   ]
  },
  {
   "cell_type": "code",
   "execution_count": 77,
   "metadata": {},
   "outputs": [
    {
     "data": {
      "text/plain": [
       "GaussianNB(priors=None)"
      ]
     },
     "execution_count": 77,
     "metadata": {},
     "output_type": "execute_result"
    },
    {
     "name": "stdout",
     "output_type": "stream",
     "text": [
      "accuracy 0.7195\n",
      "precision 0.7089\n",
      "recall 0.7195\n",
      "f1_score 0.7131\n",
      "confusion matrix\n",
      " [[ 823   19   27    4   76   54   34]\n",
      " [  14  865   14  179   25   19   25]\n",
      " [  47    3   77   19    7  178   11]\n",
      " [   5  200   29  700   35    1    8]\n",
      " [ 136   32   28   26   81   25   45]\n",
      " [  44   17   90    4   19  930   57]\n",
      " [  25   51    6   25   36   80 1088]]\n",
      "process time 0.1708\n",
      "\n",
      "\n"
     ]
    }
   ],
   "source": [
    "from sklearn.naive_bayes import GaussianNB\n",
    "\n",
    "tic = time.clock()\n",
    "\n",
    "# train and test \n",
    "\n",
    "GNBclf = GaussianNB()\n",
    "\n",
    "GNBclf.fit(X_train, y_train)\n",
    "y_predGNB = GNBclf.predict(X_test)\n",
    "\n",
    "# calculate statistics\n",
    "\n",
    "accuracy = '{0:.4f}'.format(metrics.accuracy_score(y_test, y_predGNB))\n",
    "precision = '{0:.4f}'.format(metrics.precision_score(y_test, y_predGNB, average ='weighted'))\n",
    "recall = '{0:.4f}'.format(metrics.recall_score(y_test, y_predGNB, average = 'weighted'))\n",
    "f1_score = '{0:.4f}'.format(metrics.f1_score(y_test, y_predGNB, average = 'weighted'))\n",
    "toc =  time.clock()\n",
    "exetime = '{0:.4f}'.format(toc-tic)\n",
    "\n",
    "# print statistics\n",
    "print(\"accuracy\",accuracy )\n",
    "print(\"precision\",precision )\n",
    "print(\"recall\",recall )\n",
    "print(\"f1_score\",f1_score )\n",
    "print(\"confusion matrix\\n\", confusion_matrix(y_test, y_predGNB))\n",
    "print('process time',exetime)\n",
    "print(\"\\n\")\n",
    "\n",
    "\n",
    "# save statistics for model comparison\n",
    "\n",
    "raw_data = {\n",
    "    'Model Name':'Gaussian Naïve Bayes',\n",
    "    'Accuracy':accuracy,\n",
    "    'Precision':precision,\n",
    "    'Recall':recall,\n",
    "    'FScore':f1_score,\n",
    "    'Processing Time': exetime\n",
    "}\n",
    "\n",
    "df_tbl = pd.DataFrame(raw_data,\n",
    "        columns = ['Model Name','Accuracy','Precision','Recall','FScore','Processing Time'],\n",
    "        index = [i_index + 1])\n",
    "\n",
    "comparison_tbl = comparison_tbl.append(df_tbl)\n",
    "\n",
    "#append model classifier for cross-validation\n",
    "\n",
    "models.append(('Gaussian Naïve Bayes', GNBclf))"
   ]
  },
  {
   "cell_type": "markdown",
   "metadata": {},
   "source": [
    "#\tModeling and Evaluation 4"
   ]
  },
  {
   "cell_type": "code",
   "execution_count": 78,
   "metadata": {},
   "outputs": [
    {
     "data": {
      "text/html": [
       "<div>\n",
       "<style>\n",
       "    .dataframe thead tr:only-child th {\n",
       "        text-align: right;\n",
       "    }\n",
       "\n",
       "    .dataframe thead th {\n",
       "        text-align: left;\n",
       "    }\n",
       "\n",
       "    .dataframe tbody tr th {\n",
       "        vertical-align: top;\n",
       "    }\n",
       "</style>\n",
       "<table border=\"1\" class=\"dataframe\">\n",
       "  <thead>\n",
       "    <tr style=\"text-align: right;\">\n",
       "      <th></th>\n",
       "      <th>Model Name</th>\n",
       "      <th>Accuracy</th>\n",
       "      <th>Precision</th>\n",
       "      <th>Recall</th>\n",
       "      <th>FScore</th>\n",
       "      <th>Processing Time</th>\n",
       "    </tr>\n",
       "  </thead>\n",
       "  <tbody>\n",
       "    <tr>\n",
       "      <th>0</th>\n",
       "      <td>Logistic Regression</td>\n",
       "      <td>0.7172</td>\n",
       "      <td>0.7451</td>\n",
       "      <td>0.7172</td>\n",
       "      <td>0.7279</td>\n",
       "      <td>4.1552</td>\n",
       "    </tr>\n",
       "    <tr>\n",
       "      <th>1</th>\n",
       "      <td>Decision Tree Classifier</td>\n",
       "      <td>0.7634</td>\n",
       "      <td>0.7478</td>\n",
       "      <td>0.7634</td>\n",
       "      <td>0.7515</td>\n",
       "      <td>0.7710</td>\n",
       "    </tr>\n",
       "    <tr>\n",
       "      <th>2</th>\n",
       "      <td>Random Forest Classifier</td>\n",
       "      <td>0.8061</td>\n",
       "      <td>0.8021</td>\n",
       "      <td>0.8061</td>\n",
       "      <td>0.7858</td>\n",
       "      <td>222.4900</td>\n",
       "    </tr>\n",
       "    <tr>\n",
       "      <th>3</th>\n",
       "      <td>Multinomial Naïve Bayes</td>\n",
       "      <td>0.6372</td>\n",
       "      <td>0.6081</td>\n",
       "      <td>0.6372</td>\n",
       "      <td>0.6172</td>\n",
       "      <td>0.3293</td>\n",
       "    </tr>\n",
       "    <tr>\n",
       "      <th>4</th>\n",
       "      <td>Gaussian Naïve Bayes</td>\n",
       "      <td>0.7195</td>\n",
       "      <td>0.7089</td>\n",
       "      <td>0.7195</td>\n",
       "      <td>0.7131</td>\n",
       "      <td>0.1708</td>\n",
       "    </tr>\n",
       "  </tbody>\n",
       "</table>\n",
       "</div>"
      ],
      "text/plain": [
       "                 Model Name  Accuracy  Precision  Recall  FScore  \\\n",
       "0       Logistic Regression    0.7172     0.7451  0.7172  0.7279   \n",
       "1  Decision Tree Classifier    0.7634     0.7478  0.7634  0.7515   \n",
       "2  Random Forest Classifier    0.8061     0.8021  0.8061  0.7858   \n",
       "3   Multinomial Naïve Bayes    0.6372     0.6081  0.6372  0.6172   \n",
       "4      Gaussian Naïve Bayes    0.7195     0.7089  0.7195  0.7131   \n",
       "\n",
       "   Processing Time  \n",
       "0           4.1552  \n",
       "1           0.7710  \n",
       "2         222.4900  \n",
       "3           0.3293  \n",
       "4           0.1708  "
      ]
     },
     "execution_count": 78,
     "metadata": {},
     "output_type": "execute_result"
    }
   ],
   "source": [
    "# converting acc, pre, recall, fscore and time to numeric values for plots\n",
    "\n",
    "comparison_tbl = comparison_tbl.reset_index(drop=True)\n",
    "comparison_tbl['Precision'] = pd.to_numeric(comparison_tbl['Precision'])\n",
    "comparison_tbl['Accuracy'] = pd.to_numeric(comparison_tbl['Accuracy'])\n",
    "comparison_tbl['FScore']= pd.to_numeric(comparison_tbl['FScore'])\n",
    "comparison_tbl['Processing Time'] = pd.to_numeric(comparison_tbl['Processing Time'])\n",
    "comparison_tbl['Recall'] = pd.to_numeric(comparison_tbl['Recall'])\n",
    "comparison_tbl\n"
   ]
  },
  {
   "cell_type": "code",
   "execution_count": 88,
   "metadata": {},
   "outputs": [
    {
     "data": {
      "text/plain": [
       "0         Logistic Regression\n",
       "1    Decision Tree Classifier\n",
       "2    Random Forest Classifier\n",
       "3     Multinomial Naïve Bayes\n",
       "4        Gaussian Naïve Bayes\n",
       "Name: Model Name, dtype: object"
      ]
     },
     "execution_count": 88,
     "metadata": {},
     "output_type": "execute_result"
    }
   ],
   "source": [
    "comparison_tbl['Model Name']"
   ]
  },
  {
   "cell_type": "code",
   "execution_count": 96,
   "metadata": {},
   "outputs": [
    {
     "data": {
      "text/plain": [
       "<matplotlib.axes._subplots.AxesSubplot at 0x7f3921831be0>"
      ]
     },
     "execution_count": 96,
     "metadata": {},
     "output_type": "execute_result"
    },
    {
     "data": {
      "text/plain": [
       "<matplotlib.text.Text at 0x7f39217b5be0>"
      ]
     },
     "execution_count": 96,
     "metadata": {},
     "output_type": "execute_result"
    },
    {
     "data": {
      "text/plain": [
       "<matplotlib.text.Text at 0x7f39217b92b0>"
      ]
     },
     "execution_count": 96,
     "metadata": {},
     "output_type": "execute_result"
    },
    {
     "data": {
      "image/png": "[encoded data removed]",
      "text/plain": [
       "<matplotlib.figure.Figure at 0x7f392179a748>"
      ]
     },
     "metadata": {},
     "output_type": "display_data"
    },
    {
     "data": {
      "text/plain": [
       "<matplotlib.axes._subplots.AxesSubplot at 0x7f39217c8cf8>"
      ]
     },
     "execution_count": 96,
     "metadata": {},
     "output_type": "execute_result"
    },
    {
     "data": {
      "text/plain": [
       "<matplotlib.text.Text at 0x7f39217b6198>"
      ]
     },
     "execution_count": 96,
     "metadata": {},
     "output_type": "execute_result"
    },
    {
     "data": {
      "text/plain": [
       "<matplotlib.text.Text at 0x7f39217bc278>"
      ]
     },
     "execution_count": 96,
     "metadata": {},
     "output_type": "execute_result"
    },
    {
     "data": {
      "image/png": "[encoded data removed]",
      "text/plain": [
       "<matplotlib.figure.Figure at 0x7f39217ccd68>"
      ]
     },
     "metadata": {},
     "output_type": "display_data"
    },
    {
     "data": {
      "text/plain": [
       "<matplotlib.axes._subplots.AxesSubplot at 0x7f39217dbbe0>"
      ]
     },
     "execution_count": 96,
     "metadata": {},
     "output_type": "execute_result"
    },
    {
     "data": {
      "text/plain": [
       "<matplotlib.text.Text at 0x7f392182f630>"
      ]
     },
     "execution_count": 96,
     "metadata": {},
     "output_type": "execute_result"
    },
    {
     "data": {
      "text/plain": [
       "<matplotlib.text.Text at 0x7f3921831a90>"
      ]
     },
     "execution_count": 96,
     "metadata": {},
     "output_type": "execute_result"
    },
    {
     "data": {
      "image/png": "[encoded data removed]",
      "text/plain": [
       "<matplotlib.figure.Figure at 0x7f39217bdb00>"
      ]
     },
     "metadata": {},
     "output_type": "display_data"
    }
   ],
   "source": [
    "from pylab import rcParams\n",
    "%matplotlib inline\n",
    "\n",
    "#comparison_tbl.plot()\n",
    "\n",
    "rcParams['figure.figsize'] = 8, 5\n",
    "sns.set(style = \"ticks\")\n",
    "\n",
    "sns.barplot(data = comparison_tbl, y = 'Accuracy', x = 'Model Name')\n",
    "\n",
    "plt.xlabel('Classifiers')\n",
    "plt.ylabel('Accuracy')\n",
    "plt.show()\n",
    "\n",
    "sns.barplot(data = comparison_tbl, y = 'Precision', x = 'Model Name')\n",
    "\n",
    "plt.xlabel('Classifiers')\n",
    "plt.ylabel('Precision')\n",
    "plt.show()\n",
    "\n",
    "sns.barplot(data = comparison_tbl, y = 'Processing Time', x = 'Model Name')\n",
    "plt.xlabel('Classifiers')\n",
    "plt.ylabel('Processing Time')\n",
    "plt.show()\n"
   ]
  },
  {
   "cell_type": "markdown",
   "metadata": {},
   "source": [
    "# 10-K Cross-Validation for each classifier\n",
    "For each classifier we run 10 fold cross validation which will help us narrow down one final model"
   ]
  },
  {
   "cell_type": "code",
   "execution_count": 81,
   "metadata": {
    "scrolled": true
   },
   "outputs": [
    {
     "name": "stdout",
     "output_type": "stream",
     "text": [
      "[ 0.72040302  0.71707624  0.72257251  0.7127995   0.71775465  0.72343109\n",
      "  0.72618297  0.72302839  0.7192429   0.72041654]\n",
      "\n",
      "\t                               Logistic Regression: 0.720 (0.0036)\n",
      "[ 0.76133501  0.76937618  0.77238335  0.75819672  0.75528225  0.77041943\n",
      "  0.75772871  0.76782334  0.75015773  0.76585674]\n",
      "\n",
      "\t                          Decision Tree Classifier: 0.763 (0.0070)\n",
      "[ 0.8145466   0.80749842  0.81462799  0.80706179  0.80258594  0.81456954\n",
      "  0.80473186  0.81135647  0.80599369  0.81255917]\n",
      "\n",
      "\t                          Random Forest Classifier: 0.810 (0.0043)\n",
      "[ 0.64168766  0.64650284  0.64501892  0.65794451  0.63513087  0.63103122\n",
      "  0.64132492  0.63753943  0.63312303  0.64342064]\n",
      "\n",
      "\t                           Multinomial Naïve Bayes: 0.641 (0.0074)\n",
      "[ 0.72134761  0.72243226  0.72572509  0.71595208  0.71018606  0.72248502\n",
      "  0.72712934  0.72397476  0.71514196  0.71946986]\n",
      "\n",
      "\t                              Gaussian Naïve Bayes: 0.720 (0.0050)\n"
     ]
    }
   ],
   "source": [
    "from sklearn import model_selection\n",
    "\n",
    "# evaluate each model in turn\n",
    "\n",
    "results = []\n",
    "names = []\n",
    "scoring = 'accuracy'\n",
    "\n",
    "for name, model in models:\n",
    "    cv_results = model_selection.cross_val_score(\n",
    "        model,\n",
    "        master_X_train,\n",
    "        master_y_train,\n",
    "        cv = 10,\n",
    "        scoring = scoring)\n",
    "    results.append(cv_results)\n",
    "    names.append(name)\n",
    "    msg = \"\\n\\t%50s: %.3f (%.4f)\\n\\n\" % (name, cv_results.mean(), cv_results.std())\n",
    "    print(cv_results)\n",
    "    print(msg)"
   ]
  },
  {
   "cell_type": "code",
   "execution_count": 82,
   "metadata": {
    "scrolled": true
   },
   "outputs": [
    {
     "data": {
      "text/plain": [
       "<matplotlib.text.Text at 0x7f39203f60b8>"
      ]
     },
     "execution_count": 82,
     "metadata": {},
     "output_type": "execute_result"
    },
    {
     "data": {
      "text/plain": [
       "{'boxes': [<matplotlib.lines.Line2D at 0x7f39203fb0f0>,\n",
       "  <matplotlib.lines.Line2D at 0x7f39203f3748>,\n",
       "  <matplotlib.lines.Line2D at 0x7f39203fd5c0>,\n",
       "  <matplotlib.lines.Line2D at 0x7f39203e8ac8>,\n",
       "  <matplotlib.lines.Line2D at 0x7f39203a0630>],\n",
       " 'caps': [<matplotlib.lines.Line2D at 0x7f39203dc7b8>,\n",
       "  <matplotlib.lines.Line2D at 0x7f392040f0b8>,\n",
       "  <matplotlib.lines.Line2D at 0x7f39203f4cc0>,\n",
       "  <matplotlib.lines.Line2D at 0x7f39203edcf8>,\n",
       "  <matplotlib.lines.Line2D at 0x7f39203fc3c8>,\n",
       "  <matplotlib.lines.Line2D at 0x7f39203fc0b8>,\n",
       "  <matplotlib.lines.Line2D at 0x7f392040ccc0>,\n",
       "  <matplotlib.lines.Line2D at 0x7f39204148d0>,\n",
       "  <matplotlib.lines.Line2D at 0x7f39203a5860>,\n",
       "  <matplotlib.lines.Line2D at 0x7f39203a89e8>],\n",
       " 'fliers': [<matplotlib.lines.Line2D at 0x7f39203f2e48>,\n",
       "  <matplotlib.lines.Line2D at 0x7f392040e5c0>,\n",
       "  <matplotlib.lines.Line2D at 0x7f39204055c0>,\n",
       "  <matplotlib.lines.Line2D at 0x7f3920409710>,\n",
       "  <matplotlib.lines.Line2D at 0x7f39203cfa20>],\n",
       " 'means': [],\n",
       " 'medians': [<matplotlib.lines.Line2D at 0x7f39203aa630>,\n",
       "  <matplotlib.lines.Line2D at 0x7f39203eddd8>,\n",
       "  <matplotlib.lines.Line2D at 0x7f3920405748>,\n",
       "  <matplotlib.lines.Line2D at 0x7f3920374400>,\n",
       "  <matplotlib.lines.Line2D at 0x7f39203ca908>],\n",
       " 'whiskers': [<matplotlib.lines.Line2D at 0x7f39203fbb70>,\n",
       "  <matplotlib.lines.Line2D at 0x7f3920418630>,\n",
       "  <matplotlib.lines.Line2D at 0x7f39203f3dd8>,\n",
       "  <matplotlib.lines.Line2D at 0x7f39203f3d68>,\n",
       "  <matplotlib.lines.Line2D at 0x7f39203fd710>,\n",
       "  <matplotlib.lines.Line2D at 0x7f39203e9438>,\n",
       "  <matplotlib.lines.Line2D at 0x7f39203e8978>,\n",
       "  <matplotlib.lines.Line2D at 0x7f39203e85f8>,\n",
       "  <matplotlib.lines.Line2D at 0x7f39203b3e80>,\n",
       "  <matplotlib.lines.Line2D at 0x7f39203a39b0>]}"
      ]
     },
     "execution_count": 82,
     "metadata": {},
     "output_type": "execute_result"
    },
    {
     "data": {
      "text/plain": [
       "[<matplotlib.text.Text at 0x7f39203eecf8>,\n",
       " <matplotlib.text.Text at 0x7f39203ef3c8>,\n",
       " <matplotlib.text.Text at 0x7f392036f358>,\n",
       " <matplotlib.text.Text at 0x7f39203d9898>,\n",
       " <matplotlib.text.Text at 0x7f392172e710>]"
      ]
     },
     "execution_count": 82,
     "metadata": {},
     "output_type": "execute_result"
    },
    {
     "data": {
      "image/png": "[encoded data removed]",
      "text/plain": [
       "<matplotlib.figure.Figure at 0x7f39203f6160>"
      ]
     },
     "metadata": {},
     "output_type": "display_data"
    }
   ],
   "source": [
    "# boxplot accuracy comparison\n",
    "\n",
    "fig = plt.figure()\n",
    "fig.suptitle('Cross-Validation Accuracy Comparison')\n",
    "ax = fig.add_subplot(111)\n",
    "\n",
    "plt.boxplot(results)\n",
    "\n",
    "ax.set_xticklabels(names)\n",
    "plt.show()\n"
   ]
  },
  {
   "cell_type": "markdown",
   "metadata": {},
   "source": [
    "#### Golden test data set prediction with our final model\n",
    "\n",
    "our final best model is Random Forest Classifier. We will run prediction on that fit with the test data set we set aside at the beggining of the project. We will calculate statistics for the prediction."
   ]
  },
  {
   "cell_type": "code",
   "execution_count": 83,
   "metadata": {},
   "outputs": [
    {
     "name": "stdout",
     "output_type": "stream",
     "text": [
      "accuracy 0.8140\n",
      "precision 0.8119\n",
      "recall 0.8140\n",
      "f1_score 0.7954\n",
      "confusion matrix\n",
      " [[ 935   14    0   10    8   38   32]\n",
      " [  19  939    0  128    3   27   25]\n",
      " [  40    9   38   25   12  208   10]\n",
      " [  13   48    5  891    0    3   18]\n",
      " [  92   32    5   27  126   38   53]\n",
      " [  40   19    8    9    8 1030   47]\n",
      " [  25   37    1   23    5   66 1154]]\n",
      "process time 2590.4913\n",
      "\n",
      "\n"
     ]
    }
   ],
   "source": [
    "y_predFinal = RFclf.predict(golden_X_test)\n",
    "\n",
    "# calculate statistics\n",
    "\n",
    "accuracy = '{0:.4f}'.format(metrics.accuracy_score(golden_y_test, y_predFinal))\n",
    "precision = '{0:.4f}'.format(metrics.precision_score(golden_y_test, y_predFinal, average ='weighted'))\n",
    "recall = '{0:.4f}'.format(metrics.recall_score(golden_y_test, y_predFinal, average = 'weighted'))\n",
    "f1_score = '{0:.4f}'.format(metrics.f1_score(golden_y_test, y_predFinal, average = 'weighted'))\n",
    "toc =  time.clock()\n",
    "exetime = '{0:.4f}'.format(toc-tic)\n",
    "\n",
    "# print statistics\n",
    "print(\"accuracy\", accuracy )\n",
    "print(\"precision\", precision )\n",
    "print(\"recall\", recall )\n",
    "print(\"f1_score\", f1_score )\n",
    "print(\"confusion matrix\\n\", confusion_matrix(y_test, y_predRF))\n",
    "print('process time', exetime)\n",
    "print(\"\\n\")\n"
   ]
  },
  {
   "cell_type": "code",
   "execution_count": null,
   "metadata": {
    "collapsed": true
   },
   "outputs": [],
   "source": []
  },
  {
   "cell_type": "markdown",
   "metadata": {},
   "source": [
    "# \tExceptional Work\t\n",
    "We have implemented Grid search in our parament selection process."
   ]
  },
  {
   "cell_type": "code",
   "execution_count": null,
   "metadata": {
    "collapsed": true
   },
   "outputs": [],
   "source": []
  },
  {
   "cell_type": "code",
   "execution_count": null,
   "metadata": {
    "collapsed": true
   },
   "outputs": [],
   "source": []
  }
 ],
 "metadata": {
  "kernelspec": {
   "display_name": "Python 2",
   "language": "python",
   "name": "python2"
  },
  "language_info": {
   "codemirror_mode": {
    "name": "ipython",
    "version": 3
   },
   "file_extension": ".py",
   "mimetype": "text/x-python",
   "name": "python",
   "nbconvert_exporter": "python",
   "pygments_lexer": "ipython3",
   "version": "3.6.1"
  }
 },
 "nbformat": 4,
 "nbformat_minor": 2
}
