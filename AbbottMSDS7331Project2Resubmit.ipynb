{
 "cells": [
  {
   "cell_type": "markdown",
   "metadata": {},
   "source": [
    "# Project 2: Classification and Model Selection\n",
    " \n",
    " ## Deployment section updated"
   ]
  },
  {
   "cell_type": "markdown",
   "metadata": {},
   "source": [
    "Andrew Abbott  \n",
    "MSDS 7331  \n",
    "April 4, 2017\n",
    "Resubmittal"
   ]
  },
  {
   "cell_type": "markdown",
   "metadata": {},
   "source": [
    "The data is located at [http://kdd.ics.uci.edu/databases/covertype/covertype.data.html)"
   ]
  },
  {
   "cell_type": "markdown",
   "metadata": {},
   "source": [
    "## Business Understanding:"
   ]
  },
  {
   "cell_type": "markdown",
   "metadata": {},
   "source": [
    "The goal of this first classification task is to predict forect cover type for 30 x 30 meter cells from cartographic variables without need for remotely sensed data. The forest cover types, the classes for the first task, are:\n",
    "1. Spruce/Fir\n",
    "2. Lodgepole Pine\n",
    "3. Ponderosa Pine\n",
    "4. Cottonwood/Willow\n",
    "5. Aspen\n",
    "6. Douglas-Fir\n",
    "7. Krummholz"
   ]
  },
  {
   "cell_type": "markdown",
   "metadata": {},
   "source": [
    "## Data Understanding:"
   ]
  },
  {
   "cell_type": "markdown",
   "metadata": {},
   "source": [
    "The true forest cover type data is obtained from US Forestry Service (USFS) Region 2 Resource Information System (RIS). The independent variable data was obtained from US Geological Survey (USGS) and USFS data. "
   ]
  },
  {
   "cell_type": "markdown",
   "metadata": {},
   "source": []
  },
  {
   "cell_type": "code",
   "execution_count": 7,
   "metadata": {
    "collapsed": true
   },
   "outputs": [],
   "source": [
    "# Importing the libraries\n",
    "import numpy as np\n",
    "import matplotlib.pyplot as plt\n",
    "import pandas as pd"
   ]
  },
  {
   "cell_type": "code",
   "execution_count": 2,
   "metadata": {
    "collapsed": true
   },
   "outputs": [],
   "source": [
    "dataset = pd.read_csv('data/covtype.csv', header = None)\n",
    "my_columns = ['Elevation','Aspect','Slope','Horiz_Dist_to_Hydro','Vert_Dist_to_Hydro','Horiz_Dist_to_Road','Hillshade_9am',\n",
    "             'Hillshade_Noon','Hillshade_3pm','Horiz_Dist_to_Fire_pts','Wilderness_Area1','Wilderness_Area2','Wilderness_Area3',\n",
    "             'Wilderness_Area4','Soil_Type1','Soil_Type2','Soil_Type3','Soil_Type4','Soil_Type5','Soil_Type6','Soil_Type7',\n",
    "             'Soil_Type8','Soil_Type9','Soil_Type10','Soil_Type11','Soil_Type12','Soil_Type13','Soil_Type14','Soil_Type15','Soil_Type16',\n",
    "              'Soil_Type17','Soil_Type18','Soil_Type19','Soil_Type20','Soil_Type21','Soil_Type22','Soil_Type23','Soil_Type24',\n",
    "             'Soil_Type25','Soil_Type26','Soil_Type27','Soil_Type28','Soil_Type29','Soil_Type30','Soil_Type31','Soil_Type32',\n",
    "             'Soil_Type33','Soil_Type34','Soil_Type35','Soil_Type36','Soil_Type37','Soil_Type38','Soil_Type39','Soil_Type40',\n",
    "             'Cover_Type']\n",
    "dataset.columns = my_columns\n",
    "X = dataset.iloc[:, :-1]\n",
    "y = dataset.iloc[:, -1]"
   ]
  },
  {
   "cell_type": "code",
   "execution_count": 3,
   "metadata": {},
   "outputs": [
    {
     "data": {
      "text/html": [
       "<div>\n",
       "<table border=\"1\" class=\"dataframe\">\n",
       "  <thead>\n",
       "    <tr style=\"text-align: right;\">\n",
       "      <th></th>\n",
       "      <th>count</th>\n",
       "      <th>mean</th>\n",
       "      <th>std</th>\n",
       "      <th>min</th>\n",
       "      <th>25%</th>\n",
       "      <th>50%</th>\n",
       "      <th>75%</th>\n",
       "      <th>max</th>\n",
       "    </tr>\n",
       "  </thead>\n",
       "  <tbody>\n",
       "    <tr>\n",
       "      <th>Elevation</th>\n",
       "      <td>581012.0</td>\n",
       "      <td>2959.365301</td>\n",
       "      <td>279.984734</td>\n",
       "      <td>1859.0</td>\n",
       "      <td>2809.0</td>\n",
       "      <td>2996.0</td>\n",
       "      <td>3163.0</td>\n",
       "      <td>3858.0</td>\n",
       "    </tr>\n",
       "    <tr>\n",
       "      <th>Aspect</th>\n",
       "      <td>581012.0</td>\n",
       "      <td>155.656807</td>\n",
       "      <td>111.913721</td>\n",
       "      <td>0.0</td>\n",
       "      <td>58.0</td>\n",
       "      <td>127.0</td>\n",
       "      <td>260.0</td>\n",
       "      <td>360.0</td>\n",
       "    </tr>\n",
       "    <tr>\n",
       "      <th>Slope</th>\n",
       "      <td>581012.0</td>\n",
       "      <td>14.103704</td>\n",
       "      <td>7.488242</td>\n",
       "      <td>0.0</td>\n",
       "      <td>9.0</td>\n",
       "      <td>13.0</td>\n",
       "      <td>18.0</td>\n",
       "      <td>66.0</td>\n",
       "    </tr>\n",
       "    <tr>\n",
       "      <th>Horiz_Dist_to_Hydro</th>\n",
       "      <td>581012.0</td>\n",
       "      <td>269.428217</td>\n",
       "      <td>212.549356</td>\n",
       "      <td>0.0</td>\n",
       "      <td>108.0</td>\n",
       "      <td>218.0</td>\n",
       "      <td>384.0</td>\n",
       "      <td>1397.0</td>\n",
       "    </tr>\n",
       "    <tr>\n",
       "      <th>Vert_Dist_to_Hydro</th>\n",
       "      <td>581012.0</td>\n",
       "      <td>46.418855</td>\n",
       "      <td>58.295232</td>\n",
       "      <td>-173.0</td>\n",
       "      <td>7.0</td>\n",
       "      <td>30.0</td>\n",
       "      <td>69.0</td>\n",
       "      <td>601.0</td>\n",
       "    </tr>\n",
       "    <tr>\n",
       "      <th>Horiz_Dist_to_Road</th>\n",
       "      <td>581012.0</td>\n",
       "      <td>2350.146611</td>\n",
       "      <td>1559.254870</td>\n",
       "      <td>0.0</td>\n",
       "      <td>1106.0</td>\n",
       "      <td>1997.0</td>\n",
       "      <td>3328.0</td>\n",
       "      <td>7117.0</td>\n",
       "    </tr>\n",
       "    <tr>\n",
       "      <th>Hillshade_9am</th>\n",
       "      <td>581012.0</td>\n",
       "      <td>212.146049</td>\n",
       "      <td>26.769889</td>\n",
       "      <td>0.0</td>\n",
       "      <td>198.0</td>\n",
       "      <td>218.0</td>\n",
       "      <td>231.0</td>\n",
       "      <td>254.0</td>\n",
       "    </tr>\n",
       "    <tr>\n",
       "      <th>Hillshade_Noon</th>\n",
       "      <td>581012.0</td>\n",
       "      <td>223.318716</td>\n",
       "      <td>19.768697</td>\n",
       "      <td>0.0</td>\n",
       "      <td>213.0</td>\n",
       "      <td>226.0</td>\n",
       "      <td>237.0</td>\n",
       "      <td>254.0</td>\n",
       "    </tr>\n",
       "    <tr>\n",
       "      <th>Hillshade_3pm</th>\n",
       "      <td>581012.0</td>\n",
       "      <td>142.528263</td>\n",
       "      <td>38.274529</td>\n",
       "      <td>0.0</td>\n",
       "      <td>119.0</td>\n",
       "      <td>143.0</td>\n",
       "      <td>168.0</td>\n",
       "      <td>254.0</td>\n",
       "    </tr>\n",
       "    <tr>\n",
       "      <th>Horiz_Dist_to_Fire_pts</th>\n",
       "      <td>581012.0</td>\n",
       "      <td>1980.291226</td>\n",
       "      <td>1324.195210</td>\n",
       "      <td>0.0</td>\n",
       "      <td>1024.0</td>\n",
       "      <td>1710.0</td>\n",
       "      <td>2550.0</td>\n",
       "      <td>7173.0</td>\n",
       "    </tr>\n",
       "    <tr>\n",
       "      <th>Wilderness_Area1</th>\n",
       "      <td>581012.0</td>\n",
       "      <td>0.448865</td>\n",
       "      <td>0.497379</td>\n",
       "      <td>0.0</td>\n",
       "      <td>0.0</td>\n",
       "      <td>0.0</td>\n",
       "      <td>1.0</td>\n",
       "      <td>1.0</td>\n",
       "    </tr>\n",
       "    <tr>\n",
       "      <th>Wilderness_Area2</th>\n",
       "      <td>581012.0</td>\n",
       "      <td>0.051434</td>\n",
       "      <td>0.220882</td>\n",
       "      <td>0.0</td>\n",
       "      <td>0.0</td>\n",
       "      <td>0.0</td>\n",
       "      <td>0.0</td>\n",
       "      <td>1.0</td>\n",
       "    </tr>\n",
       "    <tr>\n",
       "      <th>Wilderness_Area3</th>\n",
       "      <td>581012.0</td>\n",
       "      <td>0.436074</td>\n",
       "      <td>0.495897</td>\n",
       "      <td>0.0</td>\n",
       "      <td>0.0</td>\n",
       "      <td>0.0</td>\n",
       "      <td>1.0</td>\n",
       "      <td>1.0</td>\n",
       "    </tr>\n",
       "    <tr>\n",
       "      <th>Wilderness_Area4</th>\n",
       "      <td>581012.0</td>\n",
       "      <td>0.063627</td>\n",
       "      <td>0.244087</td>\n",
       "      <td>0.0</td>\n",
       "      <td>0.0</td>\n",
       "      <td>0.0</td>\n",
       "      <td>0.0</td>\n",
       "      <td>1.0</td>\n",
       "    </tr>\n",
       "    <tr>\n",
       "      <th>Soil_Type1</th>\n",
       "      <td>581012.0</td>\n",
       "      <td>0.005217</td>\n",
       "      <td>0.072039</td>\n",
       "      <td>0.0</td>\n",
       "      <td>0.0</td>\n",
       "      <td>0.0</td>\n",
       "      <td>0.0</td>\n",
       "      <td>1.0</td>\n",
       "    </tr>\n",
       "    <tr>\n",
       "      <th>Soil_Type2</th>\n",
       "      <td>581012.0</td>\n",
       "      <td>0.012952</td>\n",
       "      <td>0.113066</td>\n",
       "      <td>0.0</td>\n",
       "      <td>0.0</td>\n",
       "      <td>0.0</td>\n",
       "      <td>0.0</td>\n",
       "      <td>1.0</td>\n",
       "    </tr>\n",
       "    <tr>\n",
       "      <th>Soil_Type3</th>\n",
       "      <td>581012.0</td>\n",
       "      <td>0.008301</td>\n",
       "      <td>0.090731</td>\n",
       "      <td>0.0</td>\n",
       "      <td>0.0</td>\n",
       "      <td>0.0</td>\n",
       "      <td>0.0</td>\n",
       "      <td>1.0</td>\n",
       "    </tr>\n",
       "    <tr>\n",
       "      <th>Soil_Type4</th>\n",
       "      <td>581012.0</td>\n",
       "      <td>0.021335</td>\n",
       "      <td>0.144499</td>\n",
       "      <td>0.0</td>\n",
       "      <td>0.0</td>\n",
       "      <td>0.0</td>\n",
       "      <td>0.0</td>\n",
       "      <td>1.0</td>\n",
       "    </tr>\n",
       "    <tr>\n",
       "      <th>Soil_Type5</th>\n",
       "      <td>581012.0</td>\n",
       "      <td>0.002749</td>\n",
       "      <td>0.052356</td>\n",
       "      <td>0.0</td>\n",
       "      <td>0.0</td>\n",
       "      <td>0.0</td>\n",
       "      <td>0.0</td>\n",
       "      <td>1.0</td>\n",
       "    </tr>\n",
       "    <tr>\n",
       "      <th>Soil_Type6</th>\n",
       "      <td>581012.0</td>\n",
       "      <td>0.011316</td>\n",
       "      <td>0.105775</td>\n",
       "      <td>0.0</td>\n",
       "      <td>0.0</td>\n",
       "      <td>0.0</td>\n",
       "      <td>0.0</td>\n",
       "      <td>1.0</td>\n",
       "    </tr>\n",
       "    <tr>\n",
       "      <th>Soil_Type7</th>\n",
       "      <td>581012.0</td>\n",
       "      <td>0.000181</td>\n",
       "      <td>0.013442</td>\n",
       "      <td>0.0</td>\n",
       "      <td>0.0</td>\n",
       "      <td>0.0</td>\n",
       "      <td>0.0</td>\n",
       "      <td>1.0</td>\n",
       "    </tr>\n",
       "    <tr>\n",
       "      <th>Soil_Type8</th>\n",
       "      <td>581012.0</td>\n",
       "      <td>0.000308</td>\n",
       "      <td>0.017550</td>\n",
       "      <td>0.0</td>\n",
       "      <td>0.0</td>\n",
       "      <td>0.0</td>\n",
       "      <td>0.0</td>\n",
       "      <td>1.0</td>\n",
       "    </tr>\n",
       "    <tr>\n",
       "      <th>Soil_Type9</th>\n",
       "      <td>581012.0</td>\n",
       "      <td>0.001974</td>\n",
       "      <td>0.044387</td>\n",
       "      <td>0.0</td>\n",
       "      <td>0.0</td>\n",
       "      <td>0.0</td>\n",
       "      <td>0.0</td>\n",
       "      <td>1.0</td>\n",
       "    </tr>\n",
       "    <tr>\n",
       "      <th>Soil_Type10</th>\n",
       "      <td>581012.0</td>\n",
       "      <td>0.056168</td>\n",
       "      <td>0.230245</td>\n",
       "      <td>0.0</td>\n",
       "      <td>0.0</td>\n",
       "      <td>0.0</td>\n",
       "      <td>0.0</td>\n",
       "      <td>1.0</td>\n",
       "    </tr>\n",
       "    <tr>\n",
       "      <th>Soil_Type11</th>\n",
       "      <td>581012.0</td>\n",
       "      <td>0.021359</td>\n",
       "      <td>0.144579</td>\n",
       "      <td>0.0</td>\n",
       "      <td>0.0</td>\n",
       "      <td>0.0</td>\n",
       "      <td>0.0</td>\n",
       "      <td>1.0</td>\n",
       "    </tr>\n",
       "    <tr>\n",
       "      <th>Soil_Type12</th>\n",
       "      <td>581012.0</td>\n",
       "      <td>0.051584</td>\n",
       "      <td>0.221186</td>\n",
       "      <td>0.0</td>\n",
       "      <td>0.0</td>\n",
       "      <td>0.0</td>\n",
       "      <td>0.0</td>\n",
       "      <td>1.0</td>\n",
       "    </tr>\n",
       "    <tr>\n",
       "      <th>Soil_Type13</th>\n",
       "      <td>581012.0</td>\n",
       "      <td>0.030001</td>\n",
       "      <td>0.170590</td>\n",
       "      <td>0.0</td>\n",
       "      <td>0.0</td>\n",
       "      <td>0.0</td>\n",
       "      <td>0.0</td>\n",
       "      <td>1.0</td>\n",
       "    </tr>\n",
       "    <tr>\n",
       "      <th>Soil_Type14</th>\n",
       "      <td>581012.0</td>\n",
       "      <td>0.001031</td>\n",
       "      <td>0.032092</td>\n",
       "      <td>0.0</td>\n",
       "      <td>0.0</td>\n",
       "      <td>0.0</td>\n",
       "      <td>0.0</td>\n",
       "      <td>1.0</td>\n",
       "    </tr>\n",
       "    <tr>\n",
       "      <th>Soil_Type15</th>\n",
       "      <td>581012.0</td>\n",
       "      <td>0.000005</td>\n",
       "      <td>0.002272</td>\n",
       "      <td>0.0</td>\n",
       "      <td>0.0</td>\n",
       "      <td>0.0</td>\n",
       "      <td>0.0</td>\n",
       "      <td>1.0</td>\n",
       "    </tr>\n",
       "    <tr>\n",
       "      <th>Soil_Type16</th>\n",
       "      <td>581012.0</td>\n",
       "      <td>0.004897</td>\n",
       "      <td>0.069804</td>\n",
       "      <td>0.0</td>\n",
       "      <td>0.0</td>\n",
       "      <td>0.0</td>\n",
       "      <td>0.0</td>\n",
       "      <td>1.0</td>\n",
       "    </tr>\n",
       "    <tr>\n",
       "      <th>Soil_Type17</th>\n",
       "      <td>581012.0</td>\n",
       "      <td>0.005890</td>\n",
       "      <td>0.076518</td>\n",
       "      <td>0.0</td>\n",
       "      <td>0.0</td>\n",
       "      <td>0.0</td>\n",
       "      <td>0.0</td>\n",
       "      <td>1.0</td>\n",
       "    </tr>\n",
       "    <tr>\n",
       "      <th>Soil_Type18</th>\n",
       "      <td>581012.0</td>\n",
       "      <td>0.003268</td>\n",
       "      <td>0.057077</td>\n",
       "      <td>0.0</td>\n",
       "      <td>0.0</td>\n",
       "      <td>0.0</td>\n",
       "      <td>0.0</td>\n",
       "      <td>1.0</td>\n",
       "    </tr>\n",
       "    <tr>\n",
       "      <th>Soil_Type19</th>\n",
       "      <td>581012.0</td>\n",
       "      <td>0.006921</td>\n",
       "      <td>0.082902</td>\n",
       "      <td>0.0</td>\n",
       "      <td>0.0</td>\n",
       "      <td>0.0</td>\n",
       "      <td>0.0</td>\n",
       "      <td>1.0</td>\n",
       "    </tr>\n",
       "    <tr>\n",
       "      <th>Soil_Type20</th>\n",
       "      <td>581012.0</td>\n",
       "      <td>0.015936</td>\n",
       "      <td>0.125228</td>\n",
       "      <td>0.0</td>\n",
       "      <td>0.0</td>\n",
       "      <td>0.0</td>\n",
       "      <td>0.0</td>\n",
       "      <td>1.0</td>\n",
       "    </tr>\n",
       "    <tr>\n",
       "      <th>Soil_Type21</th>\n",
       "      <td>581012.0</td>\n",
       "      <td>0.001442</td>\n",
       "      <td>0.037950</td>\n",
       "      <td>0.0</td>\n",
       "      <td>0.0</td>\n",
       "      <td>0.0</td>\n",
       "      <td>0.0</td>\n",
       "      <td>1.0</td>\n",
       "    </tr>\n",
       "    <tr>\n",
       "      <th>Soil_Type22</th>\n",
       "      <td>581012.0</td>\n",
       "      <td>0.057439</td>\n",
       "      <td>0.232681</td>\n",
       "      <td>0.0</td>\n",
       "      <td>0.0</td>\n",
       "      <td>0.0</td>\n",
       "      <td>0.0</td>\n",
       "      <td>1.0</td>\n",
       "    </tr>\n",
       "    <tr>\n",
       "      <th>Soil_Type23</th>\n",
       "      <td>581012.0</td>\n",
       "      <td>0.099399</td>\n",
       "      <td>0.299197</td>\n",
       "      <td>0.0</td>\n",
       "      <td>0.0</td>\n",
       "      <td>0.0</td>\n",
       "      <td>0.0</td>\n",
       "      <td>1.0</td>\n",
       "    </tr>\n",
       "    <tr>\n",
       "      <th>Soil_Type24</th>\n",
       "      <td>581012.0</td>\n",
       "      <td>0.036622</td>\n",
       "      <td>0.187833</td>\n",
       "      <td>0.0</td>\n",
       "      <td>0.0</td>\n",
       "      <td>0.0</td>\n",
       "      <td>0.0</td>\n",
       "      <td>1.0</td>\n",
       "    </tr>\n",
       "    <tr>\n",
       "      <th>Soil_Type25</th>\n",
       "      <td>581012.0</td>\n",
       "      <td>0.000816</td>\n",
       "      <td>0.028551</td>\n",
       "      <td>0.0</td>\n",
       "      <td>0.0</td>\n",
       "      <td>0.0</td>\n",
       "      <td>0.0</td>\n",
       "      <td>1.0</td>\n",
       "    </tr>\n",
       "    <tr>\n",
       "      <th>Soil_Type26</th>\n",
       "      <td>581012.0</td>\n",
       "      <td>0.004456</td>\n",
       "      <td>0.066605</td>\n",
       "      <td>0.0</td>\n",
       "      <td>0.0</td>\n",
       "      <td>0.0</td>\n",
       "      <td>0.0</td>\n",
       "      <td>1.0</td>\n",
       "    </tr>\n",
       "    <tr>\n",
       "      <th>Soil_Type27</th>\n",
       "      <td>581012.0</td>\n",
       "      <td>0.001869</td>\n",
       "      <td>0.043193</td>\n",
       "      <td>0.0</td>\n",
       "      <td>0.0</td>\n",
       "      <td>0.0</td>\n",
       "      <td>0.0</td>\n",
       "      <td>1.0</td>\n",
       "    </tr>\n",
       "    <tr>\n",
       "      <th>Soil_Type28</th>\n",
       "      <td>581012.0</td>\n",
       "      <td>0.001628</td>\n",
       "      <td>0.040318</td>\n",
       "      <td>0.0</td>\n",
       "      <td>0.0</td>\n",
       "      <td>0.0</td>\n",
       "      <td>0.0</td>\n",
       "      <td>1.0</td>\n",
       "    </tr>\n",
       "    <tr>\n",
       "      <th>Soil_Type29</th>\n",
       "      <td>581012.0</td>\n",
       "      <td>0.198356</td>\n",
       "      <td>0.398762</td>\n",
       "      <td>0.0</td>\n",
       "      <td>0.0</td>\n",
       "      <td>0.0</td>\n",
       "      <td>0.0</td>\n",
       "      <td>1.0</td>\n",
       "    </tr>\n",
       "    <tr>\n",
       "      <th>Soil_Type30</th>\n",
       "      <td>581012.0</td>\n",
       "      <td>0.051927</td>\n",
       "      <td>0.221879</td>\n",
       "      <td>0.0</td>\n",
       "      <td>0.0</td>\n",
       "      <td>0.0</td>\n",
       "      <td>0.0</td>\n",
       "      <td>1.0</td>\n",
       "    </tr>\n",
       "    <tr>\n",
       "      <th>Soil_Type31</th>\n",
       "      <td>581012.0</td>\n",
       "      <td>0.044175</td>\n",
       "      <td>0.205483</td>\n",
       "      <td>0.0</td>\n",
       "      <td>0.0</td>\n",
       "      <td>0.0</td>\n",
       "      <td>0.0</td>\n",
       "      <td>1.0</td>\n",
       "    </tr>\n",
       "    <tr>\n",
       "      <th>Soil_Type32</th>\n",
       "      <td>581012.0</td>\n",
       "      <td>0.090392</td>\n",
       "      <td>0.286743</td>\n",
       "      <td>0.0</td>\n",
       "      <td>0.0</td>\n",
       "      <td>0.0</td>\n",
       "      <td>0.0</td>\n",
       "      <td>1.0</td>\n",
       "    </tr>\n",
       "    <tr>\n",
       "      <th>Soil_Type33</th>\n",
       "      <td>581012.0</td>\n",
       "      <td>0.077716</td>\n",
       "      <td>0.267725</td>\n",
       "      <td>0.0</td>\n",
       "      <td>0.0</td>\n",
       "      <td>0.0</td>\n",
       "      <td>0.0</td>\n",
       "      <td>1.0</td>\n",
       "    </tr>\n",
       "    <tr>\n",
       "      <th>Soil_Type34</th>\n",
       "      <td>581012.0</td>\n",
       "      <td>0.002773</td>\n",
       "      <td>0.052584</td>\n",
       "      <td>0.0</td>\n",
       "      <td>0.0</td>\n",
       "      <td>0.0</td>\n",
       "      <td>0.0</td>\n",
       "      <td>1.0</td>\n",
       "    </tr>\n",
       "    <tr>\n",
       "      <th>Soil_Type35</th>\n",
       "      <td>581012.0</td>\n",
       "      <td>0.003255</td>\n",
       "      <td>0.056957</td>\n",
       "      <td>0.0</td>\n",
       "      <td>0.0</td>\n",
       "      <td>0.0</td>\n",
       "      <td>0.0</td>\n",
       "      <td>1.0</td>\n",
       "    </tr>\n",
       "    <tr>\n",
       "      <th>Soil_Type36</th>\n",
       "      <td>581012.0</td>\n",
       "      <td>0.000205</td>\n",
       "      <td>0.014310</td>\n",
       "      <td>0.0</td>\n",
       "      <td>0.0</td>\n",
       "      <td>0.0</td>\n",
       "      <td>0.0</td>\n",
       "      <td>1.0</td>\n",
       "    </tr>\n",
       "    <tr>\n",
       "      <th>Soil_Type37</th>\n",
       "      <td>581012.0</td>\n",
       "      <td>0.000513</td>\n",
       "      <td>0.022641</td>\n",
       "      <td>0.0</td>\n",
       "      <td>0.0</td>\n",
       "      <td>0.0</td>\n",
       "      <td>0.0</td>\n",
       "      <td>1.0</td>\n",
       "    </tr>\n",
       "    <tr>\n",
       "      <th>Soil_Type38</th>\n",
       "      <td>581012.0</td>\n",
       "      <td>0.026803</td>\n",
       "      <td>0.161508</td>\n",
       "      <td>0.0</td>\n",
       "      <td>0.0</td>\n",
       "      <td>0.0</td>\n",
       "      <td>0.0</td>\n",
       "      <td>1.0</td>\n",
       "    </tr>\n",
       "    <tr>\n",
       "      <th>Soil_Type39</th>\n",
       "      <td>581012.0</td>\n",
       "      <td>0.023762</td>\n",
       "      <td>0.152307</td>\n",
       "      <td>0.0</td>\n",
       "      <td>0.0</td>\n",
       "      <td>0.0</td>\n",
       "      <td>0.0</td>\n",
       "      <td>1.0</td>\n",
       "    </tr>\n",
       "    <tr>\n",
       "      <th>Soil_Type40</th>\n",
       "      <td>581012.0</td>\n",
       "      <td>0.015060</td>\n",
       "      <td>0.121791</td>\n",
       "      <td>0.0</td>\n",
       "      <td>0.0</td>\n",
       "      <td>0.0</td>\n",
       "      <td>0.0</td>\n",
       "      <td>1.0</td>\n",
       "    </tr>\n",
       "  </tbody>\n",
       "</table>\n",
       "</div>"
      ],
      "text/plain": [
       "                           count         mean          std     min     25%  \\\n",
       "Elevation               581012.0  2959.365301   279.984734  1859.0  2809.0   \n",
       "Aspect                  581012.0   155.656807   111.913721     0.0    58.0   \n",
       "Slope                   581012.0    14.103704     7.488242     0.0     9.0   \n",
       "Horiz_Dist_to_Hydro     581012.0   269.428217   212.549356     0.0   108.0   \n",
       "Vert_Dist_to_Hydro      581012.0    46.418855    58.295232  -173.0     7.0   \n",
       "Horiz_Dist_to_Road      581012.0  2350.146611  1559.254870     0.0  1106.0   \n",
       "Hillshade_9am           581012.0   212.146049    26.769889     0.0   198.0   \n",
       "Hillshade_Noon          581012.0   223.318716    19.768697     0.0   213.0   \n",
       "Hillshade_3pm           581012.0   142.528263    38.274529     0.0   119.0   \n",
       "Horiz_Dist_to_Fire_pts  581012.0  1980.291226  1324.195210     0.0  1024.0   \n",
       "Wilderness_Area1        581012.0     0.448865     0.497379     0.0     0.0   \n",
       "Wilderness_Area2        581012.0     0.051434     0.220882     0.0     0.0   \n",
       "Wilderness_Area3        581012.0     0.436074     0.495897     0.0     0.0   \n",
       "Wilderness_Area4        581012.0     0.063627     0.244087     0.0     0.0   \n",
       "Soil_Type1              581012.0     0.005217     0.072039     0.0     0.0   \n",
       "Soil_Type2              581012.0     0.012952     0.113066     0.0     0.0   \n",
       "Soil_Type3              581012.0     0.008301     0.090731     0.0     0.0   \n",
       "Soil_Type4              581012.0     0.021335     0.144499     0.0     0.0   \n",
       "Soil_Type5              581012.0     0.002749     0.052356     0.0     0.0   \n",
       "Soil_Type6              581012.0     0.011316     0.105775     0.0     0.0   \n",
       "Soil_Type7              581012.0     0.000181     0.013442     0.0     0.0   \n",
       "Soil_Type8              581012.0     0.000308     0.017550     0.0     0.0   \n",
       "Soil_Type9              581012.0     0.001974     0.044387     0.0     0.0   \n",
       "Soil_Type10             581012.0     0.056168     0.230245     0.0     0.0   \n",
       "Soil_Type11             581012.0     0.021359     0.144579     0.0     0.0   \n",
       "Soil_Type12             581012.0     0.051584     0.221186     0.0     0.0   \n",
       "Soil_Type13             581012.0     0.030001     0.170590     0.0     0.0   \n",
       "Soil_Type14             581012.0     0.001031     0.032092     0.0     0.0   \n",
       "Soil_Type15             581012.0     0.000005     0.002272     0.0     0.0   \n",
       "Soil_Type16             581012.0     0.004897     0.069804     0.0     0.0   \n",
       "Soil_Type17             581012.0     0.005890     0.076518     0.0     0.0   \n",
       "Soil_Type18             581012.0     0.003268     0.057077     0.0     0.0   \n",
       "Soil_Type19             581012.0     0.006921     0.082902     0.0     0.0   \n",
       "Soil_Type20             581012.0     0.015936     0.125228     0.0     0.0   \n",
       "Soil_Type21             581012.0     0.001442     0.037950     0.0     0.0   \n",
       "Soil_Type22             581012.0     0.057439     0.232681     0.0     0.0   \n",
       "Soil_Type23             581012.0     0.099399     0.299197     0.0     0.0   \n",
       "Soil_Type24             581012.0     0.036622     0.187833     0.0     0.0   \n",
       "Soil_Type25             581012.0     0.000816     0.028551     0.0     0.0   \n",
       "Soil_Type26             581012.0     0.004456     0.066605     0.0     0.0   \n",
       "Soil_Type27             581012.0     0.001869     0.043193     0.0     0.0   \n",
       "Soil_Type28             581012.0     0.001628     0.040318     0.0     0.0   \n",
       "Soil_Type29             581012.0     0.198356     0.398762     0.0     0.0   \n",
       "Soil_Type30             581012.0     0.051927     0.221879     0.0     0.0   \n",
       "Soil_Type31             581012.0     0.044175     0.205483     0.0     0.0   \n",
       "Soil_Type32             581012.0     0.090392     0.286743     0.0     0.0   \n",
       "Soil_Type33             581012.0     0.077716     0.267725     0.0     0.0   \n",
       "Soil_Type34             581012.0     0.002773     0.052584     0.0     0.0   \n",
       "Soil_Type35             581012.0     0.003255     0.056957     0.0     0.0   \n",
       "Soil_Type36             581012.0     0.000205     0.014310     0.0     0.0   \n",
       "Soil_Type37             581012.0     0.000513     0.022641     0.0     0.0   \n",
       "Soil_Type38             581012.0     0.026803     0.161508     0.0     0.0   \n",
       "Soil_Type39             581012.0     0.023762     0.152307     0.0     0.0   \n",
       "Soil_Type40             581012.0     0.015060     0.121791     0.0     0.0   \n",
       "\n",
       "                           50%     75%     max  \n",
       "Elevation               2996.0  3163.0  3858.0  \n",
       "Aspect                   127.0   260.0   360.0  \n",
       "Slope                     13.0    18.0    66.0  \n",
       "Horiz_Dist_to_Hydro      218.0   384.0  1397.0  \n",
       "Vert_Dist_to_Hydro        30.0    69.0   601.0  \n",
       "Horiz_Dist_to_Road      1997.0  3328.0  7117.0  \n",
       "Hillshade_9am            218.0   231.0   254.0  \n",
       "Hillshade_Noon           226.0   237.0   254.0  \n",
       "Hillshade_3pm            143.0   168.0   254.0  \n",
       "Horiz_Dist_to_Fire_pts  1710.0  2550.0  7173.0  \n",
       "Wilderness_Area1           0.0     1.0     1.0  \n",
       "Wilderness_Area2           0.0     0.0     1.0  \n",
       "Wilderness_Area3           0.0     1.0     1.0  \n",
       "Wilderness_Area4           0.0     0.0     1.0  \n",
       "Soil_Type1                 0.0     0.0     1.0  \n",
       "Soil_Type2                 0.0     0.0     1.0  \n",
       "Soil_Type3                 0.0     0.0     1.0  \n",
       "Soil_Type4                 0.0     0.0     1.0  \n",
       "Soil_Type5                 0.0     0.0     1.0  \n",
       "Soil_Type6                 0.0     0.0     1.0  \n",
       "Soil_Type7                 0.0     0.0     1.0  \n",
       "Soil_Type8                 0.0     0.0     1.0  \n",
       "Soil_Type9                 0.0     0.0     1.0  \n",
       "Soil_Type10                0.0     0.0     1.0  \n",
       "Soil_Type11                0.0     0.0     1.0  \n",
       "Soil_Type12                0.0     0.0     1.0  \n",
       "Soil_Type13                0.0     0.0     1.0  \n",
       "Soil_Type14                0.0     0.0     1.0  \n",
       "Soil_Type15                0.0     0.0     1.0  \n",
       "Soil_Type16                0.0     0.0     1.0  \n",
       "Soil_Type17                0.0     0.0     1.0  \n",
       "Soil_Type18                0.0     0.0     1.0  \n",
       "Soil_Type19                0.0     0.0     1.0  \n",
       "Soil_Type20                0.0     0.0     1.0  \n",
       "Soil_Type21                0.0     0.0     1.0  \n",
       "Soil_Type22                0.0     0.0     1.0  \n",
       "Soil_Type23                0.0     0.0     1.0  \n",
       "Soil_Type24                0.0     0.0     1.0  \n",
       "Soil_Type25                0.0     0.0     1.0  \n",
       "Soil_Type26                0.0     0.0     1.0  \n",
       "Soil_Type27                0.0     0.0     1.0  \n",
       "Soil_Type28                0.0     0.0     1.0  \n",
       "Soil_Type29                0.0     0.0     1.0  \n",
       "Soil_Type30                0.0     0.0     1.0  \n",
       "Soil_Type31                0.0     0.0     1.0  \n",
       "Soil_Type32                0.0     0.0     1.0  \n",
       "Soil_Type33                0.0     0.0     1.0  \n",
       "Soil_Type34                0.0     0.0     1.0  \n",
       "Soil_Type35                0.0     0.0     1.0  \n",
       "Soil_Type36                0.0     0.0     1.0  \n",
       "Soil_Type37                0.0     0.0     1.0  \n",
       "Soil_Type38                0.0     0.0     1.0  \n",
       "Soil_Type39                0.0     0.0     1.0  \n",
       "Soil_Type40                0.0     0.0     1.0  "
      ]
     },
     "execution_count": 3,
     "metadata": {},
     "output_type": "execute_result"
    }
   ],
   "source": [
    "X.describe().transpose()"
   ]
  },
  {
   "cell_type": "markdown",
   "metadata": {},
   "source": [
    "The summary statistics above show:  \n",
    "581,012 observations  \n",
    "54 Attributes  \n",
    "\n",
    "Of those 54 attributes there are 12 measures.   \n",
    "10 quantitative measures  \n",
    "4 binary wilderness type indicators  \n",
    "40 binary soil type indicators  \n",
    "\n",
    "The dependent variable is Cover_Type and is an integer from 1 to 7.  \n",
    "\n",
    "Luckily there are no missing values or outliers."
   ]
  },
  {
   "cell_type": "markdown",
   "metadata": {},
   "source": [
    "## Training and Testing Split:"
   ]
  },
  {
   "cell_type": "markdown",
   "metadata": {},
   "source": [
    "I use train_test_split from scikit-learn's model_selection to split the data into training and test sets. I assigned the independent variables to X and th dependent variable to y above. Using those as inputs, the following command creates training and test sets of X and y. I use 80% of the data for training and 10% for test."
   ]
  },
  {
   "cell_type": "code",
   "execution_count": 8,
   "metadata": {
    "collapsed": true
   },
   "outputs": [],
   "source": [
    "# Splitting the dataset into the Training set and Test set\n",
    "from sklearn.model_selection import train_test_split\n",
    "X_train, X_test, y_train, y_test = train_test_split(X, y, test_size = 0.2, random_state = 0)"
   ]
  },
  {
   "cell_type": "markdown",
   "metadata": {},
   "source": [
    "## Feature Scaling:"
   ]
  },
  {
   "cell_type": "markdown",
   "metadata": {},
   "source": [
    "Because the variables are not all on the same scale, some variables could be given more importance than they warrant. To prevent this I will rescale all of the independent variables to be on the same scale using scikit-learn.preprocessing StandardScaler."
   ]
  },
  {
   "cell_type": "code",
   "execution_count": 9,
   "metadata": {
    "collapsed": true
   },
   "outputs": [],
   "source": [
    "# Feature Scaling\n",
    "from sklearn.preprocessing import StandardScaler\n",
    "sc = StandardScaler()\n",
    "X_train = sc.fit_transform(X_train)\n",
    "X_test = sc.transform(X_test)"
   ]
  },
  {
   "cell_type": "code",
   "execution_count": 91,
   "metadata": {},
   "outputs": [
    {
     "data": {
      "text/plain": [
       "array([[-1.84064495, -1.35478696,  0.1206809 , ..., -0.16611767,\n",
       "        -0.15515245, -0.12384181],\n",
       "       [ 1.41287262, -0.53258265,  1.18912469, ..., -0.16611767,\n",
       "        -0.15515245,  8.0748175 ],\n",
       "       [ 0.10218003,  1.54973913, -1.34842932, ..., -0.16611767,\n",
       "        -0.15515245, -0.12384181],\n",
       "       ..., \n",
       "       [-1.41565198, -0.23766154, -0.68065195, ..., -0.16611767,\n",
       "        -0.15515245, -0.12384181],\n",
       "       [ 1.29501743,  0.73647182, -0.01287458, ..., -0.16611767,\n",
       "        -0.15515245, -0.12384181],\n",
       "       [-1.70493291,  0.91521189,  1.58979111, ..., -0.16611767,\n",
       "        -0.15515245, -0.12384181]])"
      ]
     },
     "execution_count": 91,
     "metadata": {},
     "output_type": "execute_result"
    }
   ],
   "source": [
    "X_train"
   ]
  },
  {
   "cell_type": "markdown",
   "metadata": {},
   "source": [
    "The training and test sets of X are now all scaled the same and ready to apply models to."
   ]
  },
  {
   "cell_type": "markdown",
   "metadata": {},
   "source": [
    "## Linear Support Vector Machine:"
   ]
  },
  {
   "cell_type": "markdown",
   "metadata": {},
   "source": [
    "The first model I will try is a Support Vector Machine (SVM) using a linear kernel. Because of the size of the dataset, processing time is a real issue with SVM. For this reason I will use the SVM with a Stochastic Gradient Descent learning. This learning method updates the gradient of loss with each sample. It takes a sample and moves in the direction of steepest gradient. This step-by-step progress will achieve at least a local minimum, so an absolute minimum is not guaranteed. The loss parameter default 'hinge' refers to the linear SVM. The penalty parameter 'l2' is a regularizer that uses the squared Euclidean norm."
   ]
  },
  {
   "cell_type": "code",
   "execution_count": 16,
   "metadata": {},
   "outputs": [
    {
     "data": {
      "text/plain": [
       "SGDClassifier(alpha=0.0001, average=False, class_weight=None, epsilon=0.1,\n",
       "       eta0=0.0, fit_intercept=True, l1_ratio=0.15,\n",
       "       learning_rate='optimal', loss='hinge', n_iter=5, n_jobs=1,\n",
       "       penalty='l2', power_t=0.5, random_state=None, shuffle=True,\n",
       "       verbose=0, warm_start=False)"
      ]
     },
     "execution_count": 16,
     "metadata": {},
     "output_type": "execute_result"
    }
   ],
   "source": [
    "# Fitting SGD Classifier linear SVM\n",
    "from sklearn.linear_model import SGDClassifier\n",
    "classifier = SGDClassifier(loss = 'hinge', penalty = 'l2')\n",
    "classifier.fit(X_train, y_train)"
   ]
  },
  {
   "cell_type": "code",
   "execution_count": 51,
   "metadata": {},
   "outputs": [
    {
     "name": "stdout",
     "output_type": "stream",
     "text": [
      "[[29328 12076    30     0     0    11   767]\n",
      " [10877 44390  1136     0    56   276   114]\n",
      " [    0   790  5762   128   209   205     0]\n",
      " [    0     0   341   186     0    42     0]\n",
      " [   47  1615   156     0    19    45     4]\n",
      " [    0  1280  1942     5    52   223     0]\n",
      " [ 2075    19    23     0     0     0  1974]]\n"
     ]
    }
   ],
   "source": [
    "# Predicting the Test set results\n",
    "from sklearn import metrics as mt\n",
    "y_pred = classifier.predict(X_test)\n",
    "\n",
    "# Making the Confusion Matrix\n",
    "from sklearn.metrics import confusion_matrix\n",
    "cm = confusion_matrix(y_test, y_pred)\n",
    "print(cm)"
   ]
  },
  {
   "cell_type": "markdown",
   "metadata": {},
   "source": [
    "The linear SVM using SGD learning resulted in the above confusion matrix. It looks as if the model loses accuracy for sparser classes. Maybe I can improve on this."
   ]
  },
  {
   "cell_type": "markdown",
   "metadata": {},
   "source": [
    "## Using Principal Component Analysis with Linear Support Vector Machine:"
   ]
  },
  {
   "cell_type": "markdown",
   "metadata": {},
   "source": [
    "I will add a dimensionality reduction method to try to improve this SVM model. The Principal Components Analysis following will choose 10 componets that most explain the variance in the dependent variable."
   ]
  },
  {
   "cell_type": "code",
   "execution_count": 25,
   "metadata": {},
   "outputs": [
    {
     "name": "stdout",
     "output_type": "stream",
     "text": [
      "[ 0.06853814  0.05409167  0.04442103  0.03697066  0.02760864  0.02660845\n",
      "  0.02205766  0.02087026  0.01993959  0.01953706]\n"
     ]
    }
   ],
   "source": [
    "# Applying PCA\n",
    "from sklearn.decomposition import PCA\n",
    "pca = PCA(n_components = 10)\n",
    "X_trainPCA = pca.fit_transform(X_train)\n",
    "X_testPCA = pca.transform(X_test)\n",
    "explained_variance = pca.explained_variance_ratio_\n",
    "print(explained_variance)"
   ]
  },
  {
   "cell_type": "markdown",
   "metadata": {},
   "source": [
    "Using only those 10 components, I apply the same SVM, SGD model."
   ]
  },
  {
   "cell_type": "code",
   "execution_count": 23,
   "metadata": {},
   "outputs": [
    {
     "data": {
      "text/plain": [
       "SGDClassifier(alpha=0.0001, average=False, class_weight=None, epsilon=0.1,\n",
       "       eta0=0.0, fit_intercept=True, l1_ratio=0.15,\n",
       "       learning_rate='optimal', loss='hinge', n_iter=5, n_jobs=1,\n",
       "       penalty='l2', power_t=0.5, random_state=None, shuffle=True,\n",
       "       verbose=0, warm_start=False)"
      ]
     },
     "execution_count": 23,
     "metadata": {},
     "output_type": "execute_result"
    }
   ],
   "source": [
    "# Fitting SGD to the PCA Training set\n",
    "\n",
    "classifierPCA = SGDClassifier(loss = 'hinge', penalty = 'l2')\n",
    "classifierPCA.fit(X_trainPCA, y_train)"
   ]
  },
  {
   "cell_type": "code",
   "execution_count": 24,
   "metadata": {},
   "outputs": [
    {
     "name": "stdout",
     "output_type": "stream",
     "text": [
      "[[20977 21149     0     0    68     0    18]\n",
      " [ 7265 48549   348     0   225   426    36]\n",
      " [    0  1946  3874   259     0  1015     0]\n",
      " [    0     7   357   151     0    54     0]\n",
      " [  112  1735     1     0    38     0     0]\n",
      " [    2  1464  1151    77     2   806     0]\n",
      " [ 3576   465     0     0     0     0    50]]\n"
     ]
    }
   ],
   "source": [
    "# Predicting the Test set results\n",
    "y_predPCA = classifierPCA.predict(X_testPCA)\n",
    "\n",
    "# Making the Confusion Matrix\n",
    "from sklearn.metrics import confusion_matrix\n",
    "cmPCA = confusion_matrix(y_test, y_predPCA)\n",
    "print(cmPCA)"
   ]
  },
  {
   "cell_type": "markdown",
   "metadata": {},
   "source": [
    "Looking at the resulting confusion matrix, there is not a significant improvement."
   ]
  },
  {
   "cell_type": "code",
   "execution_count": 26,
   "metadata": {},
   "outputs": [
    {
     "name": "stdout",
     "output_type": "stream",
     "text": [
      "mean accuracy: 0.706399818054\n",
      "accuracy stddev: 0.00503725771275\n"
     ]
    }
   ],
   "source": [
    "# Applying k-Fold Cross Validation\n",
    "\n",
    "from sklearn.model_selection import cross_val_score\n",
    "\n",
    "accuracies = cross_val_score(estimator = classifier, X = X_train, y = y_train, cv = 10, n_jobs = -1)\n",
    "\n",
    "print('mean accuracy:',accuracies.mean())\n",
    "print('accuracy stddev:',accuracies.std())"
   ]
  },
  {
   "cell_type": "markdown",
   "metadata": {},
   "source": [
    "I use a 10-fold cross validation on the first SVM model to measure the performance of this model in order to compare it to the upcoming models. I use accuracy along with the confusion matrices to evaluate the models. Accuracy is a good starting point for evaluation but I use the confusion matrices to also guard against the accuracy paradox."
   ]
  },
  {
   "cell_type": "markdown",
   "metadata": {},
   "source": [
    "## Logistice Regression:"
   ]
  },
  {
   "cell_type": "markdown",
   "metadata": {},
   "source": [
    "The next model I will try is the Logistic Regression model. This model determines probabilities that each instance belongs to each class which it uses to make predictions of classes."
   ]
  },
  {
   "cell_type": "code",
   "execution_count": 27,
   "metadata": {},
   "outputs": [
    {
     "data": {
      "text/plain": [
       "LogisticRegression(C=1.0, class_weight=None, dual=False, fit_intercept=True,\n",
       "          intercept_scaling=1, max_iter=100, multi_class='ovr', n_jobs=-1,\n",
       "          penalty='l2', random_state=0, solver='liblinear', tol=0.0001,\n",
       "          verbose=0, warm_start=False)"
      ]
     },
     "execution_count": 27,
     "metadata": {},
     "output_type": "execute_result"
    }
   ],
   "source": [
    "# Fitting Logistic Regression to the Training set\n",
    "from sklearn.linear_model import LogisticRegression\n",
    "classifier2 = LogisticRegression(random_state = 0, n_jobs = -1)\n",
    "classifier2.fit(X_train, y_train)        "
   ]
  },
  {
   "cell_type": "code",
   "execution_count": 28,
   "metadata": {},
   "outputs": [
    {
     "name": "stdout",
     "output_type": "stream",
     "text": [
      "[[29240 12181    37     0     1     1   752]\n",
      " [10163 45141  1318     2    62    92    71]\n",
      " [    0   754  6036    60     0   244     0]\n",
      " [    0     0   342   168     0    59     0]\n",
      " [   24  1659   180     0    22     1     0]\n",
      " [    0  1261  1901    16     7   317     0]\n",
      " [ 1842    16    23     0     0     0  2210]]\n"
     ]
    }
   ],
   "source": [
    "# Predicting the Test set results\n",
    "y_pred2 = classifier2.predict(X_test)\n",
    "\n",
    "# Making the Confusion Matrix\n",
    "cm2 = confusion_matrix(y_test, y_pred2)\n",
    "print(cm2)"
   ]
  },
  {
   "cell_type": "markdown",
   "metadata": {},
   "source": [
    "The confusion matrix produced by the Logistic Regression Classifier looks similar to the ones produced by the SVMs I tried above. Although not a significant improvement, there are some interesting aspects of this model to explore."
   ]
  },
  {
   "cell_type": "markdown",
   "metadata": {},
   "source": [
    "### Interpreting Weights:"
   ]
  },
  {
   "cell_type": "code",
   "execution_count": 92,
   "metadata": {},
   "outputs": [
    {
     "name": "stdout",
     "output_type": "stream",
     "text": [
      "Soil_Type15 has weight of 0.0887405507134\n",
      "Soil_Type8 has weight of 0.162674964593\n",
      "Soil_Type36 has weight of 0.2396450682\n",
      "Soil_Type7 has weight of 0.341121461525\n",
      "Soil_Type25 has weight of 0.344161227303\n",
      "Soil_Type18 has weight of 0.377819452984\n",
      "Soil_Type27 has weight of 0.615316166149\n",
      "Soil_Type34 has weight of 0.711438193246\n",
      "Soil_Type28 has weight of 0.728956168625\n",
      "Aspect has weight of 0.733776476024\n",
      "Soil_Type35 has weight of 0.781550780947\n",
      "Soil_Type16 has weight of 0.786975532891\n",
      "Soil_Type9 has weight of 0.796737327436\n",
      "Soil_Type21 has weight of 0.838943932356\n",
      "Soil_Type19 has weight of 0.924927649725\n",
      "Soil_Type24 has weight of 0.930930779351\n",
      "Soil_Type37 has weight of 0.949249398211\n",
      "Soil_Type14 has weight of 1.01154388059\n",
      "Soil_Type5 has weight of 1.01678240725\n",
      "Soil_Type17 has weight of 1.04879431545\n",
      "Soil_Type20 has weight of 1.12154044952\n",
      "Soil_Type26 has weight of 1.19210400123\n",
      "Slope has weight of 1.20005189682\n",
      "Soil_Type6 has weight of 1.27599127603\n",
      "Vert_Dist_to_Hydro has weight of 1.30279259802\n",
      "Soil_Type11 has weight of 1.30398014048\n",
      "Soil_Type40 has weight of 1.47311543108\n",
      "Soil_Type13 has weight of 1.52495198817\n",
      "Soil_Type1 has weight of 1.53620814528\n",
      "Soil_Type30 has weight of 1.87318394394\n",
      "Soil_Type33 has weight of 1.92682491596\n",
      "Soil_Type31 has weight of 1.92725703676\n",
      "Soil_Type3 has weight of 1.95725329347\n",
      "Soil_Type32 has weight of 1.95920114062\n",
      "Soil_Type23 has weight of 2.03373786516\n",
      "Soil_Type38 has weight of 2.07572729001\n",
      "Wilderness_Area2 has weight of 2.17812480275\n",
      "Soil_Type10 has weight of 2.24740701801\n",
      "Soil_Type29 has weight of 2.25757124651\n",
      "Soil_Type12 has weight of 2.35296962031\n",
      "Soil_Type39 has weight of 2.36417384459\n",
      "Soil_Type2 has weight of 2.42141947778\n",
      "Soil_Type4 has weight of 2.4639961626\n",
      "Soil_Type22 has weight of 2.97945847669\n",
      "Horiz_Dist_to_Fire_pts has weight of 3.1143944251\n",
      "Horiz_Dist_to_Hydro has weight of 3.30045954334\n",
      "Horiz_Dist_to_Road has weight of 3.69320068398\n",
      "Wilderness_Area3 has weight of 4.34734135206\n",
      "Hillshade_9am has weight of 5.79513081875\n",
      "Hillshade_Noon has weight of 5.86368551484\n",
      "Wilderness_Area1 has weight of 6.4769194751\n",
      "Wilderness_Area4 has weight of 8.03350497533\n",
      "Hillshade_3pm has weight of 8.41757057739\n",
      "Elevation has weight of 13.1820398497\n"
     ]
    }
   ],
   "source": [
    "# Interpreting weights\n",
    "zip_vars = zip(sum(abs(classifier2.coef_)).T,X.columns) # combine attributes\n",
    "zip_vars = sorted(zip_vars)\n",
    "for coef, name in zip_vars:\n",
    "    print(name, 'has weight of', coef) # now print them out"
   ]
  },
  {
   "cell_type": "markdown",
   "metadata": {},
   "source": [
    "To interpret the weights of each variable, I used the sums of the absolute values of the coefficients of each variable for each class. Because a particular variable might be highly positively predictive of one class and highly negatively predictive of another class, their sums would appear to have little value. I sum the absolute values to measure the total predictive value across all classes.  \n",
    "It does not surprise me to see Elevation as the most predictive, followed by Hillshade at 3 pm and the presence of Wilderness area 4 (Cache la Poudre Wilderness Area) and 1 (Rawah Wilderness Area). Overall, elevation, amount of sun, and wilderness area are more predictive of the soil type."
   ]
  },
  {
   "cell_type": "code",
   "execution_count": 93,
   "metadata": {},
   "outputs": [
    {
     "data": {
      "image/png": "[encoded data removed]",
      "text/plain": [
       "<matplotlib.figure.Figure at 0x212007a9390>"
      ]
     },
     "metadata": {},
     "output_type": "display_data"
    }
   ],
   "source": [
    "from matplotlib import pyplot as plt\n",
    "from pylab import rcParams\n",
    "%matplotlib inline\n",
    "rcParams['figure.figsize'] = 15, 5\n",
    "plt.style.use('ggplot')\n",
    "\n",
    "weights = pd.Series(sum(abs(classifier2.coef_)), index = X.columns)\n",
    "weights.plot(kind = 'bar')\n",
    "plt.show()"
   ]
  },
  {
   "cell_type": "markdown",
   "metadata": {},
   "source": [
    "A visual representaion of the magnitudes of the coefficients."
   ]
  },
  {
   "cell_type": "markdown",
   "metadata": {},
   "source": [
    "I again apply cross validation to obtain a mean accuracy score to aid in model comparison. I chose to only use 3 folds in this case due to processing time."
   ]
  },
  {
   "cell_type": "code",
   "execution_count": 31,
   "metadata": {},
   "outputs": [
    {
     "name": "stdout",
     "output_type": "stream",
     "text": [
      "mean accuracy: 0.714900103696\n",
      "accuracy stddev: 0.00109936701251\n"
     ]
    }
   ],
   "source": [
    "# Applying k-Fold Cross Validation                      \n",
    "accuracies2 = cross_val_score(estimator = classifier2, X = X_train, y = y_train, cv = 3, n_jobs = -1)\n",
    "print('mean accuracy:',accuracies2.mean())\n",
    "print('accuracy stddev:',accuracies2.std())"
   ]
  },
  {
   "cell_type": "markdown",
   "metadata": {},
   "source": [
    "The accuracy did improve over the SVM model a little with less variation between the folds."
   ]
  },
  {
   "cell_type": "markdown",
   "metadata": {},
   "source": [
    "## PCA with Logistic Regression:"
   ]
  },
  {
   "cell_type": "markdown",
   "metadata": {},
   "source": [
    "As an experiment I will also apply PCA to the Logistic Regression model. In this case I will only look at 2 components with the intention of representing them visually."
   ]
  },
  {
   "cell_type": "code",
   "execution_count": 41,
   "metadata": {
    "collapsed": true
   },
   "outputs": [],
   "source": [
    "# Applying PCA with 2 components to vizualize\n",
    "pca2 = PCA(n_components = 2)\n",
    "X_trainPCA2 = pca2.fit_transform(X_train)\n",
    "X_testPCA2 = pca2.transform(X_test)"
   ]
  },
  {
   "cell_type": "code",
   "execution_count": 42,
   "metadata": {},
   "outputs": [
    {
     "data": {
      "text/plain": [
       "LogisticRegression(C=1.0, class_weight=None, dual=False, fit_intercept=True,\n",
       "          intercept_scaling=1, max_iter=100, multi_class='ovr', n_jobs=-1,\n",
       "          penalty='l2', random_state=0, solver='liblinear', tol=0.0001,\n",
       "          verbose=0, warm_start=False)"
      ]
     },
     "execution_count": 42,
     "metadata": {},
     "output_type": "execute_result"
    }
   ],
   "source": [
    "# Fitting Logistic Regression to the PCA Training set\n",
    "classifierLRPCA = LogisticRegression(random_state = 0, n_jobs = -1)\n",
    "classifierLRPCA.fit(X_trainPCA2, y_train)"
   ]
  },
  {
   "cell_type": "code",
   "execution_count": 43,
   "metadata": {
    "scrolled": true
   },
   "outputs": [
    {
     "name": "stdout",
     "output_type": "stream",
     "text": [
      "[[ 9003 33201     8     0     0     0     0]\n",
      " [ 7448 48830   571     0     0     0     0]\n",
      " [    0  3413  3681     0     0     0     0]\n",
      " [    0   177   392     0     0     0     0]\n",
      " [   19  1867     0     0     0     0     0]\n",
      " [    0  1744  1758     0     0     0     0]\n",
      " [ 1736  2355     0     0     0     0     0]]\n"
     ]
    }
   ],
   "source": [
    "# Predicting the Test set results\n",
    "y_predLRPCA = classifierLRPCA.predict(X_testPCA2)\n",
    "\n",
    "# Making the Confusion Matrix\n",
    "from sklearn.metrics import confusion_matrix\n",
    "cmLRPCA = confusion_matrix(y_test, y_predLRPCA)\n",
    "print(cmLRPCA)"
   ]
  },
  {
   "cell_type": "markdown",
   "metadata": {},
   "source": [
    "This confusion matrix is heavily skewed toward predicting the first few classes. Even if the accuracy turned out to be very high this matrix would be evidence for the accuracy paradox."
   ]
  },
  {
   "cell_type": "code",
   "execution_count": 94,
   "metadata": {
    "scrolled": true
   },
   "outputs": [
    {
     "name": "stderr",
     "output_type": "stream",
     "text": [
      "C:\\Users\\Abbott\\Anaconda3\\lib\\site-packages\\ipykernel\\__main__.py:11: FutureWarning: in the future, boolean array-likes will be handled as a boolean array index\n"
     ]
    },
    {
     "data": {
      "image/png": "[encoded data removed]",
      "text/plain": [
       "<matplotlib.figure.Figure at 0x212002e0908>"
      ]
     },
     "metadata": {},
     "output_type": "display_data"
    }
   ],
   "source": [
    "# Visualising the Training set results\n",
    "from matplotlib.colors import ListedColormap\n",
    "X_set, y_set = X_trainPCA2, y_train\n",
    "X1, X2 = np.meshgrid(np.arange(start = X_set[:, 0].min() - 1, stop = X_set[:, 0].max() + 1, step = 0.01),\n",
    "                     np.arange(start = X_set[:, 1].min() - 1, stop = X_set[:, 1].max() + 1, step = 0.01))\n",
    "plt.contourf(X1, X2, classifierLRPCA.predict(np.array([X1.ravel(), X2.ravel()]).T).reshape(X1.shape),\n",
    "             alpha = 0.5, cmap = ListedColormap(('red', 'green', 'blue', 'cyan', 'magenta', 'yellow', 'black')))\n",
    "plt.xlim(X1.min(), X1.max())\n",
    "plt.ylim(X2.min(), X2.max())\n",
    "for i, j in enumerate(np.unique(y_set)):\n",
    "    plt.scatter(X_set[y_set == j, 0], X_set[y_set == j, 1],\n",
    "                c = ListedColormap(('red', 'green', 'blue', 'cyan', 'magenta', 'yellow', 'black'))(i), label = j)\n",
    "plt.title('Logistic Regression with PCA(Training set)')\n",
    "plt.xlabel('PC1')\n",
    "plt.ylabel('PC2')\n",
    "plt.legend()\n",
    "plt.show()"
   ]
  },
  {
   "cell_type": "markdown",
   "metadata": {},
   "source": [
    "Above is a visualization of the classification using only 2 principal components. Not all of the classes even appeared. Two components is not enough to get a good classification although it was interesting to see visually."
   ]
  },
  {
   "cell_type": "markdown",
   "metadata": {},
   "source": [
    "## Decision Tree:"
   ]
  },
  {
   "cell_type": "markdown",
   "metadata": {},
   "source": [
    "The next model I will evaluate for classifying is a Decision Tree Classifier. This model also comes from scikit-learn. A good benefit of decision trees is that is requires very little assumptions, like normality, or data normalization.They also handle irrelevent variables well. "
   ]
  },
  {
   "cell_type": "code",
   "execution_count": 98,
   "metadata": {},
   "outputs": [
    {
     "data": {
      "text/plain": [
       "DecisionTreeClassifier(class_weight=None, criterion='entropy', max_depth=None,\n",
       "            max_features=None, max_leaf_nodes=None,\n",
       "            min_impurity_split=1e-07, min_samples_leaf=1,\n",
       "            min_samples_split=2, min_weight_fraction_leaf=0.0,\n",
       "            presort=False, random_state=0, splitter='best')"
      ]
     },
     "execution_count": 98,
     "metadata": {},
     "output_type": "execute_result"
    }
   ],
   "source": [
    "# Fitting the decision tree to the training set\n",
    "from sklearn.tree import DecisionTreeClassifier\n",
    "DTclassifier = DecisionTreeClassifier(criterion = 'entropy', random_state = 0)\n",
    "DTclassifier.fit(X_train, y_train)"
   ]
  },
  {
   "cell_type": "code",
   "execution_count": 85,
   "metadata": {},
   "outputs": [
    {
     "name": "stdout",
     "output_type": "stream",
     "text": [
      "[[39768  2217     4     0    23     5   195]\n",
      " [ 2118 54270   125     2   194   106    34]\n",
      " [    1   148  6624    66    22   233     0]\n",
      " [    0     0    75   467     0    27     0]\n",
      " [   36   257     9     0  1580     4     0]\n",
      " [    3   126   253    17     2  3101     0]\n",
      " [  165    21     0     0     1     0  3904]]\n"
     ]
    }
   ],
   "source": [
    "y_predDT = DTclassifier.predict(X_test)\n",
    "\n",
    "# Making the Confusion Matrix\n",
    "cmDT = confusion_matrix(y_test, y_predDT)\n",
    "print(cmDT)"
   ]
  },
  {
   "cell_type": "markdown",
   "metadata": {},
   "source": [
    "Tnis confusion matrix is a big improvement on the previous models. I would expect the accuracy to also improve drastically. Here the cells off od the truth diagonal are very sparse compared to the other models looked at above."
   ]
  },
  {
   "cell_type": "code",
   "execution_count": 86,
   "metadata": {},
   "outputs": [
    {
     "name": "stdout",
     "output_type": "stream",
     "text": [
      "mean accuracy: 0.940569127752\n",
      "accuracy stddev: 0.000878807084395\n"
     ]
    }
   ],
   "source": [
    "# Applying k-Fold Cross Validation                      \n",
    "accuraciesDT = cross_val_score(estimator = DTclassifier, X = X_train, y = y_train, cv = 10, n_jobs = -1)\n",
    "print('mean accuracy:',accuraciesDT.mean())\n",
    "print('accuracy stddev:',accuraciesDT.std())"
   ]
  },
  {
   "cell_type": "markdown",
   "metadata": {},
   "source": [
    "As expected, using a 10-fold cross validation, the average accuracy improved to 94%! That is very good. The decision tree does have parameters though, it may be possible to improve the performance further by tweaking the prameters. To do this I will use a grid search."
   ]
  },
  {
   "cell_type": "markdown",
   "metadata": {},
   "source": [
    "### Using Grid Search to find the best model parameters:"
   ]
  },
  {
   "cell_type": "markdown",
   "metadata": {},
   "source": [
    "The main parameter in the decision tree is the criterion. The choices are 'gini' and 'entropy'. Entropy is a measure of impurity while gini "
   ]
  },
  {
   "cell_type": "code",
   "execution_count": 87,
   "metadata": {
    "collapsed": true
   },
   "outputs": [],
   "source": [
    "# Applying Grid Search to find the best model and the best parameters\n",
    "from sklearn.model_selection import GridSearchCV\n",
    "parameters = [{'criterion': ['gini'], 'max_depth': [None], 'min_samples_split': [2, 100, 1000], 'min_samples_leaf': [1, 10, 100],\n",
    "              'max_features': [None], 'max_leaf_nodes': [None]},\n",
    "              {'criterion': ['entropy'], 'max_depth': [None, 5, 10], 'min_samples_split': [2, 100, 1000],\n",
    "               'min_samples_leaf': [1, 10, 100], 'max_leaf_nodes': [None]}]\n",
    "grid_search = GridSearchCV(estimator = DTclassifier,\n",
    "                           param_grid = parameters,\n",
    "                           scoring = 'accuracy',\n",
    "                           cv = 10,\n",
    "                           n_jobs = -1)\n",
    "grid_search = grid_search.fit(X_train, y_train)\n",
    "best_accuracy = grid_search.best_score_\n",
    "best_parameters = grid_search.best_params_"
   ]
  },
  {
   "cell_type": "code",
   "execution_count": 88,
   "metadata": {},
   "outputs": [
    {
     "name": "stdout",
     "output_type": "stream",
     "text": [
      "Best Accuracy: 0.940569137\n",
      "Using these parameters:/n {'criterion': 'entropy', 'max_depth': None, 'max_leaf_nodes': None, 'min_samples_leaf': 1, 'min_samples_split': 2}\n"
     ]
    }
   ],
   "source": [
    "print('Best Accuracy:', best_accuracy)\n",
    "print('Using these parameters:/n', best_parameters)"
   ]
  },
  {
   "cell_type": "markdown",
   "metadata": {},
   "source": [
    "Those are actually the default parameters for the entropy criteria that I used. I will look more closely at the final model."
   ]
  },
  {
   "cell_type": "code",
   "execution_count": 100,
   "metadata": {},
   "outputs": [
    {
     "data": {
      "text/plain": [
       "DecisionTreeClassifier(class_weight=None, criterion='entropy', max_depth=None,\n",
       "            max_features=None, max_leaf_nodes=None,\n",
       "            min_impurity_split=1e-07, min_samples_leaf=1,\n",
       "            min_samples_split=2, min_weight_fraction_leaf=0.0,\n",
       "            presort=False, random_state=0, splitter='best')"
      ]
     },
     "execution_count": 100,
     "metadata": {},
     "output_type": "execute_result"
    }
   ],
   "source": [
    "DTclassifier = DecisionTreeClassifier(criterion = 'entropy', random_state = 0)\n",
    "DTclassifier.fit(X_train, y_train)"
   ]
  },
  {
   "cell_type": "markdown",
   "metadata": {},
   "source": [
    "### Interpretation of importances"
   ]
  },
  {
   "cell_type": "code",
   "execution_count": 102,
   "metadata": {},
   "outputs": [
    {
     "name": "stdout",
     "output_type": "stream",
     "text": [
      "Soil_Type15 has weight of 0.0\n",
      "Soil_Type18 has weight of 0.0\n",
      "Soil_Type37 has weight of 0.0\n",
      "Soil_Type7 has weight of 6.0436197377e-06\n",
      "Soil_Type8 has weight of 1.0508009883e-05\n",
      "Soil_Type25 has weight of 2.14910876411e-05\n",
      "Soil_Type26 has weight of 7.40063849398e-05\n",
      "Soil_Type28 has weight of 8.42679482004e-05\n",
      "Soil_Type36 has weight of 9.69924202372e-05\n",
      "Soil_Type1 has weight of 0.000116205461532\n",
      "Soil_Type14 has weight of 0.000129356217334\n",
      "Soil_Type27 has weight of 0.000270284955662\n",
      "Soil_Type21 has weight of 0.000294983000277\n",
      "Soil_Type6 has weight of 0.000334735248217\n",
      "Soil_Type9 has weight of 0.000360361926112\n",
      "Soil_Type34 has weight of 0.000422442340449\n",
      "Soil_Type19 has weight of 0.000471471598329\n",
      "Soil_Type5 has weight of 0.000491233697564\n",
      "Soil_Type40 has weight of 0.000531978984969\n",
      "Soil_Type16 has weight of 0.000680517863911\n",
      "Soil_Type12 has weight of 0.000944983478337\n",
      "Soil_Type35 has weight of 0.00105355406268\n",
      "Soil_Type17 has weight of 0.00110268588187\n",
      "Wilderness_Area4 has weight of 0.00134679852083\n",
      "Soil_Type20 has weight of 0.00163357214052\n",
      "Soil_Type3 has weight of 0.00180037505475\n",
      "Soil_Type11 has weight of 0.00195966097211\n",
      "Soil_Type13 has weight of 0.00328984201882\n",
      "Soil_Type30 has weight of 0.00349372455742\n",
      "Soil_Type33 has weight of 0.00395373708694\n",
      "Soil_Type10 has weight of 0.004009636307\n",
      "Soil_Type38 has weight of 0.00409886154172\n",
      "Wilderness_Area2 has weight of 0.00436374648553\n",
      "Soil_Type31 has weight of 0.00472711491695\n",
      "Soil_Type24 has weight of 0.00484997649776\n",
      "Soil_Type39 has weight of 0.00528496241477\n",
      "Soil_Type2 has weight of 0.00540672598114\n",
      "Soil_Type29 has weight of 0.00581525205323\n",
      "Soil_Type22 has weight of 0.00602616611454\n",
      "Soil_Type23 has weight of 0.00650688768568\n",
      "Soil_Type4 has weight of 0.00714525616298\n",
      "Soil_Type32 has weight of 0.00836371843216\n",
      "Wilderness_Area3 has weight of 0.00999439554485\n",
      "Slope has weight of 0.0137177360757\n",
      "Hillshade_3pm has weight of 0.0199460151192\n",
      "Wilderness_Area1 has weight of 0.0225912365221\n",
      "Aspect has weight of 0.0239585633316\n",
      "Hillshade_9am has weight of 0.0253788358541\n",
      "Hillshade_Noon has weight of 0.0254878455606\n",
      "Vert_Dist_to_Hydro has weight of 0.0403403982238\n",
      "Horiz_Dist_to_Hydro has weight of 0.0515010581384\n",
      "Horiz_Dist_to_Fire_pts has weight of 0.129168341521\n",
      "Horiz_Dist_to_Road has weight of 0.130871926471\n",
      "Elevation has weight of 0.415469528505\n"
     ]
    }
   ],
   "source": [
    "# Interpreting weights\n",
    "zip_varsDT = zip(DTclassifier.feature_importances_.T,X.columns) # combine attributes\n",
    "zip_varsDT = sorted(zip_varsDT)\n",
    "for importance, name in zip_varsDT:\n",
    "    print(name, 'has weight of', importance) # now print them out"
   ]
  },
  {
   "cell_type": "markdown",
   "metadata": {},
   "source": [
    "In the decision tree model, the importance of the variables are not the same as they were in the logistic regression model examined earlier. Elevation is still most important, but rather than hillshade and wilderness types, it is distance to roadways, fires, amd water that are next in importance. This result is interesting and mayb not intuitive, certainly not for a non-biologist."
   ]
  },
  {
   "cell_type": "code",
   "execution_count": 112,
   "metadata": {
    "collapsed": true
   },
   "outputs": [],
   "source": [
    "from sklearn.tree import export_graphviz\n",
    "import subprocess\n",
    "\n",
    "\n",
    "def visualize_tree(tree, feature_names):\n",
    "    with open(\"dt.dot\", 'w') as f:\n",
    "        export_graphviz(tree, out_file=f,\n",
    "                        feature_names=feature_names)\n",
    "\n",
    "    command = [\"dot\", \"-Tpng\", \"dt.dot\", \"-o\", \"dt.png\"]\n",
    "    try:\n",
    "        subprocess.check_call(command)\n",
    "    except:\n",
    "        exit(\"Could not run dot, ie graphviz, to \"\n",
    "             \"produce visualization\")"
   ]
  },
  {
   "cell_type": "code",
   "execution_count": 113,
   "metadata": {
    "collapsed": true
   },
   "outputs": [],
   "source": [
    "visualize_tree(DTclassifier, my_columns)"
   ]
  },
  {
   "cell_type": "markdown",
   "metadata": {},
   "source": [
    "## Deployment"
   ]
  },
  {
   "cell_type": "markdown",
   "metadata": {},
   "source": [
    "This deision tree model would be very useful for anyone seeking to learn the foliage cover type of a particular area of land using only map information. In other words this classifier allows someone to accurately predict the type of cover without requiring sensory presence at the location. Forestry and wildlife professionals are able with this classifier to gain knowledge of the landscape without disturbing it."
   ]
  },
  {
   "cell_type": "markdown",
   "metadata": {},
   "source": [
    "# Deployment Resubmittal"
   ]
  },
  {
   "cell_type": "markdown",
   "metadata": {},
   "source": [
    "This decision tree or random forest model could be very useful for anyone seeking to identify the wilderness area of a particular set of characteristics. In other words this classifier allows someone to accurately predict the location, given a description of an environment. \n",
    " \n",
    "When the model is deployed it allows predictions to be easily available. An API will be used for the deployment. This data is not continuously arriving so training time is not a major concern.\n",
    " \n",
    "The quality of the deployed models must also be measured and tracked in order to provide feedback necessary to improve the model. The quality of the model is measured offline by the accuracy, but precision-recall or the ROC curve would be other options. Online evaluation is however measured by the impact of the model until real labels can be ascribed to the data points. The live data and evaluation feedback are then used to update the model. \n",
    "\n"
   ]
  },
  {
   "cell_type": "markdown",
   "metadata": {},
   "source": [
    "# Classifier Task 2:"
   ]
  },
  {
   "cell_type": "markdown",
   "metadata": {},
   "source": [
    "For the second classifier the goal is to predict the wilderness area for 30 x 30 meter cells from cartographic variables without need for remotely sensed data. The wilderness areas, the classes for the second task, are:  \n",
    "1. Rawah Wilderness Area  \n",
    "2. Neota Wilderness Area  \n",
    "3. Comanche Peak Wilderness Area  \n",
    "4. Cache la Poudre Wilderness Area"
   ]
  },
  {
   "cell_type": "markdown",
   "metadata": {},
   "source": [
    "## Data Understanding"
   ]
  },
  {
   "cell_type": "markdown",
   "metadata": {},
   "source": [
    "The data for this task needs some adjusting to fit the new classification goal. The four wilderness area variables will be combined into one new dependent variable and assigned to y2. The previous class variable, cover_type will now be one hot encoded into 4 binary variables and included with the independent variables as X2."
   ]
  },
  {
   "cell_type": "code",
   "execution_count": 3,
   "metadata": {
    "collapsed": true
   },
   "outputs": [],
   "source": [
    "dataset2 = dataset\n",
    "\n",
    "# perform one-hot encoding of the cover_type\n",
    "tmp_df = pd.get_dummies(dataset2.Cover_Type,prefix='Cover_Type')\n",
    "dataset2 = pd.concat((dataset2,tmp_df),axis=1) # add back into the dataframe\n",
    "dataset2 = dataset2.drop(['Cover_Type'], axis = 1)"
   ]
  },
  {
   "cell_type": "code",
   "execution_count": 4,
   "metadata": {
    "collapsed": true
   },
   "outputs": [],
   "source": [
    "\n",
    "dataset2['Wilderness_Area'] = np.where(dataset2['Wilderness_Area1']==1,1,0)\n",
    "dataset2['Wilderness_Area'] = np.where(dataset2['Wilderness_Area2']==1,2,dataset2['Wilderness_Area'])\n",
    "dataset2['Wilderness_Area'] = np.where(dataset2['Wilderness_Area3']==1,3,dataset2['Wilderness_Area'])\n",
    "dataset2['Wilderness_Area'] = np.where(dataset2['Wilderness_Area4']==1,4,dataset2['Wilderness_Area'])\n",
    "dataset2 = dataset2.drop(['Wilderness_Area1'], axis = 1)\n",
    "dataset2 = dataset2.drop(['Wilderness_Area2'], axis = 1)\n",
    "dataset2 = dataset2.drop(['Wilderness_Area3'], axis = 1)\n",
    "dataset2 = dataset2.drop(['Wilderness_Area4'], axis = 1)\n",
    "X2 = dataset2.iloc[:, :-1]\n",
    "y2 = dataset2.iloc[:, -1]"
   ]
  },
  {
   "cell_type": "code",
   "execution_count": 5,
   "metadata": {},
   "outputs": [
    {
     "data": {
      "text/html": [
       "<div>\n",
       "<table border=\"1\" class=\"dataframe\">\n",
       "  <thead>\n",
       "    <tr style=\"text-align: right;\">\n",
       "      <th></th>\n",
       "      <th>count</th>\n",
       "      <th>mean</th>\n",
       "      <th>std</th>\n",
       "      <th>min</th>\n",
       "      <th>25%</th>\n",
       "      <th>50%</th>\n",
       "      <th>75%</th>\n",
       "      <th>max</th>\n",
       "    </tr>\n",
       "  </thead>\n",
       "  <tbody>\n",
       "    <tr>\n",
       "      <th>Elevation</th>\n",
       "      <td>581012.0</td>\n",
       "      <td>2959.365301</td>\n",
       "      <td>279.984734</td>\n",
       "      <td>1859.0</td>\n",
       "      <td>2809.0</td>\n",
       "      <td>2996.0</td>\n",
       "      <td>3163.0</td>\n",
       "      <td>3858.0</td>\n",
       "    </tr>\n",
       "    <tr>\n",
       "      <th>Aspect</th>\n",
       "      <td>581012.0</td>\n",
       "      <td>155.656807</td>\n",
       "      <td>111.913721</td>\n",
       "      <td>0.0</td>\n",
       "      <td>58.0</td>\n",
       "      <td>127.0</td>\n",
       "      <td>260.0</td>\n",
       "      <td>360.0</td>\n",
       "    </tr>\n",
       "    <tr>\n",
       "      <th>Slope</th>\n",
       "      <td>581012.0</td>\n",
       "      <td>14.103704</td>\n",
       "      <td>7.488242</td>\n",
       "      <td>0.0</td>\n",
       "      <td>9.0</td>\n",
       "      <td>13.0</td>\n",
       "      <td>18.0</td>\n",
       "      <td>66.0</td>\n",
       "    </tr>\n",
       "    <tr>\n",
       "      <th>Horiz_Dist_to_Hydro</th>\n",
       "      <td>581012.0</td>\n",
       "      <td>269.428217</td>\n",
       "      <td>212.549356</td>\n",
       "      <td>0.0</td>\n",
       "      <td>108.0</td>\n",
       "      <td>218.0</td>\n",
       "      <td>384.0</td>\n",
       "      <td>1397.0</td>\n",
       "    </tr>\n",
       "    <tr>\n",
       "      <th>Vert_Dist_to_Hydro</th>\n",
       "      <td>581012.0</td>\n",
       "      <td>46.418855</td>\n",
       "      <td>58.295232</td>\n",
       "      <td>-173.0</td>\n",
       "      <td>7.0</td>\n",
       "      <td>30.0</td>\n",
       "      <td>69.0</td>\n",
       "      <td>601.0</td>\n",
       "    </tr>\n",
       "    <tr>\n",
       "      <th>Horiz_Dist_to_Road</th>\n",
       "      <td>581012.0</td>\n",
       "      <td>2350.146611</td>\n",
       "      <td>1559.254870</td>\n",
       "      <td>0.0</td>\n",
       "      <td>1106.0</td>\n",
       "      <td>1997.0</td>\n",
       "      <td>3328.0</td>\n",
       "      <td>7117.0</td>\n",
       "    </tr>\n",
       "    <tr>\n",
       "      <th>Hillshade_9am</th>\n",
       "      <td>581012.0</td>\n",
       "      <td>212.146049</td>\n",
       "      <td>26.769889</td>\n",
       "      <td>0.0</td>\n",
       "      <td>198.0</td>\n",
       "      <td>218.0</td>\n",
       "      <td>231.0</td>\n",
       "      <td>254.0</td>\n",
       "    </tr>\n",
       "    <tr>\n",
       "      <th>Hillshade_Noon</th>\n",
       "      <td>581012.0</td>\n",
       "      <td>223.318716</td>\n",
       "      <td>19.768697</td>\n",
       "      <td>0.0</td>\n",
       "      <td>213.0</td>\n",
       "      <td>226.0</td>\n",
       "      <td>237.0</td>\n",
       "      <td>254.0</td>\n",
       "    </tr>\n",
       "    <tr>\n",
       "      <th>Hillshade_3pm</th>\n",
       "      <td>581012.0</td>\n",
       "      <td>142.528263</td>\n",
       "      <td>38.274529</td>\n",
       "      <td>0.0</td>\n",
       "      <td>119.0</td>\n",
       "      <td>143.0</td>\n",
       "      <td>168.0</td>\n",
       "      <td>254.0</td>\n",
       "    </tr>\n",
       "    <tr>\n",
       "      <th>Horiz_Dist_to_Fire_pts</th>\n",
       "      <td>581012.0</td>\n",
       "      <td>1980.291226</td>\n",
       "      <td>1324.195210</td>\n",
       "      <td>0.0</td>\n",
       "      <td>1024.0</td>\n",
       "      <td>1710.0</td>\n",
       "      <td>2550.0</td>\n",
       "      <td>7173.0</td>\n",
       "    </tr>\n",
       "    <tr>\n",
       "      <th>Soil_Type1</th>\n",
       "      <td>581012.0</td>\n",
       "      <td>0.005217</td>\n",
       "      <td>0.072039</td>\n",
       "      <td>0.0</td>\n",
       "      <td>0.0</td>\n",
       "      <td>0.0</td>\n",
       "      <td>0.0</td>\n",
       "      <td>1.0</td>\n",
       "    </tr>\n",
       "    <tr>\n",
       "      <th>Soil_Type2</th>\n",
       "      <td>581012.0</td>\n",
       "      <td>0.012952</td>\n",
       "      <td>0.113066</td>\n",
       "      <td>0.0</td>\n",
       "      <td>0.0</td>\n",
       "      <td>0.0</td>\n",
       "      <td>0.0</td>\n",
       "      <td>1.0</td>\n",
       "    </tr>\n",
       "    <tr>\n",
       "      <th>Soil_Type3</th>\n",
       "      <td>581012.0</td>\n",
       "      <td>0.008301</td>\n",
       "      <td>0.090731</td>\n",
       "      <td>0.0</td>\n",
       "      <td>0.0</td>\n",
       "      <td>0.0</td>\n",
       "      <td>0.0</td>\n",
       "      <td>1.0</td>\n",
       "    </tr>\n",
       "    <tr>\n",
       "      <th>Soil_Type4</th>\n",
       "      <td>581012.0</td>\n",
       "      <td>0.021335</td>\n",
       "      <td>0.144499</td>\n",
       "      <td>0.0</td>\n",
       "      <td>0.0</td>\n",
       "      <td>0.0</td>\n",
       "      <td>0.0</td>\n",
       "      <td>1.0</td>\n",
       "    </tr>\n",
       "    <tr>\n",
       "      <th>Soil_Type5</th>\n",
       "      <td>581012.0</td>\n",
       "      <td>0.002749</td>\n",
       "      <td>0.052356</td>\n",
       "      <td>0.0</td>\n",
       "      <td>0.0</td>\n",
       "      <td>0.0</td>\n",
       "      <td>0.0</td>\n",
       "      <td>1.0</td>\n",
       "    </tr>\n",
       "    <tr>\n",
       "      <th>Soil_Type6</th>\n",
       "      <td>581012.0</td>\n",
       "      <td>0.011316</td>\n",
       "      <td>0.105775</td>\n",
       "      <td>0.0</td>\n",
       "      <td>0.0</td>\n",
       "      <td>0.0</td>\n",
       "      <td>0.0</td>\n",
       "      <td>1.0</td>\n",
       "    </tr>\n",
       "    <tr>\n",
       "      <th>Soil_Type7</th>\n",
       "      <td>581012.0</td>\n",
       "      <td>0.000181</td>\n",
       "      <td>0.013442</td>\n",
       "      <td>0.0</td>\n",
       "      <td>0.0</td>\n",
       "      <td>0.0</td>\n",
       "      <td>0.0</td>\n",
       "      <td>1.0</td>\n",
       "    </tr>\n",
       "    <tr>\n",
       "      <th>Soil_Type8</th>\n",
       "      <td>581012.0</td>\n",
       "      <td>0.000308</td>\n",
       "      <td>0.017550</td>\n",
       "      <td>0.0</td>\n",
       "      <td>0.0</td>\n",
       "      <td>0.0</td>\n",
       "      <td>0.0</td>\n",
       "      <td>1.0</td>\n",
       "    </tr>\n",
       "    <tr>\n",
       "      <th>Soil_Type9</th>\n",
       "      <td>581012.0</td>\n",
       "      <td>0.001974</td>\n",
       "      <td>0.044387</td>\n",
       "      <td>0.0</td>\n",
       "      <td>0.0</td>\n",
       "      <td>0.0</td>\n",
       "      <td>0.0</td>\n",
       "      <td>1.0</td>\n",
       "    </tr>\n",
       "    <tr>\n",
       "      <th>Soil_Type10</th>\n",
       "      <td>581012.0</td>\n",
       "      <td>0.056168</td>\n",
       "      <td>0.230245</td>\n",
       "      <td>0.0</td>\n",
       "      <td>0.0</td>\n",
       "      <td>0.0</td>\n",
       "      <td>0.0</td>\n",
       "      <td>1.0</td>\n",
       "    </tr>\n",
       "    <tr>\n",
       "      <th>Soil_Type11</th>\n",
       "      <td>581012.0</td>\n",
       "      <td>0.021359</td>\n",
       "      <td>0.144579</td>\n",
       "      <td>0.0</td>\n",
       "      <td>0.0</td>\n",
       "      <td>0.0</td>\n",
       "      <td>0.0</td>\n",
       "      <td>1.0</td>\n",
       "    </tr>\n",
       "    <tr>\n",
       "      <th>Soil_Type12</th>\n",
       "      <td>581012.0</td>\n",
       "      <td>0.051584</td>\n",
       "      <td>0.221186</td>\n",
       "      <td>0.0</td>\n",
       "      <td>0.0</td>\n",
       "      <td>0.0</td>\n",
       "      <td>0.0</td>\n",
       "      <td>1.0</td>\n",
       "    </tr>\n",
       "    <tr>\n",
       "      <th>Soil_Type13</th>\n",
       "      <td>581012.0</td>\n",
       "      <td>0.030001</td>\n",
       "      <td>0.170590</td>\n",
       "      <td>0.0</td>\n",
       "      <td>0.0</td>\n",
       "      <td>0.0</td>\n",
       "      <td>0.0</td>\n",
       "      <td>1.0</td>\n",
       "    </tr>\n",
       "    <tr>\n",
       "      <th>Soil_Type14</th>\n",
       "      <td>581012.0</td>\n",
       "      <td>0.001031</td>\n",
       "      <td>0.032092</td>\n",
       "      <td>0.0</td>\n",
       "      <td>0.0</td>\n",
       "      <td>0.0</td>\n",
       "      <td>0.0</td>\n",
       "      <td>1.0</td>\n",
       "    </tr>\n",
       "    <tr>\n",
       "      <th>Soil_Type15</th>\n",
       "      <td>581012.0</td>\n",
       "      <td>0.000005</td>\n",
       "      <td>0.002272</td>\n",
       "      <td>0.0</td>\n",
       "      <td>0.0</td>\n",
       "      <td>0.0</td>\n",
       "      <td>0.0</td>\n",
       "      <td>1.0</td>\n",
       "    </tr>\n",
       "    <tr>\n",
       "      <th>Soil_Type16</th>\n",
       "      <td>581012.0</td>\n",
       "      <td>0.004897</td>\n",
       "      <td>0.069804</td>\n",
       "      <td>0.0</td>\n",
       "      <td>0.0</td>\n",
       "      <td>0.0</td>\n",
       "      <td>0.0</td>\n",
       "      <td>1.0</td>\n",
       "    </tr>\n",
       "    <tr>\n",
       "      <th>Soil_Type17</th>\n",
       "      <td>581012.0</td>\n",
       "      <td>0.005890</td>\n",
       "      <td>0.076518</td>\n",
       "      <td>0.0</td>\n",
       "      <td>0.0</td>\n",
       "      <td>0.0</td>\n",
       "      <td>0.0</td>\n",
       "      <td>1.0</td>\n",
       "    </tr>\n",
       "    <tr>\n",
       "      <th>Soil_Type18</th>\n",
       "      <td>581012.0</td>\n",
       "      <td>0.003268</td>\n",
       "      <td>0.057077</td>\n",
       "      <td>0.0</td>\n",
       "      <td>0.0</td>\n",
       "      <td>0.0</td>\n",
       "      <td>0.0</td>\n",
       "      <td>1.0</td>\n",
       "    </tr>\n",
       "    <tr>\n",
       "      <th>Soil_Type19</th>\n",
       "      <td>581012.0</td>\n",
       "      <td>0.006921</td>\n",
       "      <td>0.082902</td>\n",
       "      <td>0.0</td>\n",
       "      <td>0.0</td>\n",
       "      <td>0.0</td>\n",
       "      <td>0.0</td>\n",
       "      <td>1.0</td>\n",
       "    </tr>\n",
       "    <tr>\n",
       "      <th>Soil_Type20</th>\n",
       "      <td>581012.0</td>\n",
       "      <td>0.015936</td>\n",
       "      <td>0.125228</td>\n",
       "      <td>0.0</td>\n",
       "      <td>0.0</td>\n",
       "      <td>0.0</td>\n",
       "      <td>0.0</td>\n",
       "      <td>1.0</td>\n",
       "    </tr>\n",
       "    <tr>\n",
       "      <th>Soil_Type21</th>\n",
       "      <td>581012.0</td>\n",
       "      <td>0.001442</td>\n",
       "      <td>0.037950</td>\n",
       "      <td>0.0</td>\n",
       "      <td>0.0</td>\n",
       "      <td>0.0</td>\n",
       "      <td>0.0</td>\n",
       "      <td>1.0</td>\n",
       "    </tr>\n",
       "    <tr>\n",
       "      <th>Soil_Type22</th>\n",
       "      <td>581012.0</td>\n",
       "      <td>0.057439</td>\n",
       "      <td>0.232681</td>\n",
       "      <td>0.0</td>\n",
       "      <td>0.0</td>\n",
       "      <td>0.0</td>\n",
       "      <td>0.0</td>\n",
       "      <td>1.0</td>\n",
       "    </tr>\n",
       "    <tr>\n",
       "      <th>Soil_Type23</th>\n",
       "      <td>581012.0</td>\n",
       "      <td>0.099399</td>\n",
       "      <td>0.299197</td>\n",
       "      <td>0.0</td>\n",
       "      <td>0.0</td>\n",
       "      <td>0.0</td>\n",
       "      <td>0.0</td>\n",
       "      <td>1.0</td>\n",
       "    </tr>\n",
       "    <tr>\n",
       "      <th>Soil_Type24</th>\n",
       "      <td>581012.0</td>\n",
       "      <td>0.036622</td>\n",
       "      <td>0.187833</td>\n",
       "      <td>0.0</td>\n",
       "      <td>0.0</td>\n",
       "      <td>0.0</td>\n",
       "      <td>0.0</td>\n",
       "      <td>1.0</td>\n",
       "    </tr>\n",
       "    <tr>\n",
       "      <th>Soil_Type25</th>\n",
       "      <td>581012.0</td>\n",
       "      <td>0.000816</td>\n",
       "      <td>0.028551</td>\n",
       "      <td>0.0</td>\n",
       "      <td>0.0</td>\n",
       "      <td>0.0</td>\n",
       "      <td>0.0</td>\n",
       "      <td>1.0</td>\n",
       "    </tr>\n",
       "    <tr>\n",
       "      <th>Soil_Type26</th>\n",
       "      <td>581012.0</td>\n",
       "      <td>0.004456</td>\n",
       "      <td>0.066605</td>\n",
       "      <td>0.0</td>\n",
       "      <td>0.0</td>\n",
       "      <td>0.0</td>\n",
       "      <td>0.0</td>\n",
       "      <td>1.0</td>\n",
       "    </tr>\n",
       "    <tr>\n",
       "      <th>Soil_Type27</th>\n",
       "      <td>581012.0</td>\n",
       "      <td>0.001869</td>\n",
       "      <td>0.043193</td>\n",
       "      <td>0.0</td>\n",
       "      <td>0.0</td>\n",
       "      <td>0.0</td>\n",
       "      <td>0.0</td>\n",
       "      <td>1.0</td>\n",
       "    </tr>\n",
       "    <tr>\n",
       "      <th>Soil_Type28</th>\n",
       "      <td>581012.0</td>\n",
       "      <td>0.001628</td>\n",
       "      <td>0.040318</td>\n",
       "      <td>0.0</td>\n",
       "      <td>0.0</td>\n",
       "      <td>0.0</td>\n",
       "      <td>0.0</td>\n",
       "      <td>1.0</td>\n",
       "    </tr>\n",
       "    <tr>\n",
       "      <th>Soil_Type29</th>\n",
       "      <td>581012.0</td>\n",
       "      <td>0.198356</td>\n",
       "      <td>0.398762</td>\n",
       "      <td>0.0</td>\n",
       "      <td>0.0</td>\n",
       "      <td>0.0</td>\n",
       "      <td>0.0</td>\n",
       "      <td>1.0</td>\n",
       "    </tr>\n",
       "    <tr>\n",
       "      <th>Soil_Type30</th>\n",
       "      <td>581012.0</td>\n",
       "      <td>0.051927</td>\n",
       "      <td>0.221879</td>\n",
       "      <td>0.0</td>\n",
       "      <td>0.0</td>\n",
       "      <td>0.0</td>\n",
       "      <td>0.0</td>\n",
       "      <td>1.0</td>\n",
       "    </tr>\n",
       "    <tr>\n",
       "      <th>Soil_Type31</th>\n",
       "      <td>581012.0</td>\n",
       "      <td>0.044175</td>\n",
       "      <td>0.205483</td>\n",
       "      <td>0.0</td>\n",
       "      <td>0.0</td>\n",
       "      <td>0.0</td>\n",
       "      <td>0.0</td>\n",
       "      <td>1.0</td>\n",
       "    </tr>\n",
       "    <tr>\n",
       "      <th>Soil_Type32</th>\n",
       "      <td>581012.0</td>\n",
       "      <td>0.090392</td>\n",
       "      <td>0.286743</td>\n",
       "      <td>0.0</td>\n",
       "      <td>0.0</td>\n",
       "      <td>0.0</td>\n",
       "      <td>0.0</td>\n",
       "      <td>1.0</td>\n",
       "    </tr>\n",
       "    <tr>\n",
       "      <th>Soil_Type33</th>\n",
       "      <td>581012.0</td>\n",
       "      <td>0.077716</td>\n",
       "      <td>0.267725</td>\n",
       "      <td>0.0</td>\n",
       "      <td>0.0</td>\n",
       "      <td>0.0</td>\n",
       "      <td>0.0</td>\n",
       "      <td>1.0</td>\n",
       "    </tr>\n",
       "    <tr>\n",
       "      <th>Soil_Type34</th>\n",
       "      <td>581012.0</td>\n",
       "      <td>0.002773</td>\n",
       "      <td>0.052584</td>\n",
       "      <td>0.0</td>\n",
       "      <td>0.0</td>\n",
       "      <td>0.0</td>\n",
       "      <td>0.0</td>\n",
       "      <td>1.0</td>\n",
       "    </tr>\n",
       "    <tr>\n",
       "      <th>Soil_Type35</th>\n",
       "      <td>581012.0</td>\n",
       "      <td>0.003255</td>\n",
       "      <td>0.056957</td>\n",
       "      <td>0.0</td>\n",
       "      <td>0.0</td>\n",
       "      <td>0.0</td>\n",
       "      <td>0.0</td>\n",
       "      <td>1.0</td>\n",
       "    </tr>\n",
       "    <tr>\n",
       "      <th>Soil_Type36</th>\n",
       "      <td>581012.0</td>\n",
       "      <td>0.000205</td>\n",
       "      <td>0.014310</td>\n",
       "      <td>0.0</td>\n",
       "      <td>0.0</td>\n",
       "      <td>0.0</td>\n",
       "      <td>0.0</td>\n",
       "      <td>1.0</td>\n",
       "    </tr>\n",
       "    <tr>\n",
       "      <th>Soil_Type37</th>\n",
       "      <td>581012.0</td>\n",
       "      <td>0.000513</td>\n",
       "      <td>0.022641</td>\n",
       "      <td>0.0</td>\n",
       "      <td>0.0</td>\n",
       "      <td>0.0</td>\n",
       "      <td>0.0</td>\n",
       "      <td>1.0</td>\n",
       "    </tr>\n",
       "    <tr>\n",
       "      <th>Soil_Type38</th>\n",
       "      <td>581012.0</td>\n",
       "      <td>0.026803</td>\n",
       "      <td>0.161508</td>\n",
       "      <td>0.0</td>\n",
       "      <td>0.0</td>\n",
       "      <td>0.0</td>\n",
       "      <td>0.0</td>\n",
       "      <td>1.0</td>\n",
       "    </tr>\n",
       "    <tr>\n",
       "      <th>Soil_Type39</th>\n",
       "      <td>581012.0</td>\n",
       "      <td>0.023762</td>\n",
       "      <td>0.152307</td>\n",
       "      <td>0.0</td>\n",
       "      <td>0.0</td>\n",
       "      <td>0.0</td>\n",
       "      <td>0.0</td>\n",
       "      <td>1.0</td>\n",
       "    </tr>\n",
       "    <tr>\n",
       "      <th>Soil_Type40</th>\n",
       "      <td>581012.0</td>\n",
       "      <td>0.015060</td>\n",
       "      <td>0.121791</td>\n",
       "      <td>0.0</td>\n",
       "      <td>0.0</td>\n",
       "      <td>0.0</td>\n",
       "      <td>0.0</td>\n",
       "      <td>1.0</td>\n",
       "    </tr>\n",
       "    <tr>\n",
       "      <th>Cover_Type_1</th>\n",
       "      <td>581012.0</td>\n",
       "      <td>0.364605</td>\n",
       "      <td>0.481320</td>\n",
       "      <td>0.0</td>\n",
       "      <td>0.0</td>\n",
       "      <td>0.0</td>\n",
       "      <td>1.0</td>\n",
       "      <td>1.0</td>\n",
       "    </tr>\n",
       "    <tr>\n",
       "      <th>Cover_Type_2</th>\n",
       "      <td>581012.0</td>\n",
       "      <td>0.487599</td>\n",
       "      <td>0.499847</td>\n",
       "      <td>0.0</td>\n",
       "      <td>0.0</td>\n",
       "      <td>0.0</td>\n",
       "      <td>1.0</td>\n",
       "      <td>1.0</td>\n",
       "    </tr>\n",
       "    <tr>\n",
       "      <th>Cover_Type_3</th>\n",
       "      <td>581012.0</td>\n",
       "      <td>0.061537</td>\n",
       "      <td>0.240314</td>\n",
       "      <td>0.0</td>\n",
       "      <td>0.0</td>\n",
       "      <td>0.0</td>\n",
       "      <td>0.0</td>\n",
       "      <td>1.0</td>\n",
       "    </tr>\n",
       "    <tr>\n",
       "      <th>Cover_Type_4</th>\n",
       "      <td>581012.0</td>\n",
       "      <td>0.004728</td>\n",
       "      <td>0.068597</td>\n",
       "      <td>0.0</td>\n",
       "      <td>0.0</td>\n",
       "      <td>0.0</td>\n",
       "      <td>0.0</td>\n",
       "      <td>1.0</td>\n",
       "    </tr>\n",
       "    <tr>\n",
       "      <th>Cover_Type_5</th>\n",
       "      <td>581012.0</td>\n",
       "      <td>0.016339</td>\n",
       "      <td>0.126775</td>\n",
       "      <td>0.0</td>\n",
       "      <td>0.0</td>\n",
       "      <td>0.0</td>\n",
       "      <td>0.0</td>\n",
       "      <td>1.0</td>\n",
       "    </tr>\n",
       "    <tr>\n",
       "      <th>Cover_Type_6</th>\n",
       "      <td>581012.0</td>\n",
       "      <td>0.029891</td>\n",
       "      <td>0.170287</td>\n",
       "      <td>0.0</td>\n",
       "      <td>0.0</td>\n",
       "      <td>0.0</td>\n",
       "      <td>0.0</td>\n",
       "      <td>1.0</td>\n",
       "    </tr>\n",
       "    <tr>\n",
       "      <th>Cover_Type_7</th>\n",
       "      <td>581012.0</td>\n",
       "      <td>0.035300</td>\n",
       "      <td>0.184538</td>\n",
       "      <td>0.0</td>\n",
       "      <td>0.0</td>\n",
       "      <td>0.0</td>\n",
       "      <td>0.0</td>\n",
       "      <td>1.0</td>\n",
       "    </tr>\n",
       "  </tbody>\n",
       "</table>\n",
       "</div>"
      ],
      "text/plain": [
       "                           count         mean          std     min     25%  \\\n",
       "Elevation               581012.0  2959.365301   279.984734  1859.0  2809.0   \n",
       "Aspect                  581012.0   155.656807   111.913721     0.0    58.0   \n",
       "Slope                   581012.0    14.103704     7.488242     0.0     9.0   \n",
       "Horiz_Dist_to_Hydro     581012.0   269.428217   212.549356     0.0   108.0   \n",
       "Vert_Dist_to_Hydro      581012.0    46.418855    58.295232  -173.0     7.0   \n",
       "Horiz_Dist_to_Road      581012.0  2350.146611  1559.254870     0.0  1106.0   \n",
       "Hillshade_9am           581012.0   212.146049    26.769889     0.0   198.0   \n",
       "Hillshade_Noon          581012.0   223.318716    19.768697     0.0   213.0   \n",
       "Hillshade_3pm           581012.0   142.528263    38.274529     0.0   119.0   \n",
       "Horiz_Dist_to_Fire_pts  581012.0  1980.291226  1324.195210     0.0  1024.0   \n",
       "Soil_Type1              581012.0     0.005217     0.072039     0.0     0.0   \n",
       "Soil_Type2              581012.0     0.012952     0.113066     0.0     0.0   \n",
       "Soil_Type3              581012.0     0.008301     0.090731     0.0     0.0   \n",
       "Soil_Type4              581012.0     0.021335     0.144499     0.0     0.0   \n",
       "Soil_Type5              581012.0     0.002749     0.052356     0.0     0.0   \n",
       "Soil_Type6              581012.0     0.011316     0.105775     0.0     0.0   \n",
       "Soil_Type7              581012.0     0.000181     0.013442     0.0     0.0   \n",
       "Soil_Type8              581012.0     0.000308     0.017550     0.0     0.0   \n",
       "Soil_Type9              581012.0     0.001974     0.044387     0.0     0.0   \n",
       "Soil_Type10             581012.0     0.056168     0.230245     0.0     0.0   \n",
       "Soil_Type11             581012.0     0.021359     0.144579     0.0     0.0   \n",
       "Soil_Type12             581012.0     0.051584     0.221186     0.0     0.0   \n",
       "Soil_Type13             581012.0     0.030001     0.170590     0.0     0.0   \n",
       "Soil_Type14             581012.0     0.001031     0.032092     0.0     0.0   \n",
       "Soil_Type15             581012.0     0.000005     0.002272     0.0     0.0   \n",
       "Soil_Type16             581012.0     0.004897     0.069804     0.0     0.0   \n",
       "Soil_Type17             581012.0     0.005890     0.076518     0.0     0.0   \n",
       "Soil_Type18             581012.0     0.003268     0.057077     0.0     0.0   \n",
       "Soil_Type19             581012.0     0.006921     0.082902     0.0     0.0   \n",
       "Soil_Type20             581012.0     0.015936     0.125228     0.0     0.0   \n",
       "Soil_Type21             581012.0     0.001442     0.037950     0.0     0.0   \n",
       "Soil_Type22             581012.0     0.057439     0.232681     0.0     0.0   \n",
       "Soil_Type23             581012.0     0.099399     0.299197     0.0     0.0   \n",
       "Soil_Type24             581012.0     0.036622     0.187833     0.0     0.0   \n",
       "Soil_Type25             581012.0     0.000816     0.028551     0.0     0.0   \n",
       "Soil_Type26             581012.0     0.004456     0.066605     0.0     0.0   \n",
       "Soil_Type27             581012.0     0.001869     0.043193     0.0     0.0   \n",
       "Soil_Type28             581012.0     0.001628     0.040318     0.0     0.0   \n",
       "Soil_Type29             581012.0     0.198356     0.398762     0.0     0.0   \n",
       "Soil_Type30             581012.0     0.051927     0.221879     0.0     0.0   \n",
       "Soil_Type31             581012.0     0.044175     0.205483     0.0     0.0   \n",
       "Soil_Type32             581012.0     0.090392     0.286743     0.0     0.0   \n",
       "Soil_Type33             581012.0     0.077716     0.267725     0.0     0.0   \n",
       "Soil_Type34             581012.0     0.002773     0.052584     0.0     0.0   \n",
       "Soil_Type35             581012.0     0.003255     0.056957     0.0     0.0   \n",
       "Soil_Type36             581012.0     0.000205     0.014310     0.0     0.0   \n",
       "Soil_Type37             581012.0     0.000513     0.022641     0.0     0.0   \n",
       "Soil_Type38             581012.0     0.026803     0.161508     0.0     0.0   \n",
       "Soil_Type39             581012.0     0.023762     0.152307     0.0     0.0   \n",
       "Soil_Type40             581012.0     0.015060     0.121791     0.0     0.0   \n",
       "Cover_Type_1            581012.0     0.364605     0.481320     0.0     0.0   \n",
       "Cover_Type_2            581012.0     0.487599     0.499847     0.0     0.0   \n",
       "Cover_Type_3            581012.0     0.061537     0.240314     0.0     0.0   \n",
       "Cover_Type_4            581012.0     0.004728     0.068597     0.0     0.0   \n",
       "Cover_Type_5            581012.0     0.016339     0.126775     0.0     0.0   \n",
       "Cover_Type_6            581012.0     0.029891     0.170287     0.0     0.0   \n",
       "Cover_Type_7            581012.0     0.035300     0.184538     0.0     0.0   \n",
       "\n",
       "                           50%     75%     max  \n",
       "Elevation               2996.0  3163.0  3858.0  \n",
       "Aspect                   127.0   260.0   360.0  \n",
       "Slope                     13.0    18.0    66.0  \n",
       "Horiz_Dist_to_Hydro      218.0   384.0  1397.0  \n",
       "Vert_Dist_to_Hydro        30.0    69.0   601.0  \n",
       "Horiz_Dist_to_Road      1997.0  3328.0  7117.0  \n",
       "Hillshade_9am            218.0   231.0   254.0  \n",
       "Hillshade_Noon           226.0   237.0   254.0  \n",
       "Hillshade_3pm            143.0   168.0   254.0  \n",
       "Horiz_Dist_to_Fire_pts  1710.0  2550.0  7173.0  \n",
       "Soil_Type1                 0.0     0.0     1.0  \n",
       "Soil_Type2                 0.0     0.0     1.0  \n",
       "Soil_Type3                 0.0     0.0     1.0  \n",
       "Soil_Type4                 0.0     0.0     1.0  \n",
       "Soil_Type5                 0.0     0.0     1.0  \n",
       "Soil_Type6                 0.0     0.0     1.0  \n",
       "Soil_Type7                 0.0     0.0     1.0  \n",
       "Soil_Type8                 0.0     0.0     1.0  \n",
       "Soil_Type9                 0.0     0.0     1.0  \n",
       "Soil_Type10                0.0     0.0     1.0  \n",
       "Soil_Type11                0.0     0.0     1.0  \n",
       "Soil_Type12                0.0     0.0     1.0  \n",
       "Soil_Type13                0.0     0.0     1.0  \n",
       "Soil_Type14                0.0     0.0     1.0  \n",
       "Soil_Type15                0.0     0.0     1.0  \n",
       "Soil_Type16                0.0     0.0     1.0  \n",
       "Soil_Type17                0.0     0.0     1.0  \n",
       "Soil_Type18                0.0     0.0     1.0  \n",
       "Soil_Type19                0.0     0.0     1.0  \n",
       "Soil_Type20                0.0     0.0     1.0  \n",
       "Soil_Type21                0.0     0.0     1.0  \n",
       "Soil_Type22                0.0     0.0     1.0  \n",
       "Soil_Type23                0.0     0.0     1.0  \n",
       "Soil_Type24                0.0     0.0     1.0  \n",
       "Soil_Type25                0.0     0.0     1.0  \n",
       "Soil_Type26                0.0     0.0     1.0  \n",
       "Soil_Type27                0.0     0.0     1.0  \n",
       "Soil_Type28                0.0     0.0     1.0  \n",
       "Soil_Type29                0.0     0.0     1.0  \n",
       "Soil_Type30                0.0     0.0     1.0  \n",
       "Soil_Type31                0.0     0.0     1.0  \n",
       "Soil_Type32                0.0     0.0     1.0  \n",
       "Soil_Type33                0.0     0.0     1.0  \n",
       "Soil_Type34                0.0     0.0     1.0  \n",
       "Soil_Type35                0.0     0.0     1.0  \n",
       "Soil_Type36                0.0     0.0     1.0  \n",
       "Soil_Type37                0.0     0.0     1.0  \n",
       "Soil_Type38                0.0     0.0     1.0  \n",
       "Soil_Type39                0.0     0.0     1.0  \n",
       "Soil_Type40                0.0     0.0     1.0  \n",
       "Cover_Type_1               0.0     1.0     1.0  \n",
       "Cover_Type_2               0.0     1.0     1.0  \n",
       "Cover_Type_3               0.0     0.0     1.0  \n",
       "Cover_Type_4               0.0     0.0     1.0  \n",
       "Cover_Type_5               0.0     0.0     1.0  \n",
       "Cover_Type_6               0.0     0.0     1.0  \n",
       "Cover_Type_7               0.0     0.0     1.0  "
      ]
     },
     "execution_count": 5,
     "metadata": {},
     "output_type": "execute_result"
    }
   ],
   "source": [
    "X2.describe().transpose()"
   ]
  },
  {
   "cell_type": "markdown",
   "metadata": {},
   "source": [
    "The summary statistics above show:  \n",
    "581,012 observations  \n",
    "57 Attributes  \n",
    "\n",
    "Of those 57 attributes there are 12 measures.   \n",
    "10 quantitative measures  \n",
    "7 binary cover type type indicators  \n",
    "40 binary soil type indicators  \n",
    "\n",
    "The dependent variable is Wilderness_Area and is an integer from 1 to 4.  \n",
    "\n",
    "Luckily there are no missing values or outliers."
   ]
  },
  {
   "cell_type": "markdown",
   "metadata": {},
   "source": [
    "## Training and Testing Split:"
   ]
  },
  {
   "cell_type": "markdown",
   "metadata": {},
   "source": [
    "I use train_test_split from scikit-learn's model_selection to split the data into training and test sets. I assigned the independent variables to X2 and the dependent variable to y2 above. Using those as inputs, the following command creates training and test sets of X2 and y2. I use 80% of the data for training and 10% for test."
   ]
  },
  {
   "cell_type": "code",
   "execution_count": 10,
   "metadata": {
    "collapsed": true
   },
   "outputs": [],
   "source": [
    "# Splitting the dataset into the Training set and Test set\n",
    "X2_train, X2_test, y2_train, y2_test = train_test_split(X2, y2, test_size = 0.2, random_state = 0)"
   ]
  },
  {
   "cell_type": "markdown",
   "metadata": {},
   "source": [
    "## Feature Scaling:"
   ]
  },
  {
   "cell_type": "markdown",
   "metadata": {},
   "source": [
    "Because the variables are not all on the same scale, some variables could be given more importance than they warrant. To prevent this I will rescale all of the independent variables to be on the same scale using scikit-learn.preprocessing StandardScaler."
   ]
  },
  {
   "cell_type": "code",
   "execution_count": 11,
   "metadata": {
    "collapsed": true
   },
   "outputs": [],
   "source": [
    "# Feature Scaling\n",
    "X2_train = sc.fit_transform(X2_train)\n",
    "X2_test = sc.transform(X2_test)"
   ]
  },
  {
   "cell_type": "code",
   "execution_count": 12,
   "metadata": {},
   "outputs": [
    {
     "data": {
      "text/plain": [
       "array([[-1.84064495, -1.35478696,  0.1206809 , ..., -0.12898899,\n",
       "        -0.17534712, -0.19135746],\n",
       "       [ 1.41287262, -0.53258265,  1.18912469, ..., -0.12898899,\n",
       "        -0.17534712, -0.19135746],\n",
       "       [ 0.10218003,  1.54973913, -1.34842932, ..., -0.12898899,\n",
       "        -0.17534712, -0.19135746],\n",
       "       ..., \n",
       "       [-1.41565198, -0.23766154, -0.68065195, ..., -0.12898899,\n",
       "        -0.17534712, -0.19135746],\n",
       "       [ 1.29501743,  0.73647182, -0.01287458, ..., -0.12898899,\n",
       "        -0.17534712, -0.19135746],\n",
       "       [-1.70493291,  0.91521189,  1.58979111, ..., -0.12898899,\n",
       "        -0.17534712, -0.19135746]])"
      ]
     },
     "execution_count": 12,
     "metadata": {},
     "output_type": "execute_result"
    }
   ],
   "source": [
    "X2_train"
   ]
  },
  {
   "cell_type": "markdown",
   "metadata": {},
   "source": [
    "The training and test sets of X2 are now all scaled the same and ready to apply models to."
   ]
  },
  {
   "cell_type": "markdown",
   "metadata": {},
   "source": [
    "## Decision Tree:"
   ]
  },
  {
   "cell_type": "markdown",
   "metadata": {},
   "source": [
    "The first model I will evaluate for the second classifier task is a Decision Tree Classifier. This model also comes from scikit-learn. A good benefit of decision trees is that is requires very little assumptions, like normality, or data normalization.They also handle irrelevent variables well. "
   ]
  },
  {
   "cell_type": "code",
   "execution_count": 152,
   "metadata": {},
   "outputs": [
    {
     "data": {
      "text/plain": [
       "DecisionTreeClassifier(class_weight=None, criterion='entropy', max_depth=None,\n",
       "            max_features=None, max_leaf_nodes=None,\n",
       "            min_impurity_split=1e-07, min_samples_leaf=1,\n",
       "            min_samples_split=2, min_weight_fraction_leaf=0.0,\n",
       "            presort=False, random_state=0, splitter='best')"
      ]
     },
     "execution_count": 152,
     "metadata": {},
     "output_type": "execute_result"
    }
   ],
   "source": [
    "# Fitting the decision tree to the training set\n",
    "DTclassifier2 = DecisionTreeClassifier(criterion = 'entropy', random_state = 0)\n",
    "DTclassifier2.fit(X2_train, y2_train)"
   ]
  },
  {
   "cell_type": "code",
   "execution_count": 153,
   "metadata": {},
   "outputs": [
    {
     "name": "stdout",
     "output_type": "stream",
     "text": [
      "[[51824    24   139     0]\n",
      " [   43  5846    59     0]\n",
      " [  139    46 50660    76]\n",
      " [    0     0    55  7292]]\n"
     ]
    }
   ],
   "source": [
    "y2_predDT = DTclassifier2.predict(X2_test)\n",
    "\n",
    "# Making the Confusion Matrix\n",
    "cmDT2 = confusion_matrix(y2_test, y2_predDT)\n",
    "print(cmDT2)"
   ]
  },
  {
   "cell_type": "markdown",
   "metadata": {},
   "source": [
    "Tnis confusion matrix looks pretty good. I would expect the accuracy to also impress. Here the cells off of the truth diagonal are very sparse compared values on the correct prediction diagonal."
   ]
  },
  {
   "cell_type": "code",
   "execution_count": 154,
   "metadata": {},
   "outputs": [
    {
     "name": "stdout",
     "output_type": "stream",
     "text": [
      "mean accuracy: 0.994105105673\n",
      "accuracy stddev: 0.000182804400121\n"
     ]
    }
   ],
   "source": [
    "# Applying k-Fold Cross Validation                      \n",
    "accuraciesDT2 = cross_val_score(estimator = DTclassifier2, X = X2_train, y = y2_train, cv = 10, n_jobs = -1)\n",
    "print('mean accuracy:',accuraciesDT2.mean())\n",
    "print('accuracy stddev:',accuraciesDT2.std())"
   ]
  },
  {
   "cell_type": "raw",
   "metadata": {},
   "source": [
    "As expected, using a 10-fold cross validation, the average accuracy is impressive at 99.4%! That is ridiculous. The decision tree does have parameters though, it may be possible to improve the performance that last little bit by tweaking the prameters. To do this I will use a grid search."
   ]
  },
  {
   "cell_type": "markdown",
   "metadata": {},
   "source": [
    "### Using Grid Search to find the best model parameters:"
   ]
  },
  {
   "cell_type": "markdown",
   "metadata": {},
   "source": [
    "The main parameter in the decision tree is the criterion. The choices are 'gini' and 'entropy'. Entropy is a measure of impurity while gini "
   ]
  },
  {
   "cell_type": "code",
   "execution_count": 155,
   "metadata": {
    "collapsed": true
   },
   "outputs": [],
   "source": [
    "# Applying Grid Search to find the best model and the best parameters\n",
    "parameters = [{'criterion': ['gini'], 'max_depth': [None], 'min_samples_split': [2, 100, 1000], 'min_samples_leaf': [1, 10, 100],\n",
    "              'max_features': [None], 'max_leaf_nodes': [None]},\n",
    "              {'criterion': ['entropy'], 'max_depth': [None, 5, 10], 'min_samples_split': [2, 100, 1000],\n",
    "               'min_samples_leaf': [1, 10, 100], 'max_leaf_nodes': [None]}]\n",
    "grid_search = GridSearchCV(estimator = DTclassifier,\n",
    "                           param_grid = parameters,\n",
    "                           scoring = 'accuracy',\n",
    "                           cv = 10,\n",
    "                           n_jobs = -1)\n",
    "grid_search2 = grid_search.fit(X2_train, y2_train)\n",
    "best_accuracy = grid_search2.best_score_\n",
    "best_parameters = grid_search2.best_params_"
   ]
  },
  {
   "cell_type": "code",
   "execution_count": 156,
   "metadata": {},
   "outputs": [
    {
     "name": "stdout",
     "output_type": "stream",
     "text": [
      "Best Accuracy: 0.994105105538\n",
      "Using these parameters:/n {'criterion': 'entropy', 'max_depth': None, 'max_leaf_nodes': None, 'min_samples_leaf': 1, 'min_samples_split': 2}\n"
     ]
    }
   ],
   "source": [
    "print('Best Accuracy:', best_accuracy)\n",
    "print('Using these parameters:/n', best_parameters)"
   ]
  },
  {
   "cell_type": "markdown",
   "metadata": {},
   "source": [
    "Those are actually the default parameters for the entropy criteria that I used. I will look more closely at the final model."
   ]
  },
  {
   "cell_type": "code",
   "execution_count": 157,
   "metadata": {},
   "outputs": [
    {
     "data": {
      "text/plain": [
       "DecisionTreeClassifier(class_weight=None, criterion='entropy', max_depth=None,\n",
       "            max_features=None, max_leaf_nodes=None,\n",
       "            min_impurity_split=1e-07, min_samples_leaf=1,\n",
       "            min_samples_split=2, min_weight_fraction_leaf=0.0,\n",
       "            presort=False, random_state=0, splitter='best')"
      ]
     },
     "execution_count": 157,
     "metadata": {},
     "output_type": "execute_result"
    }
   ],
   "source": [
    "DTclassifier2 = DecisionTreeClassifier(criterion = 'entropy', random_state = 0)\n",
    "DTclassifier2.fit(X2_train, y2_train)"
   ]
  },
  {
   "cell_type": "markdown",
   "metadata": {},
   "source": [
    "### Interpretation of importances"
   ]
  },
  {
   "cell_type": "code",
   "execution_count": 158,
   "metadata": {},
   "outputs": [
    {
     "name": "stdout",
     "output_type": "stream",
     "text": [
      "Cover_Type_5 has weight of 0.0\n",
      "Soil_Type15 has weight of 0.0\n",
      "Soil_Type25 has weight of 0.0\n",
      "Soil_Type28 has weight of 0.0\n",
      "Soil_Type7 has weight of 0.0\n",
      "Soil_Type8 has weight of 0.0\n",
      "Soil_Type36 has weight of 1.35428681461e-05\n",
      "Soil_Type17 has weight of 2.32706749865e-05\n",
      "Soil_Type14 has weight of 2.93529011945e-05\n",
      "Cover_Type_4 has weight of 3.59624096603e-05\n",
      "Soil_Type3 has weight of 4.34757418218e-05\n",
      "Soil_Type2 has weight of 9.70045981631e-05\n",
      "Soil_Type27 has weight of 0.000111689569442\n",
      "Soil_Type37 has weight of 0.000112477896155\n",
      "Soil_Type18 has weight of 0.000194086020904\n",
      "Cover_Type_6 has weight of 0.000269726982395\n",
      "Soil_Type4 has weight of 0.00040543361599\n",
      "Soil_Type11 has weight of 0.000435732625915\n",
      "Soil_Type5 has weight of 0.000487516517681\n",
      "Soil_Type34 has weight of 0.000540057558555\n",
      "Soil_Type26 has weight of 0.000553258932586\n",
      "Soil_Type35 has weight of 0.000578865109289\n",
      "Soil_Type21 has weight of 0.000732857562011\n",
      "Cover_Type_3 has weight of 0.00081636223532\n",
      "Soil_Type1 has weight of 0.000869269360585\n",
      "Cover_Type_7 has weight of 0.00150493686967\n",
      "Soil_Type19 has weight of 0.00208859915434\n",
      "Soil_Type38 has weight of 0.00223326475641\n",
      "Soil_Type13 has weight of 0.00265343543593\n",
      "Soil_Type10 has weight of 0.00298343830056\n",
      "Soil_Type16 has weight of 0.00349367578917\n",
      "Soil_Type39 has weight of 0.00362027266484\n",
      "Slope has weight of 0.00368850516775\n",
      "Soil_Type24 has weight of 0.00565497275167\n",
      "Cover_Type_2 has weight of 0.00593537933463\n",
      "Soil_Type40 has weight of 0.006788977377\n",
      "Soil_Type31 has weight of 0.00692330068702\n",
      "Hillshade_Noon has weight of 0.00772723523629\n",
      "Soil_Type9 has weight of 0.00791659265329\n",
      "Soil_Type20 has weight of 0.00801264604332\n",
      "Hillshade_3pm has weight of 0.00908441909209\n",
      "Cover_Type_1 has weight of 0.00940790639515\n",
      "Soil_Type6 has weight of 0.0102524830533\n",
      "Aspect has weight of 0.0107442679605\n",
      "Hillshade_9am has weight of 0.0116069033189\n",
      "Soil_Type32 has weight of 0.0117001334838\n",
      "Soil_Type33 has weight of 0.0118293255895\n",
      "Horiz_Dist_to_Hydro has weight of 0.0120848500802\n",
      "Vert_Dist_to_Hydro has weight of 0.0125947085903\n",
      "Soil_Type22 has weight of 0.0215440237397\n",
      "Soil_Type23 has weight of 0.0246361290141\n",
      "Soil_Type30 has weight of 0.0513597700058\n",
      "Soil_Type12 has weight of 0.0535989169176\n",
      "Horiz_Dist_to_Fire_pts has weight of 0.0875356831879\n",
      "Horiz_Dist_to_Road has weight of 0.135945662625\n",
      "Soil_Type29 has weight of 0.180248285936\n",
      "Elevation has weight of 0.268251355607\n"
     ]
    }
   ],
   "source": [
    "# Interpreting weights\n",
    "zip_varsDT2 = zip(DTclassifier2.feature_importances_.T,X2.columns) # combine attributes\n",
    "zip_varsDT2 = sorted(zip_varsDT2)\n",
    "for importance, name in zip_varsDT2:\n",
    "    print(name, 'has weight of', importance) # now print them out"
   ]
  },
  {
   "cell_type": "markdown",
   "metadata": {},
   "source": [
    "In the decision tree model, the importance of the variables are very similar to what they were in the first classification task examined earlier. Elevation is still most important, but soil types have taken on greater importance. Distance to roadways and fires are next in importance. This result is interesting. It makes sense that variables that are very specific to particular locations would predict the area. Combinations of those areas would be unique to wilderness area classes."
   ]
  },
  {
   "cell_type": "markdown",
   "metadata": {},
   "source": [
    "## K Nearest Neighbors:"
   ]
  },
  {
   "cell_type": "markdown",
   "metadata": {},
   "source": [
    "The next classifier model I will use is the K-nearest-neighbor classifier. To use this classifier, first I choose the number of neighbors to use. I will choose 3 to try to keep processing time within reason. Next, for each new data point, the model takes the K (3) nearest neighbors as measured by the Euclidean distance (by default). For those K nearest neighbors, the model then counts the class of each and assigns the most common class to the new data point."
   ]
  },
  {
   "cell_type": "code",
   "execution_count": 25,
   "metadata": {},
   "outputs": [
    {
     "data": {
      "text/plain": [
       "KNeighborsClassifier(algorithm='auto', leaf_size=30, metric='minkowski',\n",
       "           metric_params=None, n_jobs=-1, n_neighbors=3, p=2,\n",
       "           weights='uniform')"
      ]
     },
     "execution_count": 25,
     "metadata": {},
     "output_type": "execute_result"
    }
   ],
   "source": [
    "from sklearn.neighbors import KNeighborsClassifier\n",
    "from sklearn import metrics as mt\n",
    "\n",
    "# get a handle to the classifier object, which defines the type\n",
    "clf = KNeighborsClassifier(n_neighbors=3, n_jobs = -1)\n",
    "clf.fit(X2_train,y2_train)"
   ]
  },
  {
   "cell_type": "code",
   "execution_count": 27,
   "metadata": {
    "collapsed": true
   },
   "outputs": [],
   "source": [
    "y_predKNN = clf.predict(X2_test)"
   ]
  },
  {
   "cell_type": "code",
   "execution_count": 28,
   "metadata": {},
   "outputs": [
    {
     "name": "stdout",
     "output_type": "stream",
     "text": [
      "KNN accuracy 0.992452862663\n"
     ]
    },
    {
     "data": {
      "text/plain": [
       "<matplotlib.image.AxesImage at 0x252b80362e8>"
      ]
     },
     "execution_count": 28,
     "metadata": {},
     "output_type": "execute_result"
    }
   ],
   "source": [
    "from matplotlib import pyplot as plt\n",
    "# Making the Confusion Matrix\n",
    "cmKNN2 = confusion_matrix(y2_test, y_predKNN)\n",
    "total_accuracy = mt.accuracy_score(y2_test, y_predKNN)\n",
    "print ('KNN accuracy', total_accuracy)\n",
    "plt.imshow(cmKNN2,cmap=plt.get_cmap('Reds'),aspect='auto')"
   ]
  },
  {
   "cell_type": "code",
   "execution_count": 29,
   "metadata": {},
   "outputs": [
    {
     "name": "stdout",
     "output_type": "stream",
     "text": [
      "[[51763    51   173     0]\n",
      " [   66  5828    54     0]\n",
      " [  229    64 50492   136]\n",
      " [    1     0   103  7243]]\n"
     ]
    }
   ],
   "source": [
    "print(cmKNN2)"
   ]
  },
  {
   "cell_type": "markdown",
   "metadata": {},
   "source": [
    "The K nearest neighbors model is not ideal for large data sets such as this one. It checks the Euclidean distance between each point, so with so many points the processing time increases dramaticaly. The accuracy for this model was also above 99.2% with a very well balanced confusion matrix. I would not choose this model for this task based on the time it takes to run."
   ]
  },
  {
   "cell_type": "markdown",
   "metadata": {},
   "source": [
    "## Random Forest:"
   ]
  },
  {
   "cell_type": "markdown",
   "metadata": {},
   "source": [
    "The Random Forest model combines multiple decision trees, hence a forest. This ensemble classifier first picks a random number of points from the training set. Then a decision tree is built using those data points. This process is repeated a chosen number of times. To classify a new point, the class predicted the most by the multiple trees is assigned."
   ]
  },
  {
   "cell_type": "code",
   "execution_count": 14,
   "metadata": {},
   "outputs": [
    {
     "data": {
      "text/plain": [
       "RandomForestClassifier(bootstrap=True, class_weight=None, criterion='entropy',\n",
       "            max_depth=50, max_features='auto', max_leaf_nodes=None,\n",
       "            min_impurity_split=1e-07, min_samples_leaf=1,\n",
       "            min_samples_split=2, min_weight_fraction_leaf=0.0,\n",
       "            n_estimators=10, n_jobs=-1, oob_score=False, random_state=None,\n",
       "            verbose=0, warm_start=False)"
      ]
     },
     "execution_count": 14,
     "metadata": {},
     "output_type": "execute_result"
    }
   ],
   "source": [
    "from sklearn.ensemble import RandomForestClassifier\n",
    "RFclf = RandomForestClassifier(criterion = 'entropy', max_depth=50, n_estimators=10, n_jobs=-1)\n",
    "RFclf.fit(X2_train,y2_train)"
   ]
  },
  {
   "cell_type": "code",
   "execution_count": 20,
   "metadata": {},
   "outputs": [
    {
     "name": "stdout",
     "output_type": "stream",
     "text": [
      "[[51843    22   122     0]\n",
      " [   44  5831    73     0]\n",
      " [  300    45 50530    46]\n",
      " [    0     0    45  7302]]\n",
      "Accuracy 0.994001876027\n"
     ]
    }
   ],
   "source": [
    "from sklearn.metrics import confusion_matrix\n",
    "from sklearn import metrics as mt\n",
    "y2_predRF = RFclf.predict(X2_test)\n",
    "# Making the Confusion Matrix\n",
    "cmRF2 = confusion_matrix(y2_test, y2_predRF)\n",
    "print(cmRF2)\n",
    "total_accuracyRF = mt.accuracy_score(y2_test, y2_predRF)\n",
    "print ('Accuracy', total_accuracyRF)"
   ]
  },
  {
   "cell_type": "code",
   "execution_count": 22,
   "metadata": {},
   "outputs": [
    {
     "name": "stdout",
     "output_type": "stream",
     "text": [
      "RandomForestClassifier(bootstrap=True, class_weight=None, criterion='entropy',\n",
      "            max_depth=50, max_features='auto', max_leaf_nodes=None,\n",
      "            min_impurity_split=1e-07, min_samples_leaf=1,\n",
      "            min_samples_split=2, min_weight_fraction_leaf=0.0,\n",
      "            n_estimators=10, n_jobs=-1, oob_score=False, random_state=None,\n",
      "            verbose=0, warm_start=False)\n"
     ]
    },
    {
     "data": {
      "image/png": "[encoded data removed]",
      "text/plain": [
       "<matplotlib.figure.Figure at 0x252b36c0940>"
      ]
     },
     "metadata": {},
     "output_type": "display_data"
    }
   ],
   "source": [
    "# now lets get access to the different properties of our RF\n",
    "\n",
    "print (RFclf)\n",
    "\n",
    "plt.barh(range(len(RFclf.feature_importances_)), RFclf.feature_importances_)\n",
    "plt.show()"
   ]
  },
  {
   "cell_type": "code",
   "execution_count": 23,
   "metadata": {},
   "outputs": [
    {
     "name": "stdout",
     "output_type": "stream",
     "text": [
      "Soil_Type15 has weight of 0.0\n",
      "Soil_Type7 has weight of 4.75033889823e-10\n",
      "Soil_Type8 has weight of 5.69361866702e-08\n",
      "Soil_Type36 has weight of 1.54754323596e-05\n",
      "Soil_Type37 has weight of 0.000147133558219\n",
      "Soil_Type14 has weight of 0.000152285641962\n",
      "Soil_Type28 has weight of 0.000200027238722\n",
      "Soil_Type5 has weight of 0.000341864185442\n",
      "Soil_Type21 has weight of 0.000434874462652\n",
      "Soil_Type27 has weight of 0.000551356637665\n",
      "Soil_Type25 has weight of 0.000601812991458\n",
      "Cover_Type_5 has weight of 0.000613980222251\n",
      "Soil_Type1 has weight of 0.000786289960906\n",
      "Soil_Type16 has weight of 0.000831717360894\n",
      "Soil_Type34 has weight of 0.000927883928736\n",
      "Soil_Type35 has weight of 0.00097781786547\n",
      "Soil_Type9 has weight of 0.00120688677587\n",
      "Soil_Type17 has weight of 0.00135432755268\n",
      "Soil_Type19 has weight of 0.00138316332323\n",
      "Soil_Type18 has weight of 0.0014169903948\n",
      "Soil_Type3 has weight of 0.00172801591668\n",
      "Soil_Type26 has weight of 0.00210135845681\n",
      "Soil_Type20 has weight of 0.00229473884787\n",
      "Soil_Type2 has weight of 0.00289852191419\n",
      "Soil_Type40 has weight of 0.00324751036752\n",
      "Soil_Type38 has weight of 0.00334394541937\n",
      "Soil_Type39 has weight of 0.0036083763054\n",
      "Cover_Type_7 has weight of 0.00387063863789\n",
      "Cover_Type_4 has weight of 0.00602022691749\n",
      "Soil_Type4 has weight of 0.00625845273701\n",
      "Soil_Type23 has weight of 0.00830912530535\n",
      "Soil_Type6 has weight of 0.00902398840733\n",
      "Cover_Type_6 has weight of 0.00989085627309\n",
      "Soil_Type11 has weight of 0.00990263470936\n",
      "Soil_Type22 has weight of 0.0099222214953\n",
      "Cover_Type_2 has weight of 0.00994491966823\n",
      "Soil_Type24 has weight of 0.0111971967697\n",
      "Cover_Type_1 has weight of 0.0128750804687\n",
      "Slope has weight of 0.0173288230152\n",
      "Soil_Type13 has weight of 0.0175416624225\n",
      "Hillshade_Noon has weight of 0.0176080046702\n",
      "Hillshade_3pm has weight of 0.0188353559655\n",
      "Hillshade_9am has weight of 0.0200033108491\n",
      "Aspect has weight of 0.0214093380067\n",
      "Horiz_Dist_to_Hydro has weight of 0.0218510582302\n",
      "Soil_Type10 has weight of 0.0220139605318\n",
      "Vert_Dist_to_Hydro has weight of 0.0248060322314\n",
      "Soil_Type31 has weight of 0.0275497117045\n",
      "Soil_Type30 has weight of 0.0294576120508\n",
      "Soil_Type12 has weight of 0.0313195983842\n",
      "Soil_Type33 has weight of 0.0443531582565\n",
      "Cover_Type_3 has weight of 0.0444827163544\n",
      "Soil_Type32 has weight of 0.0517128722054\n",
      "Horiz_Dist_to_Fire_pts has weight of 0.072709756965\n",
      "Soil_Type29 has weight of 0.10774304173\n",
      "Horiz_Dist_to_Road has weight of 0.118042847107\n",
      "Elevation has weight of 0.162849385757\n"
     ]
    }
   ],
   "source": [
    "# Interpreting weights\n",
    "zip_varsRF2 = zip(RFclf.feature_importances_.T,X2.columns) # combine attributes\n",
    "zip_varsRF2 = sorted(zip_varsRF2)\n",
    "for importance, name in zip_varsRF2:\n",
    "    print(name, 'has weight of', importance) # now print them out"
   ]
  },
  {
   "cell_type": "markdown",
   "metadata": {},
   "source": [
    "As I would expect, a random forest of decision trees places about the same importance on each variable as the single decision tree. The accuracy was also 99.4% which also makes sense."
   ]
  },
  {
   "cell_type": "markdown",
   "metadata": {},
   "source": [
    "## Deployment"
   ]
  },
  {
   "cell_type": "markdown",
   "metadata": {},
   "source": [
    "This deision tree or random forest model could be very useful for anyone seeking to identify the wilderness area of a particular set of characteristics. In other words this classifier allows someone to accurately identify the location, given a description of an environment. "
   ]
  },
  {
   "cell_type": "markdown",
   "metadata": {},
   "source": [
    "# Deployment Resubmittal"
   ]
  },
  {
   "cell_type": "markdown",
   "metadata": {},
   "source": [
    "This decision tree or random forest model could be very useful for anyone seeking to identify the wilderness area of a particular set of characteristics. In other words this classifier allows someone to accurately predict the location, given a description of an environment. \n",
    " \n",
    "When the model is deployed it allows predictions to be easily available. An API will be used for the deployment. This data is not continuously arriving so training time is not a major concern.\n",
    " \n",
    "The quality of the deployed models must also be measured and tracked in order to provide feedback necessary to improve the model. The quality of the model is measured offline by the accuracy, but precision-recall or the ROC curve would be other options. Online evaluation is however measured by the impact of the model until real labels can be ascribed to the data points. The live data and evaluation feedback are then used to update the model. \n",
    "\n"
   ]
  },
  {
   "cell_type": "code",
   "execution_count": null,
   "metadata": {
    "collapsed": true
   },
   "outputs": [],
   "source": []
  }
 ],
 "metadata": {
  "kernelspec": {
   "display_name": "Python 3",
   "language": "python",
   "name": "python3"
  },
  "language_info": {
   "codemirror_mode": {
    "name": "ipython",
    "version": 3
   },
   "file_extension": ".py",
   "mimetype": "text/x-python",
   "name": "python",
   "nbconvert_exporter": "python",
   "pygments_lexer": "ipython3",
   "version": "3.5.2"
  }
 },
 "nbformat": 4,
 "nbformat_minor": 2
}
