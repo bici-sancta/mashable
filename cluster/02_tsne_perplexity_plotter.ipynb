{
 "cells": [
  {
   "cell_type": "markdown",
   "metadata": {},
   "source": [
    "#### Import required packages  \n"
   ]
  },
  {
   "cell_type": "markdown",
   "metadata": {},
   "source": [
    "24-nov\n",
    "    - t-SNE followed by spectral clustering\n"
   ]
  },
  {
   "cell_type": "markdown",
   "metadata": {},
   "source": [
    "\n",
    "<a name='toc'></a>  TOC\n",
    "\n",
    "* <a href='#t-sne'> t-SNE</a>\n",
    "  - <a href='#end_of_file'> end of file</a>\n"
   ]
  },
  {
   "cell_type": "code",
   "execution_count": 64,
   "metadata": {
    "collapsed": true,
    "scrolled": true
   },
   "outputs": [],
   "source": [
    "import pandas as pd\n",
    "import numpy as np\n",
    "import matplotlib.pyplot as plt\n",
    "#%matplotlib inline\n",
    "import warnings\n",
    "warnings.simplefilter('ignore',DeprecationWarning)\n",
    "import seaborn as sns\n",
    "import time\n",
    "import copy\n",
    "\n",
    "from pylab import rcParams\n",
    "#import hdbscan\n",
    "\n",
    "\n",
    "from tabulate import tabulate\n",
    "\n",
    "from IPython.core.interactiveshell import InteractiveShell\n",
    "InteractiveShell.ast_node_interactivity = \"all\"\n",
    "\n",
    "from __future__ import print_function"
   ]
  },
  {
   "cell_type": "code",
   "execution_count": 65,
   "metadata": {},
   "outputs": [
    {
     "data": {
      "text/plain": [
       "'/home/mcdevitt/_ds/_smu/_src/mashable/data/saved_csvs/08_dec_clusters/subset'"
      ]
     },
     "execution_count": 65,
     "metadata": {},
     "output_type": "execute_result"
    },
    {
     "data": {
      "text/plain": [
       "'/home/mcdevitt/_ds/_smu/_src/mashable/data/saved_csvs/08_dec_clusters/subset'"
      ]
     },
     "execution_count": 65,
     "metadata": {},
     "output_type": "execute_result"
    },
    {
     "data": {
      "text/plain": [
       "['./t_sne_mapping_perplex_0010_20171208_194057.csv',\n",
       " './t_sne_mapping_perplex_0050_20171208_195700.csv',\n",
       " './t_sne_mapping_perplex_0100_20171208_200441.csv',\n",
       " './t_sne_mapping_perplex_0200_20171208_201655.csv']"
      ]
     },
     "execution_count": 65,
     "metadata": {},
     "output_type": "execute_result"
    }
   ],
   "source": [
    "import glob\n",
    "import re\n",
    "import os\n",
    "\n",
    "os.getcwd()\n",
    "\n",
    "home_dir = '/home/mcdevitt/_ds/_smu/_src/mashable'\n",
    "os.chdir(home_dir)\n",
    "\n",
    "csv_dir = './data/saved_csvs/08_dec_clusters/subset/'\n",
    "os.chdir(csv_dir)\n",
    "os.getcwd()\n",
    "\n",
    "file_list = glob.glob('./*.csv')\n",
    "\n",
    "file_list = sorted(file_list)\n",
    "\n",
    "file_list\n",
    "\n"
   ]
  },
  {
   "cell_type": "code",
   "execution_count": 66,
   "metadata": {
    "scrolled": false
   },
   "outputs": [],
   "source": [
    "# ... nice digit extractor from : https://stackoverflow.com/questions/4289331/python-extract-numbers-from-a-string\n",
    "\n",
    "\n",
    "# ... -=-=-=-=-=-=-=-=-=-=-=-=-=-=-=-=-=-=-=-=-=-=-=-=-=-=-=-=-=-=-=-=-=-=-=-=-=-=-=-=-\n",
    "# ... - generate plots\n",
    "# ... -=-=-=-=-=-=-=-=-=-=-=-=-=-=-=-=-=-=-=-=-=-=-=-=-=-=-=-=-=-=-=-=-=-=-=-=-=-=-=-=-\n",
    "\n",
    "plot_rows = int((len(file_list) + 1)/2)\n",
    "ii = 0\n",
    "\n",
    "_ = plt.figure(figsize = (20,20))\n",
    "\n",
    "\n",
    "for next_file in file_list :\n",
    "    \n",
    "    ii += 1\n",
    "\n",
    "    perplex = [int(s) for s in re.findall(r'\\d+', next_file)][0]\n",
    "\n",
    "    df = pd.read_csv(next_file)\n",
    "\n",
    "    # ... -=-=-=-=-=-=-=-=-=-=-=-=-=-=-=-=-=-=-=-=-=-=-=-=-=-=-=-=-=-=-=-=-=-=-=-=-=-=-=-=-\n",
    "    # ... - plot clusters\n",
    "    # ... -=-=-=-=-=-=-=-=-=-=-=-=-=-=-=-=-=-=-=-=-=-=-=-=-=-=-=-=-=-=-=-=-=-=-=-=-=-=-=-=-\n",
    "\n",
    "    ax = plt.subplot(plot_rows, 2, ii, facecolor = 'lightgrey');\n",
    "\n",
    "    _ = plt.scatter(df['y-tsne'], df['x-tsne'],\n",
    "                 s = 40,\n",
    "                 c = 'slateblue', \n",
    "                 linewidths = 0,\n",
    "                 alpha = 0.30)\n",
    "\n",
    "    _ = plt.xlabel('t-SNE axis 1')\n",
    "    _ = plt.ylabel('t-SNE axis 2')\n",
    "    _ = plt.title(\"t-SNE 2-D Mapping - Perplexity = %d\" %perplex, fontsize = 30)\n",
    "    _ = plt.grid(True)\n",
    "\n",
    "    _ = plt.tight_layout()\n",
    "    \n",
    "plt.savefig(\"t_sne_clusters_all_together.png\")\n",
    "\n",
    "#plt.show();\n"
   ]
  },
  {
   "cell_type": "markdown",
   "metadata": {
    "collapsed": true
   },
   "source": [
    "<a href='#toc'> Table of Contents</a>\n",
    "\n",
    "<a name='end_of_file'></a>\n",
    "<font color=\"blue\" size=3>  end of file"
   ]
  }
 ],
 "metadata": {
  "kernelspec": {
   "display_name": "Python 2",
   "language": "python",
   "name": "python2"
  },
  "language_info": {
   "codemirror_mode": {
    "name": "ipython",
    "version": 3
   },
   "file_extension": ".py",
   "mimetype": "text/x-python",
   "name": "python",
   "nbconvert_exporter": "python",
   "pygments_lexer": "ipython3",
   "version": "3.6.1"
  },
  "name": "_merged"
 },
 "nbformat": 4,
 "nbformat_minor": 2
}
