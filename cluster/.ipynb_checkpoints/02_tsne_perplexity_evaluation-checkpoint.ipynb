{
 "cells": [
  {
   "cell_type": "markdown",
   "metadata": {},
   "source": [
    "#### Import required packages  \n"
   ]
  },
  {
   "cell_type": "markdown",
   "metadata": {},
   "source": [
    "24-nov\n",
    "    - t-SNE followed by spectral clustering\n"
   ]
  },
  {
   "cell_type": "markdown",
   "metadata": {},
   "source": [
    "\n",
    "<a name='toc'></a>  TOC\n",
    "\n",
    "* <a href='#t-sne'> t-SNE</a>\n",
    "  - <a href='#end_of_file'> end of file</a>\n"
   ]
  },
  {
   "cell_type": "code",
   "execution_count": 14,
   "metadata": {
    "collapsed": true,
    "scrolled": true
   },
   "outputs": [],
   "source": [
    "import pandas as pd\n",
    "import numpy as np\n",
    "import matplotlib.pyplot as plt\n",
    "#%matplotlib inline\n",
    "import warnings\n",
    "warnings.simplefilter('ignore',DeprecationWarning)\n",
    "import seaborn as sns\n",
    "import time\n",
    "import copy\n",
    "\n",
    "from pylab import rcParams\n",
    "#import hdbscan\n",
    "\n",
    "from sklearn.model_selection import ShuffleSplit\n",
    "from sklearn.preprocessing import StandardScaler\n",
    "\n",
    "#from sklearn.datasets import make_blobs\n",
    "\n",
    "from sklearn.ensemble import RandomForestClassifier\n",
    "from sklearn.calibration import CalibratedClassifierCV\n",
    "from sklearn.svm import SVC\n",
    "from sklearn.linear_model import LogisticRegression\n",
    "from sklearn.model_selection import StratifiedKFold, cross_val_score\n",
    "\n",
    "from sklearn import metrics\n",
    "from sklearn import metrics as mt\n",
    "from sklearn.metrics import log_loss\n",
    "from sklearn.metrics import accuracy_score as acc\n",
    "from sklearn.metrics import confusion_matrix as conf\n",
    "from sklearn.metrics import f1_score, precision_score, recall_score, classification_report\n",
    "from sklearn.metrics import accuracy_score\n",
    "from sklearn.metrics import precision_recall_fscore_support as score\n",
    "\n",
    "from sklearn.cluster import KMeans\n",
    "\n",
    "from tabulate import tabulate\n",
    "\n",
    "from IPython.core.interactiveshell import InteractiveShell\n",
    "InteractiveShell.ast_node_interactivity = \"all\"\n",
    "\n",
    "from __future__ import print_function"
   ]
  },
  {
   "cell_type": "markdown",
   "metadata": {},
   "source": [
    "#### Read in cleaned  dataset from .csv file  "
   ]
  },
  {
   "cell_type": "code",
   "execution_count": 15,
   "metadata": {
    "collapsed": true,
    "scrolled": true
   },
   "outputs": [],
   "source": [
    "data_dir = '../data/'\n",
    "data_file = 'mashable_clean_dataset_for_lab_03.csv'\n",
    "\n",
    "file_2_read = data_dir + data_file\n",
    "df = pd.read_csv(file_2_read)\n",
    "\n",
    "df_cluster = copy.deepcopy(df)\n"
   ]
  },
  {
   "cell_type": "code",
   "execution_count": 16,
   "metadata": {
    "collapsed": true,
    "scrolled": false
   },
   "outputs": [],
   "source": [
    "col_names = df_cluster.columns.values.tolist()"
   ]
  },
  {
   "cell_type": "markdown",
   "metadata": {},
   "source": [
    "<a href='#toc'> Table of Contents</a>\n",
    "\n",
    "<a name='t-sne'></a>\n",
    "<font color=\"blue\" size=3> t-SNE"
   ]
  },
  {
   "cell_type": "code",
   "execution_count": null,
   "metadata": {
    "collapsed": true
   },
   "outputs": [],
   "source": [
    "# set required variables for model comparison\n",
    "\n",
    "tsne_tbl = pd.DataFrame(columns = [\n",
    "    'model_name',\n",
    "    'perplexity',\n",
    "    'kl_divergence',\n",
    "    'process_time'])\n",
    "\n",
    "i_index = []\n",
    "i_index = 0\n",
    "\n",
    "# preparation for cross validation and model comparison, each classifier is appended once model is fit\n",
    "\n",
    "models = []"
   ]
  },
  {
   "cell_type": "markdown",
   "metadata": {},
   "source": [
    "### t-SNE  \n"
   ]
  },
  {
   "cell_type": "code",
   "execution_count": null,
   "metadata": {
    "scrolled": false
   },
   "outputs": [
    {
     "data": {
      "text/plain": [
       "13875"
      ]
     },
     "execution_count": 18,
     "metadata": {},
     "output_type": "execute_result"
    },
    {
     "name": "stdout",
     "output_type": "stream",
     "text": [
      "[t-SNE] Computing 7 nearest neighbors...\n",
      "[t-SNE] Indexed 13875 samples in 0.033s...\n",
      "[t-SNE] Computed neighbors for 13875 samples in 15.241s...\n",
      "[t-SNE] Computed conditional probabilities for sample 1000 / 13875\n",
      "[t-SNE] Computed conditional probabilities for sample 2000 / 13875\n",
      "[t-SNE] Computed conditional probabilities for sample 3000 / 13875\n",
      "[t-SNE] Computed conditional probabilities for sample 4000 / 13875\n",
      "[t-SNE] Computed conditional probabilities for sample 5000 / 13875\n",
      "[t-SNE] Computed conditional probabilities for sample 6000 / 13875\n",
      "[t-SNE] Computed conditional probabilities for sample 7000 / 13875\n",
      "[t-SNE] Computed conditional probabilities for sample 8000 / 13875\n",
      "[t-SNE] Computed conditional probabilities for sample 9000 / 13875\n",
      "[t-SNE] Computed conditional probabilities for sample 10000 / 13875\n",
      "[t-SNE] Computed conditional probabilities for sample 11000 / 13875\n",
      "[t-SNE] Computed conditional probabilities for sample 12000 / 13875\n",
      "[t-SNE] Computed conditional probabilities for sample 13000 / 13875\n",
      "[t-SNE] Computed conditional probabilities for sample 13875 / 13875\n",
      "[t-SNE] Mean sigma: 0.581007\n",
      "[t-SNE] KL divergence after 250 iterations with early exaggeration: 108.710121\n"
     ]
    }
   ],
   "source": [
    "from sklearn.manifold import TSNE\n",
    "\n",
    "X1 = df_cluster\n",
    "X1 = X1.sample(frac = 0.35)\n",
    "\n",
    "# ... -=-=-=-=-=-=-=-=-=-=-=-=-=-=-=-=-=-=-=-=-=-=-=-=-=-=-=-=-=-=-=-=-=-=-=-=-=-=-=-=-\n",
    "# ... save indexes from original dataframe for later re-joins\n",
    "# ... -=-=-=-=-=-=-=-=-=-=-=-=-=-=-=-=-=-=-=-=-=-=-=-=-=-=-=-=-=-=-=-=-=-=-=-=-=-=-=-=-\n",
    "\n",
    "X1_index = list(X1.index.values)\n",
    "len(X1_index)\n",
    "\n",
    "df_out = pd.DataFrame(columns = ['x-tsne', 'y-tsne'])\n",
    "df_out['sample_index'] = X1_index\n",
    "\n",
    "# ... -=-=-=-=-=-=-=-=-=-=-=-=-=-=-=-=-=-=-=-=-=-=-=-=-=-=-=-=-=-=-=-=-=-=-=-=-=-=-=-=-\n",
    "# ... t-sne for loop - evaluate range of perplexity values\n",
    "# ... -=-=-=-=-=-=-=-=-=-=-=-=-=-=-=-=-=-=-=-=-=-=-=-=-=-=-=-=-=-=-=-=-=-=-=-=-=-=-=-=-\n",
    "\n",
    "for perplex in [2, 5, 10, 20, 30, 40, 50] :\n",
    "\n",
    "    i_index = i_index + 1\n",
    "    tic = time.clock()\n",
    "\n",
    "    tsne = TSNE(n_components = 2, verbose = 1, perplexity = perplex, n_iter = 500)\n",
    "\n",
    "    tsne_results = tsne.fit_transform(X1)\n",
    "    tsne_kl_diverge = tsne.kl_divergence_\n",
    "\n",
    "    toc = time.clock()\n",
    "    print (toc - tic)\n",
    "    \n",
    "# ... -=-=-=-=-=-=-=-=-=-=-=-=-=-=-=-=-=-=-=-=-=-=-=-=-=-=-=-=-=-=-=-=-=-=-=-=-=-=-=-=-\n",
    "# ... - save statistics for model comparison\n",
    "# ... -=-=-=-=-=-=-=-=-=-=-=-=-=-=-=-=-=-=-=-=-=-=-=-=-=-=-=-=-=-=-=-=-=-=-=-=-=-=-=-=-\n",
    "\n",
    "    exe_time = '{0:.4f}'.format(toc-tic)\n",
    "    \n",
    "    raw_data = {\n",
    "    'model_name' : 't-SNE - 2D',\n",
    "    'perplexity' : perplex,\n",
    "    'kl_divergence': tsne_kl_diverge,\n",
    "    'process_time' : exe_time\n",
    "    }\n",
    "\n",
    "    df_tbl = pd.DataFrame(raw_data,\n",
    "                            columns = ['model_name',\n",
    "                                       'perplexity',\n",
    "                                       'kl_divergence',\n",
    "                                       'process_time'],\n",
    "                            index = [i_index])\n",
    "    \n",
    "    tsne_tbl = tsne_tbl.append(df_tbl)\n",
    "\n",
    "# ... -=-=-=-=-=-=-=-=-=-=-=-=-=-=-=-=-=-=-=-=-=-=-=-=-=-=-=-=-=-=-=-=-=-=-=-=-=-=-=-=-\n",
    "# ... - plot clusters\n",
    "# ... -=-=-=-=-=-=-=-=-=-=-=-=-=-=-=-=-=-=-=-=-=-=-=-=-=-=-=-=-=-=-=-=-=-=-=-=-=-=-=-=-\n",
    "\n",
    "    _ = plt.figure(figsize = (12, 8))\n",
    "    _ = plt.subplot(111, facecolor = 'lightgrey')\n",
    "    \n",
    "    _ = plt.scatter(tsne_results[:, 0], tsne_results[:, 1],\n",
    "                 s = 40,\n",
    "                 c = 'darkorchid', \n",
    "                 linewidths = 0,\n",
    "                 alpha = 0.30)\n",
    "    \n",
    "    _ = plt.xlabel('t-SNE axis 1')\n",
    "    _ = plt.ylabel('t-SNE axis 2')\n",
    "        \n",
    "    _ = plt.suptitle(\"t-SNE 2-D Mapping - Perplexity = %d\" %perplex)\n",
    "    _ = plt.title(\"KL Divergence = %.2f\" %tsne_kl_diverge)\n",
    "    _ = plt.grid(True)\n",
    "    \n",
    "    data_dir = '../data/saved_csvs/08_dec_clusters/'\n",
    "    data_file_base = \"t_sne_mapping_perplex_\"\n",
    "    data_file_num = \"%04d\" %perplex\n",
    "    data_file_ext = \".png\"\n",
    "    plt_file_2_save = data_dir + data_file_base + data_file_num + data_file_ext\n",
    "    \n",
    "    plt.savefig(plt_file_2_save)\n",
    "\n",
    "    plt.show();\n",
    "    \n",
    "# ... -=-=-=-=-=-=-=-=-=-=-=-=-=-=-=-=-=-=-=-=-=-=-=-=-=-=-=-=-=-=-=-=-=-=-=-=-=\n",
    "# ... store in ../data/ directory\n",
    "# ... write as .csv file for future recall\n",
    "# ... -=-=-=-=-=-=-=-=-=-=-=-=-=-=-=-=-=-=-=-=-=-=-=-=-=-=-=-=-=-=-=-=-=-=-=-=-=\n",
    "\n",
    "    df_out['x-tsne'] = tsne_results[:,0];\n",
    "    df_out['y-tsne'] = tsne_results[:,1];\n",
    "\n",
    "    data_dir = '../data/saved_csvs/08_dec_clusters/'\n",
    "    data_file_base = \"t_sne_mapping_perplex_\"\n",
    "    data_file_num = \"%04d\" %perplex\n",
    "    data_file_ext = \".csv\"\n",
    "    file_2_write = data_dir + data_file_base + data_file_num + data_file_ext\n",
    "    \n",
    "    print(file_2_write)\n",
    "\n",
    "    df_out.to_csv(file_2_write, index = False)\n",
    "    \n",
    "# ... -=-=-=-=-=-=-=-=-=-=-=-=-=-=-=-=-=-=-=-=-=-=-=-=-=-=-=-=-=-=-=-=-=-=-=-=-=\n",
    "# ... end of for loop on t-sne perplex\n",
    "# ... -=-=-=-=-=-=-=-=-=-=-=-=-=-=-=-=-=-=-=-=-=-=-=-=-=-=-=-=-=-=-=-=-=-=-=-=-=\n",
    "\n"
   ]
  },
  {
   "cell_type": "code",
   "execution_count": null,
   "metadata": {
    "scrolled": false
   },
   "outputs": [],
   "source": [
    "# ... -=-=-=-=-=-=-=-=-=-=-=-=-=-=-=-=-=-=-=-=-=-=-=-=-=-=-=-=-=-=-=-=-=-=-=-=-=\n",
    "# ... summary table from for loop results\n",
    "# ... -=-=-=-=-=-=-=-=-=-=-=-=-=-=-=-=-=-=-=-=-=-=-=-=-=-=-=-=-=-=-=-=-=-=-=-=-=\n",
    "\n",
    "tsne_tbl\n",
    "\n",
    "tsne_tbl['process_time'] = pd.to_numeric(tsne_tbl['process_time'])\n",
    "         \n",
    "_ = plt.figure(figsize=(16, 8))\n",
    "\n",
    "_ = plt.subplot(121, facecolor = 'darkgrey')\n",
    "_ = plt.plot(tsne_tbl['perplexity'], tsne_tbl['kl_divergence'], marker = 'o')\n",
    "_ = plt.xlabel('Perplexity Value')\n",
    "_ = plt.ylabel('K-L Divergence')\n",
    "_ = plt.title('t-SNE 2-D mapping - Effect of perplexity on cross entropy', fontsize = 15)\n",
    "\n",
    "_ = plt.subplot(122, facecolor = 'darkgrey')\n",
    "_ = plt.plot(tsne_tbl['perplexity'], tsne_tbl['process_time'], marker = 'o')\n",
    "_ = plt.xlabel('Perplexity Value')\n",
    "_ = plt.ylabel('Processing Time (seconds)')\n",
    "_ = plt.title('t-SNE 2-D mapping - Effect of perplexity on process time', fontsize = 15)\n",
    "\n",
    "data_dir = '../data/saved_csvs/08_dec_clusters/'\n",
    "data_file_base = \"t_sne_divergence_process_time\"\n",
    "data_file_ext = \".png\"\n",
    "plt_file_2_save = data_dir + data_file_base + data_file_ext\n",
    "\n",
    "plt.savefig(plt_file_2_save)\n",
    "_ = plt.show();\n",
    "\n",
    "\n"
   ]
  },
  {
   "cell_type": "markdown",
   "metadata": {
    "collapsed": true
   },
   "source": [
    "<a href='#toc'> Table of Contents</a>\n",
    "\n",
    "<a name='end_of_file'></a>\n",
    "<font color=\"blue\" size=3>  end of file"
   ]
  },
  {
   "cell_type": "code",
   "execution_count": null,
   "metadata": {
    "collapsed": true
   },
   "outputs": [],
   "source": []
  }
 ],
 "metadata": {
  "kernelspec": {
   "display_name": "Python 2",
   "language": "python",
   "name": "python2"
  },
  "language_info": {
   "codemirror_mode": {
    "name": "ipython",
    "version": 3
   },
   "file_extension": ".py",
   "mimetype": "text/x-python",
   "name": "python",
   "nbconvert_exporter": "python",
   "pygments_lexer": "ipython3",
   "version": "3.6.1"
  },
  "name": "_merged"
 },
 "nbformat": 4,
 "nbformat_minor": 2
}
