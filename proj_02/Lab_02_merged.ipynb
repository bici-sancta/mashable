{
 "cells": [
  {
   "cell_type": "markdown",
   "metadata": {},
   "source": [
    "## MSDS 7331 Data Mining: Project 2\n",
    "\n",
    "***  \n",
    "\n",
    "Team: Andrew Abbott, Vivek Bejugama, Patrick McDevitt, Preeti Swaminathan\n",
    "\n",
    "\n",
    "\n",
    "***\n",
    "\t\n",
    "We are using an online news popularity dataset from the UCI Machine Learning Repository. The dataset is a collection of 61 heterogeneous features for approximately 40,000 articles published by Mashable (www.mashable.com). The features are not the articles, but are extracted from the articles, such as word counts, title word counts, and keyword associations.  The data represents a two year period of published articles, ending in January 2015.  \n",
    "\n",
    "We intend to mine this data to understand what parameters can influence an article to be shared on social media more than others.  The goal is to predict the number of shares in social networks (popularity).  \n",
    "\n",
    "The business use of this data set / data mining project is ultimately to establish relationships that enable to predict how many social media shares an article published on _www.mashable.com_ is likley to generate - with the idea that a more socially shared article has higher business value - increasing traffic to the site, and consequently, potential for higher earnings revenue associated to the increased web traffic. The user of this model is both the publishers for _mashable.com_ for article selection, and also for authors, attempting to create content that has higher value on sites like _mashable.com_.  \n",
    "\n",
    "Measures for a successful outcome from a predictive model for this study will be based on overall accuracy metrics (e.g., confusion matrix), as well as AUC type metrics. A baseline (non-predictive, random) scoring will establish a baseline for these metrics, and then the predictive model can be assessed against a random model for measurement of improvement, i.e., value of the model.  \n",
    "\n",
    "The data is located at https://archive.ics.uci.edu/ml/datasets/Online+News+Popularity  \n",
    "\n",
    "***  \n",
    "__Citation Request__ :  \n",
    "***  \n",
    "K. Fernandes, P. Vinagre and P. Cortez. A Proactive Intelligent Decision Support System for Predicting the Popularity of Online News. Proceedings of the 17th EPIA 2015 - Portuguese Conference on Artificial Intelligence, September, Coimbra, Portugal.  \n",
    "***  \n",
    "\n",
    "\n",
    "- The data set has features in these 6 broad categories :  \n",
    "_(ref - see citation reference at beginning of this document)_  \n",
    "    - Words  \n",
    "        - Number of words of the title/content  \n",
    "        - Average word length  \n",
    "        - Rate of unique/non-stop words of contents\n",
    "    - Links\n",
    "        - Number of links  \n",
    "        - Number of links to other articles in Mashable  \n",
    "    - Digital Media  \n",
    "        - Number of images/videos  \n",
    "    - Time  \n",
    "        - Day of the week/weekend  \n",
    "    - Keywords  \n",
    "        - Number of keywords  \n",
    "        - Worst/best/average keywords (#shares)  \n",
    "        - Article category  \n",
    "    - NLP  \n",
    "        - Closeness to five LDA topics  \n",
    "        - Title/Text polarity/subjectivity  \n",
    "        - Rate and polarity of positive/negative words  \n",
    "        - Absolute subjectivity/polarity level  \n",
    "     \n",
    "\n",
    "\n"
   ]
  },
  {
   "cell_type": "markdown",
   "metadata": {},
   "source": [
    "## Classification Model Development - Overview  \n",
    "\n",
    "#### The request for this project includes 2 different classification tasks and (at least) the development and interpretation of 3 different classification models. This section is provided as an overview of the structure of the model development that was employed for both tasks, and for each classifier evaluation. Due to the length of this report, this section is provided as an aid to follow the logic employed throughout this report.\n",
    "\n",
    "#### The report includes 2 classification tasks :  \n",
    "\n",
    " 1.0 - Prediction of article popularity for articles proposed for publication on _mashable.com_  web-site. This is binary prediction model (popular / not-popular). This was the original intention of the development of this dataset.  \n",
    " 2.0 - Assignment of article to appropriate __data_channel__. This is additional task developed by this team, in fulfillment of additional use of data set to provide an appropriate business use. In this case, the problem is a multi-classifier problem, to identify to which of 7 data channels (e.g., World, Entertainment, Business, Technology, ...) an article is most appropriate.  \n",
    " \n",
    "#### This report includes 4 classifier models for each of the above 2 classification tasks :  \n",
    "\n",
    " 1. - Logistic Regression  \n",
    " 2. - Decision Tree  \n",
    " 3. - Random Forest  \n",
    " 4. - Naïve Bayes  \n",
    " \n",
    "#### The model development approach in all cases is as described here below :\n",
    "\n",
    "1.\t**Holdout** 20% of data set for final sacred test set\n",
    "\n",
    "2.\tSplit remaining 80% into train / test for grid search  \n",
    "\n",
    "3.\tRun **Grid Search with CV 3** on each classification type  \n",
    "    a.\tSearch on range of model parameters with cross-validation iteration of 3  \n",
    "\n",
    "4.\tIdentify best accuracy / best parameters from **Grid Search**\n",
    "    a.\tRun each classifier model with best parameters for later **10-fold CV** verification  \n",
    "    b.\tVerify results are consistent with grid search model results\n",
    "\n",
    "5.\tRun full **10-fold CV** with the best parameters for each classifier\n",
    "    a.\tVerify results are consistent with prior grid search results  \n",
    "    b.\tEvaluate the 10-fold CV on model metrics (in our case Accuracy)\n",
    "\n",
    "6.\tIdentify best overall model from the 4 classifiers after 10-fold CV  \n",
    "\n",
    "7.\t Run best overall model on **Holdout** 20% sacred data set  \n",
    "    a.\tReport results from this test set run as expected model capability  \n",
    "\n",
    "8.\tIdentify **feature importance** from each of the 4 classifier models (best model each)    \n",
    "    a.\tConsider if feature scaling is beneficial for interpretation  \n",
    "\n",
    "9.\tIdentify strengths / weakness of model prediction capability (e.g., some classes well predicted or not)\n",
    "\n",
    " <img src = '../proj_02/model_development_method.png'>"
   ]
  },
  {
   "cell_type": "markdown",
   "metadata": {},
   "source": [
    "#### Import required packages  \n"
   ]
  },
  {
   "cell_type": "code",
   "execution_count": 2,
   "metadata": {
    "collapsed": true
   },
   "outputs": [],
   "source": [
    "import pandas as pd\n",
    "import numpy as np\n",
    "import matplotlib.pyplot as plt\n",
    "%matplotlib inline\n",
    "import warnings\n",
    "warnings.simplefilter('ignore',DeprecationWarning)\n",
    "import seaborn as sns\n",
    "import time\n",
    "\n",
    "from pylab import rcParams\n",
    "#import hdbscan\n",
    "\n",
    "from sklearn.model_selection import ShuffleSplit\n",
    "from sklearn.preprocessing import StandardScaler\n",
    "\n",
    "#from sklearn.datasets import make_blobs\n",
    "\n",
    "from sklearn.ensemble import RandomForestClassifier\n",
    "from sklearn.calibration import CalibratedClassifierCV\n",
    "from sklearn.svm import SVC\n",
    "from sklearn.linear_model import LogisticRegression\n",
    "\n",
    "from sklearn import metrics\n",
    "from sklearn import metrics as mt\n",
    "from sklearn.metrics import log_loss\n",
    "from sklearn.metrics import accuracy_score as acc\n",
    "from sklearn.metrics import confusion_matrix as conf\n",
    "from sklearn.metrics import f1_score, precision_score, recall_score, classification_report\n",
    "from sklearn.metrics import accuracy_score\n",
    "from sklearn.metrics import precision_recall_fscore_support as score\n",
    "\n",
    "from tabulate import tabulate\n",
    "\n",
    "from IPython.core.interactiveshell import InteractiveShell\n",
    "InteractiveShell.ast_node_interactivity = \"all\""
   ]
  },
  {
   "cell_type": "markdown",
   "metadata": {},
   "source": [
    "#### Read in dataset from .csv file  "
   ]
  },
  {
   "cell_type": "code",
   "execution_count": 3,
   "metadata": {
    "collapsed": true
   },
   "outputs": [],
   "source": [
    "data_dir = '../data/'\n",
    "data_file = 'OnlineNewsPopularity.csv'\n",
    "\n",
    "file_2_read = data_dir + data_file\n",
    "df = pd.read_csv(file_2_read)  "
   ]
  },
  {
   "cell_type": "code",
   "execution_count": 4,
   "metadata": {
    "collapsed": true
   },
   "outputs": [],
   "source": [
    "df.columns = df.columns.str.strip()\n",
    "col_names = df.columns.values.tolist()\n"
   ]
  },
  {
   "cell_type": "markdown",
   "metadata": {},
   "source": [
    "# Data Preparation Part 1\t"
   ]
  },
  {
   "cell_type": "markdown",
   "metadata": {},
   "source": [
    "### Task 1 data set definition  \n",
    "\n",
    " - For Task 1 we intend to mine this data to understand what parameters can influence an article to be shared on social media more than others.  The goal is to predict the number of shares in social networks (popularity). \n",
    " - The business use of this data set / data mining project is ultimately to establish relationships that enable to predict how many social media shares an article published on _www.mashable.com_ is likley to generate - with the idea that a more socially shared article has higher business value - increasing traffic to the site, and consequently, potential for higher earnings revenue associated to the increased web traffic. The user of this model is both the publishers for _mashable.com_ for article selection, and also for authors, attempting to create content that has higher value on sites like _mashable.com_.   \n",
    " - In order to support this classification task, we create a new dependent variable column __popular__  which is true if the value of __shares__ is greater than 1400."
   ]
  },
  {
   "cell_type": "markdown",
   "metadata": {},
   "source": [
    "#### Remove variables that are not useful"
   ]
  },
  {
   "cell_type": "code",
   "execution_count": 5,
   "metadata": {
    "collapsed": true
   },
   "outputs": [],
   "source": [
    "popular_binary = np.where(df['shares'] > 1400, True, False)\n",
    "\n",
    "df.insert(loc = 0, column = 'popular', value = popular_binary)\n",
    "\n",
    "del df['shares'] "
   ]
  },
  {
   "cell_type": "code",
   "execution_count": 7,
   "metadata": {
    "collapsed": true
   },
   "outputs": [],
   "source": [
    "del df['n_non_stop_words']\n",
    "del df['n_non_stop_unique_tokens']\n",
    "del df['n_unique_tokens']\n",
    "del df['url']"
   ]
  },
  {
   "cell_type": "code",
   "execution_count": 8,
   "metadata": {},
   "outputs": [
    {
     "data": {
      "text/html": [
       "<div>\n",
       "<style>\n",
       "    .dataframe thead tr:only-child th {\n",
       "        text-align: right;\n",
       "    }\n",
       "\n",
       "    .dataframe thead th {\n",
       "        text-align: left;\n",
       "    }\n",
       "\n",
       "    .dataframe tbody tr th {\n",
       "        vertical-align: top;\n",
       "    }\n",
       "</style>\n",
       "<table border=\"1\" class=\"dataframe\">\n",
       "  <thead>\n",
       "    <tr style=\"text-align: right;\">\n",
       "      <th></th>\n",
       "      <th>count</th>\n",
       "      <th>mean</th>\n",
       "      <th>std</th>\n",
       "      <th>min</th>\n",
       "      <th>25%</th>\n",
       "      <th>50%</th>\n",
       "      <th>75%</th>\n",
       "      <th>max</th>\n",
       "    </tr>\n",
       "  </thead>\n",
       "  <tbody>\n",
       "    <tr>\n",
       "      <th>timedelta</th>\n",
       "      <td>39644.0</td>\n",
       "      <td>354.530471</td>\n",
       "      <td>214.163767</td>\n",
       "      <td>8.00000</td>\n",
       "      <td>164.000000</td>\n",
       "      <td>339.000000</td>\n",
       "      <td>542.000000</td>\n",
       "      <td>731.000000</td>\n",
       "    </tr>\n",
       "    <tr>\n",
       "      <th>n_tokens_title</th>\n",
       "      <td>39644.0</td>\n",
       "      <td>10.398749</td>\n",
       "      <td>2.114037</td>\n",
       "      <td>2.00000</td>\n",
       "      <td>9.000000</td>\n",
       "      <td>10.000000</td>\n",
       "      <td>12.000000</td>\n",
       "      <td>23.000000</td>\n",
       "    </tr>\n",
       "    <tr>\n",
       "      <th>n_tokens_content</th>\n",
       "      <td>39644.0</td>\n",
       "      <td>546.514731</td>\n",
       "      <td>471.107508</td>\n",
       "      <td>0.00000</td>\n",
       "      <td>246.000000</td>\n",
       "      <td>409.000000</td>\n",
       "      <td>716.000000</td>\n",
       "      <td>8474.000000</td>\n",
       "    </tr>\n",
       "    <tr>\n",
       "      <th>num_hrefs</th>\n",
       "      <td>39644.0</td>\n",
       "      <td>10.883690</td>\n",
       "      <td>11.332017</td>\n",
       "      <td>0.00000</td>\n",
       "      <td>4.000000</td>\n",
       "      <td>8.000000</td>\n",
       "      <td>14.000000</td>\n",
       "      <td>304.000000</td>\n",
       "    </tr>\n",
       "    <tr>\n",
       "      <th>num_self_hrefs</th>\n",
       "      <td>39644.0</td>\n",
       "      <td>3.293638</td>\n",
       "      <td>3.855141</td>\n",
       "      <td>0.00000</td>\n",
       "      <td>1.000000</td>\n",
       "      <td>3.000000</td>\n",
       "      <td>4.000000</td>\n",
       "      <td>116.000000</td>\n",
       "    </tr>\n",
       "    <tr>\n",
       "      <th>num_imgs</th>\n",
       "      <td>39644.0</td>\n",
       "      <td>4.544143</td>\n",
       "      <td>8.309434</td>\n",
       "      <td>0.00000</td>\n",
       "      <td>1.000000</td>\n",
       "      <td>1.000000</td>\n",
       "      <td>4.000000</td>\n",
       "      <td>128.000000</td>\n",
       "    </tr>\n",
       "    <tr>\n",
       "      <th>num_videos</th>\n",
       "      <td>39644.0</td>\n",
       "      <td>1.249874</td>\n",
       "      <td>4.107855</td>\n",
       "      <td>0.00000</td>\n",
       "      <td>0.000000</td>\n",
       "      <td>0.000000</td>\n",
       "      <td>1.000000</td>\n",
       "      <td>91.000000</td>\n",
       "    </tr>\n",
       "    <tr>\n",
       "      <th>average_token_length</th>\n",
       "      <td>39644.0</td>\n",
       "      <td>4.548239</td>\n",
       "      <td>0.844406</td>\n",
       "      <td>0.00000</td>\n",
       "      <td>4.478404</td>\n",
       "      <td>4.664082</td>\n",
       "      <td>4.854839</td>\n",
       "      <td>8.041534</td>\n",
       "    </tr>\n",
       "    <tr>\n",
       "      <th>num_keywords</th>\n",
       "      <td>39644.0</td>\n",
       "      <td>7.223767</td>\n",
       "      <td>1.909130</td>\n",
       "      <td>1.00000</td>\n",
       "      <td>6.000000</td>\n",
       "      <td>7.000000</td>\n",
       "      <td>9.000000</td>\n",
       "      <td>10.000000</td>\n",
       "    </tr>\n",
       "    <tr>\n",
       "      <th>data_channel_is_lifestyle</th>\n",
       "      <td>39644.0</td>\n",
       "      <td>0.052946</td>\n",
       "      <td>0.223929</td>\n",
       "      <td>0.00000</td>\n",
       "      <td>0.000000</td>\n",
       "      <td>0.000000</td>\n",
       "      <td>0.000000</td>\n",
       "      <td>1.000000</td>\n",
       "    </tr>\n",
       "    <tr>\n",
       "      <th>data_channel_is_entertainment</th>\n",
       "      <td>39644.0</td>\n",
       "      <td>0.178009</td>\n",
       "      <td>0.382525</td>\n",
       "      <td>0.00000</td>\n",
       "      <td>0.000000</td>\n",
       "      <td>0.000000</td>\n",
       "      <td>0.000000</td>\n",
       "      <td>1.000000</td>\n",
       "    </tr>\n",
       "    <tr>\n",
       "      <th>data_channel_is_bus</th>\n",
       "      <td>39644.0</td>\n",
       "      <td>0.157855</td>\n",
       "      <td>0.364610</td>\n",
       "      <td>0.00000</td>\n",
       "      <td>0.000000</td>\n",
       "      <td>0.000000</td>\n",
       "      <td>0.000000</td>\n",
       "      <td>1.000000</td>\n",
       "    </tr>\n",
       "    <tr>\n",
       "      <th>data_channel_is_socmed</th>\n",
       "      <td>39644.0</td>\n",
       "      <td>0.058597</td>\n",
       "      <td>0.234871</td>\n",
       "      <td>0.00000</td>\n",
       "      <td>0.000000</td>\n",
       "      <td>0.000000</td>\n",
       "      <td>0.000000</td>\n",
       "      <td>1.000000</td>\n",
       "    </tr>\n",
       "    <tr>\n",
       "      <th>data_channel_is_tech</th>\n",
       "      <td>39644.0</td>\n",
       "      <td>0.185299</td>\n",
       "      <td>0.388545</td>\n",
       "      <td>0.00000</td>\n",
       "      <td>0.000000</td>\n",
       "      <td>0.000000</td>\n",
       "      <td>0.000000</td>\n",
       "      <td>1.000000</td>\n",
       "    </tr>\n",
       "    <tr>\n",
       "      <th>data_channel_is_world</th>\n",
       "      <td>39644.0</td>\n",
       "      <td>0.212567</td>\n",
       "      <td>0.409129</td>\n",
       "      <td>0.00000</td>\n",
       "      <td>0.000000</td>\n",
       "      <td>0.000000</td>\n",
       "      <td>0.000000</td>\n",
       "      <td>1.000000</td>\n",
       "    </tr>\n",
       "    <tr>\n",
       "      <th>kw_min_min</th>\n",
       "      <td>39644.0</td>\n",
       "      <td>26.106801</td>\n",
       "      <td>69.633215</td>\n",
       "      <td>-1.00000</td>\n",
       "      <td>-1.000000</td>\n",
       "      <td>-1.000000</td>\n",
       "      <td>4.000000</td>\n",
       "      <td>377.000000</td>\n",
       "    </tr>\n",
       "    <tr>\n",
       "      <th>kw_max_min</th>\n",
       "      <td>39644.0</td>\n",
       "      <td>1153.951682</td>\n",
       "      <td>3857.990877</td>\n",
       "      <td>0.00000</td>\n",
       "      <td>445.000000</td>\n",
       "      <td>660.000000</td>\n",
       "      <td>1000.000000</td>\n",
       "      <td>298400.000000</td>\n",
       "    </tr>\n",
       "    <tr>\n",
       "      <th>kw_avg_min</th>\n",
       "      <td>39644.0</td>\n",
       "      <td>312.366967</td>\n",
       "      <td>620.783887</td>\n",
       "      <td>-1.00000</td>\n",
       "      <td>141.750000</td>\n",
       "      <td>235.500000</td>\n",
       "      <td>357.000000</td>\n",
       "      <td>42827.857143</td>\n",
       "    </tr>\n",
       "    <tr>\n",
       "      <th>kw_min_max</th>\n",
       "      <td>39644.0</td>\n",
       "      <td>13612.354102</td>\n",
       "      <td>57986.029357</td>\n",
       "      <td>0.00000</td>\n",
       "      <td>0.000000</td>\n",
       "      <td>1400.000000</td>\n",
       "      <td>7900.000000</td>\n",
       "      <td>843300.000000</td>\n",
       "    </tr>\n",
       "    <tr>\n",
       "      <th>kw_max_max</th>\n",
       "      <td>39644.0</td>\n",
       "      <td>752324.066694</td>\n",
       "      <td>214502.129573</td>\n",
       "      <td>0.00000</td>\n",
       "      <td>843300.000000</td>\n",
       "      <td>843300.000000</td>\n",
       "      <td>843300.000000</td>\n",
       "      <td>843300.000000</td>\n",
       "    </tr>\n",
       "    <tr>\n",
       "      <th>kw_avg_max</th>\n",
       "      <td>39644.0</td>\n",
       "      <td>259281.938083</td>\n",
       "      <td>135102.247285</td>\n",
       "      <td>0.00000</td>\n",
       "      <td>172846.875000</td>\n",
       "      <td>244572.222223</td>\n",
       "      <td>330980.000000</td>\n",
       "      <td>843300.000000</td>\n",
       "    </tr>\n",
       "    <tr>\n",
       "      <th>kw_min_avg</th>\n",
       "      <td>39644.0</td>\n",
       "      <td>1117.146610</td>\n",
       "      <td>1137.456951</td>\n",
       "      <td>-1.00000</td>\n",
       "      <td>0.000000</td>\n",
       "      <td>1023.635611</td>\n",
       "      <td>2056.781032</td>\n",
       "      <td>3613.039820</td>\n",
       "    </tr>\n",
       "    <tr>\n",
       "      <th>kw_max_avg</th>\n",
       "      <td>39644.0</td>\n",
       "      <td>5657.211151</td>\n",
       "      <td>6098.871957</td>\n",
       "      <td>0.00000</td>\n",
       "      <td>3562.101631</td>\n",
       "      <td>4355.688836</td>\n",
       "      <td>6019.953968</td>\n",
       "      <td>298400.000000</td>\n",
       "    </tr>\n",
       "    <tr>\n",
       "      <th>kw_avg_avg</th>\n",
       "      <td>39644.0</td>\n",
       "      <td>3135.858639</td>\n",
       "      <td>1318.150397</td>\n",
       "      <td>0.00000</td>\n",
       "      <td>2382.448566</td>\n",
       "      <td>2870.074878</td>\n",
       "      <td>3600.229564</td>\n",
       "      <td>43567.659946</td>\n",
       "    </tr>\n",
       "    <tr>\n",
       "      <th>self_reference_min_shares</th>\n",
       "      <td>39644.0</td>\n",
       "      <td>3998.755396</td>\n",
       "      <td>19738.670516</td>\n",
       "      <td>0.00000</td>\n",
       "      <td>639.000000</td>\n",
       "      <td>1200.000000</td>\n",
       "      <td>2600.000000</td>\n",
       "      <td>843300.000000</td>\n",
       "    </tr>\n",
       "    <tr>\n",
       "      <th>self_reference_max_shares</th>\n",
       "      <td>39644.0</td>\n",
       "      <td>10329.212662</td>\n",
       "      <td>41027.576613</td>\n",
       "      <td>0.00000</td>\n",
       "      <td>1100.000000</td>\n",
       "      <td>2800.000000</td>\n",
       "      <td>8000.000000</td>\n",
       "      <td>843300.000000</td>\n",
       "    </tr>\n",
       "    <tr>\n",
       "      <th>self_reference_avg_sharess</th>\n",
       "      <td>39644.0</td>\n",
       "      <td>6401.697580</td>\n",
       "      <td>24211.332231</td>\n",
       "      <td>0.00000</td>\n",
       "      <td>981.187500</td>\n",
       "      <td>2200.000000</td>\n",
       "      <td>5200.000000</td>\n",
       "      <td>843300.000000</td>\n",
       "    </tr>\n",
       "    <tr>\n",
       "      <th>weekday_is_monday</th>\n",
       "      <td>39644.0</td>\n",
       "      <td>0.168020</td>\n",
       "      <td>0.373889</td>\n",
       "      <td>0.00000</td>\n",
       "      <td>0.000000</td>\n",
       "      <td>0.000000</td>\n",
       "      <td>0.000000</td>\n",
       "      <td>1.000000</td>\n",
       "    </tr>\n",
       "    <tr>\n",
       "      <th>weekday_is_tuesday</th>\n",
       "      <td>39644.0</td>\n",
       "      <td>0.186409</td>\n",
       "      <td>0.389441</td>\n",
       "      <td>0.00000</td>\n",
       "      <td>0.000000</td>\n",
       "      <td>0.000000</td>\n",
       "      <td>0.000000</td>\n",
       "      <td>1.000000</td>\n",
       "    </tr>\n",
       "    <tr>\n",
       "      <th>weekday_is_wednesday</th>\n",
       "      <td>39644.0</td>\n",
       "      <td>0.187544</td>\n",
       "      <td>0.390353</td>\n",
       "      <td>0.00000</td>\n",
       "      <td>0.000000</td>\n",
       "      <td>0.000000</td>\n",
       "      <td>0.000000</td>\n",
       "      <td>1.000000</td>\n",
       "    </tr>\n",
       "    <tr>\n",
       "      <th>weekday_is_thursday</th>\n",
       "      <td>39644.0</td>\n",
       "      <td>0.183306</td>\n",
       "      <td>0.386922</td>\n",
       "      <td>0.00000</td>\n",
       "      <td>0.000000</td>\n",
       "      <td>0.000000</td>\n",
       "      <td>0.000000</td>\n",
       "      <td>1.000000</td>\n",
       "    </tr>\n",
       "    <tr>\n",
       "      <th>weekday_is_friday</th>\n",
       "      <td>39644.0</td>\n",
       "      <td>0.143805</td>\n",
       "      <td>0.350896</td>\n",
       "      <td>0.00000</td>\n",
       "      <td>0.000000</td>\n",
       "      <td>0.000000</td>\n",
       "      <td>0.000000</td>\n",
       "      <td>1.000000</td>\n",
       "    </tr>\n",
       "    <tr>\n",
       "      <th>weekday_is_saturday</th>\n",
       "      <td>39644.0</td>\n",
       "      <td>0.061876</td>\n",
       "      <td>0.240933</td>\n",
       "      <td>0.00000</td>\n",
       "      <td>0.000000</td>\n",
       "      <td>0.000000</td>\n",
       "      <td>0.000000</td>\n",
       "      <td>1.000000</td>\n",
       "    </tr>\n",
       "    <tr>\n",
       "      <th>weekday_is_sunday</th>\n",
       "      <td>39644.0</td>\n",
       "      <td>0.069039</td>\n",
       "      <td>0.253524</td>\n",
       "      <td>0.00000</td>\n",
       "      <td>0.000000</td>\n",
       "      <td>0.000000</td>\n",
       "      <td>0.000000</td>\n",
       "      <td>1.000000</td>\n",
       "    </tr>\n",
       "    <tr>\n",
       "      <th>is_weekend</th>\n",
       "      <td>39644.0</td>\n",
       "      <td>0.130915</td>\n",
       "      <td>0.337312</td>\n",
       "      <td>0.00000</td>\n",
       "      <td>0.000000</td>\n",
       "      <td>0.000000</td>\n",
       "      <td>0.000000</td>\n",
       "      <td>1.000000</td>\n",
       "    </tr>\n",
       "    <tr>\n",
       "      <th>LDA_00</th>\n",
       "      <td>39644.0</td>\n",
       "      <td>0.184599</td>\n",
       "      <td>0.262975</td>\n",
       "      <td>0.00000</td>\n",
       "      <td>0.025051</td>\n",
       "      <td>0.033387</td>\n",
       "      <td>0.240958</td>\n",
       "      <td>0.926994</td>\n",
       "    </tr>\n",
       "    <tr>\n",
       "      <th>LDA_01</th>\n",
       "      <td>39644.0</td>\n",
       "      <td>0.141256</td>\n",
       "      <td>0.219707</td>\n",
       "      <td>0.00000</td>\n",
       "      <td>0.025012</td>\n",
       "      <td>0.033345</td>\n",
       "      <td>0.150831</td>\n",
       "      <td>0.925947</td>\n",
       "    </tr>\n",
       "    <tr>\n",
       "      <th>LDA_02</th>\n",
       "      <td>39644.0</td>\n",
       "      <td>0.216321</td>\n",
       "      <td>0.282145</td>\n",
       "      <td>0.00000</td>\n",
       "      <td>0.028571</td>\n",
       "      <td>0.040004</td>\n",
       "      <td>0.334218</td>\n",
       "      <td>0.919999</td>\n",
       "    </tr>\n",
       "    <tr>\n",
       "      <th>LDA_03</th>\n",
       "      <td>39644.0</td>\n",
       "      <td>0.223770</td>\n",
       "      <td>0.295191</td>\n",
       "      <td>0.00000</td>\n",
       "      <td>0.028571</td>\n",
       "      <td>0.040001</td>\n",
       "      <td>0.375763</td>\n",
       "      <td>0.926534</td>\n",
       "    </tr>\n",
       "    <tr>\n",
       "      <th>LDA_04</th>\n",
       "      <td>39644.0</td>\n",
       "      <td>0.234029</td>\n",
       "      <td>0.289183</td>\n",
       "      <td>0.00000</td>\n",
       "      <td>0.028574</td>\n",
       "      <td>0.040727</td>\n",
       "      <td>0.399986</td>\n",
       "      <td>0.927191</td>\n",
       "    </tr>\n",
       "    <tr>\n",
       "      <th>global_subjectivity</th>\n",
       "      <td>39644.0</td>\n",
       "      <td>0.443370</td>\n",
       "      <td>0.116685</td>\n",
       "      <td>0.00000</td>\n",
       "      <td>0.396167</td>\n",
       "      <td>0.453457</td>\n",
       "      <td>0.508333</td>\n",
       "      <td>1.000000</td>\n",
       "    </tr>\n",
       "    <tr>\n",
       "      <th>global_sentiment_polarity</th>\n",
       "      <td>39644.0</td>\n",
       "      <td>0.119309</td>\n",
       "      <td>0.096931</td>\n",
       "      <td>-0.39375</td>\n",
       "      <td>0.057757</td>\n",
       "      <td>0.119117</td>\n",
       "      <td>0.177832</td>\n",
       "      <td>0.727841</td>\n",
       "    </tr>\n",
       "    <tr>\n",
       "      <th>global_rate_positive_words</th>\n",
       "      <td>39644.0</td>\n",
       "      <td>0.039625</td>\n",
       "      <td>0.017429</td>\n",
       "      <td>0.00000</td>\n",
       "      <td>0.028384</td>\n",
       "      <td>0.039023</td>\n",
       "      <td>0.050279</td>\n",
       "      <td>0.155488</td>\n",
       "    </tr>\n",
       "    <tr>\n",
       "      <th>global_rate_negative_words</th>\n",
       "      <td>39644.0</td>\n",
       "      <td>0.016612</td>\n",
       "      <td>0.010828</td>\n",
       "      <td>0.00000</td>\n",
       "      <td>0.009615</td>\n",
       "      <td>0.015337</td>\n",
       "      <td>0.021739</td>\n",
       "      <td>0.184932</td>\n",
       "    </tr>\n",
       "    <tr>\n",
       "      <th>rate_positive_words</th>\n",
       "      <td>39644.0</td>\n",
       "      <td>0.682150</td>\n",
       "      <td>0.190206</td>\n",
       "      <td>0.00000</td>\n",
       "      <td>0.600000</td>\n",
       "      <td>0.710526</td>\n",
       "      <td>0.800000</td>\n",
       "      <td>1.000000</td>\n",
       "    </tr>\n",
       "    <tr>\n",
       "      <th>rate_negative_words</th>\n",
       "      <td>39644.0</td>\n",
       "      <td>0.287934</td>\n",
       "      <td>0.156156</td>\n",
       "      <td>0.00000</td>\n",
       "      <td>0.185185</td>\n",
       "      <td>0.280000</td>\n",
       "      <td>0.384615</td>\n",
       "      <td>1.000000</td>\n",
       "    </tr>\n",
       "    <tr>\n",
       "      <th>avg_positive_polarity</th>\n",
       "      <td>39644.0</td>\n",
       "      <td>0.353825</td>\n",
       "      <td>0.104542</td>\n",
       "      <td>0.00000</td>\n",
       "      <td>0.306244</td>\n",
       "      <td>0.358755</td>\n",
       "      <td>0.411428</td>\n",
       "      <td>1.000000</td>\n",
       "    </tr>\n",
       "    <tr>\n",
       "      <th>min_positive_polarity</th>\n",
       "      <td>39644.0</td>\n",
       "      <td>0.095446</td>\n",
       "      <td>0.071315</td>\n",
       "      <td>0.00000</td>\n",
       "      <td>0.050000</td>\n",
       "      <td>0.100000</td>\n",
       "      <td>0.100000</td>\n",
       "      <td>1.000000</td>\n",
       "    </tr>\n",
       "    <tr>\n",
       "      <th>max_positive_polarity</th>\n",
       "      <td>39644.0</td>\n",
       "      <td>0.756728</td>\n",
       "      <td>0.247786</td>\n",
       "      <td>0.00000</td>\n",
       "      <td>0.600000</td>\n",
       "      <td>0.800000</td>\n",
       "      <td>1.000000</td>\n",
       "      <td>1.000000</td>\n",
       "    </tr>\n",
       "    <tr>\n",
       "      <th>avg_negative_polarity</th>\n",
       "      <td>39644.0</td>\n",
       "      <td>-0.259524</td>\n",
       "      <td>0.127726</td>\n",
       "      <td>-1.00000</td>\n",
       "      <td>-0.328383</td>\n",
       "      <td>-0.253333</td>\n",
       "      <td>-0.186905</td>\n",
       "      <td>0.000000</td>\n",
       "    </tr>\n",
       "    <tr>\n",
       "      <th>min_negative_polarity</th>\n",
       "      <td>39644.0</td>\n",
       "      <td>-0.521944</td>\n",
       "      <td>0.290290</td>\n",
       "      <td>-1.00000</td>\n",
       "      <td>-0.700000</td>\n",
       "      <td>-0.500000</td>\n",
       "      <td>-0.300000</td>\n",
       "      <td>0.000000</td>\n",
       "    </tr>\n",
       "    <tr>\n",
       "      <th>max_negative_polarity</th>\n",
       "      <td>39644.0</td>\n",
       "      <td>-0.107500</td>\n",
       "      <td>0.095373</td>\n",
       "      <td>-1.00000</td>\n",
       "      <td>-0.125000</td>\n",
       "      <td>-0.100000</td>\n",
       "      <td>-0.050000</td>\n",
       "      <td>0.000000</td>\n",
       "    </tr>\n",
       "    <tr>\n",
       "      <th>title_subjectivity</th>\n",
       "      <td>39644.0</td>\n",
       "      <td>0.282353</td>\n",
       "      <td>0.324247</td>\n",
       "      <td>0.00000</td>\n",
       "      <td>0.000000</td>\n",
       "      <td>0.150000</td>\n",
       "      <td>0.500000</td>\n",
       "      <td>1.000000</td>\n",
       "    </tr>\n",
       "    <tr>\n",
       "      <th>title_sentiment_polarity</th>\n",
       "      <td>39644.0</td>\n",
       "      <td>0.071425</td>\n",
       "      <td>0.265450</td>\n",
       "      <td>-1.00000</td>\n",
       "      <td>0.000000</td>\n",
       "      <td>0.000000</td>\n",
       "      <td>0.150000</td>\n",
       "      <td>1.000000</td>\n",
       "    </tr>\n",
       "    <tr>\n",
       "      <th>abs_title_subjectivity</th>\n",
       "      <td>39644.0</td>\n",
       "      <td>0.341843</td>\n",
       "      <td>0.188791</td>\n",
       "      <td>0.00000</td>\n",
       "      <td>0.166667</td>\n",
       "      <td>0.500000</td>\n",
       "      <td>0.500000</td>\n",
       "      <td>0.500000</td>\n",
       "    </tr>\n",
       "    <tr>\n",
       "      <th>abs_title_sentiment_polarity</th>\n",
       "      <td>39644.0</td>\n",
       "      <td>0.156064</td>\n",
       "      <td>0.226294</td>\n",
       "      <td>0.00000</td>\n",
       "      <td>0.000000</td>\n",
       "      <td>0.000000</td>\n",
       "      <td>0.250000</td>\n",
       "      <td>1.000000</td>\n",
       "    </tr>\n",
       "  </tbody>\n",
       "</table>\n",
       "</div>"
      ],
      "text/plain": [
       "                                 count           mean            std      min  \\\n",
       "timedelta                      39644.0     354.530471     214.163767  8.00000   \n",
       "n_tokens_title                 39644.0      10.398749       2.114037  2.00000   \n",
       "n_tokens_content               39644.0     546.514731     471.107508  0.00000   \n",
       "num_hrefs                      39644.0      10.883690      11.332017  0.00000   \n",
       "num_self_hrefs                 39644.0       3.293638       3.855141  0.00000   \n",
       "num_imgs                       39644.0       4.544143       8.309434  0.00000   \n",
       "num_videos                     39644.0       1.249874       4.107855  0.00000   \n",
       "average_token_length           39644.0       4.548239       0.844406  0.00000   \n",
       "num_keywords                   39644.0       7.223767       1.909130  1.00000   \n",
       "data_channel_is_lifestyle      39644.0       0.052946       0.223929  0.00000   \n",
       "data_channel_is_entertainment  39644.0       0.178009       0.382525  0.00000   \n",
       "data_channel_is_bus            39644.0       0.157855       0.364610  0.00000   \n",
       "data_channel_is_socmed         39644.0       0.058597       0.234871  0.00000   \n",
       "data_channel_is_tech           39644.0       0.185299       0.388545  0.00000   \n",
       "data_channel_is_world          39644.0       0.212567       0.409129  0.00000   \n",
       "kw_min_min                     39644.0      26.106801      69.633215 -1.00000   \n",
       "kw_max_min                     39644.0    1153.951682    3857.990877  0.00000   \n",
       "kw_avg_min                     39644.0     312.366967     620.783887 -1.00000   \n",
       "kw_min_max                     39644.0   13612.354102   57986.029357  0.00000   \n",
       "kw_max_max                     39644.0  752324.066694  214502.129573  0.00000   \n",
       "kw_avg_max                     39644.0  259281.938083  135102.247285  0.00000   \n",
       "kw_min_avg                     39644.0    1117.146610    1137.456951 -1.00000   \n",
       "kw_max_avg                     39644.0    5657.211151    6098.871957  0.00000   \n",
       "kw_avg_avg                     39644.0    3135.858639    1318.150397  0.00000   \n",
       "self_reference_min_shares      39644.0    3998.755396   19738.670516  0.00000   \n",
       "self_reference_max_shares      39644.0   10329.212662   41027.576613  0.00000   \n",
       "self_reference_avg_sharess     39644.0    6401.697580   24211.332231  0.00000   \n",
       "weekday_is_monday              39644.0       0.168020       0.373889  0.00000   \n",
       "weekday_is_tuesday             39644.0       0.186409       0.389441  0.00000   \n",
       "weekday_is_wednesday           39644.0       0.187544       0.390353  0.00000   \n",
       "weekday_is_thursday            39644.0       0.183306       0.386922  0.00000   \n",
       "weekday_is_friday              39644.0       0.143805       0.350896  0.00000   \n",
       "weekday_is_saturday            39644.0       0.061876       0.240933  0.00000   \n",
       "weekday_is_sunday              39644.0       0.069039       0.253524  0.00000   \n",
       "is_weekend                     39644.0       0.130915       0.337312  0.00000   \n",
       "LDA_00                         39644.0       0.184599       0.262975  0.00000   \n",
       "LDA_01                         39644.0       0.141256       0.219707  0.00000   \n",
       "LDA_02                         39644.0       0.216321       0.282145  0.00000   \n",
       "LDA_03                         39644.0       0.223770       0.295191  0.00000   \n",
       "LDA_04                         39644.0       0.234029       0.289183  0.00000   \n",
       "global_subjectivity            39644.0       0.443370       0.116685  0.00000   \n",
       "global_sentiment_polarity      39644.0       0.119309       0.096931 -0.39375   \n",
       "global_rate_positive_words     39644.0       0.039625       0.017429  0.00000   \n",
       "global_rate_negative_words     39644.0       0.016612       0.010828  0.00000   \n",
       "rate_positive_words            39644.0       0.682150       0.190206  0.00000   \n",
       "rate_negative_words            39644.0       0.287934       0.156156  0.00000   \n",
       "avg_positive_polarity          39644.0       0.353825       0.104542  0.00000   \n",
       "min_positive_polarity          39644.0       0.095446       0.071315  0.00000   \n",
       "max_positive_polarity          39644.0       0.756728       0.247786  0.00000   \n",
       "avg_negative_polarity          39644.0      -0.259524       0.127726 -1.00000   \n",
       "min_negative_polarity          39644.0      -0.521944       0.290290 -1.00000   \n",
       "max_negative_polarity          39644.0      -0.107500       0.095373 -1.00000   \n",
       "title_subjectivity             39644.0       0.282353       0.324247  0.00000   \n",
       "title_sentiment_polarity       39644.0       0.071425       0.265450 -1.00000   \n",
       "abs_title_subjectivity         39644.0       0.341843       0.188791  0.00000   \n",
       "abs_title_sentiment_polarity   39644.0       0.156064       0.226294  0.00000   \n",
       "\n",
       "                                         25%            50%            75%  \\\n",
       "timedelta                         164.000000     339.000000     542.000000   \n",
       "n_tokens_title                      9.000000      10.000000      12.000000   \n",
       "n_tokens_content                  246.000000     409.000000     716.000000   \n",
       "num_hrefs                           4.000000       8.000000      14.000000   \n",
       "num_self_hrefs                      1.000000       3.000000       4.000000   \n",
       "num_imgs                            1.000000       1.000000       4.000000   \n",
       "num_videos                          0.000000       0.000000       1.000000   \n",
       "average_token_length                4.478404       4.664082       4.854839   \n",
       "num_keywords                        6.000000       7.000000       9.000000   \n",
       "data_channel_is_lifestyle           0.000000       0.000000       0.000000   \n",
       "data_channel_is_entertainment       0.000000       0.000000       0.000000   \n",
       "data_channel_is_bus                 0.000000       0.000000       0.000000   \n",
       "data_channel_is_socmed              0.000000       0.000000       0.000000   \n",
       "data_channel_is_tech                0.000000       0.000000       0.000000   \n",
       "data_channel_is_world               0.000000       0.000000       0.000000   \n",
       "kw_min_min                         -1.000000      -1.000000       4.000000   \n",
       "kw_max_min                        445.000000     660.000000    1000.000000   \n",
       "kw_avg_min                        141.750000     235.500000     357.000000   \n",
       "kw_min_max                          0.000000    1400.000000    7900.000000   \n",
       "kw_max_max                     843300.000000  843300.000000  843300.000000   \n",
       "kw_avg_max                     172846.875000  244572.222223  330980.000000   \n",
       "kw_min_avg                          0.000000    1023.635611    2056.781032   \n",
       "kw_max_avg                       3562.101631    4355.688836    6019.953968   \n",
       "kw_avg_avg                       2382.448566    2870.074878    3600.229564   \n",
       "self_reference_min_shares         639.000000    1200.000000    2600.000000   \n",
       "self_reference_max_shares        1100.000000    2800.000000    8000.000000   \n",
       "self_reference_avg_sharess        981.187500    2200.000000    5200.000000   \n",
       "weekday_is_monday                   0.000000       0.000000       0.000000   \n",
       "weekday_is_tuesday                  0.000000       0.000000       0.000000   \n",
       "weekday_is_wednesday                0.000000       0.000000       0.000000   \n",
       "weekday_is_thursday                 0.000000       0.000000       0.000000   \n",
       "weekday_is_friday                   0.000000       0.000000       0.000000   \n",
       "weekday_is_saturday                 0.000000       0.000000       0.000000   \n",
       "weekday_is_sunday                   0.000000       0.000000       0.000000   \n",
       "is_weekend                          0.000000       0.000000       0.000000   \n",
       "LDA_00                              0.025051       0.033387       0.240958   \n",
       "LDA_01                              0.025012       0.033345       0.150831   \n",
       "LDA_02                              0.028571       0.040004       0.334218   \n",
       "LDA_03                              0.028571       0.040001       0.375763   \n",
       "LDA_04                              0.028574       0.040727       0.399986   \n",
       "global_subjectivity                 0.396167       0.453457       0.508333   \n",
       "global_sentiment_polarity           0.057757       0.119117       0.177832   \n",
       "global_rate_positive_words          0.028384       0.039023       0.050279   \n",
       "global_rate_negative_words          0.009615       0.015337       0.021739   \n",
       "rate_positive_words                 0.600000       0.710526       0.800000   \n",
       "rate_negative_words                 0.185185       0.280000       0.384615   \n",
       "avg_positive_polarity               0.306244       0.358755       0.411428   \n",
       "min_positive_polarity               0.050000       0.100000       0.100000   \n",
       "max_positive_polarity               0.600000       0.800000       1.000000   \n",
       "avg_negative_polarity              -0.328383      -0.253333      -0.186905   \n",
       "min_negative_polarity              -0.700000      -0.500000      -0.300000   \n",
       "max_negative_polarity              -0.125000      -0.100000      -0.050000   \n",
       "title_subjectivity                  0.000000       0.150000       0.500000   \n",
       "title_sentiment_polarity            0.000000       0.000000       0.150000   \n",
       "abs_title_subjectivity              0.166667       0.500000       0.500000   \n",
       "abs_title_sentiment_polarity        0.000000       0.000000       0.250000   \n",
       "\n",
       "                                         max  \n",
       "timedelta                         731.000000  \n",
       "n_tokens_title                     23.000000  \n",
       "n_tokens_content                 8474.000000  \n",
       "num_hrefs                         304.000000  \n",
       "num_self_hrefs                    116.000000  \n",
       "num_imgs                          128.000000  \n",
       "num_videos                         91.000000  \n",
       "average_token_length                8.041534  \n",
       "num_keywords                       10.000000  \n",
       "data_channel_is_lifestyle           1.000000  \n",
       "data_channel_is_entertainment       1.000000  \n",
       "data_channel_is_bus                 1.000000  \n",
       "data_channel_is_socmed              1.000000  \n",
       "data_channel_is_tech                1.000000  \n",
       "data_channel_is_world               1.000000  \n",
       "kw_min_min                        377.000000  \n",
       "kw_max_min                     298400.000000  \n",
       "kw_avg_min                      42827.857143  \n",
       "kw_min_max                     843300.000000  \n",
       "kw_max_max                     843300.000000  \n",
       "kw_avg_max                     843300.000000  \n",
       "kw_min_avg                       3613.039820  \n",
       "kw_max_avg                     298400.000000  \n",
       "kw_avg_avg                      43567.659946  \n",
       "self_reference_min_shares      843300.000000  \n",
       "self_reference_max_shares      843300.000000  \n",
       "self_reference_avg_sharess     843300.000000  \n",
       "weekday_is_monday                   1.000000  \n",
       "weekday_is_tuesday                  1.000000  \n",
       "weekday_is_wednesday                1.000000  \n",
       "weekday_is_thursday                 1.000000  \n",
       "weekday_is_friday                   1.000000  \n",
       "weekday_is_saturday                 1.000000  \n",
       "weekday_is_sunday                   1.000000  \n",
       "is_weekend                          1.000000  \n",
       "LDA_00                              0.926994  \n",
       "LDA_01                              0.925947  \n",
       "LDA_02                              0.919999  \n",
       "LDA_03                              0.926534  \n",
       "LDA_04                              0.927191  \n",
       "global_subjectivity                 1.000000  \n",
       "global_sentiment_polarity           0.727841  \n",
       "global_rate_positive_words          0.155488  \n",
       "global_rate_negative_words          0.184932  \n",
       "rate_positive_words                 1.000000  \n",
       "rate_negative_words                 1.000000  \n",
       "avg_positive_polarity               1.000000  \n",
       "min_positive_polarity               1.000000  \n",
       "max_positive_polarity               1.000000  \n",
       "avg_negative_polarity               0.000000  \n",
       "min_negative_polarity               0.000000  \n",
       "max_negative_polarity               0.000000  \n",
       "title_subjectivity                  1.000000  \n",
       "title_sentiment_polarity            1.000000  \n",
       "abs_title_subjectivity              0.500000  \n",
       "abs_title_sentiment_polarity        1.000000  "
      ]
     },
     "execution_count": 8,
     "metadata": {},
     "output_type": "execute_result"
    }
   ],
   "source": [
    "df.describe().T"
   ]
  },
  {
   "cell_type": "markdown",
   "metadata": {},
   "source": [
    "#### Assign certain variables to type integer, as appropriate"
   ]
  },
  {
   "cell_type": "code",
   "execution_count": 9,
   "metadata": {
    "collapsed": true
   },
   "outputs": [],
   "source": [
    "# ... -=-=-=-=-=-=-=-=-=-=-=-=-=-=-=-=-=-=-=-=-=-=-=-=-=-=-=-=-=-=-=-=-=-=-=-=-=\n",
    "# ...  convert the data type to Integer\n",
    "# ... -=-=-=-=-=-=-=-=-=-=-=-=-=-=-=-=-=-=-=-=-=-=-=-=-=-=-=-=-=-=-=-=-=-=-=-=-=\n",
    "\n",
    "to_int = ['timedelta','n_tokens_title', 'n_tokens_content',\n",
    "    'num_hrefs','num_self_hrefs', 'num_imgs', 'num_videos', 'num_keywords',\n",
    "    'weekday_is_monday',\n",
    "    'weekday_is_tuesday',\n",
    "    'weekday_is_wednesday',\n",
    "    'weekday_is_thursday',\n",
    "    'weekday_is_friday',\n",
    "    'weekday_is_saturday',\n",
    "    'weekday_is_sunday',\n",
    "    'is_weekend']\n",
    "    \n",
    "\n",
    "df[to_int] = df[to_int ].astype(np.int64)"
   ]
  },
  {
   "cell_type": "code",
   "execution_count": 10,
   "metadata": {},
   "outputs": [
    {
     "data": {
      "text/html": [
       "<div>\n",
       "<style>\n",
       "    .dataframe thead tr:only-child th {\n",
       "        text-align: right;\n",
       "    }\n",
       "\n",
       "    .dataframe thead th {\n",
       "        text-align: left;\n",
       "    }\n",
       "\n",
       "    .dataframe tbody tr th {\n",
       "        vertical-align: top;\n",
       "    }\n",
       "</style>\n",
       "<table border=\"1\" class=\"dataframe\">\n",
       "  <thead>\n",
       "    <tr style=\"text-align: right;\">\n",
       "      <th></th>\n",
       "      <th>popular</th>\n",
       "      <th>timedelta</th>\n",
       "      <th>n_tokens_title</th>\n",
       "      <th>n_tokens_content</th>\n",
       "      <th>num_hrefs</th>\n",
       "      <th>num_self_hrefs</th>\n",
       "      <th>num_imgs</th>\n",
       "      <th>num_videos</th>\n",
       "      <th>average_token_length</th>\n",
       "      <th>num_keywords</th>\n",
       "      <th>...</th>\n",
       "      <th>avg_positive_polarity</th>\n",
       "      <th>min_positive_polarity</th>\n",
       "      <th>max_positive_polarity</th>\n",
       "      <th>avg_negative_polarity</th>\n",
       "      <th>min_negative_polarity</th>\n",
       "      <th>max_negative_polarity</th>\n",
       "      <th>title_subjectivity</th>\n",
       "      <th>title_sentiment_polarity</th>\n",
       "      <th>abs_title_subjectivity</th>\n",
       "      <th>abs_title_sentiment_polarity</th>\n",
       "    </tr>\n",
       "  </thead>\n",
       "  <tbody>\n",
       "  </tbody>\n",
       "</table>\n",
       "<p>0 rows × 57 columns</p>\n",
       "</div>"
      ],
      "text/plain": [
       "Empty DataFrame\n",
       "Columns: [popular, timedelta, n_tokens_title, n_tokens_content, num_hrefs, num_self_hrefs, num_imgs, num_videos, average_token_length, num_keywords, data_channel_is_lifestyle, data_channel_is_entertainment, data_channel_is_bus, data_channel_is_socmed, data_channel_is_tech, data_channel_is_world, kw_min_min, kw_max_min, kw_avg_min, kw_min_max, kw_max_max, kw_avg_max, kw_min_avg, kw_max_avg, kw_avg_avg, self_reference_min_shares, self_reference_max_shares, self_reference_avg_sharess, weekday_is_monday, weekday_is_tuesday, weekday_is_wednesday, weekday_is_thursday, weekday_is_friday, weekday_is_saturday, weekday_is_sunday, is_weekend, LDA_00, LDA_01, LDA_02, LDA_03, LDA_04, global_subjectivity, global_sentiment_polarity, global_rate_positive_words, global_rate_negative_words, rate_positive_words, rate_negative_words, avg_positive_polarity, min_positive_polarity, max_positive_polarity, avg_negative_polarity, min_negative_polarity, max_negative_polarity, title_subjectivity, title_sentiment_polarity, abs_title_subjectivity, abs_title_sentiment_polarity]\n",
       "Index: []\n",
       "\n",
       "[0 rows x 57 columns]"
      ]
     },
     "execution_count": 10,
     "metadata": {},
     "output_type": "execute_result"
    }
   ],
   "source": [
    "df[df.duplicated()]"
   ]
  },
  {
   "cell_type": "markdown",
   "metadata": {},
   "source": [
    "#### Impute kw_avg_max for 0-values and re-scale to standard normal scale\n",
    "\n",
    " - A small number of rows have 0 value for __kw_avg_max__, which is completely out of range for the remaining rows of this variable.    \n",
    " - We will impute these rows to median value of the column  \n",
    " \n",
    " - The magnitude of this column of data is markedly different than the range of values in the remaining columns in the data set. To bring this back in line, we will re-scale the values in this column to standard normal range"
   ]
  },
  {
   "cell_type": "code",
   "execution_count": 11,
   "metadata": {},
   "outputs": [
    {
     "data": {
      "text/plain": [
       "244572.22222250002"
      ]
     },
     "execution_count": 11,
     "metadata": {},
     "output_type": "execute_result"
    },
    {
     "data": {
      "text/plain": [
       "244575.00000025"
      ]
     },
     "execution_count": 11,
     "metadata": {},
     "output_type": "execute_result"
    }
   ],
   "source": [
    "\n",
    "# ... -=-=-=-=-=-=-=-=-=-=-=-=-=-=-=-=-=-=-=-=-=-=-=-=-=-=-=-=-=-=-=-=-=-=-=-=-=\n",
    "# ...  impute to median value for a few rows of kw_avg_max\n",
    "# ... -=-=-=-=-=-=-=-=-=-=-=-=-=-=-=-=-=-=-=-=-=-=-=-=-=-=-=-=-=-=-=-=-=-=-=-=-=\n",
    "\n",
    "condition = df['kw_avg_max'] == 0\n",
    "df.loc[condition, 'kw_avg_max'] = df.kw_avg_max.median()\n",
    "\n",
    "# ... -=-=-=-=-=-=-=-=-=-=-=-=-=-=-=-=-=-=-=-=-=-=-=-=-=-=-=-=-=-=-=-=-=-=-=-=-=\n",
    "# ...  scale to standard normal scale\n",
    "# ... -=-=-=-=-=-=-=-=-=-=-=-=-=-=-=-=-=-=-=-=-=-=-=-=-=-=-=-=-=-=-=-=-=-=-=-=-=\n",
    "\n",
    "df.kw_avg_max = (df.kw_avg_max - df.kw_avg_max.mean()) / df.kw_avg_max.std()\n"
   ]
  },
  {
   "cell_type": "markdown",
   "metadata": {},
   "source": [
    "#### Constant offset for variables with min value < 0  \n",
    "\n",
    " - This allows to consider these variables for ln() transform if highly right-skewed and also supports some classification models that only accept independent variables that are > 0  \n",
    " - Method here is to just add -1 * min_value of any column for which min_value < 0"
   ]
  },
  {
   "cell_type": "code",
   "execution_count": 12,
   "metadata": {
    "collapsed": true
   },
   "outputs": [],
   "source": [
    "# ... -=-=-=-=-=-=-=-=-=-=-=-=-=-=-=-=-=-=-=-=-=-=-=-=-=-=-=-=-=-=-=-=-=-=-=-=-=\n",
    "# ...  for all columns with negative values, add +1 to all values in the column\n",
    "# ...  - the only columns with negative values are polarity / sentiment measures\n",
    "# ...  - adding a constant to all values does not modify distributions\n",
    "# ... -=-=-=-=-=-=-=-=-=-=-=-=-=-=-=-=-=-=-=-=-=-=-=-=-=-=-=-=-=-=-=-=-=-=-=-=-=\n",
    "\n",
    "df_numeric = df.select_dtypes(['number'])\n",
    "numeric_col_names = df_numeric.columns.values.tolist()\n",
    "\n",
    "# ... store min value for each column\n",
    "\n",
    "df_mins = df.min()\n",
    "\n",
    "# ... -=-=-=-=-=-=-=-=-=-=-=-=-=-=-=-=-=-=-=-=-=-=-=-=-=-=-=-=-=-=-=-=-=-=-=-=-=\n",
    "# ...  loop on each column, test for min < 0, add constant as applicable\n",
    "# ... -=-=-=-=-=-=-=-=-=-=-=-=-=-=-=-=-=-=-=-=-=-=-=-=-=-=-=-=-=-=-=-=-=-=-=-=-=\n",
    "\n",
    "for column in numeric_col_names :\n",
    "    if df_mins[column] < 0 :\n",
    "        df[column] = df[column] - df_mins[column]\n",
    "        \n",
    "#        print('--> min_value < 0 adjusted : ', column, df_mins[column])"
   ]
  },
  {
   "cell_type": "markdown",
   "metadata": {},
   "source": [
    "#### Ln() transform for variables that are right skewed (skewness > 1)  \n",
    "\n",
    " - This facilitiates maintaining more normally distributed residuals for regression models  \n",
    " - Likely, this will not be needed for the classification task, at present, but also does not have negative effects for this current activity\n"
   ]
  },
  {
   "cell_type": "code",
   "execution_count": 13,
   "metadata": {},
   "outputs": [
    {
     "name": "stdout",
     "output_type": "stream",
     "text": [
      "n_tokens_content 2.94542193879 ln_n_tokens_content\n",
      "num_hrefs 4.0134948282 ln_num_hrefs\n",
      "num_self_hrefs 5.17275110576 ln_num_self_hrefs\n",
      "num_imgs 3.94659584465 ln_num_imgs\n",
      "num_videos 7.0195327863 ln_num_videos\n",
      "data_channel_is_lifestyle 3.99301914336 ln_data_channel_is_lifestyle\n",
      "data_channel_is_entertainment 1.6835848094 ln_data_channel_is_entertainment\n",
      "data_channel_is_bus 1.87687018599 ln_data_channel_is_bus\n",
      "data_channel_is_socmed 3.75887963097 ln_data_channel_is_socmed\n",
      "data_channel_is_tech 1.61997576469 ln_data_channel_is_tech\n",
      "data_channel_is_world 1.40516938412 ln_data_channel_is_world\n",
      "kw_min_min 2.37494728018 ln_kw_min_min\n",
      "kw_max_min 35.3284337312 ln_kw_max_min\n",
      "kw_avg_min 31.3061081027 ln_kw_avg_min\n",
      "kw_min_max 10.3863716348 ln_kw_min_max\n",
      "kw_max_avg 16.4116695554 ln_kw_max_avg\n",
      "kw_avg_avg 5.76017729162 ln_kw_avg_avg\n",
      "self_reference_min_shares 26.2643641603 ln_self_reference_min_shares\n",
      "self_reference_max_shares 13.8708490494 ln_self_reference_max_shares\n",
      "self_reference_avg_sharess 17.9140933777 ln_self_reference_avg_sharess\n",
      "weekday_is_monday 1.77590824423 ln_weekday_is_monday\n",
      "weekday_is_tuesday 1.61054706191 ln_weekday_is_tuesday\n",
      "weekday_is_wednesday 1.60097097689 ln_weekday_is_wednesday\n",
      "weekday_is_thursday 1.6370700483 ln_weekday_is_thursday\n",
      "weekday_is_friday 2.03030483518 ln_weekday_is_friday\n",
      "weekday_is_saturday 3.63708575997 ln_weekday_is_saturday\n",
      "weekday_is_sunday 3.3999273763 ln_weekday_is_sunday\n",
      "is_weekend 2.18850033431 ln_is_weekend\n",
      "LDA_00 1.5674632332 ln_LDA_00\n",
      "LDA_01 2.08672182342 ln_LDA_01\n",
      "LDA_02 1.31169490203 ln_LDA_02\n",
      "LDA_03 1.23871598638 ln_LDA_03\n",
      "LDA_04 1.17312947598 ln_LDA_04\n",
      "global_rate_negative_words 1.49191730919 ln_global_rate_negative_words\n",
      "min_positive_polarity 3.04046773746 ln_min_positive_polarity\n",
      "abs_title_sentiment_polarity 1.70419343991 ln_abs_title_sentiment_polarity\n",
      "['n_tokens_content', 'num_hrefs', 'num_self_hrefs', 'num_imgs', 'num_videos', 'data_channel_is_lifestyle', 'data_channel_is_entertainment', 'data_channel_is_bus', 'data_channel_is_socmed', 'data_channel_is_tech', 'data_channel_is_world', 'kw_min_min', 'kw_max_min', 'kw_avg_min', 'kw_min_max', 'kw_max_avg', 'kw_avg_avg', 'self_reference_min_shares', 'self_reference_max_shares', 'self_reference_avg_sharess', 'weekday_is_monday', 'weekday_is_tuesday', 'weekday_is_wednesday', 'weekday_is_thursday', 'weekday_is_friday', 'weekday_is_saturday', 'weekday_is_sunday', 'is_weekend', 'LDA_00', 'LDA_01', 'LDA_02', 'LDA_03', 'LDA_04', 'global_rate_negative_words', 'min_positive_polarity', 'abs_title_sentiment_polarity']\n",
      "\n",
      "-----------------------------------\n",
      "\n",
      "Number of current columns in dataset : 80\n"
     ]
    }
   ],
   "source": [
    "# ... -=-=-=-=-=-=-=-=-=-=-=-=-=-=-=-=-=-=-=-=-=-=-=-=-=-=-=-=-=-=-=-=-=-=-=-=-=\n",
    "# ...  ln() transform right skewed distribution variables (skewness > 1)\n",
    "# ... -=-=-=-=-=-=-=-=-=-=-=-=-=-=-=-=-=-=-=-=-=-=-=-=-=-=-=-=-=-=-=-=-=-=-=-=-=\n",
    "\n",
    "df_numeric = df.select_dtypes(['number'])\n",
    "\n",
    "numeric_col_names = df_numeric.columns.values.tolist()\n",
    "\n",
    "# ... store min value for each column\n",
    "\n",
    "df_mins = df.min()\n",
    "\n",
    "# ... -=-=-=-=-=-=-=-=-=-=-=-=-=-=-=-=-=-=-=-=-=-=-=-=-=-=-=-=-=-=-=-=-=-=-=-=-=\n",
    "# ...  loop on each column, test for skewness, create new column if conditions met\n",
    "# ... -=-=-=-=-=-=-=-=-=-=-=-=-=-=-=-=-=-=-=-=-=-=-=-=-=-=-=-=-=-=-=-=-=-=-=-=-=\n",
    "\n",
    "columns_to_drop = []\n",
    "\n",
    "for column in numeric_col_names:\n",
    "    sk = df[column].skew()\n",
    "    \n",
    "    if(sk > 1):\n",
    "        new_col_name = 'ln_' + column\n",
    "        print (column, sk, new_col_name)\n",
    "        \n",
    "        if df_mins[column] > 0:\n",
    "            df[new_col_name] = np.log(df[column])\n",
    "            columns_to_drop.append(column)\n",
    "            \n",
    "        elif df_mins[column] == 0:\n",
    "            df_tmp = df[column] + 1\n",
    "            df[new_col_name] = np.log(df_tmp)\n",
    "            columns_to_drop.append(column)\n",
    "            \n",
    "        else:\n",
    "            print('--> Ln() transform not completed -- skew > 1, but min value < 0 :', column, '!!')\n",
    "            \n",
    "            \n",
    "# ... delete tmp data\n",
    "\n",
    "del df_tmp\n",
    "del df_mins\n",
    "del df_numeric\n",
    "\n",
    "# ... -=-=-=-=-=-=-=-=-=-=-=-=-=-=-=-=-=-=-=-=-=-=-=-=-=-=-=-=-=-=-=-=-=-=-=-=-=\n",
    "# ...  based on inspection, a few of these are just not valid ranges in ln() space\n",
    "# ...  -- just delete these few back out of the data set\n",
    "# ... -=-=-=-=-=-=-=-=-=-=-=-=-=-=-=-=-=-=-=-=-=-=-=-=-=-=-=-=-=-=-=-=-=-=-=-=-=\n",
    "\n",
    "print (columns_to_drop)\n",
    "\n",
    "del df['ln_LDA_00']\n",
    "del df['ln_LDA_01']\n",
    "del df['ln_LDA_02']\n",
    "del df['ln_LDA_03']\n",
    "del df['ln_LDA_04']\n",
    "columns_to_drop.remove('LDA_00')\n",
    "columns_to_drop.remove('LDA_01')\n",
    "columns_to_drop.remove('LDA_02')\n",
    "columns_to_drop.remove('LDA_03')\n",
    "columns_to_drop.remove('LDA_04')\n",
    "\n",
    "# ...  these are binary indicators ... so no need to ln-transform\n",
    "\n",
    "del df['ln_weekday_is_monday']\n",
    "del df['ln_weekday_is_tuesday']\n",
    "del df['ln_weekday_is_wednesday']\n",
    "del df['ln_weekday_is_thursday']\n",
    "del df['ln_weekday_is_friday']\n",
    "del df['ln_weekday_is_saturday']\n",
    "del df['ln_weekday_is_sunday']\n",
    "del df['ln_is_weekend']\n",
    "columns_to_drop.remove('is_weekend')\n",
    "columns_to_drop.remove('weekday_is_monday')\n",
    "columns_to_drop.remove('weekday_is_tuesday')\n",
    "columns_to_drop.remove('weekday_is_wednesday')\n",
    "columns_to_drop.remove('weekday_is_thursday')\n",
    "columns_to_drop.remove('weekday_is_friday')\n",
    "columns_to_drop.remove('weekday_is_saturday')\n",
    "columns_to_drop.remove('weekday_is_sunday')\n",
    "\n",
    "#columns_to_drop.remove('data_channel')\n",
    "\n",
    "print ('\\n-----------------------------------\\n')\n",
    "print ('Number of current columns in dataset :', len(df.columns))\n",
    "\n",
    "df.drop(columns_to_drop, axis = 1, inplace = True)\n",
    "\n",
    "#df.info()\n"
   ]
  },
  {
   "cell_type": "markdown",
   "metadata": {},
   "source": [
    "# Data Preparation Part 2"
   ]
  },
  {
   "cell_type": "markdown",
   "metadata": {},
   "source": [
    "#### Data Selection - Task 1 - Popularity classification\n",
    "\n",
    "- There are 60 columns in the original data set; we added an additonal column based on the value of shares as explained above. \n",
    "    \n",
    "- From this data set, we did a simple correlation matrix to look for variables that are highly correlated with each other that could be removed with little loss of information.\n",
    "\n",
    "- With that downselection, we proceeded with additional evaluation of these remaining variables.\n",
    "    \n",
    "- we recognize that there is likely significant additional opportunity for modeling improvements with many of the remaining variables, and will look to re-expand the data set to further consider that with future work.  "
   ]
  },
  {
   "cell_type": "code",
   "execution_count": 14,
   "metadata": {},
   "outputs": [
    {
     "name": "stdout",
     "output_type": "stream",
     "text": [
      "\n",
      "\n",
      "-=-=-=-=-=-=-=-=-=-=-=-=-=-=-=-=-=-=-=-=-=-=-=-=-=-=-=-=-\n",
      "Top Absolute Correlations\n",
      "\n",
      "ln_self_reference_max_shares  ln_self_reference_avg_sharess       0.994639\n",
      "ln_self_reference_min_shares  ln_self_reference_avg_sharess       0.971014\n",
      "ln_kw_max_min                 ln_kw_avg_min                       0.946087\n",
      "ln_self_reference_min_shares  ln_self_reference_max_shares        0.945943\n",
      "kw_min_avg                    ln_kw_min_max                       0.926784\n",
      "ln_kw_max_avg                 ln_kw_avg_avg                       0.899409\n",
      "LDA_02                        ln_data_channel_is_world            0.836618\n",
      "timedelta                     ln_kw_min_min                       0.822783\n",
      "kw_max_max                    ln_kw_min_min                       0.820625\n",
      "rate_negative_words           ln_global_rate_negative_words       0.782517\n",
      "LDA_00                        ln_data_channel_is_bus              0.774651\n",
      "average_token_length          ln_n_tokens_content                 0.768795\n",
      "LDA_04                        ln_data_channel_is_tech             0.749737\n",
      "avg_negative_polarity         min_negative_polarity               0.748896\n",
      "title_subjectivity            ln_abs_title_sentiment_polarity     0.741229\n",
      "global_sentiment_polarity     rate_positive_words                 0.727827\n",
      "avg_positive_polarity         max_positive_polarity               0.703558\n",
      "weekday_is_sunday             is_weekend                          0.701648\n",
      "ln_num_self_hrefs             ln_self_reference_max_shares        0.675339\n",
      "weekday_is_saturday           is_weekend                          0.661707\n",
      "global_sentiment_polarity     rate_negative_words                 0.650717\n",
      "max_positive_polarity         ln_n_tokens_content                 0.643190\n",
      "timedelta                     kw_max_max                          0.637824\n",
      "ln_num_self_hrefs             ln_self_reference_avg_sharess       0.631820\n",
      "global_subjectivity           avg_positive_polarity               0.631749\n",
      "global_rate_positive_words    rate_positive_words                 0.628626\n",
      "ln_n_tokens_content           ln_num_hrefs                        0.614357\n",
      "LDA_01                        ln_data_channel_is_entertainment    0.599384\n",
      "average_token_length          global_subjectivity                 0.597629\n",
      "avg_negative_polarity         max_negative_polarity               0.580108\n",
      "dtype: float64\n",
      "\n",
      "\n",
      "-=-=-=-=-=-=-=-=-=-=-=-=-=-=-=-=-=-=-=-=-=-=-=-=-=-=-=-=-\n",
      "Columns Recommended for removal based on correlation > 0.65\n",
      "-=-=-=-=-=-=-=-=-=-=-=-=-=-=-=-=-=-=-=-=-=-=-=-=-=-=-=-=-\n",
      "\n",
      "LDA_00\n",
      "LDA_02\n",
      "LDA_04\n",
      "average_token_length\n",
      "avg_negative_polarity\n",
      "avg_positive_polarity\n",
      "global_sentiment_polarity\n",
      "kw_max_max\n",
      "kw_min_avg\n",
      "ln_kw_max_avg\n",
      "ln_kw_max_min\n",
      "ln_num_self_hrefs\n",
      "ln_self_reference_max_shares\n",
      "ln_self_reference_min_shares\n",
      "rate_negative_words\n",
      "timedelta\n",
      "title_subjectivity\n",
      "weekday_is_saturday\n",
      "weekday_is_sunday\n",
      "\n",
      "\n",
      "-=-=-=-=-=-=-=-=-=-=-=-=-=-=-=-=-=-=-=-=-=-=-=-=-=-=-=-=-\n",
      "\n",
      "\n",
      "Top Absolute Correlations (2nd Pass)\n",
      "\n",
      "max_positive_polarity       ln_n_tokens_content                 0.643190\n",
      "global_rate_positive_words  rate_positive_words                 0.628626\n",
      "ln_n_tokens_content         ln_num_hrefs                        0.614357\n",
      "LDA_01                      ln_data_channel_is_entertainment    0.599384\n",
      "kw_avg_max                  ln_kw_min_min                       0.541538\n",
      "global_subjectivity         ln_n_tokens_content                 0.530593\n",
      "                            max_positive_polarity               0.518773\n",
      "min_negative_polarity       ln_n_tokens_content                 0.513149\n",
      "global_subjectivity         rate_positive_words                 0.487481\n",
      "rate_positive_words         ln_n_tokens_content                 0.486249\n",
      "min_negative_polarity       ln_global_rate_negative_words       0.482138\n",
      "global_rate_positive_words  max_positive_polarity               0.473331\n",
      "global_subjectivity         global_rate_positive_words          0.467063\n",
      "abs_title_subjectivity      ln_abs_title_sentiment_polarity     0.454627\n",
      "rate_positive_words         max_positive_polarity               0.451048\n",
      "max_positive_polarity       ln_num_hrefs                        0.450754\n",
      "kw_avg_max                  ln_kw_avg_min                       0.419572\n",
      "title_sentiment_polarity    ln_abs_title_sentiment_polarity     0.406593\n",
      "rate_positive_words         ln_global_rate_negative_words       0.398124\n",
      "global_subjectivity         ln_num_hrefs                        0.387289\n",
      "kw_avg_max                  ln_kw_min_max                       0.369909\n",
      "max_positive_polarity       min_negative_polarity               0.360871\n",
      "min_negative_polarity       ln_num_hrefs                        0.354125\n",
      "kw_avg_max                  ln_kw_avg_avg                       0.351381\n",
      "global_subjectivity         min_negative_polarity               0.350070\n",
      "ln_num_hrefs                ln_num_imgs                         0.347361\n",
      "LDA_03                      ln_kw_avg_avg                       0.341938\n",
      "                            ln_num_videos                       0.338256\n",
      "ln_kw_min_max               ln_kw_avg_avg                       0.336781\n",
      "num_keywords                kw_avg_max                          0.332501\n",
      "dtype: float64\n"
     ]
    }
   ],
   "source": [
    "\n",
    "# ... -=-=-=-=-=-=-=-=-=-=-=-=-=-=-=-=-=-=-=-=-=-=-=-=-=-=-=-=-=-=-=-=-=-=-=-=-=\n",
    "# ... display highest correlation pairs from corr() matrix \n",
    "# ...\n",
    "# ... https://stackoverflow.com/questions/17778394/list-highest-correlation-pairs-from-a-large-correlation-matrix-in-pandas\n",
    "# ... -=-=-=-=-=-=-=-=-=-=-=-=-=-=-=-=-=-=-=-=-=-=-=-=-=-=-=-=-=-=-=-=-=-=-=-=-=\n",
    "\n",
    "df_numeric = df.select_dtypes(['number'])\n",
    "\n",
    "def get_redundant_pairs(df):\n",
    "    '''Get diagonal and lower triangular pairs of correlation matrix'''\n",
    "    pairs_to_drop = set()\n",
    "    cols = df.columns\n",
    "    for i in range(0, df.shape[1]):\n",
    "        for j in range(0, i+1):\n",
    "            pairs_to_drop.add((cols[i], cols[j]))\n",
    "    return pairs_to_drop\n",
    "\n",
    "def get_top_abs_correlations(df, n = 5):\n",
    "    au_corr = df.corr().abs().unstack()\n",
    "    labels_to_drop = get_redundant_pairs(df)\n",
    "    au_corr = au_corr.drop(labels = labels_to_drop).sort_values(ascending = False)\n",
    "    return au_corr[0:n]\n",
    "\n",
    "# ... -=-=-=-=-=-=-=-=-=-=-=-=-=-=-=-=-=-=-=-=-=-=-=-=-=-=-=-=-=-=-=-=-=-=-=-=-=\n",
    "# ... list out Top30 correlations\n",
    "# ... -=-=-=-=-=-=-=-=-=-=-=-=-=-=-=-=-=-=-=-=-=-=-=-=-=-=-=-=-=-=-=-=-=-=-=-=-=\n",
    "\n",
    "n_val = 30\n",
    "\n",
    "top_30_corr_list = get_top_abs_correlations(df_numeric, n_val)\n",
    "print(\"\\n\\n-=-=-=-=-=-=-=-=-=-=-=-=-=-=-=-=-=-=-=-=-=-=-=-=-=-=-=-=-\")\n",
    "print(\"Top Absolute Correlations\\n\")\n",
    "print(top_30_corr_list)\n",
    "\n",
    "\n",
    "icor = 0\n",
    "drop_column = list()\n",
    "while (top_30_corr_list[icor] > 0.65):\n",
    "    drop_column.append(top_30_corr_list[top_30_corr_list == top_30_corr_list[icor]].index[0][0])\n",
    "    icor += 1\n",
    "\n",
    "drop_column = list(set(drop_column))\n",
    "\n",
    "print(\"\\n\\n-=-=-=-=-=-=-=-=-=-=-=-=-=-=-=-=-=-=-=-=-=-=-=-=-=-=-=-=-\")\n",
    "print(\"Columns Recommended for removal based on correlation > 0.65\")\n",
    "print(\"-=-=-=-=-=-=-=-=-=-=-=-=-=-=-=-=-=-=-=-=-=-=-=-=-=-=-=-=-\\n\")\n",
    "\n",
    "print(\"\\n\".join(sorted(drop_column)))\n",
    "\n",
    "# ... -=-=-=-=-=-=-=-=-=-=-=-=-=-=-=-=-=-=-=-=-=-=-=-=-=-=-=-=-=-=-=-=-=-=-=-=-=\n",
    "# ... drop one of the high correlation columns (2nd of the pair)\n",
    "# ... -=-=-=-=-=-=-=-=-=-=-=-=-=-=-=-=-=-=-=-=-=-=-=-=-=-=-=-=-=-=-=-=-=-=-=-=-=\n",
    "\n",
    "df = df.drop(drop_column, axis = 1)\n",
    "\n",
    "# ... -=-=-=-=-=-=-=-=-=-=-=-=-=-=-=-=-=-=-=-=-=-=-=-=-=-=-=-=-=-=-=-=-=-=-=-=-=\n",
    "# ... show correlation test with remaining, to confirm\n",
    "# ... -=-=-=-=-=-=-=-=-=-=-=-=-=-=-=-=-=-=-=-=-=-=-=-=-=-=-=-=-=-=-=-=-=-=-=-=-=\n",
    "\n",
    "df_reduced_numeric = df.select_dtypes(['number'])\n",
    "\n",
    "top_30_corr_list = get_top_abs_correlations(df_reduced_numeric, n_val)\n",
    "\n",
    "print(\"\\n\\n-=-=-=-=-=-=-=-=-=-=-=-=-=-=-=-=-=-=-=-=-=-=-=-=-=-=-=-=-\")\n",
    "print(\"\\n\\nTop Absolute Correlations (2nd Pass)\\n\")\n",
    "print(top_30_corr_list)\n"
   ]
  },
  {
   "cell_type": "code",
   "execution_count": 15,
   "metadata": {},
   "outputs": [
    {
     "data": {
      "text/plain": [
       "<matplotlib.axes._subplots.AxesSubplot at 0x7f75ed56c9e8>"
      ]
     },
     "execution_count": 15,
     "metadata": {},
     "output_type": "execute_result"
    },
    {
     "data": {
      "image/png": "[encoded data removed]",
      "text/plain": [
       "<matplotlib.figure.Figure at 0x7f762431e240>"
      ]
     },
     "metadata": {},
     "output_type": "display_data"
    }
   ],
   "source": [
    "sns.set(style=\"white\")\n",
    "\n",
    "# Compute the correlation matrix\n",
    "corr = df.corr()\n",
    "\n",
    "# Generate a mask for the upper triangle\n",
    "mask = np.zeros_like(corr, dtype=np.bool)\n",
    "mask[np.triu_indices_from(mask)] = True\n",
    "\n",
    "# Set up the matplotlib figure\n",
    "f, ax = plt.subplots(figsize=(15, 13))\n",
    "\n",
    "# Generate a custom diverging colormap\n",
    "cmap = sns.diverging_palette(220, 10, as_cmap=True)\n",
    "\n",
    "# Draw the heatmap with the mask and correct aspect ratio\n",
    "sns.heatmap(corr, mask=mask, cmap=cmap, vmax=.3, center=0,\n",
    "            square=True, linewidths=.5, cbar_kws={\"shrink\": .5})\n",
    "\n",
    "\n",
    "# from example found at https://www.kaggle.com/maheshdadhich/strength-of-visualization-python-visuals-tutorial/notebook"
   ]
  },
  {
   "cell_type": "markdown",
   "metadata": {},
   "source": [
    "#### Save cleaned / reduced data set to external .csv file  \n",
    "\n",
    " - This provides opportunity to just read in this .csv file and no need to repeat data cleaning / reduction process for each execution  \n",
    " "
   ]
  },
  {
   "cell_type": "code",
   "execution_count": 17,
   "metadata": {
    "collapsed": true
   },
   "outputs": [],
   "source": [
    "# ... -=-=-=-=-=-=-=-=-=-=-=-=-=-=-=-=-=-=-=-=-=-=-=-=-=-=-=-=-=-=-=-=-=-=-=-=-=\n",
    "# ... store in ../data/ directory\n",
    "# ... write as .csv file for future recall\n",
    "# ... -=-=-=-=-=-=-=-=-=-=-=-=-=-=-=-=-=-=-=-=-=-=-=-=-=-=-=-=-=-=-=-=-=-=-=-=-=\n",
    "\n",
    "data_dir = '../data/'\n",
    "data_file = 'mashable_clean_dataset_for_lab_02_task_01.csv'\n",
    "\n",
    "file_2_write = data_dir + data_file\n",
    "\n",
    "df.to_csv(file_2_write, index = False)\n"
   ]
  },
  {
   "cell_type": "markdown",
   "metadata": {},
   "source": [
    "# \tModeling and Evaluation 2"
   ]
  },
  {
   "cell_type": "markdown",
   "metadata": {},
   "source": [
    "### Holdout, Training and Test split"
   ]
  },
  {
   "cell_type": "code",
   "execution_count": 18,
   "metadata": {
    "collapsed": true
   },
   "outputs": [],
   "source": [
    "# ... -=-=-=-=-=-=-=-=-=-=-=-=-=-=-=-=-=-=-=-=-=-=-=-=-=-=-=-=-=-=-=-=-=-=-=-=-=\n",
    "# ...  copy data frame to classification working data frame\n",
    "# ... -=-=-=-=-=-=-=-=-=-=-=-=-=-=-=-=-=-=-=-=-=-=-=-=-=-=-=-=-=-=-=-=-=-=-=-=-=\n",
    "\n",
    "# ... data set with text categorical target values \n",
    "\n",
    "df_pop = df.copy()\n",
    "\n",
    "# ... -=-=-=-=-=-=-=-=-=-=-=-=-=-=-=-=-=-=-=-=-=-=-=-=-=-=-=-=-=-=-=-=-=-=-=-=-=\n",
    "# ...  separate X and y matrices \n",
    "# ...\n",
    "# ...  convert to numpy matrices by calling 'values' on the pandas data frames\n",
    "# ...  they are now simple matrices for compatibility with scikit-learn\n",
    "# ... -=-=-=-=-=-=-=-=-=-=-=-=-=-=-=-=-=-=-=-=-=-=-=-=-=-=-=-=-=-=-=-=-=-=-=-=-=\n",
    "\n",
    "if 'popular' in df_pop:\n",
    "    y = df_pop['popular'].values         # set 'popular as dependent\n",
    "    del df_pop['popular']                 # remove from dataset\n",
    "    X = df_pop.values                        # use everything else for independent EVs\n",
    "\n",
    "# ... -=-=-=-=-=-=-=-=-=-=-=-=-=-=-=-=-=-=-=-=-=-=-=-=-=-=-=-=-=-=-=-=-=-=-=-=-=\n",
    "# ...  setup master train and test , golden traina and test\n",
    "# ...  master sets - first 80% of original data set which will be base training for model building\n",
    "# ...  Golden sets - 20% of original will be used in the final best model for prediction\n",
    "# ...  split into training and test sets\n",
    "# ....  --> 10 folds\n",
    "# ...   --> 80% / 20% training / test\n",
    "# ... -=-=-=-=-=-=-=-=-=-=-=-=-=-=-=-=-=-=-=-=-=-=-=-=-=-=-=-=-=-=-=-=-=-=-=-=-=\n",
    "\n",
    "\n"
   ]
  },
  {
   "cell_type": "code",
   "execution_count": 19,
   "metadata": {},
   "outputs": [
    {
     "name": "stdout",
     "output_type": "stream",
     "text": [
      "ShuffleSplit(n_splits=1, random_state=None, test_size=0.2, train_size=None)\n",
      "(31715, 37)\n"
     ]
    }
   ],
   "source": [
    "# ... -=-=-=-=-=-=-=-=-=-=-=-=-=-=-=-=-=-=-=-=-=-=-=-=-=-=-=-=-=-=-=-=-=-=-=-=-=\n",
    "# ... Set-up golden test data set\n",
    "# ... This data-set will be used to evaluate the predictive capability of the final\n",
    "# ... model on a data set that was not included in any of the prior train/test sets\n",
    "# ... -=-=-=-=-=-=-=-=-=-=-=-=-=-=-=-=-=-=-=-=-=-=-=-=-=-=-=-=-=-=-=-=-=-=-=-=-=\n",
    "\n",
    "num_cv_iterations = 1\n",
    "cv_object = ShuffleSplit(n_splits = num_cv_iterations,\n",
    "                         test_size  = 0.2)\n",
    "                        \n",
    "print(cv_object)\n",
    "\n",
    "for train_indices, test_indices in cv_object.split(X, y):\n",
    "    master_X_train = X[train_indices]\n",
    "    master_y_train = y[train_indices]    \n",
    "    golden_X_test  = X[test_indices]\n",
    "    golden_y_test  = y[test_indices]\n",
    "    print(master_X_train.shape)\n"
   ]
  },
  {
   "cell_type": "code",
   "execution_count": 20,
   "metadata": {},
   "outputs": [
    {
     "name": "stdout",
     "output_type": "stream",
     "text": [
      "ShuffleSplit(n_splits=1, random_state=None, test_size=0.2, train_size=None)\n",
      "(25372, 37)\n"
     ]
    }
   ],
   "source": [
    "# ... -=-=-=-=-=-=-=-=-=-=-=-=-=-=-=-=-=-=-=-=-=-=-=-=-=-=-=-=-=-=-=-=-=-=-=-=-=\n",
    "# ... Set-up training set to be used on 'best' model from grid search results\n",
    "# ... This data-set will be used to verify 10-fold-CV-model has results consistent\n",
    "# ... with the model produced from grid search\n",
    "# ... -=-=-=-=-=-=-=-=-=-=-=-=-=-=-=-=-=-=-=-=-=-=-=-=-=-=-=-=-=-=-=-=-=-=-=-=-=\n",
    "\n",
    "num_cv_iterations = 1\n",
    "cv_object = ShuffleSplit(n_splits = num_cv_iterations,\n",
    "                         test_size  = 0.2)\n",
    "                        \n",
    "print(cv_object)\n",
    "\n",
    "for train_indices, test_indices in cv_object.split(master_X_train, master_y_train):\n",
    "    X_train = master_X_train[train_indices]\n",
    "    y_train = master_y_train[train_indices]    \n",
    "    X_test  = master_X_train[test_indices]\n",
    "    y_test  = master_y_train[test_indices]\n",
    "    print(X_train.shape)\n"
   ]
  },
  {
   "cell_type": "code",
   "execution_count": 21,
   "metadata": {
    "collapsed": true
   },
   "outputs": [],
   "source": [
    "# set required variables for model comparison\n",
    "\n",
    "comparison_tbl = pd.DataFrame(columns = [\n",
    "    'Model Name',\n",
    "    'Accuracy',\n",
    "    'Precision',\n",
    "    'Recall',\n",
    "    'FScore',\n",
    "    'Processing Time'])\n",
    "\n",
    "i_index=[]\n",
    "i_index = 0\n",
    "\n",
    "# preparation for cross validation and model comparison, each classifier is appended once model is fit\n",
    "\n",
    "models = []"
   ]
  },
  {
   "cell_type": "markdown",
   "metadata": {},
   "source": [
    "# \tModeling and Evaluation 3\t\n",
    "\n",
    "For task 1 we have chosen the following 4 models:<br>\n",
    "a. Binary logistic regression with parament selection using Grid Search<br>\n",
    "b. Decision Tree with parament selection using Grid Search<br>\n",
    "c. Random Forest with parament selection using Grid Search<br>\n",
    "d. Naive Bayes<br>\n",
    "\n",
    "Each of these models will be evaluated on Accuracy, Precision, Recall, FScore and Execution time\n",
    "\n",
    "### a. Linear logistic regression\n",
    "For linear LR we have set standard attributes with:\n",
    "    class_weight = balanced<br>\n",
    "<b>search params:</b><br>\n",
    "    tolerance parament tol<br>\n",
    "    Regularization parament C<br>\n",
    "    \n",
    "    \n",
    "#### _Grid selection for logistic regression_\n"
   ]
  },
  {
   "cell_type": "code",
   "execution_count": 22,
   "metadata": {},
   "outputs": [
    {
     "name": "stderr",
     "output_type": "stream",
     "text": [
      "/home/mcdevitt/anaconda3/lib/python3.6/site-packages/sklearn/cross_validation.py:41: DeprecationWarning: This module was deprecated in version 0.18 in favor of the model_selection module into which all the refactored classes and functions are moved. Also note that the interface of the new CV iterators are different from that of this module. This module will be removed in 0.20.\n",
      "  \"This module will be removed in 0.20.\", DeprecationWarning)\n",
      "/home/mcdevitt/anaconda3/lib/python3.6/site-packages/sklearn/grid_search.py:42: DeprecationWarning: This module was deprecated in version 0.18 in favor of the model_selection module into which all the refactored classes and functions are moved. This module will be removed in 0.20.\n",
      "  DeprecationWarning)\n"
     ]
    }
   ],
   "source": [
    "from sklearn.grid_search import GridSearchCV\n",
    "\n",
    "lr_model = LogisticRegression(\n",
    "    class_weight = 'balanced',\n",
    "    solver = 'lbfgs',\n",
    "    C = 10,\n",
    "    tol = 0.1)\n",
    "\n",
    "params = {\n",
    "    'C':[100, 1000], \n",
    "    'tol': [0.001, 0.0001]\n",
    "}\n",
    "\n",
    "# ... --> changed the scoring on Sat 28-Oct\n",
    "# ...     - from : log_loss\n",
    "# ...     - to : neg_log_loss\n",
    "# ...  (this avoids the deprecation warning)\n",
    "\n",
    "clf = GridSearchCV(\n",
    "    lr_model,\n",
    "    params,\n",
    "    scoring = 'neg_log_loss',\n",
    "    refit = 'True',\n",
    "    n_jobs = -1,\n",
    "    cv = 3)\n",
    "\n",
    "grid_search = clf.fit(master_X_train, master_y_train)\n",
    "\n",
    "best_accuracy = grid_search.best_score_\n",
    "best_parameters = grid_search.best_params_\n",
    "\n",
    "best_C = best_parameters['C']\n",
    "best_tol = best_parameters['tol']\n",
    "\n"
   ]
  },
  {
   "cell_type": "markdown",
   "metadata": {},
   "source": [
    "#### _Best parameter values for logistic regression_:"
   ]
  },
  {
   "cell_type": "code",
   "execution_count": 23,
   "metadata": {},
   "outputs": [
    {
     "data": {
      "text/plain": [
       "-0.6455183007058597"
      ]
     },
     "execution_count": 23,
     "metadata": {},
     "output_type": "execute_result"
    },
    {
     "data": {
      "text/plain": [
       "{'C': 100, 'tol': 0.001}"
      ]
     },
     "execution_count": 23,
     "metadata": {},
     "output_type": "execute_result"
    }
   ],
   "source": [
    "best_accuracy\n",
    "best_parameters"
   ]
  },
  {
   "cell_type": "markdown",
   "metadata": {},
   "source": [
    "#### Create main logistic model using best paraments for further analysis and model comparisons"
   ]
  },
  {
   "cell_type": "code",
   "execution_count": 24,
   "metadata": {},
   "outputs": [
    {
     "data": {
      "text/plain": [
       "LogisticRegression(C=100, class_weight='balanced', dual=False,\n",
       "          fit_intercept=True, intercept_scaling=1, max_iter=100,\n",
       "          multi_class='ovr', n_jobs=1, penalty='l2', random_state=None,\n",
       "          solver='lbfgs', tol=0.001, verbose=0, warm_start=False)"
      ]
     },
     "execution_count": 24,
     "metadata": {},
     "output_type": "execute_result"
    },
    {
     "name": "stdout",
     "output_type": "stream",
     "text": [
      "accuracy 0.6342\n",
      "precision 0.6348\n",
      "recall 0.6342\n",
      "f1_score 0.6343\n",
      "confusion matrix\n",
      " [[2034 1220]\n",
      " [1100 1989]]\n",
      "process time 0.9443\n",
      "\n",
      "\n"
     ]
    }
   ],
   "source": [
    "tic = time.clock()\n",
    "\n",
    "# ... -=-=-=-=-=-=-=-=-=-=-=-=-=-=-=-=-=-=-=-=-=-=-=-=-=-=-=-=-=-=-=-=-=-=-=-=-=\n",
    "# ... basic Logistic Regression\n",
    "# ... - normalize features based on mean & stdev of each column\n",
    "# ... -=-=-=-=-=-=-=-=-=-=-=-=-=-=-=-=-=-=-=-=-=-=-=-=-=-=-=-=-=-=-=-=-=-=-=-=-=\n",
    "\n",
    "lr_model1 = LogisticRegression(\n",
    "    class_weight = 'balanced',\n",
    "    solver = 'lbfgs',\n",
    "    C = best_C,\n",
    "    tol = best_tol)\n",
    "\n",
    "lr_model1.fit(X_train, y_train)  # train object\n",
    "\n",
    "y_hat = lr_model1.predict(X_test) # get test set predictions\n",
    "\n",
    "toc =  time.clock()\n",
    "\n",
    "# calculate statistics\n",
    "\n",
    "accuracy = '{0:.4f}'.format(metrics.accuracy_score(y_test, y_hat))\n",
    "precision = '{0:.4f}'.format(metrics.precision_score(y_test, y_hat,average='weighted'))\n",
    "recall = '{0:.4f}'.format(metrics.recall_score(y_test, y_hat,average='weighted'))\n",
    "f1_score = '{0:.4f}'.format(metrics.f1_score(y_test, y_hat,average='weighted'))\n",
    "\n",
    "exetime = '{0:.4f}'.format(toc-tic)\n",
    "\n",
    "# print statistics\n",
    "\n",
    "print(\"accuracy\",accuracy )\n",
    "print(\"precision\",precision )\n",
    "print(\"recall\",recall )\n",
    "print(\"f1_score\",f1_score )\n",
    "print(\"confusion matrix\\n\", conf(y_test, y_hat))\n",
    "print('process time',exetime)\n",
    "print(\"\\n\")\n",
    "\n",
    "# save statistics for model comparison\n",
    "\n",
    "raw_data = {\n",
    "    'Model Name' : 'Logistic Regression',\n",
    "    'Accuracy' : accuracy,\n",
    "    'Precision' : precision,\n",
    "    'Recall' : recall,\n",
    "    'FScore' : f1_score,\n",
    "    'Processing Time' : exetime\n",
    "}\n",
    "\n",
    "df_tbl = pd.DataFrame(raw_data,\n",
    "    columns = ['Model Name', 'Accuracy', 'Precision', 'Recall', 'FScore', 'Processing Time'],\n",
    "    index = [i_index + 1])\n",
    "\n",
    "comparison_tbl = comparison_tbl.append(df_tbl)\n",
    "\n",
    "#append model classifier for cross-validation\n",
    "\n",
    "models.append(('Logistic Regression', lr_model1))\n"
   ]
  },
  {
   "cell_type": "markdown",
   "metadata": {},
   "source": [
    "### Interpreting Weights"
   ]
  },
  {
   "cell_type": "code",
   "execution_count": 30,
   "metadata": {},
   "outputs": [
    {
     "name": "stdout",
     "output_type": "stream",
     "text": [
      "\tln_kw_min_max                       - weight =     0.004\n",
      "\tln_data_channel_is_lifestyle        - weight =     0.015\n",
      "\tn_tokens_title                      - weight =     0.024\n",
      "\tln_global_rate_negative_words       - weight =     0.025\n",
      "\tln_self_reference_avg_sharess       - weight =     0.026\n",
      "\tnum_keywords                        - weight =     0.028\n",
      "\trate_positive_words                 - weight =     0.031\n",
      "\tln_kw_min_min                       - weight =     0.032\n",
      "\tkw_avg_max                          - weight =     0.032\n",
      "\tabs_title_subjectivity              - weight =     0.049\n",
      "\tglobal_rate_positive_words          - weight =     0.056\n",
      "\tln_kw_avg_min                       - weight =     0.060\n",
      "\tmax_positive_polarity               - weight =     0.067\n",
      "\tln_num_hrefs                        - weight =     0.099\n",
      "\tweekday_is_friday                   - weight =     0.107\n",
      "\tln_num_videos                       - weight =     0.113\n",
      "\ttitle_sentiment_polarity            - weight =     0.135\n",
      "\tln_num_imgs                         - weight =     0.145\n",
      "\tLDA_03                              - weight =     0.146\n",
      "\tglobal_subjectivity                 - weight =     0.152\n",
      "\tln_abs_title_sentiment_polarity     - weight =     0.155\n",
      "\tln_kw_avg_avg                       - weight =     0.160\n",
      "\tln_n_tokens_content                 - weight =     0.165\n",
      "\tweekday_is_monday                   - weight =     0.168\n",
      "\tln_data_channel_is_bus              - weight =     0.175\n",
      "\tln_data_channel_is_tech             - weight =     0.220\n",
      "\tmax_negative_polarity               - weight =     0.234\n",
      "\tweekday_is_thursday                 - weight =     0.279\n",
      "\tLDA_01                              - weight =     0.282\n",
      "\tweekday_is_tuesday                  - weight =     0.347\n",
      "\tweekday_is_wednesday                - weight =     0.348\n",
      "\tmin_negative_polarity               - weight =     0.383\n",
      "\tln_min_positive_polarity            - weight =     0.465\n",
      "\tis_weekend                          - weight =     0.546\n",
      "\tln_data_channel_is_entertainment    - weight =     0.923\n",
      "\tln_data_channel_is_world            - weight =     1.053\n",
      "\tln_data_channel_is_socmed           - weight =     1.138\n"
     ]
    }
   ],
   "source": [
    "# Interpreting weights\n",
    "zip_vars = zip(sum(abs(lr_model1.coef_)).T,df_pop.columns) # combine attributes\n",
    "zip_vars = sorted(zip_vars)\n",
    "for coef, name in zip_vars:\n",
    "    print('\\t%-35s - weight = %9.3f' % (name, coef)) # now print them out"
   ]
  },
  {
   "cell_type": "markdown",
   "metadata": {},
   "source": [
    "To interpret the weights of each variable, I used the sums of the absolute values of the coefficients of each variable for each class. Because a particular variable might be highly positively predictive of one class and highly negatively predictive of another class, their sums would appear to have little value. I sum the absolute values to measure the total predictive value across all classes.  \n",
    "\n",
    "It does not surprise me to see that Social Media data channel is the most predictive, since social media by nature involves sharing with connections, followed by World data channel and positive polarity. Overall, data channels social media, world, and entertainment are more predictive of the popularity."
   ]
  },
  {
   "cell_type": "code",
   "execution_count": 31,
   "metadata": {},
   "outputs": [
    {
     "data": {
      "text/plain": [
       "<matplotlib.axes._subplots.AxesSubplot at 0x7f75ed812128>"
      ]
     },
     "execution_count": 31,
     "metadata": {},
     "output_type": "execute_result"
    },
    {
     "data": {
      "image/png": "[encoded data removed]",
      "text/plain": [
       "<matplotlib.figure.Figure at 0x7f75ed7fe5c0>"
      ]
     },
     "metadata": {},
     "output_type": "display_data"
    }
   ],
   "source": [
    "%matplotlib inline\n",
    "rcParams['figure.figsize'] = 15, 5\n",
    "plt.style.use('ggplot')\n",
    "\n",
    "weights = pd.Series(sum(abs(lr_model1.coef_)), index = df_pop.columns)\n",
    "weights.plot(kind = 'bar')\n",
    "plt.show()"
   ]
  },
  {
   "cell_type": "markdown",
   "metadata": {},
   "source": [
    "Above is a visual representaion of the magnitudes of the coefficients."
   ]
  },
  {
   "cell_type": "markdown",
   "metadata": {},
   "source": [
    "### b. Decision Tree Classifier using Grid Search\n",
    "#### _Grid search parameter set-up_"
   ]
  },
  {
   "cell_type": "code",
   "execution_count": 37,
   "metadata": {},
   "outputs": [
    {
     "data": {
      "text/plain": [
       "0.63752167743969734"
      ]
     },
     "execution_count": 37,
     "metadata": {},
     "output_type": "execute_result"
    },
    {
     "data": {
      "text/plain": [
       "{'criterion': 'entropy',\n",
       " 'max_depth': None,\n",
       " 'max_leaf_nodes': None,\n",
       " 'min_samples_leaf': 10,\n",
       " 'min_samples_split': 1000}"
      ]
     },
     "execution_count": 37,
     "metadata": {},
     "output_type": "execute_result"
    }
   ],
   "source": [
    "# Applying Grid Search to find the best model and the best parameters\n",
    "\n",
    "from sklearn.tree import DecisionTreeClassifier\n",
    "from sklearn.model_selection import GridSearchCV\n",
    "\n",
    "DTclassifier = DecisionTreeClassifier(criterion = 'entropy', random_state = 0)\n",
    "\n",
    "parameters = [\n",
    "      {\n",
    "        'criterion': ['gini'], \n",
    "        'max_depth': [None, 5, 10], \n",
    "        'min_samples_split': [2, 100, 1000], \n",
    "        'min_samples_leaf': [1, 10, 100],\n",
    "        'max_features': [None],\n",
    "        'max_leaf_nodes': [None]\n",
    "      },\n",
    "      {\n",
    "          'criterion': ['entropy'], \n",
    "          'max_depth': [None, 5, 10], \n",
    "          'min_samples_split': [2, 100, 1000],\n",
    "          'min_samples_leaf': [1, 10, 100], \n",
    "          'max_leaf_nodes': [None]\n",
    "      }\n",
    "     ]\n",
    "\n",
    "grid_search = GridSearchCV(estimator = DTclassifier,\n",
    "                           param_grid = parameters,\n",
    "                           scoring = 'accuracy',\n",
    "                           cv = 3,\n",
    "                           n_jobs = -1)\n",
    "\n",
    "grid_search = grid_search.fit(master_X_train, master_y_train)\n",
    "\n",
    "best_accuracy = grid_search.best_score_\n",
    "best_parameters = grid_search.best_params_\n",
    "\n",
    "best_accuracy\n",
    "best_parameters\n",
    "\n",
    "best_criterion = best_parameters['criterion']\n",
    "best_max_depth = best_parameters['max_depth']\n",
    "best_max_leaf_nodes = best_parameters['max_leaf_nodes']\n",
    "best_min_samples_leaf = best_parameters['min_samples_leaf']\n",
    "best_min_samples_split = best_parameters['min_samples_split']\n"
   ]
  },
  {
   "cell_type": "markdown",
   "metadata": {},
   "source": [
    "#### _Best parameters for Decision Tree_"
   ]
  },
  {
   "cell_type": "code",
   "execution_count": 38,
   "metadata": {},
   "outputs": [
    {
     "data": {
      "text/plain": [
       "0.63752167743969734"
      ]
     },
     "execution_count": 38,
     "metadata": {},
     "output_type": "execute_result"
    },
    {
     "data": {
      "text/plain": [
       "{'criterion': 'entropy',\n",
       " 'max_depth': None,\n",
       " 'max_leaf_nodes': None,\n",
       " 'min_samples_leaf': 10,\n",
       " 'min_samples_split': 1000}"
      ]
     },
     "execution_count": 38,
     "metadata": {},
     "output_type": "execute_result"
    }
   ],
   "source": [
    "best_accuracy\n",
    "best_parameters"
   ]
  },
  {
   "cell_type": "markdown",
   "metadata": {},
   "source": [
    "#### _use best parameters to create best Decision Tree model for further analysis and model comparison_"
   ]
  },
  {
   "cell_type": "code",
   "execution_count": 39,
   "metadata": {},
   "outputs": [
    {
     "data": {
      "text/plain": [
       "DecisionTreeClassifier(class_weight=None, criterion='entropy', max_depth=None,\n",
       "            max_features=None, max_leaf_nodes=None,\n",
       "            min_impurity_decrease=0.0, min_impurity_split=None,\n",
       "            min_samples_leaf=10, min_samples_split=1000,\n",
       "            min_weight_fraction_leaf=0.0, presort=False, random_state=None,\n",
       "            splitter='best')"
      ]
     },
     "execution_count": 39,
     "metadata": {},
     "output_type": "execute_result"
    },
    {
     "name": "stdout",
     "output_type": "stream",
     "text": [
      "accuracy 0.6346\n",
      "precision 0.6353\n",
      "recall 0.6346\n",
      "f1_score 0.6327\n",
      "confusion matrix\n",
      " [[2280  974]\n",
      " [1344 1745]]\n",
      "process time 0.4662\n",
      "\n",
      "\n"
     ]
    }
   ],
   "source": [
    "from sklearn.tree import DecisionTreeClassifier\n",
    "from sklearn.metrics import confusion_matrix,classification_report\n",
    "\n",
    "tic = time.clock()\n",
    "\n",
    "# train and fit\n",
    "\n",
    "DTclassifier = DecisionTreeClassifier(\n",
    "    criterion = best_criterion,\n",
    "    min_samples_leaf = best_min_samples_leaf,\n",
    "    min_samples_split = best_min_samples_split,\n",
    "    max_leaf_nodes = best_max_leaf_nodes,\n",
    "    max_depth = best_max_depth)\n",
    "\n",
    "DTclassifier.fit(X_train, y_train)\n",
    "y_predDT = DTclassifier.predict(X_test)\n",
    "\n",
    "# calculate statistics\n",
    "\n",
    "accuracy = '{0:.4f}'.format(metrics.accuracy_score(y_test, y_predDT))\n",
    "precision = '{0:.4f}'.format(metrics.precision_score(y_test, y_predDT,average='weighted'))\n",
    "recall = '{0:.4f}'.format(metrics.recall_score(y_test, y_predDT,average='weighted'))\n",
    "f1_score = '{0:.4f}'.format(metrics.f1_score(y_test, y_predDT,average='weighted'))\n",
    "toc =  time.clock()\n",
    "exetime = '{0:.4f}'.format(toc-tic)\n",
    "\n",
    "# print statistics\n",
    "print(\"accuracy\",accuracy )\n",
    "print(\"precision\",precision )\n",
    "print(\"recall\",recall )\n",
    "print(\"f1_score\",f1_score )\n",
    "print(\"confusion matrix\\n\", confusion_matrix(y_test, y_predDT))\n",
    "print('process time',exetime)\n",
    "print(\"\\n\")\n",
    "\n",
    "# save statistics for model comparison\n",
    "\n",
    "raw_data = {\n",
    "    'Model Name':'Decision Tree Classifier',\n",
    "    'Accuracy':accuracy,\n",
    "    'Precision':precision,\n",
    "    'Recall':recall,\n",
    "    'FScore':f1_score,\n",
    "    'Processing Time': exetime\n",
    "}\n",
    "\n",
    "df_tbl = pd.DataFrame(raw_data,\n",
    "        columns = ['Model Name','Accuracy','Precision','Recall','FScore','Processing Time'],\n",
    "        index = [i_index + 1])\n",
    "\n",
    "comparison_tbl = comparison_tbl.append(df_tbl)\n",
    "\n",
    "#append model classifier for cross-validation\n",
    "\n",
    "models.append(('Decision Tree Classifier', DTclassifier))\n"
   ]
  },
  {
   "cell_type": "markdown",
   "metadata": {},
   "source": [
    "### Interpretation of importances."
   ]
  },
  {
   "cell_type": "code",
   "execution_count": 40,
   "metadata": {},
   "outputs": [
    {
     "name": "stdout",
     "output_type": "stream",
     "text": [
      "\tLDA_03                              - weight =     0.000\n",
      "\tabs_title_subjectivity              - weight =     0.000\n",
      "\tglobal_subjectivity                 - weight =     0.000\n",
      "\tln_abs_title_sentiment_polarity     - weight =     0.000\n",
      "\tln_data_channel_is_lifestyle        - weight =     0.000\n",
      "\tln_global_rate_negative_words       - weight =     0.000\n",
      "\tln_num_hrefs                        - weight =     0.000\n",
      "\tln_num_videos                       - weight =     0.000\n",
      "\tmax_negative_polarity               - weight =     0.000\n",
      "\tmax_positive_polarity               - weight =     0.000\n",
      "\tmin_negative_polarity               - weight =     0.000\n",
      "\ttitle_sentiment_polarity            - weight =     0.000\n",
      "\tweekday_is_friday                   - weight =     0.000\n",
      "\tweekday_is_monday                   - weight =     0.000\n",
      "\tweekday_is_thursday                 - weight =     0.000\n",
      "\tweekday_is_tuesday                  - weight =     0.000\n",
      "\tweekday_is_wednesday                - weight =     0.000\n",
      "\tn_tokens_title                      - weight =     0.003\n",
      "\tnum_keywords                        - weight =     0.004\n",
      "\trate_positive_words                 - weight =     0.005\n",
      "\tglobal_rate_positive_words          - weight =     0.006\n",
      "\tln_kw_min_max                       - weight =     0.007\n",
      "\tln_data_channel_is_bus              - weight =     0.011\n",
      "\tLDA_01                              - weight =     0.013\n",
      "\tln_kw_avg_min                       - weight =     0.017\n",
      "\tln_min_positive_polarity            - weight =     0.019\n",
      "\tkw_avg_max                          - weight =     0.020\n",
      "\tln_num_imgs                         - weight =     0.022\n",
      "\tln_n_tokens_content                 - weight =     0.028\n",
      "\tln_data_channel_is_socmed           - weight =     0.035\n",
      "\tln_data_channel_is_world            - weight =     0.035\n",
      "\tln_data_channel_is_tech             - weight =     0.046\n",
      "\tln_kw_min_min                       - weight =     0.055\n",
      "\tln_data_channel_is_entertainment    - weight =     0.106\n",
      "\tis_weekend                          - weight =     0.115\n",
      "\tln_self_reference_avg_sharess       - weight =     0.129\n",
      "\tln_kw_avg_avg                       - weight =     0.324\n"
     ]
    }
   ],
   "source": [
    "# Interpreting weights\n",
    "\n",
    "zip_varsDT = zip(DTclassifier.feature_importances_.T,df_pop.columns) # combine attributes\n",
    "\n",
    "zip_varsDT = sorted(zip_varsDT)\n",
    "\n",
    "for importance, name in zip_varsDT:\n",
    "    print('\\t%-35s - weight = %9.3f' % ( name, importance)) # now print them out"
   ]
  },
  {
   "cell_type": "markdown",
   "metadata": {},
   "source": [
    "In the decision tree model, the importance of the variables are not the same as they were in the logistic regression model examined earlier. The amount of key words is most important, next are self reference average shares. This result is interesting and maybe not intuitive, but variables such as the weekend indicator and variables related to the actual sharing process such as keywords show up here."
   ]
  },
  {
   "cell_type": "markdown",
   "metadata": {},
   "source": [
    "### c. Random Forest Classifier\n",
    "\n",
    "#### _Grid Search parameter set-up for Random Forest classifier_"
   ]
  },
  {
   "cell_type": "code",
   "execution_count": 41,
   "metadata": {
    "collapsed": true
   },
   "outputs": [],
   "source": [
    "RFclf = RandomForestClassifier(\n",
    "    criterion = 'entropy',\n",
    "    max_features= 'sqrt',\n",
    "    max_depth = 5,\n",
    "    n_estimators = 10,\n",
    "    n_jobs = -1)\n",
    "\n",
    "#RFclf.fit(master_X_train, master_y_train)\n",
    "\n",
    "param_grid =[\n",
    "    { \n",
    "    'criterion': ['gini'],\n",
    "    'n_estimators': [100, 500],\n",
    "    'max_features': ['auto', 'sqrt', 'log2'],\n",
    "    'max_depth': [10, 20, 50]\n",
    "},\n",
    " { \n",
    "    'criterion': ['entropy'],\n",
    "    'n_estimators': [100, 500],\n",
    "    'max_features': ['auto', 'sqrt', 'log2'],\n",
    "    'max_depth': [10, 20, 50]\n",
    "}\n",
    "]\n",
    "\n",
    "RF_grid_search = GridSearchCV(\n",
    "    estimator = RFclf,\n",
    "    param_grid = param_grid,\n",
    "    cv = 3)\n",
    "\n",
    "grid_search = RF_grid_search.fit(master_X_train, master_y_train)\n",
    "\n",
    "best_accuracy = grid_search.best_score_\n",
    "best_parameters = grid_search.best_params_\n",
    "\n",
    "best_criterion = best_parameters['criterion']\n",
    "best_max_depth = best_parameters['max_depth']\n",
    "best_max_features = best_parameters['max_features']\n",
    "best_n_estimators = best_parameters['n_estimators']\n"
   ]
  },
  {
   "cell_type": "markdown",
   "metadata": {},
   "source": [
    "#### _best parameters for Random Forest Classifier_"
   ]
  },
  {
   "cell_type": "code",
   "execution_count": 43,
   "metadata": {},
   "outputs": [
    {
     "data": {
      "text/plain": [
       "0.66157969415103268"
      ]
     },
     "execution_count": 43,
     "metadata": {},
     "output_type": "execute_result"
    },
    {
     "data": {
      "text/plain": [
       "{'criterion': 'entropy',\n",
       " 'max_depth': 20,\n",
       " 'max_features': 'sqrt',\n",
       " 'n_estimators': 500}"
      ]
     },
     "execution_count": 43,
     "metadata": {},
     "output_type": "execute_result"
    }
   ],
   "source": [
    "best_accuracy\n",
    "best_parameters"
   ]
  },
  {
   "cell_type": "markdown",
   "metadata": {},
   "source": [
    "#### _using best parameters for main model for further analysis and model comparison_"
   ]
  },
  {
   "cell_type": "code",
   "execution_count": 44,
   "metadata": {},
   "outputs": [
    {
     "data": {
      "text/plain": [
       "RandomForestClassifier(bootstrap=True, class_weight=None, criterion='entropy',\n",
       "            max_depth=20, max_features='sqrt', max_leaf_nodes=None,\n",
       "            min_impurity_decrease=0.0, min_impurity_split=None,\n",
       "            min_samples_leaf=1, min_samples_split=2,\n",
       "            min_weight_fraction_leaf=0.0, n_estimators=500, n_jobs=-1,\n",
       "            oob_score=False, random_state=None, verbose=0,\n",
       "            warm_start=False)"
      ]
     },
     "execution_count": 44,
     "metadata": {},
     "output_type": "execute_result"
    },
    {
     "name": "stdout",
     "output_type": "stream",
     "text": [
      "accuracy 0.6606\n",
      "precision 0.6606\n",
      "recall 0.6606\n",
      "f1_score 0.6606\n",
      "confusion matrix\n",
      " [[2170 1084]\n",
      " [1069 2020]]\n",
      "process time 109.3763\n",
      "\n",
      "\n"
     ]
    }
   ],
   "source": [
    "from sklearn.ensemble import RandomForestClassifier\n",
    "\n",
    "tic = time.clock()\n",
    "\n",
    "# train and test \n",
    "\n",
    "RFclf = RandomForestClassifier(\n",
    "    criterion = best_criterion,\n",
    "    max_depth = best_max_depth,\n",
    "    max_features = best_max_features,\n",
    "    n_estimators = best_n_estimators,\n",
    "    n_jobs = -1)\n",
    "\n",
    "RFclf.fit(X_train, y_train)\n",
    "y_predRF = RFclf.predict(X_test)\n",
    "\n",
    "# calculate statistics\n",
    "\n",
    "accuracy = '{0:.4f}'.format(metrics.accuracy_score(y_test, y_predRF))\n",
    "precision = '{0:.4f}'.format(metrics.precision_score(y_test, y_predRF, average ='weighted'))\n",
    "recall = '{0:.4f}'.format(metrics.recall_score(y_test, y_predRF, average = 'weighted'))\n",
    "f1_score = '{0:.4f}'.format(metrics.f1_score(y_test, y_predRF, average = 'weighted'))\n",
    "toc =  time.clock()\n",
    "exetime = '{0:.4f}'.format(toc-tic)\n",
    "\n",
    "# print statistics\n",
    "print(\"accuracy\",accuracy )\n",
    "print(\"precision\",precision )\n",
    "print(\"recall\",recall )\n",
    "print(\"f1_score\",f1_score )\n",
    "print(\"confusion matrix\\n\", confusion_matrix(y_test, y_predRF))\n",
    "print('process time',exetime)\n",
    "print(\"\\n\")\n",
    "\n",
    "\n",
    "# save statistics for model comparison\n",
    "\n",
    "raw_data = {\n",
    "    'Model Name':'Random Forest Classifier',\n",
    "    'Accuracy':accuracy,\n",
    "    'Precision':precision,\n",
    "    'Recall':recall,\n",
    "    'FScore':f1_score,\n",
    "    'Processing Time': exetime\n",
    "}\n",
    "\n",
    "df_tbl = pd.DataFrame(raw_data,\n",
    "        columns = ['Model Name','Accuracy','Precision','Recall','FScore','Processing Time'],\n",
    "        index = [i_index + 1])\n",
    "\n",
    "comparison_tbl = comparison_tbl.append(df_tbl)\n",
    "\n",
    "#append model classifier for cross-validation\n",
    "\n",
    "models.append(('Random Forest Classifier', RFclf))\n"
   ]
  },
  {
   "cell_type": "markdown",
   "metadata": {},
   "source": [
    "### Interpreting weights"
   ]
  },
  {
   "cell_type": "code",
   "execution_count": 45,
   "metadata": {},
   "outputs": [
    {
     "name": "stdout",
     "output_type": "stream",
     "text": [
      "\tLDA_03                              - weight =     0.000\n",
      "\tabs_title_subjectivity              - weight =     0.000\n",
      "\tglobal_subjectivity                 - weight =     0.000\n",
      "\tln_abs_title_sentiment_polarity     - weight =     0.000\n",
      "\tln_data_channel_is_lifestyle        - weight =     0.000\n",
      "\tln_global_rate_negative_words       - weight =     0.000\n",
      "\tln_num_hrefs                        - weight =     0.000\n",
      "\tln_num_videos                       - weight =     0.000\n",
      "\tmax_negative_polarity               - weight =     0.000\n",
      "\tmax_positive_polarity               - weight =     0.000\n",
      "\tmin_negative_polarity               - weight =     0.000\n",
      "\ttitle_sentiment_polarity            - weight =     0.000\n",
      "\tweekday_is_friday                   - weight =     0.000\n",
      "\tweekday_is_monday                   - weight =     0.000\n",
      "\tweekday_is_thursday                 - weight =     0.000\n",
      "\tweekday_is_tuesday                  - weight =     0.000\n",
      "\tweekday_is_wednesday                - weight =     0.000\n",
      "\tn_tokens_title                      - weight =     0.003\n",
      "\tnum_keywords                        - weight =     0.004\n",
      "\trate_positive_words                 - weight =     0.005\n",
      "\tglobal_rate_positive_words          - weight =     0.006\n",
      "\tln_kw_min_max                       - weight =     0.007\n",
      "\tln_data_channel_is_bus              - weight =     0.011\n",
      "\tLDA_01                              - weight =     0.013\n",
      "\tln_kw_avg_min                       - weight =     0.017\n",
      "\tln_min_positive_polarity            - weight =     0.019\n",
      "\tkw_avg_max                          - weight =     0.020\n",
      "\tln_num_imgs                         - weight =     0.022\n",
      "\tln_n_tokens_content                 - weight =     0.028\n",
      "\tln_data_channel_is_socmed           - weight =     0.035\n",
      "\tln_data_channel_is_world            - weight =     0.035\n",
      "\tln_data_channel_is_tech             - weight =     0.046\n",
      "\tln_kw_min_min                       - weight =     0.055\n",
      "\tln_data_channel_is_entertainment    - weight =     0.106\n",
      "\tis_weekend                          - weight =     0.115\n",
      "\tln_self_reference_avg_sharess       - weight =     0.129\n",
      "\tln_kw_avg_avg                       - weight =     0.324\n"
     ]
    }
   ],
   "source": [
    "# Interpreting weights\n",
    "zip_varsRF = zip(RFclf.feature_importances_.T,df_pop.columns) # combine attributes\n",
    "zip_varsRF = sorted(zip_varsRF)\n",
    "for importance, name in zip_varsDT:\n",
    "    print('\\t%-35s - weight = %9.3f' % ( name, importance)) # now print them out"
   ]
  },
  {
   "cell_type": "code",
   "execution_count": 96,
   "metadata": {},
   "outputs": [
    {
     "data": {
      "text/plain": [
       "<matplotlib.axes._subplots.AxesSubplot at 0x7f75d71225f8>"
      ]
     },
     "execution_count": 96,
     "metadata": {},
     "output_type": "execute_result"
    },
    {
     "data": {
      "image/png": "[encoded data removed]",
      "text/plain": [
       "<matplotlib.figure.Figure at 0x7f75d71093c8>"
      ]
     },
     "metadata": {},
     "output_type": "display_data"
    }
   ],
   "source": [
    "%matplotlib inline\n",
    "rcParams['figure.figsize'] = 15, 5\n",
    "plt.style.use('ggplot')\n",
    "\n",
    "weights = pd.Series(abs(RFclf.feature_importances_), index = df_pop.columns)\n",
    "weights.plot(kind = 'bar')\n",
    "plt.show()"
   ]
  },
  {
   "cell_type": "markdown",
   "metadata": {},
   "source": [
    "In the random forest model, the importance of the variables are not the same as they were in the logistic regression model examined earlier ubt very similar to the decision tree model. The amount of key words is most important, next are self reference average shares. This result is interesting and maybe not intuitive, but variables such as the weekend indicator and variables related to the actual sharing process such as keywords show up here."
   ]
  },
  {
   "cell_type": "markdown",
   "metadata": {},
   "source": [
    "##  d: Naive Bayes\n",
    "\n",
    "\n",
    "#### d.1 Multinomial Naive Bayes"
   ]
  },
  {
   "cell_type": "code",
   "execution_count": 47,
   "metadata": {},
   "outputs": [
    {
     "data": {
      "text/plain": [
       "0.61809869147091279"
      ]
     },
     "execution_count": 47,
     "metadata": {},
     "output_type": "execute_result"
    },
    {
     "data": {
      "text/plain": [
       "{'alpha': 0.1}"
      ]
     },
     "execution_count": 47,
     "metadata": {},
     "output_type": "execute_result"
    }
   ],
   "source": [
    "from sklearn.naive_bayes import MultinomialNB\n",
    "\n",
    "MNBclf = MultinomialNB(\n",
    "    alpha = 0.01,\n",
    "    class_prior = None,\n",
    "    fit_prior = True)\n",
    "\n",
    "params = {\n",
    "    'alpha':[0.1, 0.5, 1.0]\n",
    "}\n",
    "\n",
    "MNB_grid_search = GridSearchCV(\n",
    "    MNBclf,\n",
    "    params,\n",
    "    cv = 3)\n",
    "\n",
    "grid_search = MNB_grid_search.fit(master_X_train, master_y_train)\n",
    "\n",
    "best_accuracy = grid_search.best_score_\n",
    "best_parameters = grid_search.best_params_\n",
    "\n",
    "best_accuracy\n",
    "best_parameters\n",
    "\n",
    "best_alpha = best_parameters['alpha']"
   ]
  },
  {
   "cell_type": "code",
   "execution_count": 48,
   "metadata": {},
   "outputs": [
    {
     "data": {
      "text/plain": [
       "MultinomialNB(alpha=0.1, class_prior=None, fit_prior=True)"
      ]
     },
     "execution_count": 48,
     "metadata": {},
     "output_type": "execute_result"
    },
    {
     "name": "stdout",
     "output_type": "stream",
     "text": [
      "accuracy 0.6199\n",
      "precision 0.6197\n",
      "recall 0.6199\n",
      "f1_score 0.6195\n",
      "confusion matrix\n",
      " [[2122 1132]\n",
      " [1279 1810]]\n",
      "process time 0.0423\n",
      "\n",
      "\n"
     ]
    }
   ],
   "source": [
    "tic = time.clock()\n",
    "\n",
    "# train and test \n",
    "\n",
    "MNBclf = MultinomialNB(\n",
    "    alpha = best_alpha,\n",
    "    class_prior = None,\n",
    "    fit_prior = True)\n",
    "\n",
    "MNBclf.fit(X_train, y_train)\n",
    "y_predMNB = MNBclf.predict(X_test)\n",
    "\n",
    "# calculate statistics\n",
    "\n",
    "accuracy = '{0:.4f}'.format(metrics.accuracy_score(y_test, y_predMNB))\n",
    "precision = '{0:.4f}'.format(metrics.precision_score(y_test, y_predMNB, average ='weighted'))\n",
    "recall = '{0:.4f}'.format(metrics.recall_score(y_test, y_predMNB, average = 'weighted'))\n",
    "f1_score = '{0:.4f}'.format(metrics.f1_score(y_test, y_predMNB, average = 'weighted'))\n",
    "toc =  time.clock()\n",
    "exetime = '{0:.4f}'.format(toc-tic)\n",
    "\n",
    "# print statistics\n",
    "print(\"accuracy\",accuracy )\n",
    "print(\"precision\",precision )\n",
    "print(\"recall\",recall )\n",
    "print(\"f1_score\",f1_score )\n",
    "print(\"confusion matrix\\n\", confusion_matrix(y_test, y_predMNB))\n",
    "print('process time',exetime)\n",
    "print(\"\\n\")\n",
    "\n",
    "\n",
    "# save statistics for model comparison\n",
    "\n",
    "raw_data = {\n",
    "    'Model Name':'Multinomial Naïve Bayes',\n",
    "    'Accuracy':accuracy,\n",
    "    'Precision':precision,\n",
    "    'Recall':recall,\n",
    "    'FScore':f1_score,\n",
    "    'Processing Time': exetime\n",
    "}\n",
    "\n",
    "df_tbl = pd.DataFrame(raw_data,\n",
    "        columns = ['Model Name','Accuracy','Precision','Recall','FScore','Processing Time'],\n",
    "        index = [i_index + 1])\n",
    "\n",
    "comparison_tbl = comparison_tbl.append(df_tbl)\n",
    "\n",
    "#append model classifier for cross-validation\n",
    "\n",
    "models.append(('Multinomial Naïve Bayes', MNBclf))\n"
   ]
  },
  {
   "cell_type": "markdown",
   "metadata": {},
   "source": [
    "#### d.2 Gaussian Naive Bayes"
   ]
  },
  {
   "cell_type": "code",
   "execution_count": 49,
   "metadata": {},
   "outputs": [
    {
     "data": {
      "text/plain": [
       "GaussianNB(priors=None)"
      ]
     },
     "execution_count": 49,
     "metadata": {},
     "output_type": "execute_result"
    },
    {
     "name": "stdout",
     "output_type": "stream",
     "text": [
      "accuracy 0.6194\n",
      "precision 0.6193\n",
      "recall 0.6194\n",
      "f1_score 0.6188\n",
      "confusion matrix\n",
      " [[2140 1114]\n",
      " [1300 1789]]\n",
      "process time 0.0429\n",
      "\n",
      "\n"
     ]
    }
   ],
   "source": [
    "from sklearn.naive_bayes import GaussianNB\n",
    "\n",
    "tic = time.clock()\n",
    "\n",
    "# train and test \n",
    "\n",
    "GNBclf = GaussianNB()\n",
    "\n",
    "GNBclf.fit(X_train, y_train)\n",
    "y_predGNB = GNBclf.predict(X_test)\n",
    "\n",
    "# calculate statistics\n",
    "\n",
    "accuracy = '{0:.4f}'.format(metrics.accuracy_score(y_test, y_predGNB))\n",
    "precision = '{0:.4f}'.format(metrics.precision_score(y_test, y_predGNB, average ='weighted'))\n",
    "recall = '{0:.4f}'.format(metrics.recall_score(y_test, y_predGNB, average = 'weighted'))\n",
    "f1_score = '{0:.4f}'.format(metrics.f1_score(y_test, y_predGNB, average = 'weighted'))\n",
    "toc =  time.clock()\n",
    "exetime = '{0:.4f}'.format(toc-tic)\n",
    "\n",
    "# print statistics\n",
    "print(\"accuracy\",accuracy )\n",
    "print(\"precision\",precision )\n",
    "print(\"recall\",recall )\n",
    "print(\"f1_score\",f1_score )\n",
    "print(\"confusion matrix\\n\", confusion_matrix(y_test, y_predGNB))\n",
    "print('process time',exetime)\n",
    "print(\"\\n\")\n",
    "\n",
    "\n",
    "# save statistics for model comparison\n",
    "\n",
    "raw_data = {\n",
    "    'Model Name':'Gaussian Naïve Bayes',\n",
    "    'Accuracy':accuracy,\n",
    "    'Precision':precision,\n",
    "    'Recall':recall,\n",
    "    'FScore':f1_score,\n",
    "    'Processing Time': exetime\n",
    "}\n",
    "\n",
    "df_tbl = pd.DataFrame(raw_data,\n",
    "        columns = ['Model Name','Accuracy','Precision','Recall','FScore','Processing Time'],\n",
    "        index = [i_index + 1])\n",
    "\n",
    "comparison_tbl = comparison_tbl.append(df_tbl)\n",
    "\n",
    "#append model classifier for cross-validation\n",
    "\n",
    "models.append(('Gaussian Naïve Bayes', GNBclf))"
   ]
  },
  {
   "cell_type": "markdown",
   "metadata": {},
   "source": [
    "#\tModeling and Evaluation 4"
   ]
  },
  {
   "cell_type": "markdown",
   "metadata": {},
   "source": [
    "### Evaluation metrics"
   ]
  },
  {
   "cell_type": "code",
   "execution_count": 50,
   "metadata": {},
   "outputs": [
    {
     "data": {
      "text/html": [
       "<div>\n",
       "<style>\n",
       "    .dataframe thead tr:only-child th {\n",
       "        text-align: right;\n",
       "    }\n",
       "\n",
       "    .dataframe thead th {\n",
       "        text-align: left;\n",
       "    }\n",
       "\n",
       "    .dataframe tbody tr th {\n",
       "        vertical-align: top;\n",
       "    }\n",
       "</style>\n",
       "<table border=\"1\" class=\"dataframe\">\n",
       "  <thead>\n",
       "    <tr style=\"text-align: right;\">\n",
       "      <th></th>\n",
       "      <th>Model Name</th>\n",
       "      <th>Accuracy</th>\n",
       "      <th>Precision</th>\n",
       "      <th>Recall</th>\n",
       "      <th>FScore</th>\n",
       "      <th>Processing Time</th>\n",
       "    </tr>\n",
       "  </thead>\n",
       "  <tbody>\n",
       "    <tr>\n",
       "      <th>0</th>\n",
       "      <td>Logistic Regression</td>\n",
       "      <td>0.6342</td>\n",
       "      <td>0.6348</td>\n",
       "      <td>0.6342</td>\n",
       "      <td>0.6343</td>\n",
       "      <td>0.9443</td>\n",
       "    </tr>\n",
       "    <tr>\n",
       "      <th>1</th>\n",
       "      <td>Decision Tree Classifier</td>\n",
       "      <td>0.6346</td>\n",
       "      <td>0.6353</td>\n",
       "      <td>0.6346</td>\n",
       "      <td>0.6327</td>\n",
       "      <td>0.4662</td>\n",
       "    </tr>\n",
       "    <tr>\n",
       "      <th>2</th>\n",
       "      <td>Random Forest Classifier</td>\n",
       "      <td>0.6606</td>\n",
       "      <td>0.6606</td>\n",
       "      <td>0.6606</td>\n",
       "      <td>0.6606</td>\n",
       "      <td>109.3763</td>\n",
       "    </tr>\n",
       "    <tr>\n",
       "      <th>3</th>\n",
       "      <td>Multinomial Naïve Bayes</td>\n",
       "      <td>0.6199</td>\n",
       "      <td>0.6197</td>\n",
       "      <td>0.6199</td>\n",
       "      <td>0.6195</td>\n",
       "      <td>0.0423</td>\n",
       "    </tr>\n",
       "    <tr>\n",
       "      <th>4</th>\n",
       "      <td>Gaussian Naïve Bayes</td>\n",
       "      <td>0.6194</td>\n",
       "      <td>0.6193</td>\n",
       "      <td>0.6194</td>\n",
       "      <td>0.6188</td>\n",
       "      <td>0.0429</td>\n",
       "    </tr>\n",
       "  </tbody>\n",
       "</table>\n",
       "</div>"
      ],
      "text/plain": [
       "                 Model Name  Accuracy  Precision  Recall  FScore  \\\n",
       "0       Logistic Regression    0.6342     0.6348  0.6342  0.6343   \n",
       "1  Decision Tree Classifier    0.6346     0.6353  0.6346  0.6327   \n",
       "2  Random Forest Classifier    0.6606     0.6606  0.6606  0.6606   \n",
       "3   Multinomial Naïve Bayes    0.6199     0.6197  0.6199  0.6195   \n",
       "4      Gaussian Naïve Bayes    0.6194     0.6193  0.6194  0.6188   \n",
       "\n",
       "   Processing Time  \n",
       "0           0.9443  \n",
       "1           0.4662  \n",
       "2         109.3763  \n",
       "3           0.0423  \n",
       "4           0.0429  "
      ]
     },
     "execution_count": 50,
     "metadata": {},
     "output_type": "execute_result"
    }
   ],
   "source": [
    "# converting acc, pre, recall, fscore and time to numeric values for plots\n",
    "\n",
    "comparison_tbl = comparison_tbl.reset_index(drop=True)\n",
    "comparison_tbl['Precision'] = pd.to_numeric(comparison_tbl['Precision'])\n",
    "comparison_tbl['Accuracy'] = pd.to_numeric(comparison_tbl['Accuracy'])\n",
    "comparison_tbl['FScore']= pd.to_numeric(comparison_tbl['FScore'])\n",
    "comparison_tbl['Processing Time'] = pd.to_numeric(comparison_tbl['Processing Time'])\n",
    "comparison_tbl['Recall'] = pd.to_numeric(comparison_tbl['Recall'])\n",
    "comparison_tbl\n"
   ]
  },
  {
   "cell_type": "markdown",
   "metadata": {},
   "source": [
    "#### Visualization of metrics"
   ]
  },
  {
   "cell_type": "code",
   "execution_count": 105,
   "metadata": {},
   "outputs": [
    {
     "data": {
      "text/plain": [
       "[None, None, None, None, None, None, None, None, None, None, None, None]"
      ]
     },
     "execution_count": 105,
     "metadata": {},
     "output_type": "execute_result"
    },
    {
     "data": {
      "text/plain": [
       "[None, None, None, None, None, None, None, None, None, None, None, None]"
      ]
     },
     "execution_count": 105,
     "metadata": {},
     "output_type": "execute_result"
    },
    {
     "ename": "TypeError",
     "evalue": "unsupported operand type(s) for /: 'str' and 'int'",
     "output_type": "error",
     "traceback": [
      "\u001b[0;31m---------------------------------------------------------------------------\u001b[0m",
      "\u001b[0;31mTypeError\u001b[0m                                 Traceback (most recent call last)",
      "\u001b[0;32m<ipython-input-105-fa304b2ee67c>\u001b[0m in \u001b[0;36m<module>\u001b[0;34m()\u001b[0m\n\u001b[1;32m      5\u001b[0m \u001b[0mplt\u001b[0m\u001b[0;34m.\u001b[0m\u001b[0msetp\u001b[0m\u001b[0;34m(\u001b[0m\u001b[0maxs\u001b[0m\u001b[0;34m[\u001b[0m\u001b[0;36m0\u001b[0m\u001b[0;34m]\u001b[0m\u001b[0;34m.\u001b[0m\u001b[0mxaxis\u001b[0m\u001b[0;34m.\u001b[0m\u001b[0mget_majorticklabels\u001b[0m\u001b[0;34m(\u001b[0m\u001b[0;34m)\u001b[0m\u001b[0;34m,\u001b[0m \u001b[0mrotation\u001b[0m\u001b[0;34m=\u001b[0m\u001b[0;36m90\u001b[0m \u001b[0;34m)\u001b[0m\u001b[0;34m\u001b[0m\u001b[0m\n\u001b[1;32m      6\u001b[0m \u001b[0mplt\u001b[0m\u001b[0;34m.\u001b[0m\u001b[0msetp\u001b[0m\u001b[0;34m(\u001b[0m\u001b[0maxs\u001b[0m\u001b[0;34m[\u001b[0m\u001b[0;36m1\u001b[0m\u001b[0;34m]\u001b[0m\u001b[0;34m.\u001b[0m\u001b[0mxaxis\u001b[0m\u001b[0;34m.\u001b[0m\u001b[0mget_majorticklabels\u001b[0m\u001b[0;34m(\u001b[0m\u001b[0;34m)\u001b[0m\u001b[0;34m,\u001b[0m \u001b[0mrotation\u001b[0m\u001b[0;34m=\u001b[0m\u001b[0;36m90\u001b[0m \u001b[0;34m)\u001b[0m\u001b[0;34m\u001b[0m\u001b[0m\n\u001b[0;32m----> 7\u001b[0;31m \u001b[0msns\u001b[0m\u001b[0;34m.\u001b[0m\u001b[0mbarplot\u001b[0m\u001b[0;34m(\u001b[0m\u001b[0mx\u001b[0m\u001b[0;34m=\u001b[0m\u001b[0;34m'Model Name'\u001b[0m\u001b[0;34m,\u001b[0m \u001b[0my\u001b[0m\u001b[0;34m=\u001b[0m\u001b[0;34m'Accuracy'\u001b[0m\u001b[0;34m,\u001b[0m \u001b[0mdata\u001b[0m\u001b[0;34m=\u001b[0m\u001b[0mcomparison_tbl\u001b[0m\u001b[0;34m,\u001b[0m \u001b[0max\u001b[0m \u001b[0;34m=\u001b[0m \u001b[0maxs\u001b[0m\u001b[0;34m[\u001b[0m\u001b[0;36m0\u001b[0m\u001b[0;34m]\u001b[0m\u001b[0;34m)\u001b[0m\u001b[0;34m\u001b[0m\u001b[0m\n\u001b[0m\u001b[1;32m      8\u001b[0m \u001b[0msns\u001b[0m\u001b[0;34m.\u001b[0m\u001b[0mbarplot\u001b[0m\u001b[0;34m(\u001b[0m\u001b[0mdata\u001b[0m\u001b[0;34m=\u001b[0m\u001b[0mcomparison_tbl\u001b[0m\u001b[0;34m,\u001b[0m\u001b[0my\u001b[0m\u001b[0;34m=\u001b[0m\u001b[0;34m'Processing Time'\u001b[0m\u001b[0;34m,\u001b[0m\u001b[0mx\u001b[0m\u001b[0;34m=\u001b[0m\u001b[0;34m'Model Name'\u001b[0m\u001b[0;34m,\u001b[0m \u001b[0max\u001b[0m \u001b[0;34m=\u001b[0m \u001b[0maxs\u001b[0m\u001b[0;34m[\u001b[0m\u001b[0;36m1\u001b[0m\u001b[0;34m]\u001b[0m\u001b[0;34m)\u001b[0m\u001b[0;34m\u001b[0m\u001b[0m\n",
      "\u001b[0;32m/home/mcdevitt/anaconda3/lib/python3.6/site-packages/seaborn/categorical.py\u001b[0m in \u001b[0;36mbarplot\u001b[0;34m(x, y, hue, data, order, hue_order, estimator, ci, n_boot, units, orient, color, palette, saturation, errcolor, errwidth, capsize, ax, **kwargs)\u001b[0m\n\u001b[1;32m   2897\u001b[0m                           \u001b[0mestimator\u001b[0m\u001b[0;34m,\u001b[0m \u001b[0mci\u001b[0m\u001b[0;34m,\u001b[0m \u001b[0mn_boot\u001b[0m\u001b[0;34m,\u001b[0m \u001b[0munits\u001b[0m\u001b[0;34m,\u001b[0m\u001b[0;34m\u001b[0m\u001b[0m\n\u001b[1;32m   2898\u001b[0m                           \u001b[0morient\u001b[0m\u001b[0;34m,\u001b[0m \u001b[0mcolor\u001b[0m\u001b[0;34m,\u001b[0m \u001b[0mpalette\u001b[0m\u001b[0;34m,\u001b[0m \u001b[0msaturation\u001b[0m\u001b[0;34m,\u001b[0m\u001b[0;34m\u001b[0m\u001b[0m\n\u001b[0;32m-> 2899\u001b[0;31m                           errcolor, errwidth, capsize)\n\u001b[0m\u001b[1;32m   2900\u001b[0m \u001b[0;34m\u001b[0m\u001b[0m\n\u001b[1;32m   2901\u001b[0m     \u001b[0;32mif\u001b[0m \u001b[0max\u001b[0m \u001b[0;32mis\u001b[0m \u001b[0;32mNone\u001b[0m\u001b[0;34m:\u001b[0m\u001b[0;34m\u001b[0m\u001b[0m\n",
      "\u001b[0;32m/home/mcdevitt/anaconda3/lib/python3.6/site-packages/seaborn/categorical.py\u001b[0m in \u001b[0;36m__init__\u001b[0;34m(self, x, y, hue, data, order, hue_order, estimator, ci, n_boot, units, orient, color, palette, saturation, errcolor, errwidth, capsize)\u001b[0m\n\u001b[1;32m   1543\u001b[0m                                  order, hue_order, units)\n\u001b[1;32m   1544\u001b[0m         \u001b[0mself\u001b[0m\u001b[0;34m.\u001b[0m\u001b[0mestablish_colors\u001b[0m\u001b[0;34m(\u001b[0m\u001b[0mcolor\u001b[0m\u001b[0;34m,\u001b[0m \u001b[0mpalette\u001b[0m\u001b[0;34m,\u001b[0m \u001b[0msaturation\u001b[0m\u001b[0;34m)\u001b[0m\u001b[0;34m\u001b[0m\u001b[0m\n\u001b[0;32m-> 1545\u001b[0;31m         \u001b[0mself\u001b[0m\u001b[0;34m.\u001b[0m\u001b[0mestimate_statistic\u001b[0m\u001b[0;34m(\u001b[0m\u001b[0mestimator\u001b[0m\u001b[0;34m,\u001b[0m \u001b[0mci\u001b[0m\u001b[0;34m,\u001b[0m \u001b[0mn_boot\u001b[0m\u001b[0;34m)\u001b[0m\u001b[0;34m\u001b[0m\u001b[0m\n\u001b[0m\u001b[1;32m   1546\u001b[0m \u001b[0;34m\u001b[0m\u001b[0m\n\u001b[1;32m   1547\u001b[0m         \u001b[0mself\u001b[0m\u001b[0;34m.\u001b[0m\u001b[0merrcolor\u001b[0m \u001b[0;34m=\u001b[0m \u001b[0merrcolor\u001b[0m\u001b[0;34m\u001b[0m\u001b[0m\n",
      "\u001b[0;32m/home/mcdevitt/anaconda3/lib/python3.6/site-packages/seaborn/categorical.py\u001b[0m in \u001b[0;36mestimate_statistic\u001b[0;34m(self, estimator, ci, n_boot)\u001b[0m\n\u001b[1;32m   1438\u001b[0m                     \u001b[0mstatistic\u001b[0m\u001b[0;34m.\u001b[0m\u001b[0mappend\u001b[0m\u001b[0;34m(\u001b[0m\u001b[0mnp\u001b[0m\u001b[0;34m.\u001b[0m\u001b[0mnan\u001b[0m\u001b[0;34m)\u001b[0m\u001b[0;34m\u001b[0m\u001b[0m\n\u001b[1;32m   1439\u001b[0m                 \u001b[0;32melse\u001b[0m\u001b[0;34m:\u001b[0m\u001b[0;34m\u001b[0m\u001b[0m\n\u001b[0;32m-> 1440\u001b[0;31m                     \u001b[0mstatistic\u001b[0m\u001b[0;34m.\u001b[0m\u001b[0mappend\u001b[0m\u001b[0;34m(\u001b[0m\u001b[0mestimator\u001b[0m\u001b[0;34m(\u001b[0m\u001b[0mstat_data\u001b[0m\u001b[0;34m)\u001b[0m\u001b[0;34m)\u001b[0m\u001b[0;34m\u001b[0m\u001b[0m\n\u001b[0m\u001b[1;32m   1441\u001b[0m \u001b[0;34m\u001b[0m\u001b[0m\n\u001b[1;32m   1442\u001b[0m                 \u001b[0;31m# Get a confidence interval for this estimate\u001b[0m\u001b[0;34m\u001b[0m\u001b[0;34m\u001b[0m\u001b[0m\n",
      "\u001b[0;32m/home/mcdevitt/anaconda3/lib/python3.6/site-packages/numpy/core/fromnumeric.py\u001b[0m in \u001b[0;36mmean\u001b[0;34m(a, axis, dtype, out, keepdims)\u001b[0m\n\u001b[1;32m   2907\u001b[0m \u001b[0;34m\u001b[0m\u001b[0m\n\u001b[1;32m   2908\u001b[0m     return _methods._mean(a, axis=axis, dtype=dtype,\n\u001b[0;32m-> 2909\u001b[0;31m                           out=out, **kwargs)\n\u001b[0m\u001b[1;32m   2910\u001b[0m \u001b[0;34m\u001b[0m\u001b[0m\n\u001b[1;32m   2911\u001b[0m \u001b[0;34m\u001b[0m\u001b[0m\n",
      "\u001b[0;32m/home/mcdevitt/anaconda3/lib/python3.6/site-packages/numpy/core/_methods.py\u001b[0m in \u001b[0;36m_mean\u001b[0;34m(a, axis, dtype, out, keepdims)\u001b[0m\n\u001b[1;32m     80\u001b[0m             \u001b[0mret\u001b[0m \u001b[0;34m=\u001b[0m \u001b[0mret\u001b[0m\u001b[0;34m.\u001b[0m\u001b[0mdtype\u001b[0m\u001b[0;34m.\u001b[0m\u001b[0mtype\u001b[0m\u001b[0;34m(\u001b[0m\u001b[0mret\u001b[0m \u001b[0;34m/\u001b[0m \u001b[0mrcount\u001b[0m\u001b[0;34m)\u001b[0m\u001b[0;34m\u001b[0m\u001b[0m\n\u001b[1;32m     81\u001b[0m     \u001b[0;32melse\u001b[0m\u001b[0;34m:\u001b[0m\u001b[0;34m\u001b[0m\u001b[0m\n\u001b[0;32m---> 82\u001b[0;31m         \u001b[0mret\u001b[0m \u001b[0;34m=\u001b[0m \u001b[0mret\u001b[0m \u001b[0;34m/\u001b[0m \u001b[0mrcount\u001b[0m\u001b[0;34m\u001b[0m\u001b[0m\n\u001b[0m\u001b[1;32m     83\u001b[0m \u001b[0;34m\u001b[0m\u001b[0m\n\u001b[1;32m     84\u001b[0m     \u001b[0;32mreturn\u001b[0m \u001b[0mret\u001b[0m\u001b[0;34m\u001b[0m\u001b[0m\n",
      "\u001b[0;31mTypeError\u001b[0m: unsupported operand type(s) for /: 'str' and 'int'"
     ]
    },
    {
     "data": {
      "image/png": "[encoded data removed]",
      "text/plain": [
       "<matplotlib.figure.Figure at 0x7f75d714b630>"
      ]
     },
     "metadata": {},
     "output_type": "display_data"
    }
   ],
   "source": [
    "from pylab import rcParams\n",
    "%matplotlib inline\n",
    "\n",
    "fig, axs = plt.subplots(ncols = 2)\n",
    "plt.setp(axs[0].xaxis.get_majorticklabels(), rotation = 90 )\n",
    "plt.setp(axs[1].xaxis.get_majorticklabels(), rotation = 90 )\n",
    "sns.barplot(x = 'Model Name', y = 'Accuracy', data = comparison_tbl, ax = axs[0])\n",
    "sns.barplot(data = comparison_tbl, y = 'Processing Time', x = 'Model Name', ax = axs[1])\n"
   ]
  },
  {
   "cell_type": "markdown",
   "metadata": {},
   "source": [
    "# 10-K Cross-Validation for each classifier\n",
    "For each classifier we run 10 fold cross validation which will help us narrow down one final model"
   ]
  },
  {
   "cell_type": "code",
   "execution_count": 52,
   "metadata": {
    "scrolled": true
   },
   "outputs": [
    {
     "name": "stdout",
     "output_type": "stream",
     "text": [
      "[ 0.62937283  0.63031831  0.62862547  0.62377799  0.62850836  0.63481552\n",
      "  0.62850836  0.62472406  0.63670766  0.63355408]\n",
      "\n",
      "\tLogistic Regression                : 0.630 (0.0039)\n",
      "\n",
      "\n",
      "[ 0.64418531  0.63662149  0.63650694  0.62630085  0.6439609   0.64206875\n",
      "  0.63450016  0.62503942  0.63923053  0.6341848 ]\n",
      "\n",
      "\tDecision Tree Classifier           : 0.636 (0.0063)\n",
      "\n",
      "\n",
      "[ 0.671289    0.66813741  0.6557377   0.66099022  0.67076632  0.66855881\n",
      "  0.67455061  0.65279092  0.67549669  0.65689057]\n",
      "\n",
      "\tRandom Forest Classifier           : 0.666 (0.0078)\n",
      "\n",
      "\n",
      "[ 0.61771194  0.6281122   0.61065574  0.61463261  0.6222012   0.62535478\n",
      "  0.61494797  0.59571113  0.6222012   0.62377799]\n",
      "\n",
      "\tMultinomial Naïve Bayes            : 0.618 (0.0089)\n",
      "\n",
      "\n",
      "[ 0.62023322  0.63283958  0.61790668  0.62945443  0.61873226  0.62093977\n",
      "  0.6124251   0.60832545  0.63639231  0.62062441]\n",
      "\n",
      "\tGaussian Naïve Bayes               : 0.622 (0.0083)\n",
      "\n",
      "\n"
     ]
    }
   ],
   "source": [
    "from sklearn import model_selection\n",
    "\n",
    "# evaluate each model in turn\n",
    "\n",
    "results = []\n",
    "names = []\n",
    "scoring = 'accuracy'\n",
    "\n",
    "for name, model in models:\n",
    "    cv_results = model_selection.cross_val_score(\n",
    "        model,\n",
    "        master_X_train,\n",
    "        master_y_train,\n",
    "        cv = 10,\n",
    "        scoring = scoring)\n",
    "    results.append(cv_results)\n",
    "    names.append(name)\n",
    "    msg = \"\\n\\t%-35s mean (std dev): %.3f (%.4f)\" % (name, cv_results.mean(), cv_results.std())\n",
    "    #print(cv_results)\n",
    "    print(msg)"
   ]
  },
  {
   "cell_type": "code",
   "execution_count": 53,
   "metadata": {
    "scrolled": false
   },
   "outputs": [
    {
     "data": {
      "text/plain": [
       "<matplotlib.text.Text at 0x7f75ec305518>"
      ]
     },
     "execution_count": 53,
     "metadata": {},
     "output_type": "execute_result"
    },
    {
     "data": {
      "text/plain": [
       "{'boxes': [<matplotlib.lines.Line2D at 0x7f75ec1a4e48>,\n",
       "  <matplotlib.lines.Line2D at 0x7f75ec2a0d68>,\n",
       "  <matplotlib.lines.Line2D at 0x7f75ec20d5c0>,\n",
       "  <matplotlib.lines.Line2D at 0x7f75ec263588>,\n",
       "  <matplotlib.lines.Line2D at 0x7f75ec2ccdd8>],\n",
       " 'caps': [<matplotlib.lines.Line2D at 0x7f75ec0d5b38>,\n",
       "  <matplotlib.lines.Line2D at 0x7f75ec0dba20>,\n",
       "  <matplotlib.lines.Line2D at 0x7f75ec296518>,\n",
       "  <matplotlib.lines.Line2D at 0x7f75ec3332e8>,\n",
       "  <matplotlib.lines.Line2D at 0x7f75ec319710>,\n",
       "  <matplotlib.lines.Line2D at 0x7f75ec319400>,\n",
       "  <matplotlib.lines.Line2D at 0x7f75ec2d1048>,\n",
       "  <matplotlib.lines.Line2D at 0x7f75ec24c438>,\n",
       "  <matplotlib.lines.Line2D at 0x7f75ec257eb8>,\n",
       "  <matplotlib.lines.Line2D at 0x7f75ec257160>],\n",
       " 'fliers': [<matplotlib.lines.Line2D at 0x7f75ed92ffd0>,\n",
       "  <matplotlib.lines.Line2D at 0x7f75ec26fac8>,\n",
       "  <matplotlib.lines.Line2D at 0x7f75ec213898>,\n",
       "  <matplotlib.lines.Line2D at 0x7f75ec2ccb00>,\n",
       "  <matplotlib.lines.Line2D at 0x7f75ec2c6748>],\n",
       " 'means': [],\n",
       " 'medians': [<matplotlib.lines.Line2D at 0x7f75ec0dbc18>,\n",
       "  <matplotlib.lines.Line2D at 0x7f75ec333358>,\n",
       "  <matplotlib.lines.Line2D at 0x7f75ec213748>,\n",
       "  <matplotlib.lines.Line2D at 0x7f75ec224be0>,\n",
       "  <matplotlib.lines.Line2D at 0x7f75ec2c66a0>],\n",
       " 'whiskers': [<matplotlib.lines.Line2D at 0x7f75ec1e19b0>,\n",
       "  <matplotlib.lines.Line2D at 0x7f75ec1cfcc0>,\n",
       "  <matplotlib.lines.Line2D at 0x7f75ec2a0898>,\n",
       "  <matplotlib.lines.Line2D at 0x7f75ec296240>,\n",
       "  <matplotlib.lines.Line2D at 0x7f75ec20def0>,\n",
       "  <matplotlib.lines.Line2D at 0x7f75ec28b9b0>,\n",
       "  <matplotlib.lines.Line2D at 0x7f75ec2631d0>,\n",
       "  <matplotlib.lines.Line2D at 0x7f75ec2d1588>,\n",
       "  <matplotlib.lines.Line2D at 0x7f75ec242128>,\n",
       "  <matplotlib.lines.Line2D at 0x7f75ec242a20>]}"
      ]
     },
     "execution_count": 53,
     "metadata": {},
     "output_type": "execute_result"
    },
    {
     "data": {
      "text/plain": [
       "[<matplotlib.text.Text at 0x7f75ec135dd8>,\n",
       " <matplotlib.text.Text at 0x7f75ec12ec18>,\n",
       " <matplotlib.text.Text at 0x7f75ec3141d0>,\n",
       " <matplotlib.text.Text at 0x7f75ec314710>,\n",
       " <matplotlib.text.Text at 0x7f75ec312e80>]"
      ]
     },
     "execution_count": 53,
     "metadata": {},
     "output_type": "execute_result"
    },
    {
     "data": {
      "image/png": "[encoded data removed]",
      "text/plain": [
       "<matplotlib.figure.Figure at 0x7f75ec3057f0>"
      ]
     },
     "metadata": {},
     "output_type": "display_data"
    }
   ],
   "source": [
    "# boxplot accuracy comparison\n",
    "\n",
    "fig = plt.figure()\n",
    "fig.suptitle('Cross-Validation Accuracy Comparison')\n",
    "ax = fig.add_subplot(111)\n",
    "\n",
    "plt.boxplot(results)\n",
    "\n",
    "ax.set_xticklabels(names, rotation=90)\n",
    "plt.show()\n"
   ]
  },
  {
   "cell_type": "markdown",
   "metadata": {},
   "source": [
    "## Holdout test data set prediction with our final model\n",
    "\n",
    "Our final best model is Random Forest Classifier. We will run prediction on that fit with the test data set we set aside at the beggining of the project. We will calculate statistics for the prediction."
   ]
  },
  {
   "cell_type": "code",
   "execution_count": 54,
   "metadata": {},
   "outputs": [
    {
     "name": "stdout",
     "output_type": "stream",
     "text": [
      "accuracy 0.6588\n",
      "precision 0.6588\n",
      "recall 0.6588\n",
      "f1_score 0.6588\n",
      "confusion matrix\n",
      " [[2170 1084]\n",
      " [1069 2020]]\n",
      "process time 1259.3225\n",
      "\n",
      "\n"
     ]
    }
   ],
   "source": [
    "y_predFinal = RFclf.predict(golden_X_test)\n",
    "\n",
    "# calculate statistics\n",
    "\n",
    "accuracy = '{0:.4f}'.format(metrics.accuracy_score(golden_y_test, y_predFinal))\n",
    "precision = '{0:.4f}'.format(metrics.precision_score(golden_y_test, y_predFinal, average ='weighted'))\n",
    "recall = '{0:.4f}'.format(metrics.recall_score(golden_y_test, y_predFinal, average = 'weighted'))\n",
    "f1_score = '{0:.4f}'.format(metrics.f1_score(golden_y_test, y_predFinal, average = 'weighted'))\n",
    "toc =  time.clock()\n",
    "exetime = '{0:.4f}'.format(toc-tic)\n",
    "\n",
    "# print statistics\n",
    "print(\"accuracy\", accuracy )\n",
    "print(\"precision\", precision )\n",
    "print(\"recall\", recall )\n",
    "print(\"f1_score\", f1_score )\n",
    "print(\"confusion matrix\\n\", confusion_matrix(y_test, y_predRF))\n",
    "print('process time', exetime)\n",
    "print(\"\\n\")\n"
   ]
  },
  {
   "cell_type": "markdown",
   "metadata": {},
   "source": [
    "  \n",
    "<hr size = \"5\">  \n",
    "\n",
    "# Task 02 - Second Classifier  \n",
    "\n",
    "<hr size = \"5\">  \n",
    "\n",
    "\n",
    "### __To the reader__  :  \n",
    "\n",
    "This next section is data preparation associated to the Task 2 - classifier for assigning an article to a data_channel.\n",
    "The method is very similar to what was employed for the Task 1, but the steps here need to be repeated since the data columns retained are different between the 2 classification tasks.  \n",
    "\n",
    "The next several sections are similar in structure and content to what was shown above, but here the data reduction and cleaning is now done specifically for the 2nd classification task.  \n",
    "\n",
    "To avoid reviewing the repetitive nature of this section, feel free to skip to the section beginning with __Modeling & Evaluation 2__ - which begins the work that is dedicated to developing this 2nd classification model.  \n",
    "\n",
    "\n",
    "\n",
    "\n",
    "\n"
   ]
  },
  {
   "cell_type": "markdown",
   "metadata": {},
   "source": [
    "\n",
    "\n",
    "### __Data Prep 01__  \n",
    "\n",
    "Similar methods and processes as constructed for Task 1, with differences related to different data set content specific to Task 2 classification model.\n",
    "\n",
    "### __Data Prep 02__  \n",
    "\n",
    "Similar methods and processes as constructed for Task 1, with differences related to different data set content specific to Task 2 classification model.\n",
    "\n",
    "### __Modeling and Evaluation 01__   \n",
    "\n",
    "Choose and explain the evaluation metrics that we will use. Why are the measures appropriate for analyzing the results of this model ? Give a detailed explanation backing up any assertions.\n",
    "\n",
    "We intend to mine this data to understand what parameters can influence an article to be shared on social media more than others.  The goal in _Task 1_ is to predict the number of shares in social networks (popularity).  \n",
    "\n",
    "The business use of this data set / data mining project is ultimately to establish relationships that enable to predict how many social media shares an article published on _www.mashable.com_ is likley to generate - with the idea that a more socially shared article has higher business value - increasing traffic to the site, and consequently, potential for higher earnings revenue associated to the increased web traffic. The user of this model is both the publishers for _mashable.com_ for article selection, and also for authors, attempting to create content that has higher value on sites like _mashable.com_.  \n",
    "\n",
    "Measures for a successful outcome from a predictive model for this study will be based on overall accuracy metrics (e.g., confusion matrix), as well as AUC type metrics. A baseline (non-predictive, random) scoring will establish a baseline for these metrics, and then the predictive model can be assessed against a random model for measurement of improvement, i.e., value of the model.  \n",
    "\n",
    "For this business case, we consider 2 risks :  \n",
    " - 1 - there is an article that has high potential for high popularity and our model classifies this incorrectly as not popular  \n",
    " - 2 - there are articles that are not likely to be popular, and our model incorrectly classifies the article as high potential for high popularity  \n",
    "  \n",
    "  In the first case, our model is missing opportunity to identify a highly valuable asset, whereas in the second case our model highly values that which has no value. For our business case, the distinction between popular and not_popular was established at the median value for number of shares of each article. In this case, then, there are, by this measure, an equal number of popular and not_popular articles. "
   ]
  },
  {
   "cell_type": "markdown",
   "metadata": {},
   "source": [
    "***  "
   ]
  },
  {
   "cell_type": "markdown",
   "metadata": {},
   "source": [
    "#### Import required packages  "
   ]
  },
  {
   "cell_type": "markdown",
   "metadata": {
    "collapsed": true
   },
   "source": [
    "import pandas as pd\n",
    "import numpy as np\n",
    "import matplotlib.pyplot as plt\n",
    "%matplotlib inline\n",
    "import warnings\n",
    "warnings.simplefilter('ignore',DeprecationWarning)\n",
    "import seaborn as sns\n",
    "import time\n",
    "#import hdbscan\n",
    "\n",
    "from sklearn.model_selection import ShuffleSplit\n",
    "from sklearn.preprocessing import StandardScaler\n",
    "\n",
    "#from sklearn.datasets import make_blobs\n",
    "\n",
    "from sklearn.ensemble import RandomForestClassifier\n",
    "from sklearn.calibration import CalibratedClassifierCV\n",
    "from sklearn.svm import SVC\n",
    "from sklearn.linear_model import LogisticRegression\n",
    "\n",
    "from sklearn import metrics\n",
    "from sklearn import metrics as mt\n",
    "from sklearn.metrics import log_loss\n",
    "from sklearn.metrics import accuracy_score as acc\n",
    "from sklearn.metrics import confusion_matrix as conf\n",
    "from sklearn.metrics import f1_score, precision_score, recall_score, classification_report\n",
    "from sklearn.metrics import accuracy_score\n",
    "from sklearn.metrics import precision_recall_fscore_support as score\n",
    "\n",
    "from tabulate import tabulate\n",
    "\n",
    "from IPython.core.interactiveshell import InteractiveShell\n",
    "InteractiveShell.ast_node_interactivity = \"all\""
   ]
  },
  {
   "cell_type": "markdown",
   "metadata": {},
   "source": [
    "#### Read in dataset from .csv file  "
   ]
  },
  {
   "cell_type": "code",
   "execution_count": null,
   "metadata": {
    "collapsed": true
   },
   "outputs": [],
   "source": [
    "data_dir = '../data/'\n",
    "data_file = 'OnlineNewsPopularity.csv'\n",
    "\n",
    "file_2_read = data_dir + data_file\n",
    "df = pd.read_csv(file_2_read)  "
   ]
  },
  {
   "cell_type": "code",
   "execution_count": 57,
   "metadata": {
    "collapsed": true
   },
   "outputs": [],
   "source": [
    "df.columns = df.columns.str.strip()\n",
    "col_names = df.columns.values.tolist()"
   ]
  },
  {
   "cell_type": "markdown",
   "metadata": {},
   "source": [
    "# Data Preparation Part 1\t\n",
    "\n",
    "Define and prepare your class variables. Use proper variable representations (int, float, one-hot, etc.). Use pre-processing methods (as needed) for dimensionality reduction, scaling, etc. Remove variables that are not needed/useful for the analysis."
   ]
  },
  {
   "cell_type": "markdown",
   "metadata": {},
   "source": [
    "### Task 2 data set definition  \n",
    "\n",
    " - For Task 2 classification we will classify the articles according to which data channel they are most likely to belong. The business case for this is to support directing the article to the data_channel most appropriate for the article content.  \n",
    " - In order to support this classification task, we create a new dependent variable column __data_channel__  which combines all of the individual binary boolean columns of __data_channel_is_xxx__ to __data_channel__ column with appropriate value  \n",
    " - We create 2 sets of this dependent variable, __data_channel__ and __data_channel_n__ . The only difference between these 2 columns is that __data_channel__ contains the text values for data channel category while the __data_channel_n__ contains an integer classifier (1 --> 7) which we associate to the text description in alphabetic order.  We create 2 versions of the column to be able to use the text version, when feasible, and the integer version in the case that that is required for a particular classifier routine.  \n",
    " - There are approx 15% of the articles which contain no identified __data_channel__ in the original data set. We create a new category, _Others_, for the articles without assignation to one of the standard data channels.  "
   ]
  },
  {
   "cell_type": "code",
   "execution_count": 58,
   "metadata": {
    "collapsed": true
   },
   "outputs": [],
   "source": [
    "# ... -=-=-=-=-=-=-=-=-=-=-=-=-=-=-=-=-=-=-=-=-=-=-=-=-=-=-=-=-=-=-=-=-=-=-=-=-=\n",
    "# ... creating data_channel categorical variable\n",
    "# ... -=-=-=-=-=-=-=-=-=-=-=-=-=-=-=-=-=-=-=-=-=-=-=-=-=-=-=-=-=-=-=-=-=-=-=-=-=\n",
    "\n",
    "df['data_channel'] = 'Others'\n",
    "\n",
    "condition = df['data_channel_is_lifestyle'] == 1\n",
    "df.loc[condition, 'data_channel'] = 'Lifestyle'\n",
    "\n",
    "condition = df['data_channel_is_entertainment'] == 1\n",
    "df.loc[condition, 'data_channel'] = 'Entertainment'\n",
    "\n",
    "condition = df['data_channel_is_bus'] == 1\n",
    "df.loc[condition, 'data_channel'] = 'Business'\n",
    "\n",
    "condition = df['data_channel_is_socmed'] == 1\n",
    "df.loc[condition, 'data_channel'] = 'Social Media'\n",
    "\n",
    "condition = df['data_channel_is_tech'] == 1\n",
    "df.loc[condition, 'data_channel'] = 'Technology'\n",
    "\n",
    "condition = df['data_channel_is_world'] == 1\n",
    "df.loc[condition, 'data_channel'] = 'World'\n",
    "\n",
    "del df['data_channel_is_lifestyle']\n",
    "del df['data_channel_is_entertainment']\n",
    "del df['data_channel_is_bus']\n",
    "del df['data_channel_is_socmed']\n",
    "del df['data_channel_is_tech']\n",
    "del df['data_channel_is_world']\n"
   ]
  },
  {
   "cell_type": "code",
   "execution_count": 59,
   "metadata": {},
   "outputs": [
    {
     "data": {
      "text/plain": [
       "World            8427\n",
       "Technology       7346\n",
       "Entertainment    7057\n",
       "Business         6258\n",
       "Others           6134\n",
       "Social Media     2323\n",
       "Lifestyle        2099\n",
       "Name: data_channel, dtype: int64"
      ]
     },
     "execution_count": 59,
     "metadata": {},
     "output_type": "execute_result"
    }
   ],
   "source": [
    "df.data_channel.value_counts()"
   ]
  },
  {
   "cell_type": "code",
   "execution_count": 60,
   "metadata": {
    "collapsed": true
   },
   "outputs": [],
   "source": [
    "# ... -=-=-=-=-=-=-=-=-=-=-=-=-=-=-=-=-=-=-=-=-=-=-=-=-=-=-=-=-=-=-=-=-=-=-=-=-=\n",
    "# ... integer value of categorical values for multinomial NB classification\n",
    "# ... -=-=-=-=-=-=-=-=-=-=-=-=-=-=-=-=-=-=-=-=-=-=-=-=-=-=-=-=-=-=-=-=-=-=-=-=-=\n",
    "\n",
    "df['data_channel_n'] = 0\n",
    "\n",
    "condition = df['data_channel'] == 'Business'\n",
    "df.loc[condition, 'data_channel_n'] = 1\n",
    "\n",
    "condition = df['data_channel'] == 'Entertainment'\n",
    "df.loc[condition, 'data_channel_n'] = 2\n",
    "\n",
    "condition = df['data_channel'] == 'Lifestyle'\n",
    "df.loc[condition, 'data_channel_n'] = 3\n",
    "\n",
    "condition = df['data_channel'] == 'Others'\n",
    "df.loc[condition, 'data_channel_n'] = 4\n",
    "\n",
    "condition = df['data_channel'] == 'Social Media'\n",
    "df.loc[condition, 'data_channel_n'] = 5\n",
    "\n",
    "condition = df['data_channel'] == 'Technology'\n",
    "df.loc[condition, 'data_channel_n'] = 6\n",
    "\n",
    "condition = df['data_channel'] == 'World'\n",
    "df.loc[condition, 'data_channel_n'] = 7\n",
    "\n"
   ]
  },
  {
   "cell_type": "markdown",
   "metadata": {},
   "source": [
    "### Remove variables that are not useful  \n",
    "\n",
    "\n",
    "#### Delete __shares__ from the Task 2 data set \n",
    "\n",
    "__shares__ is the Task 1 dependent variable\n",
    "\n",
    "we are excluding it from the Task 2 dataset as per the business model this value is not available during data_channel selection\n",
    "\n",
    "The business model being developed here is that an article is proposed for publication, a set of text processing routines will extract and develop the model features from the raw article. The next step is to deploy the __data_channel__ assignment (classification) model, which is then also a necessary ingredient for the final model, Task 1, which is to estimate the __popularity__ of the article and thus provide recommendation to publish or not to publish.\n",
    "\n",
    "Thus, for this Task 2 data set, we exclude the __shares__ data value.\n"
   ]
  },
  {
   "cell_type": "code",
   "execution_count": 62,
   "metadata": {
    "collapsed": true
   },
   "outputs": [],
   "source": [
    "# ... -=-=-=-=-=-=-=-=-=-=-=-=-=-=-=-=-=-=-=-=-=-=-=-=-=-=-=-=-=-=-=-=-=-=-=-=-=\n",
    "# ...  shares is task 1 dependent variable\n",
    "# ...  we are excluding it from this model as per business model this value is not available\n",
    "# ...  during data_channel prediction\n",
    "# ... -=-=-=-=-=-=-=-=-=-=-=-=-=-=-=-=-=-=-=-=-=-=-=-=-=-=-=-=-=-=-=-=-=-=-=-=-=\n",
    "\n",
    "del df['shares'] \n"
   ]
  },
  {
   "cell_type": "code",
   "execution_count": 63,
   "metadata": {
    "collapsed": true
   },
   "outputs": [],
   "source": [
    "del df['n_non_stop_words']\n",
    "del df['n_non_stop_unique_tokens']\n",
    "del df['n_unique_tokens']\n",
    "del df['url']"
   ]
  },
  {
   "cell_type": "code",
   "execution_count": 64,
   "metadata": {},
   "outputs": [
    {
     "data": {
      "text/html": [
       "<div>\n",
       "<style>\n",
       "    .dataframe thead tr:only-child th {\n",
       "        text-align: right;\n",
       "    }\n",
       "\n",
       "    .dataframe thead th {\n",
       "        text-align: left;\n",
       "    }\n",
       "\n",
       "    .dataframe tbody tr th {\n",
       "        vertical-align: top;\n",
       "    }\n",
       "</style>\n",
       "<table border=\"1\" class=\"dataframe\">\n",
       "  <thead>\n",
       "    <tr style=\"text-align: right;\">\n",
       "      <th></th>\n",
       "      <th>count</th>\n",
       "      <th>mean</th>\n",
       "      <th>std</th>\n",
       "      <th>min</th>\n",
       "      <th>25%</th>\n",
       "      <th>50%</th>\n",
       "      <th>75%</th>\n",
       "      <th>max</th>\n",
       "    </tr>\n",
       "  </thead>\n",
       "  <tbody>\n",
       "    <tr>\n",
       "      <th>timedelta</th>\n",
       "      <td>39644.0</td>\n",
       "      <td>354.530471</td>\n",
       "      <td>214.163767</td>\n",
       "      <td>8.00000</td>\n",
       "      <td>164.000000</td>\n",
       "      <td>339.000000</td>\n",
       "      <td>542.000000</td>\n",
       "      <td>731.000000</td>\n",
       "    </tr>\n",
       "    <tr>\n",
       "      <th>n_tokens_title</th>\n",
       "      <td>39644.0</td>\n",
       "      <td>10.398749</td>\n",
       "      <td>2.114037</td>\n",
       "      <td>2.00000</td>\n",
       "      <td>9.000000</td>\n",
       "      <td>10.000000</td>\n",
       "      <td>12.000000</td>\n",
       "      <td>23.000000</td>\n",
       "    </tr>\n",
       "    <tr>\n",
       "      <th>n_tokens_content</th>\n",
       "      <td>39644.0</td>\n",
       "      <td>546.514731</td>\n",
       "      <td>471.107508</td>\n",
       "      <td>0.00000</td>\n",
       "      <td>246.000000</td>\n",
       "      <td>409.000000</td>\n",
       "      <td>716.000000</td>\n",
       "      <td>8474.000000</td>\n",
       "    </tr>\n",
       "    <tr>\n",
       "      <th>num_hrefs</th>\n",
       "      <td>39644.0</td>\n",
       "      <td>10.883690</td>\n",
       "      <td>11.332017</td>\n",
       "      <td>0.00000</td>\n",
       "      <td>4.000000</td>\n",
       "      <td>8.000000</td>\n",
       "      <td>14.000000</td>\n",
       "      <td>304.000000</td>\n",
       "    </tr>\n",
       "    <tr>\n",
       "      <th>num_self_hrefs</th>\n",
       "      <td>39644.0</td>\n",
       "      <td>3.293638</td>\n",
       "      <td>3.855141</td>\n",
       "      <td>0.00000</td>\n",
       "      <td>1.000000</td>\n",
       "      <td>3.000000</td>\n",
       "      <td>4.000000</td>\n",
       "      <td>116.000000</td>\n",
       "    </tr>\n",
       "    <tr>\n",
       "      <th>num_imgs</th>\n",
       "      <td>39644.0</td>\n",
       "      <td>4.544143</td>\n",
       "      <td>8.309434</td>\n",
       "      <td>0.00000</td>\n",
       "      <td>1.000000</td>\n",
       "      <td>1.000000</td>\n",
       "      <td>4.000000</td>\n",
       "      <td>128.000000</td>\n",
       "    </tr>\n",
       "    <tr>\n",
       "      <th>num_videos</th>\n",
       "      <td>39644.0</td>\n",
       "      <td>1.249874</td>\n",
       "      <td>4.107855</td>\n",
       "      <td>0.00000</td>\n",
       "      <td>0.000000</td>\n",
       "      <td>0.000000</td>\n",
       "      <td>1.000000</td>\n",
       "      <td>91.000000</td>\n",
       "    </tr>\n",
       "    <tr>\n",
       "      <th>average_token_length</th>\n",
       "      <td>39644.0</td>\n",
       "      <td>4.548239</td>\n",
       "      <td>0.844406</td>\n",
       "      <td>0.00000</td>\n",
       "      <td>4.478404</td>\n",
       "      <td>4.664082</td>\n",
       "      <td>4.854839</td>\n",
       "      <td>8.041534</td>\n",
       "    </tr>\n",
       "    <tr>\n",
       "      <th>num_keywords</th>\n",
       "      <td>39644.0</td>\n",
       "      <td>7.223767</td>\n",
       "      <td>1.909130</td>\n",
       "      <td>1.00000</td>\n",
       "      <td>6.000000</td>\n",
       "      <td>7.000000</td>\n",
       "      <td>9.000000</td>\n",
       "      <td>10.000000</td>\n",
       "    </tr>\n",
       "    <tr>\n",
       "      <th>kw_min_min</th>\n",
       "      <td>39644.0</td>\n",
       "      <td>26.106801</td>\n",
       "      <td>69.633215</td>\n",
       "      <td>-1.00000</td>\n",
       "      <td>-1.000000</td>\n",
       "      <td>-1.000000</td>\n",
       "      <td>4.000000</td>\n",
       "      <td>377.000000</td>\n",
       "    </tr>\n",
       "    <tr>\n",
       "      <th>kw_max_min</th>\n",
       "      <td>39644.0</td>\n",
       "      <td>1153.951682</td>\n",
       "      <td>3857.990877</td>\n",
       "      <td>0.00000</td>\n",
       "      <td>445.000000</td>\n",
       "      <td>660.000000</td>\n",
       "      <td>1000.000000</td>\n",
       "      <td>298400.000000</td>\n",
       "    </tr>\n",
       "    <tr>\n",
       "      <th>kw_avg_min</th>\n",
       "      <td>39644.0</td>\n",
       "      <td>312.366967</td>\n",
       "      <td>620.783887</td>\n",
       "      <td>-1.00000</td>\n",
       "      <td>141.750000</td>\n",
       "      <td>235.500000</td>\n",
       "      <td>357.000000</td>\n",
       "      <td>42827.857143</td>\n",
       "    </tr>\n",
       "    <tr>\n",
       "      <th>kw_min_max</th>\n",
       "      <td>39644.0</td>\n",
       "      <td>13612.354102</td>\n",
       "      <td>57986.029357</td>\n",
       "      <td>0.00000</td>\n",
       "      <td>0.000000</td>\n",
       "      <td>1400.000000</td>\n",
       "      <td>7900.000000</td>\n",
       "      <td>843300.000000</td>\n",
       "    </tr>\n",
       "    <tr>\n",
       "      <th>kw_max_max</th>\n",
       "      <td>39644.0</td>\n",
       "      <td>752324.066694</td>\n",
       "      <td>214502.129573</td>\n",
       "      <td>0.00000</td>\n",
       "      <td>843300.000000</td>\n",
       "      <td>843300.000000</td>\n",
       "      <td>843300.000000</td>\n",
       "      <td>843300.000000</td>\n",
       "    </tr>\n",
       "    <tr>\n",
       "      <th>kw_avg_max</th>\n",
       "      <td>39644.0</td>\n",
       "      <td>259281.938083</td>\n",
       "      <td>135102.247285</td>\n",
       "      <td>0.00000</td>\n",
       "      <td>172846.875000</td>\n",
       "      <td>244572.222223</td>\n",
       "      <td>330980.000000</td>\n",
       "      <td>843300.000000</td>\n",
       "    </tr>\n",
       "    <tr>\n",
       "      <th>kw_min_avg</th>\n",
       "      <td>39644.0</td>\n",
       "      <td>1117.146610</td>\n",
       "      <td>1137.456951</td>\n",
       "      <td>-1.00000</td>\n",
       "      <td>0.000000</td>\n",
       "      <td>1023.635611</td>\n",
       "      <td>2056.781032</td>\n",
       "      <td>3613.039820</td>\n",
       "    </tr>\n",
       "    <tr>\n",
       "      <th>kw_max_avg</th>\n",
       "      <td>39644.0</td>\n",
       "      <td>5657.211151</td>\n",
       "      <td>6098.871957</td>\n",
       "      <td>0.00000</td>\n",
       "      <td>3562.101631</td>\n",
       "      <td>4355.688836</td>\n",
       "      <td>6019.953968</td>\n",
       "      <td>298400.000000</td>\n",
       "    </tr>\n",
       "    <tr>\n",
       "      <th>kw_avg_avg</th>\n",
       "      <td>39644.0</td>\n",
       "      <td>3135.858639</td>\n",
       "      <td>1318.150397</td>\n",
       "      <td>0.00000</td>\n",
       "      <td>2382.448566</td>\n",
       "      <td>2870.074878</td>\n",
       "      <td>3600.229564</td>\n",
       "      <td>43567.659946</td>\n",
       "    </tr>\n",
       "    <tr>\n",
       "      <th>self_reference_min_shares</th>\n",
       "      <td>39644.0</td>\n",
       "      <td>3998.755396</td>\n",
       "      <td>19738.670516</td>\n",
       "      <td>0.00000</td>\n",
       "      <td>639.000000</td>\n",
       "      <td>1200.000000</td>\n",
       "      <td>2600.000000</td>\n",
       "      <td>843300.000000</td>\n",
       "    </tr>\n",
       "    <tr>\n",
       "      <th>self_reference_max_shares</th>\n",
       "      <td>39644.0</td>\n",
       "      <td>10329.212662</td>\n",
       "      <td>41027.576613</td>\n",
       "      <td>0.00000</td>\n",
       "      <td>1100.000000</td>\n",
       "      <td>2800.000000</td>\n",
       "      <td>8000.000000</td>\n",
       "      <td>843300.000000</td>\n",
       "    </tr>\n",
       "    <tr>\n",
       "      <th>self_reference_avg_sharess</th>\n",
       "      <td>39644.0</td>\n",
       "      <td>6401.697580</td>\n",
       "      <td>24211.332231</td>\n",
       "      <td>0.00000</td>\n",
       "      <td>981.187500</td>\n",
       "      <td>2200.000000</td>\n",
       "      <td>5200.000000</td>\n",
       "      <td>843300.000000</td>\n",
       "    </tr>\n",
       "    <tr>\n",
       "      <th>weekday_is_monday</th>\n",
       "      <td>39644.0</td>\n",
       "      <td>0.168020</td>\n",
       "      <td>0.373889</td>\n",
       "      <td>0.00000</td>\n",
       "      <td>0.000000</td>\n",
       "      <td>0.000000</td>\n",
       "      <td>0.000000</td>\n",
       "      <td>1.000000</td>\n",
       "    </tr>\n",
       "    <tr>\n",
       "      <th>weekday_is_tuesday</th>\n",
       "      <td>39644.0</td>\n",
       "      <td>0.186409</td>\n",
       "      <td>0.389441</td>\n",
       "      <td>0.00000</td>\n",
       "      <td>0.000000</td>\n",
       "      <td>0.000000</td>\n",
       "      <td>0.000000</td>\n",
       "      <td>1.000000</td>\n",
       "    </tr>\n",
       "    <tr>\n",
       "      <th>weekday_is_wednesday</th>\n",
       "      <td>39644.0</td>\n",
       "      <td>0.187544</td>\n",
       "      <td>0.390353</td>\n",
       "      <td>0.00000</td>\n",
       "      <td>0.000000</td>\n",
       "      <td>0.000000</td>\n",
       "      <td>0.000000</td>\n",
       "      <td>1.000000</td>\n",
       "    </tr>\n",
       "    <tr>\n",
       "      <th>weekday_is_thursday</th>\n",
       "      <td>39644.0</td>\n",
       "      <td>0.183306</td>\n",
       "      <td>0.386922</td>\n",
       "      <td>0.00000</td>\n",
       "      <td>0.000000</td>\n",
       "      <td>0.000000</td>\n",
       "      <td>0.000000</td>\n",
       "      <td>1.000000</td>\n",
       "    </tr>\n",
       "    <tr>\n",
       "      <th>weekday_is_friday</th>\n",
       "      <td>39644.0</td>\n",
       "      <td>0.143805</td>\n",
       "      <td>0.350896</td>\n",
       "      <td>0.00000</td>\n",
       "      <td>0.000000</td>\n",
       "      <td>0.000000</td>\n",
       "      <td>0.000000</td>\n",
       "      <td>1.000000</td>\n",
       "    </tr>\n",
       "    <tr>\n",
       "      <th>weekday_is_saturday</th>\n",
       "      <td>39644.0</td>\n",
       "      <td>0.061876</td>\n",
       "      <td>0.240933</td>\n",
       "      <td>0.00000</td>\n",
       "      <td>0.000000</td>\n",
       "      <td>0.000000</td>\n",
       "      <td>0.000000</td>\n",
       "      <td>1.000000</td>\n",
       "    </tr>\n",
       "    <tr>\n",
       "      <th>weekday_is_sunday</th>\n",
       "      <td>39644.0</td>\n",
       "      <td>0.069039</td>\n",
       "      <td>0.253524</td>\n",
       "      <td>0.00000</td>\n",
       "      <td>0.000000</td>\n",
       "      <td>0.000000</td>\n",
       "      <td>0.000000</td>\n",
       "      <td>1.000000</td>\n",
       "    </tr>\n",
       "    <tr>\n",
       "      <th>is_weekend</th>\n",
       "      <td>39644.0</td>\n",
       "      <td>0.130915</td>\n",
       "      <td>0.337312</td>\n",
       "      <td>0.00000</td>\n",
       "      <td>0.000000</td>\n",
       "      <td>0.000000</td>\n",
       "      <td>0.000000</td>\n",
       "      <td>1.000000</td>\n",
       "    </tr>\n",
       "    <tr>\n",
       "      <th>LDA_00</th>\n",
       "      <td>39644.0</td>\n",
       "      <td>0.184599</td>\n",
       "      <td>0.262975</td>\n",
       "      <td>0.00000</td>\n",
       "      <td>0.025051</td>\n",
       "      <td>0.033387</td>\n",
       "      <td>0.240958</td>\n",
       "      <td>0.926994</td>\n",
       "    </tr>\n",
       "    <tr>\n",
       "      <th>LDA_01</th>\n",
       "      <td>39644.0</td>\n",
       "      <td>0.141256</td>\n",
       "      <td>0.219707</td>\n",
       "      <td>0.00000</td>\n",
       "      <td>0.025012</td>\n",
       "      <td>0.033345</td>\n",
       "      <td>0.150831</td>\n",
       "      <td>0.925947</td>\n",
       "    </tr>\n",
       "    <tr>\n",
       "      <th>LDA_02</th>\n",
       "      <td>39644.0</td>\n",
       "      <td>0.216321</td>\n",
       "      <td>0.282145</td>\n",
       "      <td>0.00000</td>\n",
       "      <td>0.028571</td>\n",
       "      <td>0.040004</td>\n",
       "      <td>0.334218</td>\n",
       "      <td>0.919999</td>\n",
       "    </tr>\n",
       "    <tr>\n",
       "      <th>LDA_03</th>\n",
       "      <td>39644.0</td>\n",
       "      <td>0.223770</td>\n",
       "      <td>0.295191</td>\n",
       "      <td>0.00000</td>\n",
       "      <td>0.028571</td>\n",
       "      <td>0.040001</td>\n",
       "      <td>0.375763</td>\n",
       "      <td>0.926534</td>\n",
       "    </tr>\n",
       "    <tr>\n",
       "      <th>LDA_04</th>\n",
       "      <td>39644.0</td>\n",
       "      <td>0.234029</td>\n",
       "      <td>0.289183</td>\n",
       "      <td>0.00000</td>\n",
       "      <td>0.028574</td>\n",
       "      <td>0.040727</td>\n",
       "      <td>0.399986</td>\n",
       "      <td>0.927191</td>\n",
       "    </tr>\n",
       "    <tr>\n",
       "      <th>global_subjectivity</th>\n",
       "      <td>39644.0</td>\n",
       "      <td>0.443370</td>\n",
       "      <td>0.116685</td>\n",
       "      <td>0.00000</td>\n",
       "      <td>0.396167</td>\n",
       "      <td>0.453457</td>\n",
       "      <td>0.508333</td>\n",
       "      <td>1.000000</td>\n",
       "    </tr>\n",
       "    <tr>\n",
       "      <th>global_sentiment_polarity</th>\n",
       "      <td>39644.0</td>\n",
       "      <td>0.119309</td>\n",
       "      <td>0.096931</td>\n",
       "      <td>-0.39375</td>\n",
       "      <td>0.057757</td>\n",
       "      <td>0.119117</td>\n",
       "      <td>0.177832</td>\n",
       "      <td>0.727841</td>\n",
       "    </tr>\n",
       "    <tr>\n",
       "      <th>global_rate_positive_words</th>\n",
       "      <td>39644.0</td>\n",
       "      <td>0.039625</td>\n",
       "      <td>0.017429</td>\n",
       "      <td>0.00000</td>\n",
       "      <td>0.028384</td>\n",
       "      <td>0.039023</td>\n",
       "      <td>0.050279</td>\n",
       "      <td>0.155488</td>\n",
       "    </tr>\n",
       "    <tr>\n",
       "      <th>global_rate_negative_words</th>\n",
       "      <td>39644.0</td>\n",
       "      <td>0.016612</td>\n",
       "      <td>0.010828</td>\n",
       "      <td>0.00000</td>\n",
       "      <td>0.009615</td>\n",
       "      <td>0.015337</td>\n",
       "      <td>0.021739</td>\n",
       "      <td>0.184932</td>\n",
       "    </tr>\n",
       "    <tr>\n",
       "      <th>rate_positive_words</th>\n",
       "      <td>39644.0</td>\n",
       "      <td>0.682150</td>\n",
       "      <td>0.190206</td>\n",
       "      <td>0.00000</td>\n",
       "      <td>0.600000</td>\n",
       "      <td>0.710526</td>\n",
       "      <td>0.800000</td>\n",
       "      <td>1.000000</td>\n",
       "    </tr>\n",
       "    <tr>\n",
       "      <th>rate_negative_words</th>\n",
       "      <td>39644.0</td>\n",
       "      <td>0.287934</td>\n",
       "      <td>0.156156</td>\n",
       "      <td>0.00000</td>\n",
       "      <td>0.185185</td>\n",
       "      <td>0.280000</td>\n",
       "      <td>0.384615</td>\n",
       "      <td>1.000000</td>\n",
       "    </tr>\n",
       "    <tr>\n",
       "      <th>avg_positive_polarity</th>\n",
       "      <td>39644.0</td>\n",
       "      <td>0.353825</td>\n",
       "      <td>0.104542</td>\n",
       "      <td>0.00000</td>\n",
       "      <td>0.306244</td>\n",
       "      <td>0.358755</td>\n",
       "      <td>0.411428</td>\n",
       "      <td>1.000000</td>\n",
       "    </tr>\n",
       "    <tr>\n",
       "      <th>min_positive_polarity</th>\n",
       "      <td>39644.0</td>\n",
       "      <td>0.095446</td>\n",
       "      <td>0.071315</td>\n",
       "      <td>0.00000</td>\n",
       "      <td>0.050000</td>\n",
       "      <td>0.100000</td>\n",
       "      <td>0.100000</td>\n",
       "      <td>1.000000</td>\n",
       "    </tr>\n",
       "    <tr>\n",
       "      <th>max_positive_polarity</th>\n",
       "      <td>39644.0</td>\n",
       "      <td>0.756728</td>\n",
       "      <td>0.247786</td>\n",
       "      <td>0.00000</td>\n",
       "      <td>0.600000</td>\n",
       "      <td>0.800000</td>\n",
       "      <td>1.000000</td>\n",
       "      <td>1.000000</td>\n",
       "    </tr>\n",
       "    <tr>\n",
       "      <th>avg_negative_polarity</th>\n",
       "      <td>39644.0</td>\n",
       "      <td>-0.259524</td>\n",
       "      <td>0.127726</td>\n",
       "      <td>-1.00000</td>\n",
       "      <td>-0.328383</td>\n",
       "      <td>-0.253333</td>\n",
       "      <td>-0.186905</td>\n",
       "      <td>0.000000</td>\n",
       "    </tr>\n",
       "    <tr>\n",
       "      <th>min_negative_polarity</th>\n",
       "      <td>39644.0</td>\n",
       "      <td>-0.521944</td>\n",
       "      <td>0.290290</td>\n",
       "      <td>-1.00000</td>\n",
       "      <td>-0.700000</td>\n",
       "      <td>-0.500000</td>\n",
       "      <td>-0.300000</td>\n",
       "      <td>0.000000</td>\n",
       "    </tr>\n",
       "    <tr>\n",
       "      <th>max_negative_polarity</th>\n",
       "      <td>39644.0</td>\n",
       "      <td>-0.107500</td>\n",
       "      <td>0.095373</td>\n",
       "      <td>-1.00000</td>\n",
       "      <td>-0.125000</td>\n",
       "      <td>-0.100000</td>\n",
       "      <td>-0.050000</td>\n",
       "      <td>0.000000</td>\n",
       "    </tr>\n",
       "    <tr>\n",
       "      <th>title_subjectivity</th>\n",
       "      <td>39644.0</td>\n",
       "      <td>0.282353</td>\n",
       "      <td>0.324247</td>\n",
       "      <td>0.00000</td>\n",
       "      <td>0.000000</td>\n",
       "      <td>0.150000</td>\n",
       "      <td>0.500000</td>\n",
       "      <td>1.000000</td>\n",
       "    </tr>\n",
       "    <tr>\n",
       "      <th>title_sentiment_polarity</th>\n",
       "      <td>39644.0</td>\n",
       "      <td>0.071425</td>\n",
       "      <td>0.265450</td>\n",
       "      <td>-1.00000</td>\n",
       "      <td>0.000000</td>\n",
       "      <td>0.000000</td>\n",
       "      <td>0.150000</td>\n",
       "      <td>1.000000</td>\n",
       "    </tr>\n",
       "    <tr>\n",
       "      <th>abs_title_subjectivity</th>\n",
       "      <td>39644.0</td>\n",
       "      <td>0.341843</td>\n",
       "      <td>0.188791</td>\n",
       "      <td>0.00000</td>\n",
       "      <td>0.166667</td>\n",
       "      <td>0.500000</td>\n",
       "      <td>0.500000</td>\n",
       "      <td>0.500000</td>\n",
       "    </tr>\n",
       "    <tr>\n",
       "      <th>abs_title_sentiment_polarity</th>\n",
       "      <td>39644.0</td>\n",
       "      <td>0.156064</td>\n",
       "      <td>0.226294</td>\n",
       "      <td>0.00000</td>\n",
       "      <td>0.000000</td>\n",
       "      <td>0.000000</td>\n",
       "      <td>0.250000</td>\n",
       "      <td>1.000000</td>\n",
       "    </tr>\n",
       "    <tr>\n",
       "      <th>data_channel_n</th>\n",
       "      <td>39644.0</td>\n",
       "      <td>4.184366</td>\n",
       "      <td>2.205607</td>\n",
       "      <td>1.00000</td>\n",
       "      <td>2.000000</td>\n",
       "      <td>4.000000</td>\n",
       "      <td>6.000000</td>\n",
       "      <td>7.000000</td>\n",
       "    </tr>\n",
       "  </tbody>\n",
       "</table>\n",
       "</div>"
      ],
      "text/plain": [
       "                                count           mean            std      min  \\\n",
       "timedelta                     39644.0     354.530471     214.163767  8.00000   \n",
       "n_tokens_title                39644.0      10.398749       2.114037  2.00000   \n",
       "n_tokens_content              39644.0     546.514731     471.107508  0.00000   \n",
       "num_hrefs                     39644.0      10.883690      11.332017  0.00000   \n",
       "num_self_hrefs                39644.0       3.293638       3.855141  0.00000   \n",
       "num_imgs                      39644.0       4.544143       8.309434  0.00000   \n",
       "num_videos                    39644.0       1.249874       4.107855  0.00000   \n",
       "average_token_length          39644.0       4.548239       0.844406  0.00000   \n",
       "num_keywords                  39644.0       7.223767       1.909130  1.00000   \n",
       "kw_min_min                    39644.0      26.106801      69.633215 -1.00000   \n",
       "kw_max_min                    39644.0    1153.951682    3857.990877  0.00000   \n",
       "kw_avg_min                    39644.0     312.366967     620.783887 -1.00000   \n",
       "kw_min_max                    39644.0   13612.354102   57986.029357  0.00000   \n",
       "kw_max_max                    39644.0  752324.066694  214502.129573  0.00000   \n",
       "kw_avg_max                    39644.0  259281.938083  135102.247285  0.00000   \n",
       "kw_min_avg                    39644.0    1117.146610    1137.456951 -1.00000   \n",
       "kw_max_avg                    39644.0    5657.211151    6098.871957  0.00000   \n",
       "kw_avg_avg                    39644.0    3135.858639    1318.150397  0.00000   \n",
       "self_reference_min_shares     39644.0    3998.755396   19738.670516  0.00000   \n",
       "self_reference_max_shares     39644.0   10329.212662   41027.576613  0.00000   \n",
       "self_reference_avg_sharess    39644.0    6401.697580   24211.332231  0.00000   \n",
       "weekday_is_monday             39644.0       0.168020       0.373889  0.00000   \n",
       "weekday_is_tuesday            39644.0       0.186409       0.389441  0.00000   \n",
       "weekday_is_wednesday          39644.0       0.187544       0.390353  0.00000   \n",
       "weekday_is_thursday           39644.0       0.183306       0.386922  0.00000   \n",
       "weekday_is_friday             39644.0       0.143805       0.350896  0.00000   \n",
       "weekday_is_saturday           39644.0       0.061876       0.240933  0.00000   \n",
       "weekday_is_sunday             39644.0       0.069039       0.253524  0.00000   \n",
       "is_weekend                    39644.0       0.130915       0.337312  0.00000   \n",
       "LDA_00                        39644.0       0.184599       0.262975  0.00000   \n",
       "LDA_01                        39644.0       0.141256       0.219707  0.00000   \n",
       "LDA_02                        39644.0       0.216321       0.282145  0.00000   \n",
       "LDA_03                        39644.0       0.223770       0.295191  0.00000   \n",
       "LDA_04                        39644.0       0.234029       0.289183  0.00000   \n",
       "global_subjectivity           39644.0       0.443370       0.116685  0.00000   \n",
       "global_sentiment_polarity     39644.0       0.119309       0.096931 -0.39375   \n",
       "global_rate_positive_words    39644.0       0.039625       0.017429  0.00000   \n",
       "global_rate_negative_words    39644.0       0.016612       0.010828  0.00000   \n",
       "rate_positive_words           39644.0       0.682150       0.190206  0.00000   \n",
       "rate_negative_words           39644.0       0.287934       0.156156  0.00000   \n",
       "avg_positive_polarity         39644.0       0.353825       0.104542  0.00000   \n",
       "min_positive_polarity         39644.0       0.095446       0.071315  0.00000   \n",
       "max_positive_polarity         39644.0       0.756728       0.247786  0.00000   \n",
       "avg_negative_polarity         39644.0      -0.259524       0.127726 -1.00000   \n",
       "min_negative_polarity         39644.0      -0.521944       0.290290 -1.00000   \n",
       "max_negative_polarity         39644.0      -0.107500       0.095373 -1.00000   \n",
       "title_subjectivity            39644.0       0.282353       0.324247  0.00000   \n",
       "title_sentiment_polarity      39644.0       0.071425       0.265450 -1.00000   \n",
       "abs_title_subjectivity        39644.0       0.341843       0.188791  0.00000   \n",
       "abs_title_sentiment_polarity  39644.0       0.156064       0.226294  0.00000   \n",
       "data_channel_n                39644.0       4.184366       2.205607  1.00000   \n",
       "\n",
       "                                        25%            50%            75%  \\\n",
       "timedelta                        164.000000     339.000000     542.000000   \n",
       "n_tokens_title                     9.000000      10.000000      12.000000   \n",
       "n_tokens_content                 246.000000     409.000000     716.000000   \n",
       "num_hrefs                          4.000000       8.000000      14.000000   \n",
       "num_self_hrefs                     1.000000       3.000000       4.000000   \n",
       "num_imgs                           1.000000       1.000000       4.000000   \n",
       "num_videos                         0.000000       0.000000       1.000000   \n",
       "average_token_length               4.478404       4.664082       4.854839   \n",
       "num_keywords                       6.000000       7.000000       9.000000   \n",
       "kw_min_min                        -1.000000      -1.000000       4.000000   \n",
       "kw_max_min                       445.000000     660.000000    1000.000000   \n",
       "kw_avg_min                       141.750000     235.500000     357.000000   \n",
       "kw_min_max                         0.000000    1400.000000    7900.000000   \n",
       "kw_max_max                    843300.000000  843300.000000  843300.000000   \n",
       "kw_avg_max                    172846.875000  244572.222223  330980.000000   \n",
       "kw_min_avg                         0.000000    1023.635611    2056.781032   \n",
       "kw_max_avg                      3562.101631    4355.688836    6019.953968   \n",
       "kw_avg_avg                      2382.448566    2870.074878    3600.229564   \n",
       "self_reference_min_shares        639.000000    1200.000000    2600.000000   \n",
       "self_reference_max_shares       1100.000000    2800.000000    8000.000000   \n",
       "self_reference_avg_sharess       981.187500    2200.000000    5200.000000   \n",
       "weekday_is_monday                  0.000000       0.000000       0.000000   \n",
       "weekday_is_tuesday                 0.000000       0.000000       0.000000   \n",
       "weekday_is_wednesday               0.000000       0.000000       0.000000   \n",
       "weekday_is_thursday                0.000000       0.000000       0.000000   \n",
       "weekday_is_friday                  0.000000       0.000000       0.000000   \n",
       "weekday_is_saturday                0.000000       0.000000       0.000000   \n",
       "weekday_is_sunday                  0.000000       0.000000       0.000000   \n",
       "is_weekend                         0.000000       0.000000       0.000000   \n",
       "LDA_00                             0.025051       0.033387       0.240958   \n",
       "LDA_01                             0.025012       0.033345       0.150831   \n",
       "LDA_02                             0.028571       0.040004       0.334218   \n",
       "LDA_03                             0.028571       0.040001       0.375763   \n",
       "LDA_04                             0.028574       0.040727       0.399986   \n",
       "global_subjectivity                0.396167       0.453457       0.508333   \n",
       "global_sentiment_polarity          0.057757       0.119117       0.177832   \n",
       "global_rate_positive_words         0.028384       0.039023       0.050279   \n",
       "global_rate_negative_words         0.009615       0.015337       0.021739   \n",
       "rate_positive_words                0.600000       0.710526       0.800000   \n",
       "rate_negative_words                0.185185       0.280000       0.384615   \n",
       "avg_positive_polarity              0.306244       0.358755       0.411428   \n",
       "min_positive_polarity              0.050000       0.100000       0.100000   \n",
       "max_positive_polarity              0.600000       0.800000       1.000000   \n",
       "avg_negative_polarity             -0.328383      -0.253333      -0.186905   \n",
       "min_negative_polarity             -0.700000      -0.500000      -0.300000   \n",
       "max_negative_polarity             -0.125000      -0.100000      -0.050000   \n",
       "title_subjectivity                 0.000000       0.150000       0.500000   \n",
       "title_sentiment_polarity           0.000000       0.000000       0.150000   \n",
       "abs_title_subjectivity             0.166667       0.500000       0.500000   \n",
       "abs_title_sentiment_polarity       0.000000       0.000000       0.250000   \n",
       "data_channel_n                     2.000000       4.000000       6.000000   \n",
       "\n",
       "                                        max  \n",
       "timedelta                        731.000000  \n",
       "n_tokens_title                    23.000000  \n",
       "n_tokens_content                8474.000000  \n",
       "num_hrefs                        304.000000  \n",
       "num_self_hrefs                   116.000000  \n",
       "num_imgs                         128.000000  \n",
       "num_videos                        91.000000  \n",
       "average_token_length               8.041534  \n",
       "num_keywords                      10.000000  \n",
       "kw_min_min                       377.000000  \n",
       "kw_max_min                    298400.000000  \n",
       "kw_avg_min                     42827.857143  \n",
       "kw_min_max                    843300.000000  \n",
       "kw_max_max                    843300.000000  \n",
       "kw_avg_max                    843300.000000  \n",
       "kw_min_avg                      3613.039820  \n",
       "kw_max_avg                    298400.000000  \n",
       "kw_avg_avg                     43567.659946  \n",
       "self_reference_min_shares     843300.000000  \n",
       "self_reference_max_shares     843300.000000  \n",
       "self_reference_avg_sharess    843300.000000  \n",
       "weekday_is_monday                  1.000000  \n",
       "weekday_is_tuesday                 1.000000  \n",
       "weekday_is_wednesday               1.000000  \n",
       "weekday_is_thursday                1.000000  \n",
       "weekday_is_friday                  1.000000  \n",
       "weekday_is_saturday                1.000000  \n",
       "weekday_is_sunday                  1.000000  \n",
       "is_weekend                         1.000000  \n",
       "LDA_00                             0.926994  \n",
       "LDA_01                             0.925947  \n",
       "LDA_02                             0.919999  \n",
       "LDA_03                             0.926534  \n",
       "LDA_04                             0.927191  \n",
       "global_subjectivity                1.000000  \n",
       "global_sentiment_polarity          0.727841  \n",
       "global_rate_positive_words         0.155488  \n",
       "global_rate_negative_words         0.184932  \n",
       "rate_positive_words                1.000000  \n",
       "rate_negative_words                1.000000  \n",
       "avg_positive_polarity              1.000000  \n",
       "min_positive_polarity              1.000000  \n",
       "max_positive_polarity              1.000000  \n",
       "avg_negative_polarity              0.000000  \n",
       "min_negative_polarity              0.000000  \n",
       "max_negative_polarity              0.000000  \n",
       "title_subjectivity                 1.000000  \n",
       "title_sentiment_polarity           1.000000  \n",
       "abs_title_subjectivity             0.500000  \n",
       "abs_title_sentiment_polarity       1.000000  \n",
       "data_channel_n                     7.000000  "
      ]
     },
     "execution_count": 64,
     "metadata": {},
     "output_type": "execute_result"
    }
   ],
   "source": [
    "df.describe().T"
   ]
  },
  {
   "cell_type": "markdown",
   "metadata": {},
   "source": [
    "#### Assign certain variables to type integer, as appropriate"
   ]
  },
  {
   "cell_type": "code",
   "execution_count": 65,
   "metadata": {
    "collapsed": true
   },
   "outputs": [],
   "source": [
    "# ... -=-=-=-=-=-=-=-=-=-=-=-=-=-=-=-=-=-=-=-=-=-=-=-=-=-=-=-=-=-=-=-=-=-=-=-=-=\n",
    "# ...  convert the data type to Integer\n",
    "# ... -=-=-=-=-=-=-=-=-=-=-=-=-=-=-=-=-=-=-=-=-=-=-=-=-=-=-=-=-=-=-=-=-=-=-=-=-=\n",
    "\n",
    "to_int = ['timedelta','n_tokens_title', 'n_tokens_content',\n",
    "    'num_hrefs','num_self_hrefs', 'num_imgs', 'num_videos', 'num_keywords',\n",
    "    'weekday_is_monday',\n",
    "    'weekday_is_tuesday',\n",
    "    'weekday_is_wednesday',\n",
    "    'weekday_is_thursday',\n",
    "    'weekday_is_friday',\n",
    "    'weekday_is_saturday',\n",
    "    'weekday_is_sunday',\n",
    "    'is_weekend',\n",
    "    'data_channel_n']\n",
    "    \n",
    "\n",
    "df[to_int] = df[to_int ].astype(np.int64)"
   ]
  },
  {
   "cell_type": "code",
   "execution_count": 66,
   "metadata": {},
   "outputs": [
    {
     "data": {
      "text/html": [
       "<div>\n",
       "<style>\n",
       "    .dataframe thead tr:only-child th {\n",
       "        text-align: right;\n",
       "    }\n",
       "\n",
       "    .dataframe thead th {\n",
       "        text-align: left;\n",
       "    }\n",
       "\n",
       "    .dataframe tbody tr th {\n",
       "        vertical-align: top;\n",
       "    }\n",
       "</style>\n",
       "<table border=\"1\" class=\"dataframe\">\n",
       "  <thead>\n",
       "    <tr style=\"text-align: right;\">\n",
       "      <th></th>\n",
       "      <th>timedelta</th>\n",
       "      <th>n_tokens_title</th>\n",
       "      <th>n_tokens_content</th>\n",
       "      <th>num_hrefs</th>\n",
       "      <th>num_self_hrefs</th>\n",
       "      <th>num_imgs</th>\n",
       "      <th>num_videos</th>\n",
       "      <th>average_token_length</th>\n",
       "      <th>num_keywords</th>\n",
       "      <th>kw_min_min</th>\n",
       "      <th>...</th>\n",
       "      <th>max_positive_polarity</th>\n",
       "      <th>avg_negative_polarity</th>\n",
       "      <th>min_negative_polarity</th>\n",
       "      <th>max_negative_polarity</th>\n",
       "      <th>title_subjectivity</th>\n",
       "      <th>title_sentiment_polarity</th>\n",
       "      <th>abs_title_subjectivity</th>\n",
       "      <th>abs_title_sentiment_polarity</th>\n",
       "      <th>data_channel</th>\n",
       "      <th>data_channel_n</th>\n",
       "    </tr>\n",
       "  </thead>\n",
       "  <tbody>\n",
       "  </tbody>\n",
       "</table>\n",
       "<p>0 rows × 52 columns</p>\n",
       "</div>"
      ],
      "text/plain": [
       "Empty DataFrame\n",
       "Columns: [timedelta, n_tokens_title, n_tokens_content, num_hrefs, num_self_hrefs, num_imgs, num_videos, average_token_length, num_keywords, kw_min_min, kw_max_min, kw_avg_min, kw_min_max, kw_max_max, kw_avg_max, kw_min_avg, kw_max_avg, kw_avg_avg, self_reference_min_shares, self_reference_max_shares, self_reference_avg_sharess, weekday_is_monday, weekday_is_tuesday, weekday_is_wednesday, weekday_is_thursday, weekday_is_friday, weekday_is_saturday, weekday_is_sunday, is_weekend, LDA_00, LDA_01, LDA_02, LDA_03, LDA_04, global_subjectivity, global_sentiment_polarity, global_rate_positive_words, global_rate_negative_words, rate_positive_words, rate_negative_words, avg_positive_polarity, min_positive_polarity, max_positive_polarity, avg_negative_polarity, min_negative_polarity, max_negative_polarity, title_subjectivity, title_sentiment_polarity, abs_title_subjectivity, abs_title_sentiment_polarity, data_channel, data_channel_n]\n",
       "Index: []\n",
       "\n",
       "[0 rows x 52 columns]"
      ]
     },
     "execution_count": 66,
     "metadata": {},
     "output_type": "execute_result"
    }
   ],
   "source": [
    "df[df.duplicated()]"
   ]
  },
  {
   "cell_type": "markdown",
   "metadata": {},
   "source": [
    "#### Impute kw_avg_max for 0-values and re-scale to standard normal scale\n",
    "\n",
    " - A small number of rows have 0 value for __kw_avg_max__, which is completely out of range for the remaining rows of this variable.    \n",
    " - We will impute these rows to median value of the column  \n",
    " \n",
    " - The magnitude of this column of data is markedly different than the range of values in the remaining columns in the data set. To bring this back in line, we will re-scale the values in this column to standard normal range"
   ]
  },
  {
   "cell_type": "code",
   "execution_count": 67,
   "metadata": {},
   "outputs": [
    {
     "data": {
      "text/plain": [
       "244572.22222250002"
      ]
     },
     "execution_count": 67,
     "metadata": {},
     "output_type": "execute_result"
    },
    {
     "data": {
      "text/plain": [
       "244575.00000025"
      ]
     },
     "execution_count": 67,
     "metadata": {},
     "output_type": "execute_result"
    }
   ],
   "source": [
    "\n",
    "# ... -=-=-=-=-=-=-=-=-=-=-=-=-=-=-=-=-=-=-=-=-=-=-=-=-=-=-=-=-=-=-=-=-=-=-=-=-=\n",
    "# ...  impute to median value for a few rows of kw_avg_max\n",
    "# ... -=-=-=-=-=-=-=-=-=-=-=-=-=-=-=-=-=-=-=-=-=-=-=-=-=-=-=-=-=-=-=-=-=-=-=-=-=\n",
    "\n",
    "condition = df['kw_avg_max'] == 0\n",
    "df.loc[condition, 'kw_avg_max'] = df.kw_avg_max.median()\n",
    "\n",
    "\n",
    "# ... -=-=-=-=-=-=-=-=-=-=-=-=-=-=-=-=-=-=-=-=-=-=-=-=-=-=-=-=-=-=-=-=-=-=-=-=-=\n",
    "# ...  scale to standard normal scale\n",
    "# ... -=-=-=-=-=-=-=-=-=-=-=-=-=-=-=-=-=-=-=-=-=-=-=-=-=-=-=-=-=-=-=-=-=-=-=-=-=\n",
    "\n",
    "df.kw_avg_max = (df.kw_avg_max - df.kw_avg_max.mean()) / df.kw_avg_max.std()\n"
   ]
  },
  {
   "cell_type": "markdown",
   "metadata": {},
   "source": [
    "#### Constant offset for variables with min value < 0  \n",
    "\n",
    " - This allows to consider these variables for ln() transform if highly right-skewed and also supports some classification models that only accept independent variables that are > 0  \n",
    " - Method here is to just add -1 * min_value of any column for which min_value < 0"
   ]
  },
  {
   "cell_type": "code",
   "execution_count": 68,
   "metadata": {
    "collapsed": true
   },
   "outputs": [],
   "source": [
    "# ... -=-=-=-=-=-=-=-=-=-=-=-=-=-=-=-=-=-=-=-=-=-=-=-=-=-=-=-=-=-=-=-=-=-=-=-=-=\n",
    "# ...  for all columns with negative values, add +1 to all values in the column\n",
    "# ...  - the only columns with negative values are polarity / sentiment measures\n",
    "# ...  - adding a constant to all values does not modify distributions\n",
    "# ... -=-=-=-=-=-=-=-=-=-=-=-=-=-=-=-=-=-=-=-=-=-=-=-=-=-=-=-=-=-=-=-=-=-=-=-=-=\n",
    "\n",
    "df_numeric = df.select_dtypes(['number'])\n",
    "numeric_col_names = df_numeric.columns.values.tolist()\n",
    "\n",
    "# ... store min value for each column\n",
    "\n",
    "df_mins = df.min()\n",
    "\n",
    "# ... -=-=-=-=-=-=-=-=-=-=-=-=-=-=-=-=-=-=-=-=-=-=-=-=-=-=-=-=-=-=-=-=-=-=-=-=-=\n",
    "# ...  loop on each column, test for min < 0, add constant as applicable\n",
    "# ... -=-=-=-=-=-=-=-=-=-=-=-=-=-=-=-=-=-=-=-=-=-=-=-=-=-=-=-=-=-=-=-=-=-=-=-=-=\n",
    "\n",
    "for column in numeric_col_names :\n",
    "    if df_mins[column] < 0 :\n",
    "        df[column] = df[column] - df_mins[column]\n",
    "        \n",
    "#        print('--> min_value < 0 adjusted : ', column, df_mins[column])"
   ]
  },
  {
   "cell_type": "markdown",
   "metadata": {},
   "source": [
    "#### Ln() transform for variables that are right skewed (skewness > 1)  \n",
    "\n",
    " - This facilitiates maintaining more normally distributed residuals for regression models  \n",
    " - Likely, this will not be needed for the classification task, at present, but also does not have negative effects for this current activity\n"
   ]
  },
  {
   "cell_type": "code",
   "execution_count": 69,
   "metadata": {},
   "outputs": [
    {
     "name": "stdout",
     "output_type": "stream",
     "text": [
      "n_tokens_content 2.94542193879 ln_n_tokens_content\n",
      "num_hrefs 4.0134948282 ln_num_hrefs\n",
      "num_self_hrefs 5.17275110576 ln_num_self_hrefs\n",
      "num_imgs 3.94659584465 ln_num_imgs\n",
      "num_videos 7.0195327863 ln_num_videos\n",
      "kw_min_min 2.37494728018 ln_kw_min_min\n",
      "kw_max_min 35.3284337312 ln_kw_max_min\n",
      "kw_avg_min 31.3061081027 ln_kw_avg_min\n",
      "kw_min_max 10.3863716348 ln_kw_min_max\n",
      "kw_max_avg 16.4116695554 ln_kw_max_avg\n",
      "kw_avg_avg 5.76017729162 ln_kw_avg_avg\n",
      "self_reference_min_shares 26.2643641603 ln_self_reference_min_shares\n",
      "self_reference_max_shares 13.8708490494 ln_self_reference_max_shares\n",
      "self_reference_avg_sharess 17.9140933777 ln_self_reference_avg_sharess\n",
      "weekday_is_monday 1.77590824423 ln_weekday_is_monday\n",
      "weekday_is_tuesday 1.61054706191 ln_weekday_is_tuesday\n",
      "weekday_is_wednesday 1.60097097689 ln_weekday_is_wednesday\n",
      "weekday_is_thursday 1.6370700483 ln_weekday_is_thursday\n",
      "weekday_is_friday 2.03030483518 ln_weekday_is_friday\n",
      "weekday_is_saturday 3.63708575997 ln_weekday_is_saturday\n",
      "weekday_is_sunday 3.3999273763 ln_weekday_is_sunday\n",
      "is_weekend 2.18850033431 ln_is_weekend\n",
      "LDA_00 1.5674632332 ln_LDA_00\n",
      "LDA_01 2.08672182342 ln_LDA_01\n",
      "LDA_02 1.31169490203 ln_LDA_02\n",
      "LDA_03 1.23871598638 ln_LDA_03\n",
      "LDA_04 1.17312947598 ln_LDA_04\n",
      "global_rate_negative_words 1.49191730919 ln_global_rate_negative_words\n",
      "min_positive_polarity 3.04046773746 ln_min_positive_polarity\n",
      "abs_title_sentiment_polarity 1.70419343991 ln_abs_title_sentiment_polarity\n",
      "['n_tokens_content', 'num_hrefs', 'num_self_hrefs', 'num_imgs', 'num_videos', 'kw_min_min', 'kw_max_min', 'kw_avg_min', 'kw_min_max', 'kw_max_avg', 'kw_avg_avg', 'self_reference_min_shares', 'self_reference_max_shares', 'self_reference_avg_sharess', 'weekday_is_monday', 'weekday_is_tuesday', 'weekday_is_wednesday', 'weekday_is_thursday', 'weekday_is_friday', 'weekday_is_saturday', 'weekday_is_sunday', 'is_weekend', 'LDA_00', 'LDA_01', 'LDA_02', 'LDA_03', 'LDA_04', 'global_rate_negative_words', 'min_positive_polarity', 'abs_title_sentiment_polarity']\n",
      "\n",
      "-----------------------------------\n",
      "\n",
      "Number of current columns in dataset : 69\n"
     ]
    }
   ],
   "source": [
    "# ... -=-=-=-=-=-=-=-=-=-=-=-=-=-=-=-=-=-=-=-=-=-=-=-=-=-=-=-=-=-=-=-=-=-=-=-=-=\n",
    "# ...  ln() transform right skewed distribution variables (skewness > 1)\n",
    "# ... -=-=-=-=-=-=-=-=-=-=-=-=-=-=-=-=-=-=-=-=-=-=-=-=-=-=-=-=-=-=-=-=-=-=-=-=-=\n",
    "\n",
    "df_numeric = df.select_dtypes(['number'])\n",
    "\n",
    "numeric_col_names = df_numeric.columns.values.tolist()\n",
    "\n",
    "# ... store min value for each column\n",
    "\n",
    "df_mins = df.min()\n",
    "\n",
    "# ... -=-=-=-=-=-=-=-=-=-=-=-=-=-=-=-=-=-=-=-=-=-=-=-=-=-=-=-=-=-=-=-=-=-=-=-=-=\n",
    "# ...  loop on each column, test for skewness, create new column if conditions met\n",
    "# ... -=-=-=-=-=-=-=-=-=-=-=-=-=-=-=-=-=-=-=-=-=-=-=-=-=-=-=-=-=-=-=-=-=-=-=-=-=\n",
    "\n",
    "columns_to_drop = []\n",
    "\n",
    "for column in numeric_col_names:\n",
    "    sk = df[column].skew()\n",
    "    \n",
    "    if(sk > 1):\n",
    "        new_col_name = 'ln_' + column\n",
    "        print (column, sk, new_col_name)\n",
    "        \n",
    "        if df_mins[column] > 0:\n",
    "            df[new_col_name] = np.log(df[column])\n",
    "            columns_to_drop.append(column)\n",
    "            \n",
    "        elif df_mins[column] == 0:\n",
    "            df_tmp = df[column] + 1\n",
    "            df[new_col_name] = np.log(df_tmp)\n",
    "            columns_to_drop.append(column)\n",
    "            \n",
    "        else:\n",
    "            print('--> Ln() transform not completed -- skew > 1, but min value < 0 :', column, '!!')\n",
    "            \n",
    "            \n",
    "# ... delete tmp data\n",
    "\n",
    "del df_tmp\n",
    "del df_mins\n",
    "del df_numeric\n",
    "\n",
    "# ... -=-=-=-=-=-=-=-=-=-=-=-=-=-=-=-=-=-=-=-=-=-=-=-=-=-=-=-=-=-=-=-=-=-=-=-=-=\n",
    "# ...  based on inspection, a few of these are just not valid ranges in ln() space\n",
    "# ...  -- just delete these few back out of the data set\n",
    "# ... -=-=-=-=-=-=-=-=-=-=-=-=-=-=-=-=-=-=-=-=-=-=-=-=-=-=-=-=-=-=-=-=-=-=-=-=-=\n",
    "\n",
    "print (columns_to_drop)\n",
    "\n",
    "del df['ln_LDA_00']\n",
    "del df['ln_LDA_01']\n",
    "del df['ln_LDA_02']\n",
    "del df['ln_LDA_03']\n",
    "del df['ln_LDA_04']\n",
    "columns_to_drop.remove('LDA_00')\n",
    "columns_to_drop.remove('LDA_01')\n",
    "columns_to_drop.remove('LDA_02')\n",
    "columns_to_drop.remove('LDA_03')\n",
    "columns_to_drop.remove('LDA_04')\n",
    "\n",
    "# ...  these are binary indicators ... so no need to ln-transform\n",
    "\n",
    "del df['ln_weekday_is_monday']\n",
    "del df['ln_weekday_is_tuesday']\n",
    "del df['ln_weekday_is_wednesday']\n",
    "del df['ln_weekday_is_thursday']\n",
    "del df['ln_weekday_is_friday']\n",
    "del df['ln_weekday_is_saturday']\n",
    "del df['ln_weekday_is_sunday']\n",
    "del df['ln_is_weekend']\n",
    "columns_to_drop.remove('is_weekend')\n",
    "columns_to_drop.remove('weekday_is_monday')\n",
    "columns_to_drop.remove('weekday_is_tuesday')\n",
    "columns_to_drop.remove('weekday_is_wednesday')\n",
    "columns_to_drop.remove('weekday_is_thursday')\n",
    "columns_to_drop.remove('weekday_is_friday')\n",
    "columns_to_drop.remove('weekday_is_saturday')\n",
    "columns_to_drop.remove('weekday_is_sunday')\n",
    "\n",
    "#columns_to_drop.remove('data_channel')\n",
    "\n",
    "print ('\\n-----------------------------------\\n')\n",
    "print ('Number of current columns in dataset :', len(df.columns))\n",
    "\n",
    "df.drop(columns_to_drop, axis = 1, inplace = True)\n",
    "\n",
    "#df.info()\n"
   ]
  },
  {
   "cell_type": "markdown",
   "metadata": {},
   "source": [
    "# Data Preparation Part 2"
   ]
  },
  {
   "cell_type": "markdown",
   "metadata": {},
   "source": [
    "#### Data Selection - Task 2 - data_channel classification\n",
    "\n",
    "- There are 60 columns in the original data set; we added a few additonal columns based on observed opportunities (e.g., _publication_date_, ...) as explained above. \n",
    "    \n",
    "- From this data set, we did a simple correlation matrix to look for variables that are highly correlated with each other that could be removed with little loss of information.\n",
    "\n",
    "- With that downselection, we proceeded with additional evaluation of these remaining variables.\n",
    "    \n",
    "- we recognize that there is likely significant additional opportunity for modeling improvements with many of the remaining variables, and will look to re-expand the data set to further consider that with future work.  "
   ]
  },
  {
   "cell_type": "code",
   "execution_count": 70,
   "metadata": {},
   "outputs": [
    {
     "name": "stdout",
     "output_type": "stream",
     "text": [
      "\n",
      "\n",
      "-=-=-=-=-=-=-=-=-=-=-=-=-=-=-=-=-=-=-=-=-=-=-=-=-=-=-=-=-\n",
      "Top Absolute Correlations\n",
      "\n",
      "ln_self_reference_max_shares  ln_self_reference_avg_sharess      0.994639\n",
      "ln_self_reference_min_shares  ln_self_reference_avg_sharess      0.971014\n",
      "ln_kw_max_min                 ln_kw_avg_min                      0.946087\n",
      "ln_self_reference_min_shares  ln_self_reference_max_shares       0.945943\n",
      "kw_min_avg                    ln_kw_min_max                      0.926784\n",
      "ln_kw_max_avg                 ln_kw_avg_avg                      0.899409\n",
      "timedelta                     ln_kw_min_min                      0.822783\n",
      "kw_max_max                    ln_kw_min_min                      0.820625\n",
      "rate_negative_words           ln_global_rate_negative_words      0.782517\n",
      "average_token_length          ln_n_tokens_content                0.768795\n",
      "avg_negative_polarity         min_negative_polarity              0.748896\n",
      "title_subjectivity            ln_abs_title_sentiment_polarity    0.741229\n",
      "global_sentiment_polarity     rate_positive_words                0.727827\n",
      "avg_positive_polarity         max_positive_polarity              0.703558\n",
      "weekday_is_sunday             is_weekend                         0.701648\n",
      "ln_num_self_hrefs             ln_self_reference_max_shares       0.675339\n",
      "weekday_is_saturday           is_weekend                         0.661707\n",
      "global_sentiment_polarity     rate_negative_words                0.650717\n",
      "max_positive_polarity         ln_n_tokens_content                0.643190\n",
      "timedelta                     kw_max_max                         0.637824\n",
      "ln_num_self_hrefs             ln_self_reference_avg_sharess      0.631820\n",
      "global_subjectivity           avg_positive_polarity              0.631749\n",
      "global_rate_positive_words    rate_positive_words                0.628626\n",
      "ln_n_tokens_content           ln_num_hrefs                       0.614357\n",
      "average_token_length          global_subjectivity                0.597629\n",
      "LDA_02                        data_channel_n                     0.587449\n",
      "avg_negative_polarity         max_negative_polarity              0.580108\n",
      "average_token_length          rate_positive_words                0.578894\n",
      "global_sentiment_polarity     global_rate_positive_words         0.570667\n",
      "kw_max_max                    kw_avg_max                         0.552729\n",
      "dtype: float64\n",
      "\n",
      "\n",
      "-=-=-=-=-=-=-=-=-=-=-=-=-=-=-=-=-=-=-=-=-=-=-=-=-=-=-=-=-\n",
      "Columns Recommended for removal based on correlation > 0.65\n",
      "-=-=-=-=-=-=-=-=-=-=-=-=-=-=-=-=-=-=-=-=-=-=-=-=-=-=-=-=-\n",
      "\n",
      "average_token_length\n",
      "avg_negative_polarity\n",
      "avg_positive_polarity\n",
      "global_sentiment_polarity\n",
      "kw_max_max\n",
      "kw_min_avg\n",
      "ln_kw_max_avg\n",
      "ln_kw_max_min\n",
      "ln_num_self_hrefs\n",
      "ln_self_reference_max_shares\n",
      "ln_self_reference_min_shares\n",
      "rate_negative_words\n",
      "timedelta\n",
      "title_subjectivity\n",
      "weekday_is_saturday\n",
      "weekday_is_sunday\n",
      "\n",
      "\n",
      "-=-=-=-=-=-=-=-=-=-=-=-=-=-=-=-=-=-=-=-=-=-=-=-=-=-=-=-=-\n",
      "\n",
      "\n",
      "Top Absolute Correlations (2nd Pass)\n",
      "\n",
      "max_positive_polarity       ln_n_tokens_content                0.643190\n",
      "global_rate_positive_words  rate_positive_words                0.628626\n",
      "ln_n_tokens_content         ln_num_hrefs                       0.614357\n",
      "LDA_02                      data_channel_n                     0.587449\n",
      "kw_avg_max                  ln_kw_min_min                      0.541538\n",
      "global_subjectivity         ln_n_tokens_content                0.530593\n",
      "                            max_positive_polarity              0.518773\n",
      "min_negative_polarity       ln_n_tokens_content                0.513149\n",
      "LDA_00                      data_channel_n                     0.490183\n",
      "global_subjectivity         rate_positive_words                0.487481\n",
      "rate_positive_words         ln_n_tokens_content                0.486249\n",
      "min_negative_polarity       ln_global_rate_negative_words      0.482138\n",
      "global_rate_positive_words  max_positive_polarity              0.473331\n",
      "global_subjectivity         global_rate_positive_words         0.467063\n",
      "abs_title_subjectivity      ln_abs_title_sentiment_polarity    0.454627\n",
      "rate_positive_words         max_positive_polarity              0.451048\n",
      "max_positive_polarity       ln_num_hrefs                       0.450754\n",
      "kw_avg_max                  ln_kw_avg_min                      0.419572\n",
      "title_sentiment_polarity    ln_abs_title_sentiment_polarity    0.406593\n",
      "rate_positive_words         ln_global_rate_negative_words      0.398124\n",
      "global_subjectivity         ln_num_hrefs                       0.387289\n",
      "kw_avg_max                  ln_kw_min_max                      0.369909\n",
      "max_positive_polarity       min_negative_polarity              0.360871\n",
      "LDA_03                      LDA_04                             0.357930\n",
      "min_negative_polarity       ln_num_hrefs                       0.354125\n",
      "kw_avg_max                  ln_kw_avg_avg                      0.351381\n",
      "global_subjectivity         min_negative_polarity              0.350070\n",
      "ln_num_hrefs                ln_num_imgs                        0.347361\n",
      "LDA_03                      ln_kw_avg_avg                      0.341938\n",
      "                            ln_num_videos                      0.338256\n",
      "dtype: float64\n"
     ]
    }
   ],
   "source": [
    "\n",
    "# ... -=-=-=-=-=-=-=-=-=-=-=-=-=-=-=-=-=-=-=-=-=-=-=-=-=-=-=-=-=-=-=-=-=-=-=-=-=\n",
    "# ... display highest correlation pairs from corr() matrix \n",
    "# ...\n",
    "# ... https://stackoverflow.com/questions/17778394/list-highest-correlation-pairs-from-a-large-correlation-matrix-in-pandas\n",
    "# ... -=-=-=-=-=-=-=-=-=-=-=-=-=-=-=-=-=-=-=-=-=-=-=-=-=-=-=-=-=-=-=-=-=-=-=-=-=\n",
    "\n",
    "df_numeric = df.select_dtypes(['number'])\n",
    "\n",
    "def get_redundant_pairs(df):\n",
    "    '''Get diagonal and lower triangular pairs of correlation matrix'''\n",
    "    pairs_to_drop = set()\n",
    "    cols = df.columns\n",
    "    for i in range(0, df.shape[1]):\n",
    "        for j in range(0, i+1):\n",
    "            pairs_to_drop.add((cols[i], cols[j]))\n",
    "    return pairs_to_drop\n",
    "\n",
    "def get_top_abs_correlations(df, n = 5):\n",
    "    au_corr = df.corr().abs().unstack()\n",
    "    labels_to_drop = get_redundant_pairs(df)\n",
    "    au_corr = au_corr.drop(labels = labels_to_drop).sort_values(ascending = False)\n",
    "    return au_corr[0:n]\n",
    "\n",
    "# ... -=-=-=-=-=-=-=-=-=-=-=-=-=-=-=-=-=-=-=-=-=-=-=-=-=-=-=-=-=-=-=-=-=-=-=-=-=\n",
    "# ... list out Top30 correlations\n",
    "# ... -=-=-=-=-=-=-=-=-=-=-=-=-=-=-=-=-=-=-=-=-=-=-=-=-=-=-=-=-=-=-=-=-=-=-=-=-=\n",
    "\n",
    "n_val = 30\n",
    "\n",
    "top_30_corr_list = get_top_abs_correlations(df_numeric, n_val)\n",
    "print(\"\\n\\n-=-=-=-=-=-=-=-=-=-=-=-=-=-=-=-=-=-=-=-=-=-=-=-=-=-=-=-=-\")\n",
    "print(\"Top Absolute Correlations\\n\")\n",
    "print(top_30_corr_list)\n",
    "\n",
    "\n",
    "icor = 0\n",
    "drop_column = list()\n",
    "while (top_30_corr_list[icor] > 0.65):\n",
    "    drop_column.append(top_30_corr_list[top_30_corr_list == top_30_corr_list[icor]].index[0][0])\n",
    "    icor += 1\n",
    "\n",
    "drop_column = list(set(drop_column))\n",
    "\n",
    "print(\"\\n\\n-=-=-=-=-=-=-=-=-=-=-=-=-=-=-=-=-=-=-=-=-=-=-=-=-=-=-=-=-\")\n",
    "print(\"Columns Recommended for removal based on correlation > 0.65\")\n",
    "print(\"-=-=-=-=-=-=-=-=-=-=-=-=-=-=-=-=-=-=-=-=-=-=-=-=-=-=-=-=-\\n\")\n",
    "\n",
    "print(\"\\n\".join(sorted(drop_column)))\n",
    "\n",
    "# ... -=-=-=-=-=-=-=-=-=-=-=-=-=-=-=-=-=-=-=-=-=-=-=-=-=-=-=-=-=-=-=-=-=-=-=-=-=\n",
    "# ... drop one of the high correlation columns (2nd of the pair)\n",
    "# ... -=-=-=-=-=-=-=-=-=-=-=-=-=-=-=-=-=-=-=-=-=-=-=-=-=-=-=-=-=-=-=-=-=-=-=-=-=\n",
    "\n",
    "df = df.drop(drop_column, axis = 1)\n",
    "\n",
    "# ... -=-=-=-=-=-=-=-=-=-=-=-=-=-=-=-=-=-=-=-=-=-=-=-=-=-=-=-=-=-=-=-=-=-=-=-=-=\n",
    "# ... show correlation test with remaining, to confirm\n",
    "# ... -=-=-=-=-=-=-=-=-=-=-=-=-=-=-=-=-=-=-=-=-=-=-=-=-=-=-=-=-=-=-=-=-=-=-=-=-=\n",
    "\n",
    "df_reduced_numeric = df.select_dtypes(['number'])\n",
    "\n",
    "top_30_corr_list = get_top_abs_correlations(df_reduced_numeric, n_val)\n",
    "\n",
    "print(\"\\n\\n-=-=-=-=-=-=-=-=-=-=-=-=-=-=-=-=-=-=-=-=-=-=-=-=-=-=-=-=-\")\n",
    "print(\"\\n\\nTop Absolute Correlations (2nd Pass)\\n\")\n",
    "print(top_30_corr_list)\n"
   ]
  },
  {
   "cell_type": "code",
   "execution_count": 71,
   "metadata": {},
   "outputs": [
    {
     "data": {
      "text/plain": [
       "<matplotlib.axes._subplots.AxesSubplot at 0x7f75d708dd68>"
      ]
     },
     "execution_count": 71,
     "metadata": {},
     "output_type": "execute_result"
    },
    {
     "data": {
      "image/png": "[encoded data removed]",
      "text/plain": [
       "<matplotlib.figure.Figure at 0x7f75ec419eb8>"
      ]
     },
     "metadata": {},
     "output_type": "display_data"
    }
   ],
   "source": [
    "sns.set(style=\"white\")\n",
    "\n",
    "# Compute the correlation matrix\n",
    "corr = df.corr()\n",
    "\n",
    "# Generate a mask for the upper triangle\n",
    "mask = np.zeros_like(corr, dtype=np.bool)\n",
    "mask[np.triu_indices_from(mask)] = True\n",
    "\n",
    "# Set up the matplotlib figure\n",
    "f, ax = plt.subplots(figsize=(15, 13))\n",
    "\n",
    "# Generate a custom diverging colormap\n",
    "cmap = sns.diverging_palette(220, 10, as_cmap=True)\n",
    "\n",
    "# Draw the heatmap with the mask and correct aspect ratio\n",
    "sns.heatmap(corr, mask=mask, cmap=cmap, vmax=.3, center=0,\n",
    "            square=True, linewidths=.5, cbar_kws={\"shrink\": .5})\n",
    "\n",
    "\n",
    "# from example found at https://www.kaggle.com/maheshdadhich/strength-of-visualization-python-visuals-tutorial/notebook"
   ]
  },
  {
   "cell_type": "markdown",
   "metadata": {},
   "source": [
    "#### Save cleaned / reduced data set to external .csv file  \n",
    "\n",
    " - This provides opportunity to just read in this .csv file and no need to repeat data cleaning / reduction process for each execution  \n",
    " "
   ]
  },
  {
   "cell_type": "code",
   "execution_count": 72,
   "metadata": {
    "collapsed": true
   },
   "outputs": [],
   "source": [
    "# ... -=-=-=-=-=-=-=-=-=-=-=-=-=-=-=-=-=-=-=-=-=-=-=-=-=-=-=-=-=-=-=-=-=-=-=-=-=\n",
    "# ... store in ../data/ directory\n",
    "# ... write as .csv file for future recall\n",
    "# ... -=-=-=-=-=-=-=-=-=-=-=-=-=-=-=-=-=-=-=-=-=-=-=-=-=-=-=-=-=-=-=-=-=-=-=-=-=\n",
    "\n",
    "data_dir = '../data/'\n",
    "data_file = 'mashable_clean_dataset_for_lab_02_task_02.csv'\n",
    "\n",
    "file_2_write = data_dir + data_file\n",
    "\n",
    "df.to_csv(file_2_write, index = False)\n"
   ]
  },
  {
   "cell_type": "markdown",
   "metadata": {},
   "source": [
    "# \tModeling and Evaluation 2"
   ]
  },
  {
   "cell_type": "markdown",
   "metadata": {},
   "source": [
    "### Holdout, Training and Test split"
   ]
  },
  {
   "cell_type": "code",
   "execution_count": 73,
   "metadata": {
    "collapsed": true
   },
   "outputs": [],
   "source": [
    "# ... -=-=-=-=-=-=-=-=-=-=-=-=-=-=-=-=-=-=-=-=-=-=-=-=-=-=-=-=-=-=-=-=-=-=-=-=-=\n",
    "# ...  copy data frame to classification working data frame\n",
    "# ... -=-=-=-=-=-=-=-=-=-=-=-=-=-=-=-=-=-=-=-=-=-=-=-=-=-=-=-=-=-=-=-=-=-=-=-=-=\n",
    "\n",
    "# ... data set with text categorical target values \n",
    "\n",
    "df_data_channel = df.copy()\n",
    "del df_data_channel['data_channel_n']\n",
    "\n",
    "# ... data set with integer categorical target values \n",
    "\n",
    "df_data_channel_n = df.copy()\n",
    "del df_data_channel_n['data_channel']\n",
    "\n",
    "# ... -=-=-=-=-=-=-=-=-=-=-=-=-=-=-=-=-=-=-=-=-=-=-=-=-=-=-=-=-=-=-=-=-=-=-=-=-=\n",
    "# ...  separate X and y matrices \n",
    "# ...\n",
    "# ...  convert to numpy matrices by calling 'values' on the pandas data frames\n",
    "# ...  they are now simple matrices for compatibility with scikit-learn\n",
    "# ... -=-=-=-=-=-=-=-=-=-=-=-=-=-=-=-=-=-=-=-=-=-=-=-=-=-=-=-=-=-=-=-=-=-=-=-=-=\n",
    "\n",
    "if 'data_channel' in df_data_channel:\n",
    "    y = df_data_channel['data_channel'].values         # set 'data_channel' as dependent\n",
    "    del df_data_channel['data_channel']                # remove from dataset\n",
    "    X = df_data_channel.values                         # use everything else for independent EVs\n",
    "\n",
    "if 'data_channel_n' in df_data_channel_n:\n",
    "    y_n = df_data_channel_n['data_channel_n'].values    # set 'data_channel' as dependent\n",
    "    del df_data_channel_n['data_channel_n']             # remove from dataset\n",
    "    X_n = df_data_channel_n.values                      # use everything else for independent EVs\n",
    "\n",
    "# ... -=-=-=-=-=-=-=-=-=-=-=-=-=-=-=-=-=-=-=-=-=-=-=-=-=-=-=-=-=-=-=-=-=-=-=-=-=\n",
    "# ...  setup master train and test , golden traina and test\n",
    "# ...  master sets - first 80% of original data set which will be base training for model building\n",
    "# ...  Golden sets - 20% of original will be used in the final best model for prediction\n",
    "# ...  split into training and test sets\n",
    "# ....  --> 10 folds\n",
    "# ...   --> 80% / 20% training / test\n",
    "# ... -=-=-=-=-=-=-=-=-=-=-=-=-=-=-=-=-=-=-=-=-=-=-=-=-=-=-=-=-=-=-=-=-=-=-=-=-=\n",
    "\n",
    "\n"
   ]
  },
  {
   "cell_type": "code",
   "execution_count": 74,
   "metadata": {},
   "outputs": [
    {
     "name": "stdout",
     "output_type": "stream",
     "text": [
      "ShuffleSplit(n_splits=1, random_state=None, test_size=0.2, train_size=None)\n",
      "(31715, 34)\n"
     ]
    }
   ],
   "source": [
    "# ... -=-=-=-=-=-=-=-=-=-=-=-=-=-=-=-=-=-=-=-=-=-=-=-=-=-=-=-=-=-=-=-=-=-=-=-=-=\n",
    "# ... Set-up golden test data set\n",
    "# ... This data-set will be used to evaluate the predictive capability of the final\n",
    "# ... model on a data set that was not included in any of the prior train/test sets\n",
    "# ... -=-=-=-=-=-=-=-=-=-=-=-=-=-=-=-=-=-=-=-=-=-=-=-=-=-=-=-=-=-=-=-=-=-=-=-=-=\n",
    "\n",
    "num_cv_iterations = 1\n",
    "cv_object = ShuffleSplit(n_splits = num_cv_iterations,\n",
    "                         test_size  = 0.2)\n",
    "                        \n",
    "print(cv_object)\n",
    "\n",
    "for train_indices, test_indices in cv_object.split(X, y):\n",
    "    master_X_train = X[train_indices]\n",
    "    master_y_train = y[train_indices]    \n",
    "    golden_X_test  = X[test_indices]\n",
    "    golden_y_test  = y[test_indices]\n",
    "    print(master_X_train.shape)\n",
    "\n",
    "for train_indices_n, test_indices_n in cv_object.split(X_n, y_n): \n",
    "    master_X_train_n = X_n[train_indices_n]\n",
    "    master_y_train_n = y_n[train_indices_n]    \n",
    "    golden_X_test_n  = X_n[test_indices_n]\n",
    "    golden_y_test_n  = y_n[test_indices_n]\n",
    "    \n",
    "    \n",
    "    "
   ]
  },
  {
   "cell_type": "code",
   "execution_count": 75,
   "metadata": {},
   "outputs": [
    {
     "name": "stdout",
     "output_type": "stream",
     "text": [
      "ShuffleSplit(n_splits=1, random_state=None, test_size=0.2, train_size=None)\n",
      "(25372, 34)\n"
     ]
    }
   ],
   "source": [
    "# ... -=-=-=-=-=-=-=-=-=-=-=-=-=-=-=-=-=-=-=-=-=-=-=-=-=-=-=-=-=-=-=-=-=-=-=-=-=\n",
    "# ... Set-up training set to be used on 'best' model from grid search results\n",
    "# ... This data-set will be used to verify 10-fold-CV-model has results consistent\n",
    "# ... with the model produced from grid search\n",
    "# ... -=-=-=-=-=-=-=-=-=-=-=-=-=-=-=-=-=-=-=-=-=-=-=-=-=-=-=-=-=-=-=-=-=-=-=-=-=\n",
    "\n",
    "num_cv_iterations = 1\n",
    "cv_object = ShuffleSplit(n_splits = num_cv_iterations,\n",
    "                         test_size  = 0.2)\n",
    "                        \n",
    "print(cv_object)\n",
    "\n",
    "for train_indices, test_indices in cv_object.split(master_X_train, master_y_train):\n",
    "    X_train = master_X_train[train_indices]\n",
    "    y_train = master_y_train[train_indices]    \n",
    "    X_test  = master_X_train[test_indices]\n",
    "    y_test  = master_y_train[test_indices]\n",
    "    print(X_train.shape)\n",
    "\n",
    "for train_indices_n, test_indices_n in cv_object.split(master_X_train_n, master_y_train_n): \n",
    "    X_train_n = master_X_train_n[train_indices_n]\n",
    "    y_train_n = master_y_train_n[train_indices_n]    \n",
    "    X_test_n  = master_X_train_n[test_indices_n]\n",
    "    y_test_n  = master_y_train_n[test_indices_n]\n"
   ]
  },
  {
   "cell_type": "code",
   "execution_count": 76,
   "metadata": {
    "collapsed": true
   },
   "outputs": [],
   "source": [
    "# set required variables for model comparison\n",
    "\n",
    "comparison_tbl = pd.DataFrame(columns = [\n",
    "    'Model Name',\n",
    "    'Accuracy',\n",
    "    'Precision',\n",
    "    'Recall',\n",
    "    'FScore',\n",
    "    'Processing Time'])\n",
    "\n",
    "i_index=[]\n",
    "i_index = 0\n",
    "\n",
    "# preparation for cross validation and model comparison, each classifier is appended once model is fit\n",
    "\n",
    "models = []"
   ]
  },
  {
   "cell_type": "markdown",
   "metadata": {},
   "source": [
    "# \tModeling and Evaluation 3\t\n",
    "\n",
    "For task 2 we have chosen the following 4 models:<br>\n",
    "a. Multinomial logistic regression with parament selection using Grid Search<br>\n",
    "b. Decision Tree with parament selection using Grid Search<br>\n",
    "c. Random Forest with parament selection using Grid Search<br>\n",
    "d. Naive Bayes<br>\n",
    "\n",
    "Each of these models will be evaluated on Accuracy, Precision, Recall, FScore and Execution time\n",
    "\n",
    "### a. Multinomial logistic regression\n",
    "For multinomial LR we have set standard attributes with:\n",
    "    class_weight = balanced<br>\n",
    "    multi_class = multinomial<br>\n",
    "<b>search params:</b><br>\n",
    "    tolerance parament tol<br>\n",
    "    Regularization parament C<br>\n",
    "    \n",
    "    \n",
    "#### _Grid selection for logistic regression_"
   ]
  },
  {
   "cell_type": "code",
   "execution_count": 77,
   "metadata": {
    "collapsed": true
   },
   "outputs": [],
   "source": [
    "from sklearn.grid_search import GridSearchCV\n",
    "\n",
    "lr_model = LogisticRegression(\n",
    "    class_weight = 'balanced',\n",
    "    multi_class = 'multinomial',\n",
    "    solver = 'lbfgs',\n",
    "    C = 10,\n",
    "    tol = 0.1)\n",
    "\n",
    "params = {\n",
    "    'C':[100, 1000], \n",
    "    'tol': [0.001, 0.0001]\n",
    "}\n",
    "\n",
    "# ... --> changed the scoring on Sat 28-Oct\n",
    "# ...     - from : log_loss\n",
    "# ...     - to : neg_log_loss\n",
    "# ...  (this avoids the deprecation warning)\n",
    "\n",
    "clf = GridSearchCV(\n",
    "    lr_model,\n",
    "    params,\n",
    "    scoring = 'neg_log_loss',\n",
    "    refit = 'True',\n",
    "    n_jobs = -1,\n",
    "    cv = 3)\n",
    "\n",
    "grid_search = clf.fit(master_X_train, master_y_train)\n",
    "\n",
    "best_accuracy = grid_search.best_score_\n",
    "best_parameters = grid_search.best_params_\n",
    "best_C = best_parameters['C']\n",
    "best_tol = best_parameters['tol']"
   ]
  },
  {
   "cell_type": "markdown",
   "metadata": {},
   "source": [
    "#### _Best parameter values for logistic regression_:"
   ]
  },
  {
   "cell_type": "code",
   "execution_count": 78,
   "metadata": {},
   "outputs": [
    {
     "data": {
      "text/plain": [
       "-0.7512033918501767"
      ]
     },
     "execution_count": 78,
     "metadata": {},
     "output_type": "execute_result"
    },
    {
     "data": {
      "text/plain": [
       "{'C': 1000, 'tol': 0.001}"
      ]
     },
     "execution_count": 78,
     "metadata": {},
     "output_type": "execute_result"
    }
   ],
   "source": [
    "best_accuracy\n",
    "best_parameters"
   ]
  },
  {
   "cell_type": "markdown",
   "metadata": {},
   "source": [
    "#### Create main logistic model using best paraments for further analysis and model comparisons"
   ]
  },
  {
   "cell_type": "code",
   "execution_count": 80,
   "metadata": {},
   "outputs": [
    {
     "data": {
      "text/plain": [
       "LogisticRegression(C=100, class_weight='balanced', dual=False,\n",
       "          fit_intercept=True, intercept_scaling=1, max_iter=100,\n",
       "          multi_class='multinomial', n_jobs=1, penalty='l2',\n",
       "          random_state=None, solver='lbfgs', tol=0.001, verbose=0,\n",
       "          warm_start=False)"
      ]
     },
     "execution_count": 80,
     "metadata": {},
     "output_type": "execute_result"
    },
    {
     "name": "stdout",
     "output_type": "stream",
     "text": [
      "accuracy 0.7197\n",
      "precision 0.7513\n",
      "recall 0.7197\n",
      "f1_score 0.7315\n",
      "confusion matrix\n",
      " [[ 750   14   18    9  136   38   12]\n",
      " [   4  810   31  190   51    7   32]\n",
      " [  18   10  151   23   25   86   11]\n",
      " [   9  154   20  832   21    1    8]\n",
      " [  73   22   36   28  182   14   36]\n",
      " [  27    8  293    2   21  724   61]\n",
      " [   9   20   47   32   60   61 1116]]\n",
      "process time 4.7239\n",
      "\n",
      "\n"
     ]
    }
   ],
   "source": [
    "tic = time.clock()\n",
    "\n",
    "# ... -=-=-=-=-=-=-=-=-=-=-=-=-=-=-=-=-=-=-=-=-=-=-=-=-=-=-=-=-=-=-=-=-=-=-=-=-=\n",
    "# ... basic multiclass Logistic Regression\n",
    "# ... - normalize features based on mean & stdev of each column\n",
    "# ... -=-=-=-=-=-=-=-=-=-=-=-=-=-=-=-=-=-=-=-=-=-=-=-=-=-=-=-=-=-=-=-=-=-=-=-=-=\n",
    "\n",
    "lr_model1 = LogisticRegression(\n",
    "    class_weight = 'balanced',\n",
    "    multi_class = 'multinomial',\n",
    "    solver = 'lbfgs',\n",
    "    C = best_C,\n",
    "    tol = best_tol)\n",
    "\n",
    "lr_model1.fit(X_train, y_train)  # train object\n",
    "\n",
    "y_hat = lr_model1.predict(X_test) # get test set precitions\n",
    "\n",
    "toc =  time.clock()\n",
    "\n",
    "# calculate statistics\n",
    "\n",
    "accuracy = '{0:.4f}'.format(metrics.accuracy_score(y_test, y_hat))\n",
    "precision = '{0:.4f}'.format(metrics.precision_score(y_test, y_hat,average='weighted'))\n",
    "recall = '{0:.4f}'.format(metrics.recall_score(y_test, y_hat,average='weighted'))\n",
    "f1_score = '{0:.4f}'.format(metrics.f1_score(y_test, y_hat,average='weighted'))\n",
    "\n",
    "exetime = '{0:.4f}'.format(toc-tic)\n",
    "\n",
    "# print statistics\n",
    "\n",
    "print(\"accuracy\",accuracy )\n",
    "print(\"precision\",precision )\n",
    "print(\"recall\",recall )\n",
    "print(\"f1_score\",f1_score )\n",
    "print(\"confusion matrix\\n\", conf(y_test, y_hat))\n",
    "print('process time',exetime)\n",
    "print(\"\\n\")\n",
    "\n",
    "lr_model1_confusion_matrix = conf(y_test, y_hat)\n",
    "\n",
    "# save statistics for model comparison\n",
    "\n",
    "raw_data = {\n",
    "    'Model Name' : 'Logistic Regression',\n",
    "    'Accuracy' : accuracy,\n",
    "    'Precision' : precision,\n",
    "    'Recall' : recall,\n",
    "    'FScore' : f1_score,\n",
    "    'Processing Time' : exetime\n",
    "}\n",
    "\n",
    "df_tbl = pd.DataFrame(raw_data,\n",
    "    columns = ['Model Name', 'Accuracy', 'Precision', 'Recall', 'FScore', 'Processing Time'],\n",
    "    index = [i_index + 1])\n",
    "\n",
    "comparison_tbl = comparison_tbl.append(df_tbl)\n",
    "\n",
    "#append model classifier for cross-validation\n",
    "\n",
    "models.append(('Logistic Regression', lr_model1))\n"
   ]
  },
  {
   "cell_type": "markdown",
   "metadata": {},
   "source": [
    "### Heatmap of co-efficients from logistic regression viewed by data_channels"
   ]
  },
  {
   "cell_type": "code",
   "execution_count": 82,
   "metadata": {},
   "outputs": [
    {
     "data": {
      "text/plain": [
       "<matplotlib.image.AxesImage at 0x7f75d71fda90>"
      ]
     },
     "execution_count": 82,
     "metadata": {},
     "output_type": "execute_result"
    },
    {
     "data": {
      "text/plain": [
       "[<matplotlib.text.Text at 0x7f75d70eb978>,\n",
       " <matplotlib.text.Text at 0x7f75d70d8a20>,\n",
       " <matplotlib.text.Text at 0x7f75d70d7978>,\n",
       " <matplotlib.text.Text at 0x7f75d70d77b8>,\n",
       " <matplotlib.text.Text at 0x7f75d70d6dd8>,\n",
       " <matplotlib.text.Text at 0x7f75d70d5828>,\n",
       " <matplotlib.text.Text at 0x7f75d70d4eb8>,\n",
       " <matplotlib.text.Text at 0x7f75d70d42e8>]"
      ]
     },
     "execution_count": 82,
     "metadata": {},
     "output_type": "execute_result"
    },
    {
     "data": {
      "image/png": "[encoded data removed]",
      "text/plain": [
       "<matplotlib.figure.Figure at 0x7f75d71fdd30>"
      ]
     },
     "metadata": {},
     "output_type": "display_data"
    }
   ],
   "source": [
    "channels_list = sorted(df['data_channel'].unique())\n",
    "channels_list.insert(0,0)\n",
    "features_list = df_data_channel.columns.values.tolist()\n",
    "\n",
    "fig, ax = plt.subplots()\n",
    "\n",
    "plt.imshow(lr_model1.coef_, cmap = plt.get_cmap('PuRd'), aspect = 'auto')\n",
    "\n",
    "ax.set_yticklabels(channels_list)\n",
    "#ax.set_xticklabels(features_list, rotation = 'vertical')\n",
    "\n",
    "plt.grid(False)"
   ]
  },
  {
   "cell_type": "markdown",
   "metadata": {},
   "source": [
    "*********** TODO*********** add interpretation of above plot"
   ]
  },
  {
   "cell_type": "markdown",
   "metadata": {},
   "source": [
    "#### Heatmap of confusion matrix from logistic regression\n",
    "\n",
    "For multiclass models, confusion matrix is better visualizied as heat map"
   ]
  },
  {
   "cell_type": "code",
   "execution_count": 84,
   "metadata": {},
   "outputs": [
    {
     "data": {
      "text/plain": [
       "<matplotlib.image.AxesImage at 0x7f75d7095c50>"
      ]
     },
     "execution_count": 84,
     "metadata": {},
     "output_type": "execute_result"
    },
    {
     "data": {
      "text/plain": [
       "[<matplotlib.text.Text at 0x7f75d7131ba8>,\n",
       " <matplotlib.text.Text at 0x7f75d71337b8>,\n",
       " <matplotlib.text.Text at 0x7f75d7125b00>,\n",
       " <matplotlib.text.Text at 0x7f75d7124048>,\n",
       " <matplotlib.text.Text at 0x7f75d7124898>,\n",
       " <matplotlib.text.Text at 0x7f75d71230b8>,\n",
       " <matplotlib.text.Text at 0x7f75d7122550>,\n",
       " <matplotlib.text.Text at 0x7f75d7121160>]"
      ]
     },
     "execution_count": 84,
     "metadata": {},
     "output_type": "execute_result"
    },
    {
     "data": {
      "image/png": "[encoded data removed]",
      "text/plain": [
       "<matplotlib.figure.Figure at 0x7f75d7095780>"
      ]
     },
     "metadata": {},
     "output_type": "display_data"
    }
   ],
   "source": [
    "lr_model1_confusion_matrix = conf(y_test, y_hat)\n",
    "\n",
    "cm_normalized = lr_model1_confusion_matrix.astype('float') / lr_model1_confusion_matrix.sum(axis=1)[:, np.newaxis]\n",
    "\n",
    "fig, ax = plt.subplots()\n",
    "\n",
    "plt.imshow(cm_normalized, cmap = plt.get_cmap('Blues'), aspect = 'auto')\n",
    "\n",
    "ax.set_yticklabels(channels_list)\n",
    "ax.set_xticklabels(channels_list, rotation = \"vertical\")\n",
    "\n",
    "plt.grid(False)"
   ]
  },
  {
   "cell_type": "markdown",
   "metadata": {},
   "source": [
    "# Interpret weights"
   ]
  },
  {
   "cell_type": "code",
   "execution_count": 85,
   "metadata": {
    "collapsed": true
   },
   "outputs": [],
   "source": [
    "zip_vars_LR = zip(lr_model1.coef_.T, df_data_channel.columns.values.tolist()) # combine attributes\n",
    "\n",
    "print(zip_vars_LR)\n",
    "for importance, name in zip_vars_LR:\n",
    "    print('\\t%-35s - weight = %9.3f' % ( name, importance) # now print them out"
   ]
  },
  {
   "cell_type": "markdown",
   "metadata": {},
   "source": [
    "************ TODO write interpretation of weights****"
   ]
  },
  {
   "cell_type": "markdown",
   "metadata": {},
   "source": [
    "### b. Decision Tree Classifier using Grid Search\n",
    "#### _Grid search parameter set-up_"
   ]
  },
  {
   "cell_type": "code",
   "execution_count": 88,
   "metadata": {
    "collapsed": true
   },
   "outputs": [],
   "source": [
    "# Applying Grid Search to find the best model and the best parameters\n",
    "\n",
    "from sklearn.tree import DecisionTreeClassifier\n",
    "from sklearn.model_selection import GridSearchCV\n",
    "\n",
    "DTclassifier = DecisionTreeClassifier(criterion = 'entropy', random_state = 0)\n",
    "\n",
    "parameters = [\n",
    "      {\n",
    "        'criterion': ['gini'], \n",
    "        'max_depth': [None], \n",
    "        'min_samples_split': [2, 100, 1000], \n",
    "        'min_samples_leaf': [1, 10, 100],\n",
    "        'max_features': [None], 'max_leaf_nodes': [None]\n",
    "      },\n",
    "      {\n",
    "          'criterion': ['entropy'], \n",
    "          'max_depth': [None, 5, 10], \n",
    "          'min_samples_split': [2, 100, 1000],\n",
    "          'min_samples_leaf': [1, 10, 100], \n",
    "          'max_leaf_nodes': [None]\n",
    "      }\n",
    "     ]\n",
    "\n",
    "grid_search = GridSearchCV(estimator = DTclassifier,\n",
    "                           param_grid = parameters,\n",
    "                           scoring = 'accuracy',\n",
    "                           cv = 3,\n",
    "                           n_jobs = -1)\n",
    "\n",
    "grid_search = grid_search.fit(master_X_train, master_y_train)\n",
    "\n",
    "best_accuracy = grid_search.best_score_\n",
    "best_parameters = grid_search.best_params_\n",
    "\n",
    "best_criterion = best_parameters['criterion']\n",
    "best_max_depth = best_parameters['max_depth']\n",
    "best_max_leaf_nodes = best_parameters['max_leaf_nodes']\n",
    "best_min_samples_split = best_parameters['min_samples_split']\n",
    "best_min_samples_leaf = best_parameters['min_samples_leaf']\n",
    "best_max_features = best_parameters['max_features']\n"
   ]
  },
  {
   "cell_type": "markdown",
   "metadata": {},
   "source": [
    "#### _Best parameters for Decision Tree_"
   ]
  },
  {
   "cell_type": "code",
   "execution_count": 89,
   "metadata": {},
   "outputs": [
    {
     "data": {
      "text/plain": [
       "0.76320353145199438"
      ]
     },
     "execution_count": 89,
     "metadata": {},
     "output_type": "execute_result"
    },
    {
     "data": {
      "text/plain": [
       "{'criterion': 'gini',\n",
       " 'max_depth': None,\n",
       " 'max_features': None,\n",
       " 'max_leaf_nodes': None,\n",
       " 'min_samples_leaf': 10,\n",
       " 'min_samples_split': 100}"
      ]
     },
     "execution_count": 89,
     "metadata": {},
     "output_type": "execute_result"
    }
   ],
   "source": [
    "best_accuracy\n",
    "best_parameters"
   ]
  },
  {
   "cell_type": "markdown",
   "metadata": {},
   "source": [
    "#### _use best parameters to create best Decision Tree model for further analysis and model comparison_"
   ]
  },
  {
   "cell_type": "code",
   "execution_count": 90,
   "metadata": {
    "scrolled": true
   },
   "outputs": [
    {
     "data": {
      "text/plain": [
       "DecisionTreeClassifier(class_weight=None, criterion='gini', max_depth=None,\n",
       "            max_features=None, max_leaf_nodes=None,\n",
       "            min_impurity_decrease=0.0, min_impurity_split=None,\n",
       "            min_samples_leaf=10, min_samples_split=100,\n",
       "            min_weight_fraction_leaf=0.0, presort=False, random_state=None,\n",
       "            splitter='best')"
      ]
     },
     "execution_count": 90,
     "metadata": {},
     "output_type": "execute_result"
    },
    {
     "name": "stdout",
     "output_type": "stream",
     "text": [
      "accuracy 0.7662\n",
      "precision 0.7528\n",
      "recall 0.7662\n",
      "f1_score 0.7555\n",
      "confusion matrix\n",
      " [[ 846   19   12   14   47   27   12]\n",
      " [  20  867    6  164    7   27   34]\n",
      " [  25   20   85   25   13  142   14]\n",
      " [  14  144   23  845    2    3   14]\n",
      " [ 113   38   11   36  109   33   51]\n",
      " [  41   13   69    5    8  942   58]\n",
      " [  21   36    3   24   19   76 1166]]\n",
      "process time 0.8638\n",
      "\n",
      "\n"
     ]
    }
   ],
   "source": [
    "from sklearn.tree import DecisionTreeClassifier\n",
    "from sklearn.metrics import confusion_matrix,classification_report\n",
    "\n",
    "tic = time.clock()\n",
    "\n",
    "# train and fit\n",
    "\n",
    "DTclassifier = DecisionTreeClassifier(\n",
    "    criterion = best_criterion,\n",
    "    max_depth = best_max_depth,\n",
    "    min_samples_split = best_min_samples_split,\n",
    "    min_samples_leaf = best_min_samples_leaf,\n",
    "    max_features = best_max_features,\n",
    "    max_leaf_nodes = best_max_leaf_nodes)\n",
    "\n",
    "DTclassifier.fit(X_train, y_train)\n",
    "y_predDT = DTclassifier.predict(X_test)\n",
    "\n",
    "# calculate statistics\n",
    "\n",
    "accuracy = '{0:.4f}'.format(metrics.accuracy_score(y_test, y_predDT))\n",
    "precision = '{0:.4f}'.format(metrics.precision_score(y_test, y_predDT,average='weighted'))\n",
    "recall = '{0:.4f}'.format(metrics.recall_score(y_test, y_predDT,average='weighted'))\n",
    "f1_score = '{0:.4f}'.format(metrics.f1_score(y_test, y_predDT,average='weighted'))\n",
    "toc =  time.clock()\n",
    "exetime = '{0:.4f}'.format(toc-tic)\n",
    "\n",
    "# print statistics\n",
    "print(\"accuracy\",accuracy )\n",
    "print(\"precision\",precision )\n",
    "print(\"recall\",recall )\n",
    "print(\"f1_score\",f1_score )\n",
    "print(\"confusion matrix\\n\", confusion_matrix(y_test, y_predDT))\n",
    "print('process time',exetime)\n",
    "print(\"\\n\")\n",
    "\n",
    "# save statistics for model comparison\n",
    "\n",
    "raw_data = {\n",
    "    'Model Name':'Decision Tree Classifier',\n",
    "    'Accuracy':accuracy,\n",
    "    'Precision':precision,\n",
    "    'Recall':recall,\n",
    "    'FScore':f1_score,\n",
    "    'Processing Time': exetime\n",
    "}\n",
    "\n",
    "df_tbl = pd.DataFrame(raw_data,\n",
    "        columns = ['Model Name','Accuracy','Precision','Recall','FScore','Processing Time'],\n",
    "        index = [i_index + 1])\n",
    "\n",
    "comparison_tbl = comparison_tbl.append(df_tbl)\n",
    "\n",
    "#append model classifier for cross-validation\n",
    "\n",
    "models.append(('Decision Tree Classifier', DTclassifier))\n"
   ]
  },
  {
   "cell_type": "markdown",
   "metadata": {},
   "source": [
    "#### heatmap of confusion matrix for Decision Tree Classifier"
   ]
  },
  {
   "cell_type": "code",
   "execution_count": 91,
   "metadata": {},
   "outputs": [
    {
     "data": {
      "text/plain": [
       "<matplotlib.image.AxesImage at 0x7f75d7128da0>"
      ]
     },
     "execution_count": 91,
     "metadata": {},
     "output_type": "execute_result"
    },
    {
     "data": {
      "text/plain": [
       "[<matplotlib.text.Text at 0x7f75d712e7f0>,\n",
       " <matplotlib.text.Text at 0x7f75ec563f60>,\n",
       " <matplotlib.text.Text at 0x7f75d710fe80>,\n",
       " <matplotlib.text.Text at 0x7f75d710e748>,\n",
       " <matplotlib.text.Text at 0x7f75d710d828>,\n",
       " <matplotlib.text.Text at 0x7f75d710dc50>,\n",
       " <matplotlib.text.Text at 0x7f75d710ccf8>,\n",
       " <matplotlib.text.Text at 0x7f75d710bcf8>]"
      ]
     },
     "execution_count": 91,
     "metadata": {},
     "output_type": "execute_result"
    },
    {
     "data": {
      "text/plain": [
       "[<matplotlib.text.Text at 0x7f75d7118198>,\n",
       " <matplotlib.text.Text at 0x7f75d711b978>,\n",
       " <matplotlib.text.Text at 0x7f75d710f278>,\n",
       " <matplotlib.text.Text at 0x7f75d710a9b0>,\n",
       " <matplotlib.text.Text at 0x7f75d710acf8>,\n",
       " <matplotlib.text.Text at 0x7f75d710ccc0>,\n",
       " <matplotlib.text.Text at 0x7f75d7109a90>,\n",
       " <matplotlib.text.Text at 0x7f75d7108748>]"
      ]
     },
     "execution_count": 91,
     "metadata": {},
     "output_type": "execute_result"
    },
    {
     "data": {
      "image/png": "[encoded data removed]",
      "text/plain": [
       "<matplotlib.figure.Figure at 0x7f75ed8c57f0>"
      ]
     },
     "metadata": {},
     "output_type": "display_data"
    }
   ],
   "source": [
    "DT_confusion_matrix = confusion_matrix(y_test, y_hat)\n",
    "\n",
    "cm_normalized = DT_confusion_matrix.astype('float') / DT_confusion_matrix.sum(axis=1)[:, np.newaxis]\n",
    "\n",
    "fig, ax = plt.subplots()\n",
    "\n",
    "plt.imshow(cm_normalized, cmap = plt.get_cmap('PuRd'), aspect = 'auto')\n",
    "\n",
    "ax.set_yticklabels(channels_list)\n",
    "ax.set_xticklabels(channels_list, rotation = \"vertical\")\n",
    "\n",
    "plt.grid(False)"
   ]
  },
  {
   "cell_type": "markdown",
   "metadata": {},
   "source": [
    "********* TODO interpret the plot above and weights below *** "
   ]
  },
  {
   "cell_type": "code",
   "execution_count": 100,
   "metadata": {},
   "outputs": [
    {
     "name": "stdout",
     "output_type": "stream",
     "text": [
      "\tweekday_is_friday                   - importance =     0.000\n",
      "\tweekday_is_thursday                 - importance =     0.000\n",
      "\tweekday_is_monday                   - importance =     0.000\n",
      "\tweekday_is_tuesday                  - importance =     0.000\n",
      "\tweekday_is_wednesday                - importance =     0.000\n",
      "\tln_abs_title_sentiment_polarity     - importance =     0.000\n",
      "\ttitle_sentiment_polarity            - importance =     0.000\n",
      "\tabs_title_subjectivity              - importance =     0.001\n",
      "\tn_tokens_title                      - importance =     0.001\n",
      "\tmax_negative_polarity               - importance =     0.001\n",
      "\tis_weekend                          - importance =     0.002\n",
      "\tglobal_rate_positive_words          - importance =     0.002\n",
      "\tmin_negative_polarity               - importance =     0.002\n",
      "\tmax_positive_polarity               - importance =     0.002\n",
      "\tln_min_positive_polarity            - importance =     0.002\n",
      "\tln_global_rate_negative_words       - importance =     0.002\n",
      "\tln_num_hrefs                        - importance =     0.003\n",
      "\tln_kw_avg_min                       - importance =     0.003\n",
      "\tln_self_reference_avg_sharess       - importance =     0.003\n",
      "\tnum_keywords                        - importance =     0.003\n",
      "\tln_num_videos                       - importance =     0.004\n",
      "\tglobal_subjectivity                 - importance =     0.004\n",
      "\trate_positive_words                 - importance =     0.005\n",
      "\tln_num_imgs                         - importance =     0.009\n",
      "\tln_kw_min_max                       - importance =     0.011\n",
      "\tln_n_tokens_content                 - importance =     0.016\n",
      "\tln_kw_min_min                       - importance =     0.021\n",
      "\tLDA_03                              - importance =     0.026\n",
      "\tLDA_01                              - importance =     0.037\n",
      "\tkw_avg_max                          - importance =     0.046\n",
      "\tln_kw_avg_avg                       - importance =     0.094\n",
      "\tLDA_04                              - importance =     0.213\n",
      "\tLDA_00                              - importance =     0.219\n",
      "\tLDA_02                              - importance =     0.269\n"
     ]
    }
   ],
   "source": [
    "# Interpreting weights\n",
    "zip_varsDT = zip(DTclassifier.feature_importances_.T, df_data_channel.columns) # combine attributes\n",
    "\n",
    "zip_varsDT = sorted(zip_varsDT)\n",
    "\n",
    "for importance, name in zip_varsDT:\n",
    "    print('\\t%-35s - importance = %9.3f' % ( name, importance)) # now print them out\n"
   ]
  },
  {
   "cell_type": "code",
   "execution_count": 98,
   "metadata": {},
   "outputs": [
    {
     "data": {
      "text/plain": [
       "<matplotlib.axes._subplots.AxesSubplot at 0x7f75d71c23c8>"
      ]
     },
     "execution_count": 98,
     "metadata": {},
     "output_type": "execute_result"
    },
    {
     "data": {
      "image/png": "[encoded data removed]",
      "text/plain": [
       "<matplotlib.figure.Figure at 0x7f75d7169080>"
      ]
     },
     "metadata": {},
     "output_type": "display_data"
    }
   ],
   "source": [
    "%matplotlib inline\n",
    "rcParams['figure.figsize'] = 15, 5\n",
    "plt.style.use('ggplot')\n",
    "\n",
    "weights = pd.Series(abs(DTclassifier.feature_importances_), index = df_data_channel.columns)\n",
    "weights.plot(kind = 'bar')\n",
    "plt.show()"
   ]
  },
  {
   "cell_type": "markdown",
   "metadata": {},
   "source": [
    "### c. Random Forest Classifier\n",
    "\n",
    "#### _Grid Search parameter set-up for Random Forest classifier_"
   ]
  },
  {
   "cell_type": "code",
   "execution_count": 101,
   "metadata": {
    "collapsed": true
   },
   "outputs": [],
   "source": [
    "RFclf = RandomForestClassifier(\n",
    "    criterion = 'entropy',\n",
    "    max_features= 'sqrt',\n",
    "    max_depth = 5,\n",
    "    n_estimators = 10,\n",
    "    n_jobs = -1)\n",
    "\n",
    "#RFclf.fit(master_X_train, master_y_train)\n",
    "\n",
    "param_grid =[\n",
    "    { \n",
    "    'criterion': ['gini'],\n",
    "    'n_estimators': [100, 500],\n",
    "    'max_features': ['auto', 'sqrt', 'log2'],\n",
    "    'max_depth': [10, 20, 50]\n",
    "},\n",
    " { \n",
    "    'criterion': ['entropy'],\n",
    "    'n_estimators': [100, 500],\n",
    "    'max_features': ['auto', 'sqrt', 'log2'],\n",
    "    'max_depth': [10, 20, 50]\n",
    "}\n",
    "]\n",
    "\n",
    "RF_grid_search = GridSearchCV(\n",
    "    estimator = RFclf,\n",
    "    param_grid = param_grid,\n",
    "    cv = 3)\n",
    "\n",
    "grid_search = RF_grid_search.fit(master_X_train, master_y_train)\n",
    "\n",
    "best_accuracy = grid_search.best_score_\n",
    "best_parameters = grid_search.best_params_\n",
    "\n",
    "best_criterion = best_parameters['criterion']\n",
    "best_max_depth = best_parameters['max_depth']\n",
    "best_max_features = best_parameters['max_features']\n",
    "best_n_estimators = best_parameters['n_estimators']\n"
   ]
  },
  {
   "cell_type": "markdown",
   "metadata": {},
   "source": [
    "#### _best parameters for Random Forest Classifier_"
   ]
  },
  {
   "cell_type": "code",
   "execution_count": 102,
   "metadata": {},
   "outputs": [
    {
     "data": {
      "text/plain": [
       "0.80264858899574332"
      ]
     },
     "execution_count": 102,
     "metadata": {},
     "output_type": "execute_result"
    },
    {
     "data": {
      "text/plain": [
       "{'criterion': 'entropy',\n",
       " 'max_depth': 20,\n",
       " 'max_features': 'log2',\n",
       " 'n_estimators': 500}"
      ]
     },
     "execution_count": 102,
     "metadata": {},
     "output_type": "execute_result"
    }
   ],
   "source": [
    "best_accuracy\n",
    "best_parameters"
   ]
  },
  {
   "cell_type": "markdown",
   "metadata": {},
   "source": [
    "#### _using best parameters for main model for further analysis and model comparison_"
   ]
  },
  {
   "cell_type": "code",
   "execution_count": 103,
   "metadata": {},
   "outputs": [
    {
     "data": {
      "text/plain": [
       "RandomForestClassifier(bootstrap=True, class_weight=None, criterion='entropy',\n",
       "            max_depth=20, max_features='log2', max_leaf_nodes=None,\n",
       "            min_impurity_decrease=0.0, min_impurity_split=None,\n",
       "            min_samples_leaf=1, min_samples_split=2,\n",
       "            min_weight_fraction_leaf=0.0, n_estimators=500, n_jobs=-1,\n",
       "            oob_score=False, random_state=None, verbose=0,\n",
       "            warm_start=False)"
      ]
     },
     "execution_count": 103,
     "metadata": {},
     "output_type": "execute_result"
    },
    {
     "name": "stdout",
     "output_type": "stream",
     "text": [
      "accuracy 0.8160\n",
      "precision 0.8108\n",
      "recall 0.8160\n",
      "f1_score 0.7972\n",
      "confusion matrix\n",
      " [[ 893   14    0    5   12   31   22]\n",
      " [  16  924    2  134    1   26   22]\n",
      " [  30    8   39   37   15  183   12]\n",
      " [  11   60    4  953    0    6   11]\n",
      " [  96   33    2   30  146   33   51]\n",
      " [  31   11   10    3    8 1006   67]\n",
      " [  17   24    1   28    8   52 1215]]\n",
      "process time 162.6424\n",
      "\n",
      "\n"
     ]
    }
   ],
   "source": [
    "from sklearn.ensemble import RandomForestClassifier\n",
    "\n",
    "tic = time.clock()\n",
    "\n",
    "# train and test \n",
    "\n",
    "RFclf = RandomForestClassifier(\n",
    "    criterion = best_criterion,\n",
    "    max_depth = best_max_depth,\n",
    "    max_features = best_max_features,\n",
    "    n_estimators = best_n_estimators,\n",
    "    n_jobs = -1)\n",
    "\n",
    "RFclf.fit(X_train, y_train)\n",
    "y_predRF = RFclf.predict(X_test)\n",
    "\n",
    "# calculate statistics\n",
    "\n",
    "accuracy = '{0:.4f}'.format(metrics.accuracy_score(y_test, y_predRF))\n",
    "precision = '{0:.4f}'.format(metrics.precision_score(y_test, y_predRF, average ='weighted'))\n",
    "recall = '{0:.4f}'.format(metrics.recall_score(y_test, y_predRF, average = 'weighted'))\n",
    "f1_score = '{0:.4f}'.format(metrics.f1_score(y_test, y_predRF, average = 'weighted'))\n",
    "toc =  time.clock()\n",
    "exetime = '{0:.4f}'.format(toc-tic)\n",
    "\n",
    "# print statistics\n",
    "print(\"accuracy\",accuracy )\n",
    "print(\"precision\",precision )\n",
    "print(\"recall\",recall )\n",
    "print(\"f1_score\",f1_score )\n",
    "print(\"confusion matrix\\n\", confusion_matrix(y_test, y_predRF))\n",
    "print('process time',exetime)\n",
    "print(\"\\n\")\n",
    "\n",
    "\n",
    "# save statistics for model comparison\n",
    "\n",
    "raw_data = {\n",
    "    'Model Name':'Random Forest Classifier',\n",
    "    'Accuracy':accuracy,\n",
    "    'Precision':precision,\n",
    "    'Recall':recall,\n",
    "    'FScore':f1_score,\n",
    "    'Processing Time': exetime\n",
    "}\n",
    "\n",
    "df_tbl = pd.DataFrame(raw_data,\n",
    "        columns = ['Model Name','Accuracy','Precision','Recall','FScore','Processing Time'],\n",
    "        index = [i_index + 1])\n",
    "\n",
    "comparison_tbl = comparison_tbl.append(df_tbl)\n",
    "\n",
    "#append model classifier for cross-validation\n",
    "\n",
    "models.append(('Random Forest Classifier', RFclf))\n"
   ]
  },
  {
   "cell_type": "markdown",
   "metadata": {},
   "source": [
    "#### heatmap of confusion matrix for Random Forest Classifier"
   ]
  },
  {
   "cell_type": "code",
   "execution_count": 106,
   "metadata": {},
   "outputs": [
    {
     "data": {
      "text/plain": [
       "<matplotlib.image.AxesImage at 0x7f75d71c7d30>"
      ]
     },
     "execution_count": 106,
     "metadata": {},
     "output_type": "execute_result"
    },
    {
     "data": {
      "text/plain": [
       "[<matplotlib.text.Text at 0x7f75d7231908>,\n",
       " <matplotlib.text.Text at 0x7f75d7234160>,\n",
       " <matplotlib.text.Text at 0x7f75d72257b8>,\n",
       " <matplotlib.text.Text at 0x7f75d7224828>,\n",
       " <matplotlib.text.Text at 0x7f75d72246d8>,\n",
       " <matplotlib.text.Text at 0x7f75d7223ac8>,\n",
       " <matplotlib.text.Text at 0x7f75d72228d0>,\n",
       " <matplotlib.text.Text at 0x7f75d7221400>]"
      ]
     },
     "execution_count": 106,
     "metadata": {},
     "output_type": "execute_result"
    },
    {
     "data": {
      "text/plain": [
       "[<matplotlib.text.Text at 0x7f75d722f630>,\n",
       " <matplotlib.text.Text at 0x7f75d722ea58>,\n",
       " <matplotlib.text.Text at 0x7f75d7224b38>,\n",
       " <matplotlib.text.Text at 0x7f75d7234390>,\n",
       " <matplotlib.text.Text at 0x7f75d72200f0>,\n",
       " <matplotlib.text.Text at 0x7f75d7222cc0>,\n",
       " <matplotlib.text.Text at 0x7f75d721ffd0>,\n",
       " <matplotlib.text.Text at 0x7f75d721e7b8>]"
      ]
     },
     "execution_count": 106,
     "metadata": {},
     "output_type": "execute_result"
    },
    {
     "data": {
      "image/png": "[encoded data removed]",
      "text/plain": [
       "<matplotlib.figure.Figure at 0x7f75d7189470>"
      ]
     },
     "metadata": {},
     "output_type": "display_data"
    }
   ],
   "source": [
    "RF_confusion_matrix = confusion_matrix(y_test, y_predRF)\n",
    "\n",
    "cm_normalized = RF_confusion_matrix.astype('float') / RF_confusion_matrix.sum(axis=1)[:, np.newaxis]\n",
    "\n",
    "fig, ax = plt.subplots()\n",
    "\n",
    "plt.imshow(cm_normalized, cmap = plt.get_cmap('GnBu'), aspect = 'auto')\n",
    "\n",
    "ax.set_yticklabels(channels_list)\n",
    "ax.set_xticklabels(channels_list, rotation = \"vertical\")\n",
    "plt.grid(False)\n"
   ]
  },
  {
   "cell_type": "markdown",
   "metadata": {},
   "source": [
    "******* Patrick, write intepretation of above plot and weights below! much appreciated!"
   ]
  },
  {
   "cell_type": "code",
   "execution_count": 107,
   "metadata": {},
   "outputs": [
    {
     "data": {
      "text/plain": [
       "<matplotlib.axes._subplots.AxesSubplot at 0x7f75d722fe80>"
      ]
     },
     "execution_count": 107,
     "metadata": {},
     "output_type": "execute_result"
    },
    {
     "data": {
      "image/png": "[encoded data removed]",
      "text/plain": [
       "<matplotlib.figure.Figure at 0x7f75d7222080>"
      ]
     },
     "metadata": {},
     "output_type": "display_data"
    }
   ],
   "source": [
    "%matplotlib inline\n",
    "rcParams['figure.figsize'] = 15, 5\n",
    "plt.style.use('ggplot')\n",
    "\n",
    "weights = pd.Series(abs(RFclf.feature_importances_), index = df_data_channel.columns)\n",
    "weights.plot(kind = 'bar')\n",
    "plt.show()\n",
    "\n"
   ]
  },
  {
   "cell_type": "markdown",
   "metadata": {},
   "source": [
    "###  d. Naive Bayes  \n",
    "\n",
    " - Evaluate both Mulinomial and Gaussian  \n",
    " - Gaussian has only default parameters, so will run grid search only on Multinomial  \n",
    " \n"
   ]
  },
  {
   "cell_type": "markdown",
   "metadata": {},
   "source": [
    "#### d.1 Multinomial Naive Bayes"
   ]
  },
  {
   "cell_type": "code",
   "execution_count": 108,
   "metadata": {},
   "outputs": [
    {
     "data": {
      "text/plain": [
       "0.64215670818224813"
      ]
     },
     "execution_count": 108,
     "metadata": {},
     "output_type": "execute_result"
    },
    {
     "data": {
      "text/plain": [
       "{'alpha': 0.1}"
      ]
     },
     "execution_count": 108,
     "metadata": {},
     "output_type": "execute_result"
    }
   ],
   "source": [
    "from sklearn.naive_bayes import MultinomialNB\n",
    "\n",
    "MNBclf = MultinomialNB(\n",
    "    alpha = 0.01,\n",
    "    class_prior = None,\n",
    "    fit_prior = True)\n",
    "\n",
    "params = {\n",
    "    'alpha':[0.1, 0.5, 1.0]\n",
    "}\n",
    "\n",
    "MNB_grid_search = GridSearchCV(\n",
    "    MNBclf,\n",
    "    params,\n",
    "    cv = 3)\n",
    "\n",
    "grid_search = MNB_grid_search.fit(master_X_train, master_y_train)\n",
    "\n",
    "best_accuracy = grid_search.best_score_\n",
    "best_parameters = grid_search.best_params_\n",
    "\n",
    "best_accuracy\n",
    "best_parameters\n",
    "\n",
    "best_alpha = best_parameters['alpha']"
   ]
  },
  {
   "cell_type": "code",
   "execution_count": 109,
   "metadata": {},
   "outputs": [
    {
     "data": {
      "text/plain": [
       "MultinomialNB(alpha=0.1, class_prior=None, fit_prior=True)"
      ]
     },
     "execution_count": 109,
     "metadata": {},
     "output_type": "execute_result"
    },
    {
     "name": "stdout",
     "output_type": "stream",
     "text": [
      "accuracy 0.6418\n",
      "precision 0.6234\n",
      "recall 0.6418\n",
      "f1_score 0.6248\n",
      "confusion matrix\n",
      " [[ 711   31   58   19   14   76   68]\n",
      " [  33  661   41  248   10   65   67]\n",
      " [  35   16   35   37    0  167   34]\n",
      " [  22  257   44  671    6   31   14]\n",
      " [ 120   37   31   43   30   53   77]\n",
      " [  49   15   55   15    1  842  159]\n",
      " [  29   25   28   24   19   99 1121]]\n",
      "process time 0.3879\n",
      "\n",
      "\n"
     ]
    }
   ],
   "source": [
    "tic = time.clock()\n",
    "\n",
    "# train and test \n",
    "\n",
    "MNBclf = MultinomialNB(\n",
    "    alpha = best_alpha,\n",
    "    class_prior = None,\n",
    "    fit_prior = True)\n",
    "\n",
    "MNBclf.fit(X_train, y_train)\n",
    "y_predMNB = MNBclf.predict(X_test)\n",
    "\n",
    "# calculate statistics\n",
    "\n",
    "accuracy = '{0:.4f}'.format(metrics.accuracy_score(y_test, y_predMNB))\n",
    "precision = '{0:.4f}'.format(metrics.precision_score(y_test, y_predMNB, average ='weighted'))\n",
    "recall = '{0:.4f}'.format(metrics.recall_score(y_test, y_predMNB, average = 'weighted'))\n",
    "f1_score = '{0:.4f}'.format(metrics.f1_score(y_test, y_predMNB, average = 'weighted'))\n",
    "toc =  time.clock()\n",
    "exetime = '{0:.4f}'.format(toc-tic)\n",
    "\n",
    "# print statistics\n",
    "print(\"accuracy\",accuracy )\n",
    "print(\"precision\",precision )\n",
    "print(\"recall\",recall )\n",
    "print(\"f1_score\",f1_score )\n",
    "print(\"confusion matrix\\n\", confusion_matrix(y_test, y_predMNB))\n",
    "print('process time',exetime)\n",
    "print(\"\\n\")\n",
    "\n",
    "\n",
    "# save statistics for model comparison\n",
    "\n",
    "raw_data = {\n",
    "    'Model Name':'Multinomial Naïve Bayes',\n",
    "    'Accuracy':accuracy,\n",
    "    'Precision':precision,\n",
    "    'Recall':recall,\n",
    "    'FScore':f1_score,\n",
    "    'Processing Time': exetime\n",
    "}\n",
    "\n",
    "df_tbl = pd.DataFrame(raw_data,\n",
    "        columns = ['Model Name','Accuracy','Precision','Recall','FScore','Processing Time'],\n",
    "        index = [i_index + 1])\n",
    "\n",
    "comparison_tbl = comparison_tbl.append(df_tbl)\n",
    "\n",
    "#append model classifier for cross-validation\n",
    "\n",
    "models.append(('Multinomial Naïve Bayes', MNBclf))\n"
   ]
  },
  {
   "cell_type": "markdown",
   "metadata": {},
   "source": [
    "#### heatmap of confusion matrix for Multinomial Naive Bayes Classifier"
   ]
  },
  {
   "cell_type": "code",
   "execution_count": 110,
   "metadata": {},
   "outputs": [
    {
     "data": {
      "text/plain": [
       "<matplotlib.image.AxesImage at 0x7f75d7092320>"
      ]
     },
     "execution_count": 110,
     "metadata": {},
     "output_type": "execute_result"
    },
    {
     "data": {
      "text/plain": [
       "[<matplotlib.text.Text at 0x7f75d724af60>,\n",
       " <matplotlib.text.Text at 0x7f75d72497b8>,\n",
       " <matplotlib.text.Text at 0x7f75d72c1ac8>,\n",
       " <matplotlib.text.Text at 0x7f75d72c2400>,\n",
       " <matplotlib.text.Text at 0x7f75d72b7d30>,\n",
       " <matplotlib.text.Text at 0x7f75d72ac208>,\n",
       " <matplotlib.text.Text at 0x7f75d72acf60>,\n",
       " <matplotlib.text.Text at 0x7f75d72bedd8>]"
      ]
     },
     "execution_count": 110,
     "metadata": {},
     "output_type": "execute_result"
    },
    {
     "data": {
      "text/plain": [
       "[<matplotlib.text.Text at 0x7f75d7249160>,\n",
       " <matplotlib.text.Text at 0x7f75d7248cc0>,\n",
       " <matplotlib.text.Text at 0x7f75d72c1cf8>,\n",
       " <matplotlib.text.Text at 0x7f75d725a518>,\n",
       " <matplotlib.text.Text at 0x7f75d72c2cc0>,\n",
       " <matplotlib.text.Text at 0x7f75d725b898>,\n",
       " <matplotlib.text.Text at 0x7f75d7250f60>,\n",
       " <matplotlib.text.Text at 0x7f75d72505f8>]"
      ]
     },
     "execution_count": 110,
     "metadata": {},
     "output_type": "execute_result"
    },
    {
     "data": {
      "image/png": "[encoded data removed]",
      "text/plain": [
       "<matplotlib.figure.Figure at 0x7f75d720f390>"
      ]
     },
     "metadata": {},
     "output_type": "display_data"
    }
   ],
   "source": [
    "MNB_confusion_matrix = confusion_matrix(y_test, y_predMNB)\n",
    "\n",
    "cm_normalized = MNB_confusion_matrix.astype('float') / MNB_confusion_matrix.sum(axis=1)[:, np.newaxis]\n",
    "\n",
    "fig, ax = plt.subplots()\n",
    "\n",
    "plt.imshow(cm_normalized, cmap = plt.get_cmap('PuBu'), aspect = 'auto')\n",
    "\n",
    "ax.set_yticklabels(channels_list)\n",
    "ax.set_xticklabels(channels_list, rotation = \"vertical\")\n",
    "\n",
    "plt.grid(False)\n"
   ]
  },
  {
   "cell_type": "markdown",
   "metadata": {},
   "source": [
    "********** TODO interpret!!\n",
    "\n",
    "#### d.2 Gaussian Naive Bayes"
   ]
  },
  {
   "cell_type": "code",
   "execution_count": 111,
   "metadata": {},
   "outputs": [
    {
     "data": {
      "text/plain": [
       "GaussianNB(priors=None)"
      ]
     },
     "execution_count": 111,
     "metadata": {},
     "output_type": "execute_result"
    },
    {
     "name": "stdout",
     "output_type": "stream",
     "text": [
      "accuracy 0.7241\n",
      "precision 0.7145\n",
      "recall 0.7241\n",
      "f1_score 0.7184\n",
      "confusion matrix\n",
      " [[ 803   16   13    6   70   50   19]\n",
      " [   9  822   16  221   27   11   19]\n",
      " [  38   12   72   20   12  159   11]\n",
      " [   3  192   27  769   46    1    7]\n",
      " [ 149   29   26   31   95   19   42]\n",
      " [  30   11   98    1   13  907   76]\n",
      " [  15   49   11   17   40   88 1125]]\n",
      "process time 0.1958\n",
      "\n",
      "\n"
     ]
    }
   ],
   "source": [
    "from sklearn.naive_bayes import GaussianNB\n",
    "\n",
    "tic = time.clock()\n",
    "\n",
    "# train and test \n",
    "\n",
    "GNBclf = GaussianNB()\n",
    "\n",
    "GNBclf.fit(X_train, y_train)\n",
    "y_predGNB = GNBclf.predict(X_test)\n",
    "\n",
    "# calculate statistics\n",
    "\n",
    "accuracy = '{0:.4f}'.format(metrics.accuracy_score(y_test, y_predGNB))\n",
    "precision = '{0:.4f}'.format(metrics.precision_score(y_test, y_predGNB, average ='weighted'))\n",
    "recall = '{0:.4f}'.format(metrics.recall_score(y_test, y_predGNB, average = 'weighted'))\n",
    "f1_score = '{0:.4f}'.format(metrics.f1_score(y_test, y_predGNB, average = 'weighted'))\n",
    "toc =  time.clock()\n",
    "exetime = '{0:.4f}'.format(toc-tic)\n",
    "\n",
    "# print statistics\n",
    "print(\"accuracy\",accuracy )\n",
    "print(\"precision\",precision )\n",
    "print(\"recall\",recall )\n",
    "print(\"f1_score\",f1_score )\n",
    "print(\"confusion matrix\\n\", confusion_matrix(y_test, y_predGNB))\n",
    "print('process time',exetime)\n",
    "print(\"\\n\")\n",
    "\n",
    "\n",
    "# save statistics for model comparison\n",
    "\n",
    "raw_data = {\n",
    "    'Model Name':'Gaussian Naïve Bayes',\n",
    "    'Accuracy':accuracy,\n",
    "    'Precision':precision,\n",
    "    'Recall':recall,\n",
    "    'FScore':f1_score,\n",
    "    'Processing Time': exetime\n",
    "}\n",
    "\n",
    "df_tbl = pd.DataFrame(raw_data,\n",
    "        columns = ['Model Name','Accuracy','Precision','Recall','FScore','Processing Time'],\n",
    "        index = [i_index + 1])\n",
    "\n",
    "comparison_tbl = comparison_tbl.append(df_tbl)\n",
    "\n",
    "#append model classifier for cross-validation\n",
    "\n",
    "models.append(('Gaussian Naïve Bayes', GNBclf))"
   ]
  },
  {
   "cell_type": "markdown",
   "metadata": {},
   "source": [
    "#### heatmap of confusion matrix for Gaussian Naive Bayes Classifier"
   ]
  },
  {
   "cell_type": "code",
   "execution_count": 126,
   "metadata": {},
   "outputs": [
    {
     "data": {
      "text/plain": [
       "<matplotlib.image.AxesImage at 0x7f3918dfe978>"
      ]
     },
     "execution_count": 126,
     "metadata": {},
     "output_type": "execute_result"
    },
    {
     "data": {
      "image/png": "[encoded data removed]",
      "text/plain": [
       "<matplotlib.figure.Figure at 0x7f391b0d7cf8>"
      ]
     },
     "metadata": {},
     "output_type": "display_data"
    }
   ],
   "source": [
    "GNB_confusion_matrix = confusion_matrix(y_test, y_predGNB)\n",
    "\n",
    "cm_normalized = GNB_confusion_matrix.astype('float') / GNB_confusion_matrix.sum(axis=1)[:, np.newaxis]\n",
    "fig, ax = plt.subplots()\n",
    "\n",
    "plt.imshow(cm_normalized, cmap = plt.get_cmap('PuBuGn'), aspect = 'auto')\n",
    "\n",
    "ax.set_yticklabels(channels_list)\n",
    "ax.set_xticklabels(channels_list, rotation = \"vertical\")\n",
    "\n",
    "plt.grid(False)\n"
   ]
  },
  {
   "cell_type": "markdown",
   "metadata": {},
   "source": [
    "** TODO Intepret above!"
   ]
  },
  {
   "cell_type": "markdown",
   "metadata": {},
   "source": [
    "#\tModeling and Evaluation 4"
   ]
  },
  {
   "cell_type": "markdown",
   "metadata": {},
   "source": [
    "### Evaluation Metrics"
   ]
  },
  {
   "cell_type": "code",
   "execution_count": 112,
   "metadata": {},
   "outputs": [
    {
     "data": {
      "text/html": [
       "<div>\n",
       "<style>\n",
       "    .dataframe thead tr:only-child th {\n",
       "        text-align: right;\n",
       "    }\n",
       "\n",
       "    .dataframe thead th {\n",
       "        text-align: left;\n",
       "    }\n",
       "\n",
       "    .dataframe tbody tr th {\n",
       "        vertical-align: top;\n",
       "    }\n",
       "</style>\n",
       "<table border=\"1\" class=\"dataframe\">\n",
       "  <thead>\n",
       "    <tr style=\"text-align: right;\">\n",
       "      <th></th>\n",
       "      <th>Model Name</th>\n",
       "      <th>Accuracy</th>\n",
       "      <th>Precision</th>\n",
       "      <th>Recall</th>\n",
       "      <th>FScore</th>\n",
       "      <th>Processing Time</th>\n",
       "    </tr>\n",
       "  </thead>\n",
       "  <tbody>\n",
       "    <tr>\n",
       "      <th>0</th>\n",
       "      <td>Logistic Regression</td>\n",
       "      <td>0.7197</td>\n",
       "      <td>0.7513</td>\n",
       "      <td>0.7197</td>\n",
       "      <td>0.7315</td>\n",
       "      <td>4.6504</td>\n",
       "    </tr>\n",
       "    <tr>\n",
       "      <th>1</th>\n",
       "      <td>Logistic Regression</td>\n",
       "      <td>0.7197</td>\n",
       "      <td>0.7513</td>\n",
       "      <td>0.7197</td>\n",
       "      <td>0.7315</td>\n",
       "      <td>4.7239</td>\n",
       "    </tr>\n",
       "    <tr>\n",
       "      <th>2</th>\n",
       "      <td>Decision Tree Classifier</td>\n",
       "      <td>0.7662</td>\n",
       "      <td>0.7528</td>\n",
       "      <td>0.7662</td>\n",
       "      <td>0.7555</td>\n",
       "      <td>0.8638</td>\n",
       "    </tr>\n",
       "    <tr>\n",
       "      <th>3</th>\n",
       "      <td>Random Forest Classifier</td>\n",
       "      <td>0.8160</td>\n",
       "      <td>0.8108</td>\n",
       "      <td>0.8160</td>\n",
       "      <td>0.7972</td>\n",
       "      <td>162.6424</td>\n",
       "    </tr>\n",
       "    <tr>\n",
       "      <th>4</th>\n",
       "      <td>Multinomial Naïve Bayes</td>\n",
       "      <td>0.6418</td>\n",
       "      <td>0.6234</td>\n",
       "      <td>0.6418</td>\n",
       "      <td>0.6248</td>\n",
       "      <td>0.3879</td>\n",
       "    </tr>\n",
       "    <tr>\n",
       "      <th>5</th>\n",
       "      <td>Gaussian Naïve Bayes</td>\n",
       "      <td>0.7241</td>\n",
       "      <td>0.7145</td>\n",
       "      <td>0.7241</td>\n",
       "      <td>0.7184</td>\n",
       "      <td>0.1958</td>\n",
       "    </tr>\n",
       "  </tbody>\n",
       "</table>\n",
       "</div>"
      ],
      "text/plain": [
       "                 Model Name  Accuracy  Precision  Recall  FScore  \\\n",
       "0       Logistic Regression    0.7197     0.7513  0.7197  0.7315   \n",
       "1       Logistic Regression    0.7197     0.7513  0.7197  0.7315   \n",
       "2  Decision Tree Classifier    0.7662     0.7528  0.7662  0.7555   \n",
       "3  Random Forest Classifier    0.8160     0.8108  0.8160  0.7972   \n",
       "4   Multinomial Naïve Bayes    0.6418     0.6234  0.6418  0.6248   \n",
       "5      Gaussian Naïve Bayes    0.7241     0.7145  0.7241  0.7184   \n",
       "\n",
       "   Processing Time  \n",
       "0           4.6504  \n",
       "1           4.7239  \n",
       "2           0.8638  \n",
       "3         162.6424  \n",
       "4           0.3879  \n",
       "5           0.1958  "
      ]
     },
     "execution_count": 112,
     "metadata": {},
     "output_type": "execute_result"
    }
   ],
   "source": [
    "# converting acc, pre, recall, fscore and time to numeric values for plots\n",
    "\n",
    "comparison_tbl = comparison_tbl.reset_index(drop=True)\n",
    "comparison_tbl['Precision'] = pd.to_numeric(comparison_tbl['Precision'])\n",
    "comparison_tbl['Accuracy'] = pd.to_numeric(comparison_tbl['Accuracy'])\n",
    "comparison_tbl['FScore']= pd.to_numeric(comparison_tbl['FScore'])\n",
    "comparison_tbl['Processing Time'] = pd.to_numeric(comparison_tbl['Processing Time'])\n",
    "comparison_tbl['Recall'] = pd.to_numeric(comparison_tbl['Recall'])\n",
    "comparison_tbl\n"
   ]
  },
  {
   "cell_type": "markdown",
   "metadata": {},
   "source": [
    "#### Visualization of metrics"
   ]
  },
  {
   "cell_type": "code",
   "execution_count": 115,
   "metadata": {},
   "outputs": [
    {
     "data": {
      "text/plain": [
       "[None, None, None, None, None, None, None, None, None, None, None, None]"
      ]
     },
     "execution_count": 115,
     "metadata": {},
     "output_type": "execute_result"
    },
    {
     "data": {
      "text/plain": [
       "[None, None, None, None, None, None, None, None, None, None, None, None]"
      ]
     },
     "execution_count": 115,
     "metadata": {},
     "output_type": "execute_result"
    },
    {
     "data": {
      "text/plain": [
       "<matplotlib.axes._subplots.AxesSubplot at 0x7f75d72fecf8>"
      ]
     },
     "execution_count": 115,
     "metadata": {},
     "output_type": "execute_result"
    },
    {
     "data": {
      "text/plain": [
       "<matplotlib.axes._subplots.AxesSubplot at 0x7f75d729d4e0>"
      ]
     },
     "execution_count": 115,
     "metadata": {},
     "output_type": "execute_result"
    },
    {
     "data": {
      "image/png": "[encoded data removed]",
      "text/plain": [
       "<matplotlib.figure.Figure at 0x7f75d72bae10>"
      ]
     },
     "metadata": {},
     "output_type": "display_data"
    }
   ],
   "source": [
    "from pylab import rcParams\n",
    "%matplotlib inline\n",
    "\n",
    "#comparison_tbl.plot()\n",
    "\n",
    "fig, axs = plt.subplots(ncols=2)\n",
    "fig.tight_layout()\n",
    "plt.setp(axs[0].xaxis.get_majorticklabels(), rotation = 90 )\n",
    "plt.setp(axs[1].xaxis.get_majorticklabels(), rotation = 90 )\n",
    "\n",
    "sns.barplot(x = 'Model Name', y = 'Accuracy', data = comparison_tbl, ax = axs[0])\n",
    "\n",
    "sns.barplot(data = comparison_tbl, y = 'Processing Time', x = 'Model Name', ax = axs[1])\n",
    "\n"
   ]
  },
  {
   "cell_type": "markdown",
   "metadata": {},
   "source": [
    "# 10-K Cross-Validation for each classifier\n",
    "For each classifier we run 10 fold cross validation which will help us narrow down one final model"
   ]
  },
  {
   "cell_type": "code",
   "execution_count": 117,
   "metadata": {
    "scrolled": true
   },
   "outputs": [
    {
     "name": "stdout",
     "output_type": "stream",
     "text": [
      "[ 0.70560453  0.72890428  0.71343001  0.71649322  0.72626932  0.7214511\n",
      "  0.72302839  0.72555205  0.72208202  0.72767435]\n",
      "\n",
      "\tLogistic Regression                : 0.721 (0.0069)\n",
      "\n",
      "\n",
      "[ 0.70560453  0.72890428  0.71343001  0.71649322  0.72626932  0.7214511\n",
      "  0.72302839  0.72555205  0.72208202  0.72767435]\n",
      "\n",
      "\tLogistic Regression                : 0.721 (0.0069)\n",
      "\n",
      "\n",
      "[ 0.75283375  0.76070529  0.76197982  0.76915799  0.76821192  0.7659306\n",
      "  0.77255521  0.77097792  0.76656151  0.7734301 ]\n",
      "\n",
      "\tDecision Tree Classifier           : 0.766 (0.0060)\n",
      "\n",
      "\n",
      "[ 0.80478589  0.8063602   0.80359395  0.81677704  0.81803847  0.81324921\n",
      "  0.80504732  0.81230284  0.80283912  0.81950142]\n",
      "\n",
      "\tRandom Forest Classifier           : 0.810 (0.0061)\n",
      "\n",
      "\n",
      "[ 0.63255668  0.63287154  0.64344262  0.64427625  0.64459161  0.65015773\n",
      "  0.6466877   0.64321767  0.64511041  0.63426949]\n",
      "\n",
      "\tMultinomial Naïve Bayes            : 0.642 (0.0059)\n",
      "\n",
      "\n",
      "[ 0.71410579  0.71473552  0.7112232   0.72280038  0.71680858  0.72460568\n",
      "  0.71608833  0.72902208  0.71892744  0.725781  ]\n",
      "\n",
      "\tGaussian Naïve Bayes               : 0.719 (0.0055)\n",
      "\n",
      "\n"
     ]
    }
   ],
   "source": [
    "from sklearn import model_selection\n",
    "\n",
    "# evaluate each model in turn\n",
    "\n",
    "results = []\n",
    "names = []\n",
    "scoring = 'accuracy'\n",
    "\n",
    "for name, model in models:\n",
    "    cv_results = model_selection.cross_val_score(\n",
    "        model,\n",
    "        master_X_train,\n",
    "        master_y_train,\n",
    "        cv = 10,\n",
    "        scoring = scoring)\n",
    "    results.append(cv_results)\n",
    "    names.append(name)\n",
    "    msg = \"\\n\\t%-35s mean (std.dev) : %.3f (%.4f)\" % (name, cv_results.mean(), cv_results.std())\n",
    "    #print(cv_results)\n",
    "    print(msg)"
   ]
  },
  {
   "cell_type": "markdown",
   "metadata": {},
   "source": [
    "## Cross-Validation accuracy comparison of all models"
   ]
  },
  {
   "cell_type": "code",
   "execution_count": 120,
   "metadata": {
    "scrolled": true
   },
   "outputs": [
    {
     "data": {
      "text/plain": [
       "<matplotlib.text.Text at 0x7f75d688b4a8>"
      ]
     },
     "execution_count": 120,
     "metadata": {},
     "output_type": "execute_result"
    },
    {
     "data": {
      "text/plain": [
       "{'boxes': [<matplotlib.lines.Line2D at 0x7f75d6822e80>,\n",
       "  <matplotlib.lines.Line2D at 0x7f75d6843a90>,\n",
       "  <matplotlib.lines.Line2D at 0x7f75d67e3588>,\n",
       "  <matplotlib.lines.Line2D at 0x7f75d67fd080>,\n",
       "  <matplotlib.lines.Line2D at 0x7f75d6796b38>,\n",
       "  <matplotlib.lines.Line2D at 0x7f75d67ae0b8>],\n",
       " 'caps': [<matplotlib.lines.Line2D at 0x7f75d6833940>,\n",
       "  <matplotlib.lines.Line2D at 0x7f75d6833b38>,\n",
       "  <matplotlib.lines.Line2D at 0x7f75d67c9da0>,\n",
       "  <matplotlib.lines.Line2D at 0x7f75d67d1c88>,\n",
       "  <matplotlib.lines.Line2D at 0x7f75d67e7ef0>,\n",
       "  <matplotlib.lines.Line2D at 0x7f75d67f0780>,\n",
       "  <matplotlib.lines.Line2D at 0x7f75d68059e8>,\n",
       "  <matplotlib.lines.Line2D at 0x7f75d6805be0>,\n",
       "  <matplotlib.lines.Line2D at 0x7f75d679de48>,\n",
       "  <matplotlib.lines.Line2D at 0x7f75d6860ac8>,\n",
       "  <matplotlib.lines.Line2D at 0x7f75d67b4a20>,\n",
       "  <matplotlib.lines.Line2D at 0x7f75d67b4c18>],\n",
       " 'fliers': [<matplotlib.lines.Line2D at 0x7f75d683dc18>,\n",
       "  <matplotlib.lines.Line2D at 0x7f75d67d9d68>,\n",
       "  <matplotlib.lines.Line2D at 0x7f75d67f7860>,\n",
       "  <matplotlib.lines.Line2D at 0x7f75d678ecc0>,\n",
       "  <matplotlib.lines.Line2D at 0x7f75d684be48>,\n",
       "  <matplotlib.lines.Line2D at 0x7f75d67bdcf8>],\n",
       " 'means': [],\n",
       " 'medians': [<matplotlib.lines.Line2D at 0x7f75d683d3c8>,\n",
       "  <matplotlib.lines.Line2D at 0x7f75d67d1e80>,\n",
       "  <matplotlib.lines.Line2D at 0x7f75d67f0978>,\n",
       "  <matplotlib.lines.Line2D at 0x7f75d678e470>,\n",
       "  <matplotlib.lines.Line2D at 0x7f75d724b438>,\n",
       "  <matplotlib.lines.Line2D at 0x7f75d67bd4a8>],\n",
       " 'whiskers': [<matplotlib.lines.Line2D at 0x7f75d682c860>,\n",
       "  <matplotlib.lines.Line2D at 0x7f75d682ca90>,\n",
       "  <matplotlib.lines.Line2D at 0x7f75d6843cc0>,\n",
       "  <matplotlib.lines.Line2D at 0x7f75d67c9ba8>,\n",
       "  <matplotlib.lines.Line2D at 0x7f75d67e3e10>,\n",
       "  <matplotlib.lines.Line2D at 0x7f75d67e3fd0>,\n",
       "  <matplotlib.lines.Line2D at 0x7f75d67fd908>,\n",
       "  <matplotlib.lines.Line2D at 0x7f75d67fdb00>,\n",
       "  <matplotlib.lines.Line2D at 0x7f75d6796d68>,\n",
       "  <matplotlib.lines.Line2D at 0x7f75d679dc50>,\n",
       "  <matplotlib.lines.Line2D at 0x7f75d67ae940>,\n",
       "  <matplotlib.lines.Line2D at 0x7f75d67aeb38>]}"
      ]
     },
     "execution_count": 120,
     "metadata": {},
     "output_type": "execute_result"
    },
    {
     "data": {
      "text/plain": [
       "[<matplotlib.text.Text at 0x7f75d68729b0>,\n",
       " <matplotlib.text.Text at 0x7f75d6853c50>,\n",
       " <matplotlib.text.Text at 0x7f75d674b320>,\n",
       " <matplotlib.text.Text at 0x7f75d674bda0>,\n",
       " <matplotlib.text.Text at 0x7f75d6752860>,\n",
       " <matplotlib.text.Text at 0x7f75d6758320>]"
      ]
     },
     "execution_count": 120,
     "metadata": {},
     "output_type": "execute_result"
    },
    {
     "data": {
      "image/png": "[encoded data removed]",
      "text/plain": [
       "<matplotlib.figure.Figure at 0x7f75d688b550>"
      ]
     },
     "metadata": {},
     "output_type": "display_data"
    }
   ],
   "source": [
    "# boxplot accuracy comparison\n",
    "\n",
    "fig = plt.figure()\n",
    "fig.suptitle('Cross-Validation Accuracy Comparison')\n",
    "ax = fig.add_subplot(111)\n",
    "\n",
    "plt.boxplot(results)\n",
    "\n",
    "ax.set_xticklabels(names, rotation = 90)\n",
    "plt.show()\n"
   ]
  },
  {
   "cell_type": "markdown",
   "metadata": {},
   "source": [
    "## Holdout test data set prediction with our final model\n",
    "\n",
    "Our final best model is Random Forest Classifier. We will run prediction on that fit with the test data set we set aside at the beggining of the project. We will calculate statistics for the prediction."
   ]
  },
  {
   "cell_type": "code",
   "execution_count": 121,
   "metadata": {},
   "outputs": [
    {
     "name": "stdout",
     "output_type": "stream",
     "text": [
      "accuracy 0.8219\n",
      "precision 0.8169\n",
      "recall 0.8219\n",
      "f1_score 0.8044\n",
      "confusion matrix\n",
      " [[ 893   14    0    5   12   31   22]\n",
      " [  16  924    2  134    1   26   22]\n",
      " [  30    8   39   37   15  183   12]\n",
      " [  11   60    4  953    0    6   11]\n",
      " [  96   33    2   30  146   33   51]\n",
      " [  31   11   10    3    8 1006   67]\n",
      " [  17   24    1   28    8   52 1215]]\n",
      "process time 3929.6306\n",
      "\n",
      "\n"
     ]
    }
   ],
   "source": [
    "y_predFinal = RFclf.predict(golden_X_test)\n",
    "\n",
    "# calculate statistics\n",
    "\n",
    "accuracy = '{0:.4f}'.format(metrics.accuracy_score(golden_y_test, y_predFinal))\n",
    "precision = '{0:.4f}'.format(metrics.precision_score(golden_y_test, y_predFinal, average ='weighted'))\n",
    "recall = '{0:.4f}'.format(metrics.recall_score(golden_y_test, y_predFinal, average = 'weighted'))\n",
    "f1_score = '{0:.4f}'.format(metrics.f1_score(golden_y_test, y_predFinal, average = 'weighted'))\n",
    "toc =  time.clock()\n",
    "exetime = '{0:.4f}'.format(toc-tic)\n",
    "\n",
    "# print statistics\n",
    "print(\"accuracy\", accuracy )\n",
    "print(\"precision\", precision )\n",
    "print(\"recall\", recall )\n",
    "print(\"f1_score\", f1_score )\n",
    "print(\"confusion matrix\\n\", confusion_matrix(y_test, y_predRF))\n",
    "print('process time', exetime)\n",
    "print(\"\\n\")\n"
   ]
  },
  {
   "cell_type": "markdown",
   "metadata": {
    "collapsed": true
   },
   "source": [
    "### __Final Statement regarding Task 2 Classifiers"
   ]
  },
  {
   "cell_type": "markdown",
   "metadata": {},
   "source": [
    "***  \n",
    "\n",
    "## __Deployment__  \n",
    "\n",
    "***  \n",
    "\n",
    "#### Usefulness  \n",
    "\n",
    "The usefulness of this model is to provide guidance as to which articles are to be published on the mashable.com web-site. One facet of Mashable's business model is to generate revenue by selling advertising and sponsored content on the mashable.com web-site. The value of the site to advertisers, and the revenue stream that can be protected for mashable, can be measured by the number of articles that mashable readers share with their on-line social media network. The value of this classification model is to identify the site content with higher likelihood of being popularly shared within the the target audience. \n",
    "\n",
    "#### Measurement of model value  \n",
    " \n",
    "A way to measure the model's value is by monitoring the success of the prediction model in terms of increasing social media shares from mashable published articles. Since there can be many (very many !) factors influencing the popularity (number of shares) of articles that are beyond the applicability scope of the model, it is recommended that the value measurement be assessed by controlled A/B releases of content that is decided by current methods, side-by-side, with content that is recommended with this classification. By using a side-by-side A/B evaluation, the effectiveness of the classification model for improving content recommendations can be credibly assessed.\n",
    "\n",
    "\n",
    "#### Deployment method / external data support  \n",
    " \n",
    " The current vision for deployment of the model includes these elements :  \n",
    " - a web-based user interface in which the user (the article author or other proposer) can deposit the article (title, content, embedded images and videos) in similar fashion as DropBox or other similar media-sharing file servers  \n",
    " - a parsing / feature extraction machine deployed at the shared file server site  \n",
    "     - the model requires the extraction of several explanatory variables (feature extraction) from the content of the article in order to evaluate the article's popularity score in the model  \n",
    "         - among the features to be extracted from the article as model inputs are the following :  \n",
    "             * key-word statistics, positive and negative sentiment counts, LDA_00 --> LDA_04 scores, number of images and number of videos, sentiment polarity based on title, related hyperlink references  \n",
    "         - a feature extraction machine will be deployed at the file server site to process the article content and provide the model inputs  \n",
    "         - in addition, another element of the deployment is to assign the article to an appropriate data channel (e.g., Social Media, Technology, Business). this will also be an element deployed on the file server site. the text and title will be processed through a text-mining approach to evaluate the appropriate data channel.  \n",
    "         \n",
    "  - once the key features have been developed from the text processing machines, then all of the inputs for the classification model are available and can be executed  \n",
    "  \n",
    "  - the concept of the deployment is :  \n",
    "    * the article is uploaded to the submittal site,  \n",
    "    * the feature extraction machine is launched, then  \n",
    "    * the popularity classification model is executed, and  \n",
    "    * the recommendation to publish or not to publish is provided to the mashable content editor.  \n",
    "    * the execution time associated to this activity is anticipated to be real-time, within less than a few seconds.  \n",
    "    \n",
    "  - the goal of the application is that the article, with only some minimal contextual information (requested publication date, author contact information) is sufficient to provide a __publish / no-publish recommendation__ to the content editor;  \n",
    "  - the goal is that there is no need for external data gathering to feed the model in the production environment  \n",
    "  \n",
    " \n",
    "#### Model Updates  \n",
    "\n",
    " - this model is intended to estimate the _mashable_ readers' perceptions of what is interesting and relevant to share with their social media network  \n",
    " - although the model's basic input features are attempting to capture and use elements that have a certain temporal durability (positive and negative sentiments, domain segregation of vocabulary, hyper-link reference counts) the fact remains that what is popular in this moment is an ever-evolving situation. Because of that, the recommendation is that, at the initial deployment phases, the model characteristics be updated on a monthly basis. Monitoring for evolution of the model charactersitic changes will provide relevant information as to the frequency of updates going forward - either more frequent or less frequent.  \n",
    " - longer term, the survivability of this model will be dependent on the ability to deploy this model in a manner that can incorporate reinforcement learning methods. the rapidly evolving nature of what is interesting or not interesting to contemporary society is the heart of the \n",
    "\n",
    "        \n",
    "\n"
   ]
  },
  {
   "cell_type": "markdown",
   "metadata": {},
   "source": [
    "## Recommendation  \n",
    "\n",
    "#### - Task 1 - _mashable_ article popularity prediction  \n",
    "\n",
    "For the __popularity__ classification, we completed an evaluation of 4 different classifier models to identify method to classify an article as likley to be either _popular_ or _not-popular_.\n",
    "\n",
    "The results of this effort identified that the Random Forest Classifier provided the best overall results. \n",
    "The metrics of this classifier are as follows :\n",
    "\n"
   ]
  },
  {
   "cell_type": "markdown",
   "metadata": {},
   "source": [
    "# \tExceptional Work\t\n",
    "We have implemented Grid search in our parament selection process."
   ]
  }
 ],
 "metadata": {
  "kernelspec": {
   "display_name": "Python 3",
   "language": "python",
   "name": "python3"
  },
  "language_info": {
   "codemirror_mode": {
    "name": "ipython",
    "version": 3
   },
   "file_extension": ".py",
   "mimetype": "text/x-python",
   "name": "python",
   "nbconvert_exporter": "python",
   "pygments_lexer": "ipython3",
   "version": "3.6.1"
  },
  "name": "_merged"
 },
 "nbformat": 4,
 "nbformat_minor": 2
}
