{
 "cells": [
  {
   "cell_type": "markdown",
   "metadata": {},
   "source": [
    "<a name='toc'></a>  \n",
    "\n",
    "##  Lab Three : Association Rule Mining, Clustering, or Collaborative Filtering  \n",
    "\n",
    "  \n",
    "<br>\n",
    "<font color=\"blue\" size=5><u>Table of Contents</u></font>  \n",
    "\n",
    "* <a href='#bu.01.t1'> Business Understanding 1</a>:\n",
    "            Describe the purpose of the data set you selected (i.e., why was this data collected in the first place?). \n",
    "            How will you measure the effectiveness of a good algorithm? \n",
    "            Why does your chosen validation method make sense for this specific dataset and the stakeholders needs?\n",
    "\n",
    "* <a href='#du.01.t1'> Data Understanding 1</a> :\n",
    "            Describe the meaning and type of data (scale, values, etc.) for each attribute in the data file. \n",
    "            Verify data quality:Are there missing values? Duplicate data? Outliers? Are those mistakes? \n",
    "            How do you deal with these problems?\n",
    "        \n",
    "* <a href='#du.01.t2'> Data Understanding 2</a> : \n",
    "            Visualize the any important attributes appropriately. \n",
    "            Important: Provide an interpretation for any charts or graphs.\n",
    "        \n",
    "* <a href='#me.01.t1'> Modeling and Evaluation 1</a> :\n",
    "            Train and adjust parameters  \n",
    "        \n",
    "* <a href='#me.01.t2'> Modeling and Evaluation 2</a> :\n",
    "            Evaluate and Compare\n",
    "* <a href='#me.01.t3'> Modeling and Evaluation 3</a> :\n",
    "            Visualize Results\n",
    "* <a href='#me.01.t4'> Modeling and Evaluation 4</a> :  \n",
    "            Summarize the Ramifications  \n",
    "        \n",
    "* <a href='#dp.01.t1'> Deployment </a> : \n",
    "            Be critical of your performance and tell the reader how you current model might be usable by other parties. \n",
    "            Did you achieve your goals? If not, can you reign in the utility of your modeling? \n",
    "            How useful is your model for interested parties(i.e.,the companies or organizations that might want to use it)?\n",
    "            How would your deploy your model for interested parties? \n",
    "            What other data should be collected? \n",
    "            How often would the model need to be updated, etc.?\n",
    "        \n",
    "* <a href='#ew.01.t1'> Exceptional Work</a> :\n",
    "            You have free reign to provide additional analyses or combine analyses.\n",
    "            \n",
    "#toc"
   ]
  },
  {
   "cell_type": "markdown",
   "metadata": {},
   "source": [
    "<a name='bu.01.t1'></a>  \n",
    "<font color=\"blue\" size=5> Business Understanding 1 </font>"
   ]
  },
  {
   "cell_type": "code",
   "execution_count": 1,
   "metadata": {
    "collapsed": true
   },
   "outputs": [],
   "source": [
    "### Code below"
   ]
  },
  {
   "cell_type": "markdown",
   "metadata": {},
   "source": [
    "<a name='intro'></a>  \n",
    "<a href='#toc'>Return to Table of Contents</a>  "
   ]
  },
  {
   "cell_type": "markdown",
   "metadata": {},
   "source": [
    "<a name='du.01.t1'></a>\n",
    "<font color=\"blue\" size=5>   Data Understanding 1"
   ]
  },
  {
   "cell_type": "code",
   "execution_count": 2,
   "metadata": {
    "collapsed": true
   },
   "outputs": [],
   "source": [
    "### Code below"
   ]
  },
  {
   "cell_type": "markdown",
   "metadata": {},
   "source": [
    "<a name='intro'></a>  \n",
    "<a href='#toc'>Return to Table of Contents</a>  "
   ]
  },
  {
   "cell_type": "markdown",
   "metadata": {},
   "source": [
    "<a name='du.01.t2'></a>\n",
    "<font color=\"blue\" size=5>  Data Understanding 2"
   ]
  },
  {
   "cell_type": "code",
   "execution_count": null,
   "metadata": {
    "collapsed": true
   },
   "outputs": [],
   "source": [
    "### Code below"
   ]
  },
  {
   "cell_type": "markdown",
   "metadata": {},
   "source": [
    "<a name='intro'></a>  \n",
    "<a href='#toc'>Return to Table of Contents</a>  "
   ]
  },
  {
   "cell_type": "markdown",
   "metadata": {},
   "source": [
    "<a name='me.01.t1'></a>\n",
    "<font color=\"blue\" size=5>  Modeling and Evaluation 1"
   ]
  },
  {
   "cell_type": "code",
   "execution_count": null,
   "metadata": {
    "collapsed": true
   },
   "outputs": [],
   "source": []
  },
  {
   "cell_type": "markdown",
   "metadata": {},
   "source": [
    "<a name='intro'></a>  \n",
    "<a href='#toc'>Return to Table of Contents</a>  "
   ]
  },
  {
   "cell_type": "markdown",
   "metadata": {},
   "source": [
    "<a name='me.01.t2'></a>\n",
    "<font color=\"blue\" size=5>  Modeling and Evaluation 2"
   ]
  },
  {
   "cell_type": "code",
   "execution_count": null,
   "metadata": {
    "collapsed": true
   },
   "outputs": [],
   "source": []
  },
  {
   "cell_type": "markdown",
   "metadata": {},
   "source": [
    "<a name='intro'></a>  \n",
    "<a href='#toc'>Return to Table of Contents</a>  "
   ]
  },
  {
   "cell_type": "markdown",
   "metadata": {},
   "source": [
    "<a name='me.01.t3'></a>\n",
    "<font color=\"blue\" size=5>  Modeling and Evaluation 3"
   ]
  },
  {
   "cell_type": "code",
   "execution_count": null,
   "metadata": {
    "collapsed": true
   },
   "outputs": [],
   "source": []
  },
  {
   "cell_type": "markdown",
   "metadata": {},
   "source": [
    "<a name='intro'></a>  \n",
    "<a href='#toc'>Return to Table of Contents</a>  "
   ]
  },
  {
   "cell_type": "markdown",
   "metadata": {},
   "source": [
    "<a name='me.01.t4'></a>\n",
    "<font color=\"blue\" size=5>  Modeling and Evaluation 4"
   ]
  },
  {
   "cell_type": "code",
   "execution_count": null,
   "metadata": {
    "collapsed": true
   },
   "outputs": [],
   "source": []
  },
  {
   "cell_type": "markdown",
   "metadata": {},
   "source": [
    "<a name='intro'></a>  \n",
    "<a href='#toc'>Return to Table of Contents</a>  "
   ]
  },
  {
   "cell_type": "markdown",
   "metadata": {},
   "source": [
    "<a name='dp.01.t1'></a>\n",
    "<font color=\"blue\" size=5>  Deployment "
   ]
  },
  {
   "cell_type": "code",
   "execution_count": null,
   "metadata": {
    "collapsed": true
   },
   "outputs": [],
   "source": []
  },
  {
   "cell_type": "markdown",
   "metadata": {},
   "source": [
    "<a name='intro'></a>  \n",
    "<a href='#toc'>Return to Table of Contents</a>  "
   ]
  },
  {
   "cell_type": "markdown",
   "metadata": {},
   "source": [
    "<a name='ew.01.t1'></a>\n",
    "<font color=\"blue\" size=5>  Exceptional Work"
   ]
  },
  {
   "cell_type": "code",
   "execution_count": null,
   "metadata": {
    "collapsed": true
   },
   "outputs": [],
   "source": []
  },
  {
   "cell_type": "markdown",
   "metadata": {},
   "source": [
    "<a name='intro'></a>  \n",
    "<a href='#toc'>Return to Table of Contents</a>  "
   ]
  },
  {
   "cell_type": "markdown",
   "metadata": {},
   "source": []
  },
  {
   "cell_type": "markdown",
   "metadata": {},
   "source": []
  },
  {
   "cell_type": "markdown",
   "metadata": {},
   "source": []
  }
 ],
 "metadata": {
  "kernelspec": {
   "display_name": "Python 3",
   "language": "python",
   "name": "python3"
  },
  "language_info": {
   "codemirror_mode": {
    "name": "ipython",
    "version": 3
   },
   "file_extension": ".py",
   "mimetype": "text/x-python",
   "name": "python",
   "nbconvert_exporter": "python",
   "pygments_lexer": "ipython3",
   "version": "3.5.2"
  }
 },
 "nbformat": 4,
 "nbformat_minor": 2
}
